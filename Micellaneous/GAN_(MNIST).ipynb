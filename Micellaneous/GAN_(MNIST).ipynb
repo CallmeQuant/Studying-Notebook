{
  "nbformat": 4,
  "nbformat_minor": 0,
  "metadata": {
    "colab": {
      "provenance": [],
      "gpuType": "T4",
      "authorship_tag": "ABX9TyNkmn7OBT6SlAhs1ByOoyC9",
      "include_colab_link": true
    },
    "kernelspec": {
      "name": "python3",
      "display_name": "Python 3"
    },
    "language_info": {
      "name": "python"
    },
    "accelerator": "GPU"
  },
  "cells": [
    {
      "cell_type": "markdown",
      "metadata": {
        "id": "view-in-github",
        "colab_type": "text"
      },
      "source": [
        "<a href=\"https://colab.research.google.com/github/CallmeQuant/Studying-Notebook/blob/main/Micellaneous/GAN_(MNIST).ipynb\" target=\"_parent\"><img src=\"https://colab.research.google.com/assets/colab-badge.svg\" alt=\"Open In Colab\"/></a>"
      ]
    },
    {
      "cell_type": "code",
      "execution_count": 16,
      "metadata": {
        "id": "GhwiEh4rnMNe"
      },
      "outputs": [],
      "source": [
        "import torch\n",
        "import numpy as np\n",
        "\n",
        "import torch.nn as nn\n",
        "import torch.nn.functional as F\n",
        "import torch.optim as optim\n",
        "import torchvision\n",
        "import torchvision.transforms as transforms\n",
        "from torch.utils.data import Subset, DataLoader, random_split, SubsetRandomSampler\n",
        "from torchvision.datasets import MNIST\n",
        "from torch.utils.tensorboard import SummaryWriter\n",
        "\n",
        "from sklearn.model_selection import train_test_split"
      ]
    },
    {
      "cell_type": "markdown",
      "source": [
        "# **Setting Up Data Loader and Loading Data**"
      ],
      "metadata": {
        "id": "yMltluqveevE"
      }
    },
    {
      "cell_type": "code",
      "source": [
        "def data_loader(batch_size, seed = 42, valid_size = 0.2, test = False, shuffle = True):\n",
        "  # define transforms\n",
        "  transform = transforms.Compose([transforms.ToTensor(),\n",
        "                                transforms.Normalize((0.1307,), (0.3081,)),])\n",
        "\n",
        "  if test:\n",
        "    dataset = MNIST(\n",
        "          root='./data', train=False,\n",
        "          download=True, transform=transform,\n",
        "        )\n",
        "\n",
        "    test_loader = DataLoader(\n",
        "        dataset, batch_size=batch_size, shuffle=shuffle\n",
        "        )\n",
        "    print('Creating test loader successfully')\n",
        "    return test_loader\n",
        "\n",
        "  train_dataset = MNIST(root='./data', train=True, download=True, transform=transform)\n",
        "  num_train = len(train_dataset)\n",
        "  indices = list(range(num_train))\n",
        "  if shuffle:\n",
        "    torch.manual_seed(seed)\n",
        "    indices = torch.randperm(len(train_dataset))\n",
        "  else:\n",
        "    indices = torch.arange(len(train_dataset))\n",
        "\n",
        "  train_indices, val_indices = train_test_split(indices.numpy(), test_size=valid_size, random_state=seed)\n",
        "  train_sampler = SubsetRandomSampler(train_indices)\n",
        "  val_sampler = SubsetRandomSampler(val_indices)\n",
        "\n",
        "  train_loader = DataLoader(train_dataset, batch_size=batch_size, sampler=train_sampler)\n",
        "  val_loader = DataLoader(train_dataset, batch_size=batch_size, sampler=val_sampler)\n",
        "  print('Creating train and validation loader successfully')\n",
        "\n",
        "  return (train_loader, val_loader)"
      ],
      "metadata": {
        "id": "165i_2uscbgi"
      },
      "execution_count": 3,
      "outputs": []
    },
    {
      "cell_type": "code",
      "source": [
        "# Set up the configuration\n",
        "batch_size = 64\n",
        "train_loader, val_loader = data_loader(batch_size=batch_size)\n",
        "test_loader = data_loader(batch_size=batch_size,  test=True)"
      ],
      "metadata": {
        "colab": {
          "base_uri": "https://localhost:8080/"
        },
        "id": "_mRDy_5GeUEY",
        "outputId": "93d764ca-ac17-485b-ca09-bcb120270dca"
      },
      "execution_count": 4,
      "outputs": [
        {
          "output_type": "stream",
          "name": "stdout",
          "text": [
            "Downloading http://yann.lecun.com/exdb/mnist/train-images-idx3-ubyte.gz\n",
            "Downloading http://yann.lecun.com/exdb/mnist/train-images-idx3-ubyte.gz to ./data/MNIST/raw/train-images-idx3-ubyte.gz\n"
          ]
        },
        {
          "output_type": "stream",
          "name": "stderr",
          "text": [
            "100%|██████████| 9912422/9912422 [00:00<00:00, 104279228.40it/s]\n"
          ]
        },
        {
          "output_type": "stream",
          "name": "stdout",
          "text": [
            "Extracting ./data/MNIST/raw/train-images-idx3-ubyte.gz to ./data/MNIST/raw\n",
            "\n",
            "Downloading http://yann.lecun.com/exdb/mnist/train-labels-idx1-ubyte.gz\n",
            "Downloading http://yann.lecun.com/exdb/mnist/train-labels-idx1-ubyte.gz to ./data/MNIST/raw/train-labels-idx1-ubyte.gz\n"
          ]
        },
        {
          "output_type": "stream",
          "name": "stderr",
          "text": [
            "100%|██████████| 28881/28881 [00:00<00:00, 30231019.17it/s]\n"
          ]
        },
        {
          "output_type": "stream",
          "name": "stdout",
          "text": [
            "Extracting ./data/MNIST/raw/train-labels-idx1-ubyte.gz to ./data/MNIST/raw\n",
            "\n",
            "Downloading http://yann.lecun.com/exdb/mnist/t10k-images-idx3-ubyte.gz\n",
            "Downloading http://yann.lecun.com/exdb/mnist/t10k-images-idx3-ubyte.gz to ./data/MNIST/raw/t10k-images-idx3-ubyte.gz\n"
          ]
        },
        {
          "output_type": "stream",
          "name": "stderr",
          "text": [
            "100%|██████████| 1648877/1648877 [00:00<00:00, 26688784.42it/s]\n"
          ]
        },
        {
          "output_type": "stream",
          "name": "stdout",
          "text": [
            "Extracting ./data/MNIST/raw/t10k-images-idx3-ubyte.gz to ./data/MNIST/raw\n",
            "\n",
            "Downloading http://yann.lecun.com/exdb/mnist/t10k-labels-idx1-ubyte.gz\n",
            "Downloading http://yann.lecun.com/exdb/mnist/t10k-labels-idx1-ubyte.gz to ./data/MNIST/raw/t10k-labels-idx1-ubyte.gz\n"
          ]
        },
        {
          "output_type": "stream",
          "name": "stderr",
          "text": [
            "100%|██████████| 4542/4542 [00:00<00:00, 7372495.65it/s]\n"
          ]
        },
        {
          "output_type": "stream",
          "name": "stdout",
          "text": [
            "Extracting ./data/MNIST/raw/t10k-labels-idx1-ubyte.gz to ./data/MNIST/raw\n",
            "\n",
            "Creating train and validation loader successfully\n",
            "Creating test loader successfully\n"
          ]
        }
      ]
    },
    {
      "cell_type": "code",
      "source": [
        "for i, (data, label) in enumerate(train_loader):\n",
        "  print(data.shape)\n",
        "  print(label.shape)\n",
        "  break"
      ],
      "metadata": {
        "colab": {
          "base_uri": "https://localhost:8080/"
        },
        "id": "IBteG9_xeW_l",
        "outputId": "c313b24d-a9c7-495c-cf9a-7adf494d96ea"
      },
      "execution_count": 5,
      "outputs": [
        {
          "output_type": "stream",
          "name": "stdout",
          "text": [
            "torch.Size([64, 1, 28, 28])\n",
            "torch.Size([64])\n"
          ]
        }
      ]
    },
    {
      "cell_type": "code",
      "source": [
        "def fix_seed(seed):\n",
        "  # Set seed\n",
        "  np.random.seed(seed)\n",
        "  torch.manual_seed(seed)\n",
        "  torch.cuda.manual_seed(seed)"
      ],
      "metadata": {
        "id": "yr_4zm-Qo1a7"
      },
      "execution_count": 6,
      "outputs": []
    },
    {
      "cell_type": "markdown",
      "source": [
        "# **Discriminator and Generator**"
      ],
      "metadata": {
        "id": "Xc4SxDv3ejfg"
      }
    },
    {
      "cell_type": "code",
      "source": [
        "num_channels = 1\n",
        "num_df = num_gf = 64\n",
        "num_z = 100\n",
        "image_size = 28\n",
        "in_features = 128 * 7 * 7\n",
        "\n",
        "def stacked_linear_layers(in_features, config):\n",
        "    layers = []\n",
        "    for conf in config:\n",
        "        layers += [nn.Linear(in_features, conf), nn.LeakyReLU(0.1)]\n",
        "        in_features = conf\n",
        "\n",
        "    layers += [nn.Sigmoid()]\n",
        "    return nn.Sequential(*layers)\n",
        "\n",
        "class Discriminator(nn.Module):\n",
        "    def __init__(self, classifier, init_weights=True):\n",
        "        super().__init__()\n",
        "        self.conv_layers = nn.Sequential(\n",
        "            nn.Conv2d(num_channels, num_df, 4, 2, 1, bias=False),\n",
        "            nn.LeakyReLU(0.2, inplace=True),\n",
        "            nn.Conv2d(num_df, num_df*2, 4, 2, 1, bias=False),\n",
        "            nn.BatchNorm2d(num_df*2),\n",
        "            nn.LeakyReLU(0.2, inplace=True)\n",
        "        )\n",
        "        self.classifier = classifier\n",
        "\n",
        "        if init_weights:\n",
        "            self._initialize_weights()\n",
        "\n",
        "    def forward(self, x):\n",
        "        x = self.conv_layers(x)\n",
        "        x = x.view(x.size(0), -1)  # flatten the output\n",
        "        x = self.classifier(x)\n",
        "        x = x.view(-1)\n",
        "        return x\n",
        "\n",
        "    def _initialize_weights(self):\n",
        "        for m in self.modules():\n",
        "            if isinstance(m, nn.Conv2d):\n",
        "                nn.init.kaiming_normal_(m.weight,\n",
        "                                        mode='fan_out',\n",
        "                                        nonlinearity='relu')\n",
        "                if m.bias is not None:\n",
        "                    nn.init.constant_(m.bias, 0)\n",
        "            elif isinstance(m, nn.BatchNorm2d):\n",
        "                nn.init.constant_(m.weight, 1)\n",
        "                nn.init.constant_(m.bias, 0)\n",
        "            elif isinstance(m, nn.Linear):\n",
        "                nn.init.normal_(m.weight, 0, 0.01)\n",
        "                nn.init.constant_(m.bias, 0)\n",
        "\n",
        "class Generator(nn.Module):\n",
        "    def __init__(self, init_weights = True):\n",
        "        super(Generator, self).__init__()\n",
        "        def stacked_block(in_channels, out_channels, kernel_size=4, stride=2, padding=1, bias=False):\n",
        "            layers = [nn.ConvTranspose2d(in_channels, out_channels, kernel_size, stride, padding, bias=bias),\n",
        "                      nn.BatchNorm2d(out_channels),\n",
        "                      nn.ReLU(True)]\n",
        "            return layers\n",
        "\n",
        "        self.generator = nn.Sequential(\n",
        "            # input is Z, going into a convolution\n",
        "            *stacked_block(num_z, num_gf * 8, 7, 1, 0),  # changed kernel size to 7\n",
        "            # state size. (num_gf*8) x 7 x 7\n",
        "            *stacked_block(num_gf * 8, num_gf * 4),  # state size. (num_gf*4) x 14 x 14\n",
        "            nn.ConvTranspose2d(num_gf * 4, num_channels, 4, 2, 1, bias=False),\n",
        "            nn.Tanh()\n",
        "            # state size. (nc) x 28 x 28\n",
        "        )\n",
        "        if init_weights:\n",
        "            self._initialize_weights()\n",
        "\n",
        "    def forward(self, x):\n",
        "      img = self.generator(x)\n",
        "      return img\n",
        "\n",
        "    def _initialize_weights(self):\n",
        "      for m in self.modules():\n",
        "          if isinstance(m, nn.ConvTranspose2d):\n",
        "              nn.init.kaiming_normal_(m.weight,\n",
        "                                      mode='fan_out',\n",
        "                                      nonlinearity='relu')\n",
        "              if m.bias is not None:\n",
        "                  nn.init.constant_(m.bias, 0)\n",
        "          elif isinstance(m, nn.BatchNorm2d):\n",
        "              nn.init.constant_(m.weight, 1)\n",
        "              nn.init.constant_(m.bias, 0)\n",
        "          elif isinstance(m, nn.Linear):\n",
        "              nn.init.normal_(m.weight, 0, 0.01)\n",
        "              nn.init.constant_(m.bias, 0)\n",
        "\n",
        "config = {'discriminator': [128, 1],}\n",
        "discriminator = Discriminator(stacked_linear_layers(in_features, config['discriminator']))\n",
        "generator = Generator()"
      ],
      "metadata": {
        "id": "t_1chKY5eml-"
      },
      "execution_count": 7,
      "outputs": []
    },
    {
      "cell_type": "code",
      "source": [
        "print(discriminator)"
      ],
      "metadata": {
        "colab": {
          "base_uri": "https://localhost:8080/"
        },
        "id": "8szX3F0Mr8wm",
        "outputId": "7d0846f4-5f48-499a-f3f8-d6e2235814e8"
      },
      "execution_count": 8,
      "outputs": [
        {
          "output_type": "stream",
          "name": "stdout",
          "text": [
            "Discriminator(\n",
            "  (conv_layers): Sequential(\n",
            "    (0): Conv2d(1, 64, kernel_size=(4, 4), stride=(2, 2), padding=(1, 1), bias=False)\n",
            "    (1): LeakyReLU(negative_slope=0.2, inplace=True)\n",
            "    (2): Conv2d(64, 128, kernel_size=(4, 4), stride=(2, 2), padding=(1, 1), bias=False)\n",
            "    (3): BatchNorm2d(128, eps=1e-05, momentum=0.1, affine=True, track_running_stats=True)\n",
            "    (4): LeakyReLU(negative_slope=0.2, inplace=True)\n",
            "  )\n",
            "  (classifier): Sequential(\n",
            "    (0): Linear(in_features=6272, out_features=128, bias=True)\n",
            "    (1): LeakyReLU(negative_slope=0.1)\n",
            "    (2): Linear(in_features=128, out_features=1, bias=True)\n",
            "    (3): LeakyReLU(negative_slope=0.1)\n",
            "    (4): Sigmoid()\n",
            "  )\n",
            ")\n"
          ]
        }
      ]
    },
    {
      "cell_type": "code",
      "source": [
        "print(generator)"
      ],
      "metadata": {
        "colab": {
          "base_uri": "https://localhost:8080/"
        },
        "id": "XJg9JTJlVH3V",
        "outputId": "f54faa74-9da6-4a5a-b892-48008dc8e3a4"
      },
      "execution_count": 9,
      "outputs": [
        {
          "output_type": "stream",
          "name": "stdout",
          "text": [
            "Generator(\n",
            "  (generator): Sequential(\n",
            "    (0): ConvTranspose2d(100, 512, kernel_size=(7, 7), stride=(1, 1), bias=False)\n",
            "    (1): BatchNorm2d(512, eps=1e-05, momentum=0.1, affine=True, track_running_stats=True)\n",
            "    (2): ReLU(inplace=True)\n",
            "    (3): ConvTranspose2d(512, 256, kernel_size=(4, 4), stride=(2, 2), padding=(1, 1), bias=False)\n",
            "    (4): BatchNorm2d(256, eps=1e-05, momentum=0.1, affine=True, track_running_stats=True)\n",
            "    (5): ReLU(inplace=True)\n",
            "    (6): ConvTranspose2d(256, 1, kernel_size=(4, 4), stride=(2, 2), padding=(1, 1), bias=False)\n",
            "    (7): Tanh()\n",
            "  )\n",
            ")\n"
          ]
        }
      ]
    },
    {
      "cell_type": "markdown",
      "source": [
        "# **Training Phase**"
      ],
      "metadata": {
        "id": "kdHpAFmaV0QI"
      }
    },
    {
      "cell_type": "markdown",
      "source": [
        "## **Ultis for Training**"
      ],
      "metadata": {
        "id": "LrGHKKtQXLar"
      }
    },
    {
      "cell_type": "code",
      "source": [
        "import time\n",
        "def fix_seed(seed):\n",
        "  # Set seed\n",
        "  np.random.seed(seed)\n",
        "  torch.manual_seed(seed)\n",
        "  torch.cuda.manual_seed(seed)\n",
        "\n",
        "class Timer:\n",
        "  \"\"\"Record multiple running times.\"\"\"\n",
        "  def __init__(self):\n",
        "    \"\"\"Defined in :numref:`sec_minibatch_sgd`\"\"\"\n",
        "    self.times = []\n",
        "    self.start()\n",
        "\n",
        "  def start(self):\n",
        "    \"\"\"Start the timer.\"\"\"\n",
        "    self.tik = time.time()\n",
        "\n",
        "  def stop(self):\n",
        "    \"\"\"Stop the timer and record the time in a list.\"\"\"\n",
        "    self.times.append(time.time() - self.tik)\n",
        "    return self.times[-1]\n",
        "\n",
        "  def avg(self):\n",
        "    \"\"\"Return the average time.\"\"\"\n",
        "    return sum(self.times) / len(self.times)\n",
        "\n",
        "  def sum(self):\n",
        "    \"\"\"Return the sum of time.\"\"\"\n",
        "    return sum(self.times)\n",
        "\n",
        "  def cumsum(self):\n",
        "    \"\"\"Return the accumulated time.\"\"\"\n",
        "    return np.array(self.times).cumsum().tolist()"
      ],
      "metadata": {
        "id": "3viaTVsyXN4_"
      },
      "execution_count": 10,
      "outputs": []
    },
    {
      "cell_type": "code",
      "source": [
        "# Set up hyperparameters\n",
        "learning_rate = 0.001\n",
        "# momentum = 0.9\n",
        "# weight_decay = 1e-4\n",
        "num_epochs = 20\n",
        "seed = 42\n",
        "\n",
        "# Check if cuda is available\n",
        "use_cuda = torch.cuda.is_available()\n",
        "device = torch.device('cuda' if use_cuda else 'cpu')\n",
        "\n",
        "\n",
        "# define loss function (criterion) and optimizer\n",
        "criterion = nn.BCELoss()\n",
        "\n",
        "if use_cuda:\n",
        "  generator = generator.cuda()\n",
        "  discriminator = discriminator.cuda()\n",
        "  criterion = criterion.cuda()\n",
        "\n",
        "# setup optimizer\n",
        "optimizerD = optim.Adam(discriminator.parameters(), lr=learning_rate, betas=(0.5, 0.999))\n",
        "optimizerG = optim.Adam(generator.parameters(), lr=learning_rate, betas=(0.5, 0.999))\n",
        "\n",
        "real_label = 1\n",
        "fake_label = 0\n",
        "\n",
        "loss = {'D': [],\n",
        "        'G': []}\n",
        "acc  = {'real': [],\n",
        "        'fake': []}"
      ],
      "metadata": {
        "id": "sOPzpsFVVwQv"
      },
      "execution_count": 11,
      "outputs": []
    },
    {
      "cell_type": "code",
      "source": [
        "from tqdm import tqdm\n",
        "\n",
        "fix_seed(seed)\n",
        "# Set timer to record the computational time\n",
        "timer = Timer()\n",
        "\n",
        "for epoch in tqdm(range(num_epochs)):\n",
        "  # start timer\n",
        "  timer.start()\n",
        "\n",
        "  sample_loss_D = 0.\n",
        "  sample_loss_G = 0.\n",
        "\n",
        "  # Initialize counters for real and fake correct predictions\n",
        "  sample_real_acc = 0\n",
        "  sample_fake_acc = 0\n",
        "\n",
        "  total_train_samples = 0\n",
        "  for batch_idx, (data, _) in enumerate(train_loader):\n",
        "    # Update Discriminator: maximize log(D(x)) + log(1 - D(g(z)))\n",
        "\n",
        "    data = data.to(device)\n",
        "    batch_size = data.size(0)\n",
        "    total_train_samples += batch_size\n",
        "    label = torch.full((batch_size,), real_label, device = device).float()\n",
        "\n",
        "    # Train with real\n",
        "    output = discriminator(data)\n",
        "    # output = output.view(-1)\n",
        "    # break\n",
        "    loss_D_real = criterion(output, label)\n",
        "    prob_D_real = output.mean().item()\n",
        "    # Compute the number of correct predictions for real data\n",
        "    sample_real_acc += (output > 0.5).sum().item()\n",
        "    discriminator.zero_grad()\n",
        "    # Backward pass: compute gradient of the loss with\n",
        "    # respect to all the learnable parameters\n",
        "    # Retain the computation graph for later backward on fake data\n",
        "    loss_D_real.backward(retain_graph = True)\n",
        "\n",
        "\n",
        "    # Train with fake\n",
        "    noise = torch.randn(batch_size, num_z, 1, 1, device=device)\n",
        "    fake = generator(noise)\n",
        "    label.fill_(fake_label)\n",
        "    output = discriminator(fake)\n",
        "    loss_D_fake = criterion(output, label)\n",
        "    # Backward pass: compute gradient of the loss with\n",
        "    # respect to all the learnable parameters\n",
        "    loss_D_fake.backward(retain_graph = True)\n",
        "    prob_D_fake = output.mean().item()\n",
        "    # Compute the number of correct predictions for fake data\n",
        "    sample_fake_acc += (output < 0.5).sum().item()\n",
        "    loss_D = (loss_D_real + loss_D_fake) / 2\n",
        "\n",
        "    # Update optimizer parameters\n",
        "    optimizerD.step()\n",
        "\n",
        "    ############################\n",
        "    # (2) Update G network:\n",
        "    # minimize log(1 - D(G(z))) <=> maximize log(D(G(z)))\n",
        "    ###########################\n",
        "\n",
        "    label.fill_(real_label)  # fake labels are real for generator cost\n",
        "    output = discriminator(fake)\n",
        "    loss_G = criterion(output, label)\n",
        "    generator.zero_grad()\n",
        "    loss_G.backward()\n",
        "    prob_G_fake = output.mean().item()\n",
        "    optimizerG.step()\n",
        "\n",
        "    sample_loss_D += loss_D.item()\n",
        "    sample_loss_G += loss_G.item()\n",
        "\n",
        "\n",
        "\n",
        "  loss_D_at_epoch = sample_loss_D / len(train_loader)\n",
        "  loss_G_at_epoch = sample_loss_G / len(train_loader)\n",
        "\n",
        "  loss['D'].append(loss_D_at_epoch)\n",
        "  loss['G'].append(loss_G_at_epoch)\n",
        "\n",
        "  acc_real_at_epoch = sample_real_acc / total_train_samples\n",
        "  acc_fake_at_epoch = sample_fake_acc / total_train_samples\n",
        "\n",
        "  acc['real'].append(acc_real_at_epoch)\n",
        "  acc['fake'].append(acc_fake_at_epoch)\n",
        "  # Stop the timer at the end of the epoch\n",
        "  timer.stop()\n",
        "  print(\n",
        "      f'Epoch: [{epoch}/{num_epochs}]'\n",
        "      + f' | Discriminator loss: {loss_D_at_epoch:.3f}'\n",
        "      + f' | Generator loss: {loss_G_at_epoch:.3f}'\n",
        "      + f' | Real accuracy: {acc_real_at_epoch:.3f}'\n",
        "      + f' | Fake accuracy: {acc_fake_at_epoch:.3f}'\n",
        "      + f' | Time per epoch: {timer.times[-1]:.2f} seconds')\n",
        "\n",
        "  # Check pointing for every epoch\n",
        "  # torch.save(generator.state_dict(), 'weights/netG_epoch_%d.pth' % (epoch))\n",
        "  # torch.save(discriminator.state_dict(), 'weights/netD_epoch_%d.pth' % (epoch))\n",
        "\n",
        "total_time_all_epoch = timer.sum()\n",
        "print(f\"Total training time: {total_time_all_epoch/60:.2f} minutes\")"
      ],
      "metadata": {
        "colab": {
          "base_uri": "https://localhost:8080/"
        },
        "id": "BofT_mqPYC1t",
        "outputId": "028c780f-9433-4f75-b2a0-fae2b9fcb3cd"
      },
      "execution_count": 12,
      "outputs": [
        {
          "output_type": "stream",
          "name": "stderr",
          "text": [
            "  5%|▌         | 1/20 [00:40<12:55, 40.82s/it]"
          ]
        },
        {
          "output_type": "stream",
          "name": "stdout",
          "text": [
            "Epoch: [0/20] | Discriminator loss: 0.261 | Generator loss: 2.591 | Real accuracy: 0.887 | Fake accuracy: 0.982 | Time per epoch: 40.82 seconds\n"
          ]
        },
        {
          "output_type": "stream",
          "name": "stderr",
          "text": [
            "\r 10%|█         | 2/20 [01:15<11:05, 36.99s/it]"
          ]
        },
        {
          "output_type": "stream",
          "name": "stdout",
          "text": [
            "Epoch: [1/20] | Discriminator loss: 0.322 | Generator loss: 1.764 | Real accuracy: 0.779 | Fake accuracy: 0.964 | Time per epoch: 34.31 seconds\n"
          ]
        },
        {
          "output_type": "stream",
          "name": "stderr",
          "text": [
            "\r 15%|█▌        | 3/20 [01:49<10:09, 35.85s/it]"
          ]
        },
        {
          "output_type": "stream",
          "name": "stdout",
          "text": [
            "Epoch: [2/20] | Discriminator loss: 0.406 | Generator loss: 1.481 | Real accuracy: 0.685 | Fake accuracy: 0.949 | Time per epoch: 34.48 seconds\n"
          ]
        },
        {
          "output_type": "stream",
          "name": "stderr",
          "text": [
            "\r 20%|██        | 4/20 [02:24<09:27, 35.46s/it]"
          ]
        },
        {
          "output_type": "stream",
          "name": "stdout",
          "text": [
            "Epoch: [3/20] | Discriminator loss: 0.408 | Generator loss: 1.497 | Real accuracy: 0.684 | Fake accuracy: 0.949 | Time per epoch: 34.87 seconds\n"
          ]
        },
        {
          "output_type": "stream",
          "name": "stderr",
          "text": [
            "\r 25%|██▌       | 5/20 [02:59<08:47, 35.15s/it]"
          ]
        },
        {
          "output_type": "stream",
          "name": "stdout",
          "text": [
            "Epoch: [4/20] | Discriminator loss: 0.407 | Generator loss: 1.578 | Real accuracy: 0.668 | Fake accuracy: 0.951 | Time per epoch: 34.60 seconds\n"
          ]
        },
        {
          "output_type": "stream",
          "name": "stderr",
          "text": [
            "\r 30%|███       | 6/20 [03:33<08:07, 34.80s/it]"
          ]
        },
        {
          "output_type": "stream",
          "name": "stdout",
          "text": [
            "Epoch: [5/20] | Discriminator loss: 0.402 | Generator loss: 1.574 | Real accuracy: 0.664 | Fake accuracy: 0.953 | Time per epoch: 34.12 seconds\n"
          ]
        },
        {
          "output_type": "stream",
          "name": "stderr",
          "text": [
            "\r 35%|███▌      | 7/20 [04:07<07:30, 34.68s/it]"
          ]
        },
        {
          "output_type": "stream",
          "name": "stdout",
          "text": [
            "Epoch: [6/20] | Discriminator loss: 0.407 | Generator loss: 1.637 | Real accuracy: 0.663 | Fake accuracy: 0.952 | Time per epoch: 34.42 seconds\n"
          ]
        },
        {
          "output_type": "stream",
          "name": "stderr",
          "text": [
            "\r 40%|████      | 8/20 [04:41<06:53, 34.48s/it]"
          ]
        },
        {
          "output_type": "stream",
          "name": "stdout",
          "text": [
            "Epoch: [7/20] | Discriminator loss: 0.397 | Generator loss: 1.655 | Real accuracy: 0.659 | Fake accuracy: 0.955 | Time per epoch: 34.04 seconds\n"
          ]
        },
        {
          "output_type": "stream",
          "name": "stderr",
          "text": [
            "\r 45%|████▌     | 9/20 [05:20<06:32, 35.70s/it]"
          ]
        },
        {
          "output_type": "stream",
          "name": "stdout",
          "text": [
            "Epoch: [8/20] | Discriminator loss: 0.401 | Generator loss: 1.690 | Real accuracy: 0.650 | Fake accuracy: 0.954 | Time per epoch: 38.38 seconds\n"
          ]
        },
        {
          "output_type": "stream",
          "name": "stderr",
          "text": [
            "\r 50%|█████     | 10/20 [05:54<05:54, 35.41s/it]"
          ]
        },
        {
          "output_type": "stream",
          "name": "stdout",
          "text": [
            "Epoch: [9/20] | Discriminator loss: 0.381 | Generator loss: 1.741 | Real accuracy: 0.671 | Fake accuracy: 0.958 | Time per epoch: 34.77 seconds\n"
          ]
        },
        {
          "output_type": "stream",
          "name": "stderr",
          "text": [
            "\r 55%|█████▌    | 11/20 [06:29<05:16, 35.20s/it]"
          ]
        },
        {
          "output_type": "stream",
          "name": "stdout",
          "text": [
            "Epoch: [10/20] | Discriminator loss: 0.396 | Generator loss: 1.719 | Real accuracy: 0.652 | Fake accuracy: 0.955 | Time per epoch: 34.71 seconds\n"
          ]
        },
        {
          "output_type": "stream",
          "name": "stderr",
          "text": [
            "\r 60%|██████    | 12/20 [07:04<04:39, 34.98s/it]"
          ]
        },
        {
          "output_type": "stream",
          "name": "stdout",
          "text": [
            "Epoch: [11/20] | Discriminator loss: 0.387 | Generator loss: 1.758 | Real accuracy: 0.665 | Fake accuracy: 0.958 | Time per epoch: 34.47 seconds\n"
          ]
        },
        {
          "output_type": "stream",
          "name": "stderr",
          "text": [
            "\r 65%|██████▌   | 13/20 [07:38<04:03, 34.81s/it]"
          ]
        },
        {
          "output_type": "stream",
          "name": "stdout",
          "text": [
            "Epoch: [12/20] | Discriminator loss: 0.372 | Generator loss: 1.773 | Real accuracy: 0.678 | Fake accuracy: 0.958 | Time per epoch: 34.42 seconds\n"
          ]
        },
        {
          "output_type": "stream",
          "name": "stderr",
          "text": [
            "\r 70%|███████   | 14/20 [08:13<03:29, 34.93s/it]"
          ]
        },
        {
          "output_type": "stream",
          "name": "stdout",
          "text": [
            "Epoch: [13/20] | Discriminator loss: 0.372 | Generator loss: 1.835 | Real accuracy: 0.672 | Fake accuracy: 0.961 | Time per epoch: 35.21 seconds\n"
          ]
        },
        {
          "output_type": "stream",
          "name": "stderr",
          "text": [
            "\r 75%|███████▌  | 15/20 [08:48<02:53, 34.76s/it]"
          ]
        },
        {
          "output_type": "stream",
          "name": "stdout",
          "text": [
            "Epoch: [14/20] | Discriminator loss: 0.371 | Generator loss: 1.885 | Real accuracy: 0.680 | Fake accuracy: 0.960 | Time per epoch: 34.37 seconds\n"
          ]
        },
        {
          "output_type": "stream",
          "name": "stderr",
          "text": [
            "\r 80%|████████  | 16/20 [09:22<02:18, 34.62s/it]"
          ]
        },
        {
          "output_type": "stream",
          "name": "stdout",
          "text": [
            "Epoch: [15/20] | Discriminator loss: 0.366 | Generator loss: 1.862 | Real accuracy: 0.678 | Fake accuracy: 0.961 | Time per epoch: 34.27 seconds\n"
          ]
        },
        {
          "output_type": "stream",
          "name": "stderr",
          "text": [
            "\r 85%|████████▌ | 17/20 [09:56<01:43, 34.51s/it]"
          ]
        },
        {
          "output_type": "stream",
          "name": "stdout",
          "text": [
            "Epoch: [16/20] | Discriminator loss: 0.369 | Generator loss: 1.837 | Real accuracy: 0.675 | Fake accuracy: 0.960 | Time per epoch: 34.25 seconds\n"
          ]
        },
        {
          "output_type": "stream",
          "name": "stderr",
          "text": [
            "\r 90%|█████████ | 18/20 [10:30<01:08, 34.46s/it]"
          ]
        },
        {
          "output_type": "stream",
          "name": "stdout",
          "text": [
            "Epoch: [17/20] | Discriminator loss: 0.369 | Generator loss: 1.848 | Real accuracy: 0.681 | Fake accuracy: 0.960 | Time per epoch: 34.36 seconds\n"
          ]
        },
        {
          "output_type": "stream",
          "name": "stderr",
          "text": [
            "\r 95%|█████████▌| 19/20 [11:05<00:34, 34.54s/it]"
          ]
        },
        {
          "output_type": "stream",
          "name": "stdout",
          "text": [
            "Epoch: [18/20] | Discriminator loss: 0.359 | Generator loss: 1.885 | Real accuracy: 0.686 | Fake accuracy: 0.962 | Time per epoch: 34.70 seconds\n"
          ]
        },
        {
          "output_type": "stream",
          "name": "stderr",
          "text": [
            "100%|██████████| 20/20 [11:40<00:00, 35.01s/it]"
          ]
        },
        {
          "output_type": "stream",
          "name": "stdout",
          "text": [
            "Epoch: [19/20] | Discriminator loss: 0.363 | Generator loss: 1.892 | Real accuracy: 0.683 | Fake accuracy: 0.962 | Time per epoch: 34.55 seconds\n",
            "Total training time: 11.67 minutes\n"
          ]
        },
        {
          "output_type": "stream",
          "name": "stderr",
          "text": [
            "\n"
          ]
        }
      ]
    },
    {
      "cell_type": "markdown",
      "source": [
        "## **Plotting**"
      ],
      "metadata": {
        "id": "QtOW7Apk7BXu"
      }
    },
    {
      "cell_type": "code",
      "source": [
        "# Plotting\n",
        "import matplotlib.pyplot as plt\n",
        "fig, (ax1, ax2) = plt.subplots(1, 2, figsize = (10, 5))\n",
        "ax1.plot(range(1, num_epochs + 1), loss['G'], label='Generator Loss', marker='o')\n",
        "ax1.plot(range(1, num_epochs + 1), loss['D'], label='Discriminator Loss', marker='o')\n",
        "ax1.set_xlabel('Epochs')\n",
        "ax1.set_ylabel('Loss')\n",
        "ax1.set_title('Generator and Discriminator Loss')\n",
        "ax1.legend()\n",
        "\n",
        "ax2.plot(range(1, num_epochs + 1), acc['fake'], label='Fake Data Accuracy', marker='o')\n",
        "ax2.plot(range(1, num_epochs + 1), acc['real'], label='Real Data Accuracy', marker='o')\n",
        "ax2.set_xlabel('Epochs')\n",
        "ax2.set_ylabel('Accuracy')\n",
        "ax2.set_title('Fake and Real Data Accuracy, Classified by Discriminator')\n",
        "ax2.legend()\n",
        "plt.tight_layout()\n",
        "plt.show()"
      ],
      "metadata": {
        "colab": {
          "base_uri": "https://localhost:8080/",
          "height": 507
        },
        "id": "IriQCkb57A82",
        "outputId": "4e49f341-9737-4960-f73f-299c88914029"
      },
      "execution_count": 15,
      "outputs": [
        {
          "output_type": "display_data",
          "data": {
            "text/plain": [
              "<Figure size 1000x500 with 2 Axes>"
            ],
            "image/png": "[encoded data removed]"
          },
          "metadata": {}
        }
      ]
    }
  ]
}