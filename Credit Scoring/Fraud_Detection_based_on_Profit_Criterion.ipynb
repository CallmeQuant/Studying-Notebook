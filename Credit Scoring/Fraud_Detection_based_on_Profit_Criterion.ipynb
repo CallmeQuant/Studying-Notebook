{
  "nbformat": 4,
  "nbformat_minor": 0,
  "metadata": {
    "colab": {
      "provenance": [],
      "authorship_tag": "ABX9TyNL8xB9aT5lEV0eEc9U1sqd",
      "include_colab_link": true
    },
    "kernelspec": {
      "name": "python3",
      "display_name": "Python 3"
    },
    "language_info": {
      "name": "python"
    }
  },
  "cells": [
    {
      "cell_type": "markdown",
      "metadata": {
        "id": "view-in-github",
        "colab_type": "text"
      },
      "source": [
        "<a href=\"https://colab.research.google.com/github/CallmeQuant/Studying-Notebook/blob/main/Credit%20Scoring/Fraud_Detection_based_on_Profit_Criterion.ipynb\" target=\"_parent\"><img src=\"https://colab.research.google.com/assets/colab-badge.svg\" alt=\"Open In Colab\"/></a>"
      ]
    },
    {
      "cell_type": "code",
      "source": [
        "from google.colab import drive\n",
        "drive.mount(\"/content/drive\")\n",
        "from google.colab import files"
      ],
      "metadata": {
        "colab": {
          "base_uri": "https://localhost:8080/"
        },
        "id": "UVHwAjk4O7jL",
        "outputId": "d50742fd-4c54-4e59-df9a-b4647c48b7d5"
      },
      "execution_count": 1,
      "outputs": [
        {
          "output_type": "stream",
          "name": "stdout",
          "text": [
            "Mounted at /content/drive\n"
          ]
        }
      ]
    },
    {
      "cell_type": "code",
      "source": [
        "%%capture\n",
        "!pip install catboost"
      ],
      "metadata": {
        "id": "EBSEaaTWPhKm"
      },
      "execution_count": null,
      "outputs": []
    },
    {
      "cell_type": "code",
      "source": [
        "import pandas as pd\n",
        "import numpy as np\n",
        "import matplotlib.pyplot as plt\n",
        "plt.style.use('ggplot')\n",
        "\n",
        "\n",
        "from sklearn.model_selection import train_test_split, cross_val_score, RepeatedStratifiedKFold\n",
        "from sklearn.metrics import roc_auc_score\n",
        "\n",
        "# Classifiers\n",
        "from lightgbm import LGBMClassifier\n",
        "from xgboost import XGBClassifier\n",
        "from catboost import CatBoostClassifier\n",
        "from sklearn.naive_bayes import GaussianNB\n",
        "from sklearn.ensemble import RandomForestClassifier\n",
        "from sklearn.linear_model import LogisticRegression\n",
        "from sklearn.ensemble import GradientBoostingClassifier\n",
        "\n",
        "import warnings\n",
        "warnings.filterwarnings(\"ignore\")"
      ],
      "metadata": {
        "id": "jOyO5D7CPFbc"
      },
      "execution_count": 42,
      "outputs": []
    },
    {
      "cell_type": "code",
      "execution_count": 18,
      "metadata": {
        "id": "M9e6nxgvO0W4"
      },
      "outputs": [],
      "source": [
        "df_bank = pd.read_csv(\"drive/My Drive/data/GermanCredit.csv\")\n",
        "df_bank[\"RESPONSE\"] = df_bank[\"RESPONSE\"].map({1: 0, 0: 1})\n",
        "\n",
        "# Drop OBS# feature:\n",
        "my_df_binary = df_bank.drop([\"OBS#\"], axis=1)\n",
        "\n",
        "# Define input features and target output:\n",
        "Y = my_df_binary[\"RESPONSE\"]\n",
        "X = my_df_binary.drop(\"RESPONSE\", axis=1)\n",
        "\n",
        "X_train, X_test, y_train, y_test = train_test_split(X, Y, test_size=0.2, random_state=88)"
      ]
    },
    {
      "cell_type": "code",
      "source": [
        "Y.value_counts()"
      ],
      "metadata": {
        "colab": {
          "base_uri": "https://localhost:8080/"
        },
        "id": "jz4YQDglQF8J",
        "outputId": "8209af01-6ea6-40b5-bf6e-fe1d294ca984"
      },
      "execution_count": 9,
      "outputs": [
        {
          "output_type": "execute_result",
          "data": {
            "text/plain": [
              "0    700\n",
              "1    300\n",
              "Name: RESPONSE, dtype: int64"
            ]
          },
          "metadata": {},
          "execution_count": 9
        }
      ]
    },
    {
      "cell_type": "code",
      "source": [
        "ratio = float(Y.value_counts()[0]) / Y.value_counts()[1]"
      ],
      "metadata": {
        "id": "5l_IfPXaP6VG"
      },
      "execution_count": 12,
      "outputs": []
    },
    {
      "cell_type": "code",
      "source": [
        "# Initative estimators:\n",
        "ran = RandomForestClassifier(random_state=88)\n",
        "log = LogisticRegression()\n",
        "gbc = GradientBoostingClassifier()\n",
        "gnb = GaussianNB()\n",
        "xgb = XGBClassifier(random_state=88,scale_pos_weight=ratio)\n",
        "lgbm = LGBMClassifier(random_state=88,scale_pos_weight=ratio)\n",
        "cat = CatBoostClassifier(verbose=False,random_state=0,scale_pos_weight=ratio)\n",
        "\n",
        "# List of classifiers:\n",
        "models = [ran, log, gbc, gnb, xgb, lgbm, cat]"
      ],
      "metadata": {
        "id": "Z6BxiKa9SWrv"
      },
      "execution_count": 19,
      "outputs": []
    },
    {
      "cell_type": "code",
      "source": [
        "%%time\n",
        "recall_mean = []\n",
        "recall_sd = []\n",
        "auc_mean = []\n",
        "auc_sd = []\n",
        "\n",
        "# Train all classifiers:\n",
        "cv = RepeatedStratifiedKFold(n_splits=5, n_repeats=10, random_state=29)\n",
        "\n",
        "for mod in models:\n",
        "    acc = cross_val_score(mod, X_train, y_train, scoring=\"recall\", cv=cv, verbose=False, n_jobs=-1)\n",
        "    auc = cross_val_score(mod, X_train, y_train, scoring=\"roc_auc\", cv=cv, verbose=False, n_jobs=-1)\n",
        "    # Recall metric:\n",
        "    recall_mean.append(acc.mean())\n",
        "    recall_sd.append(np.std(acc))\n",
        "    # AUC metric:\n",
        "    auc_mean.append(auc.mean())\n",
        "    auc_sd.append(np.std(auc))\n",
        "\n",
        "# Convert results in form of pandas frame:\n",
        "df_results = pd.DataFrame({\"Model\": [mod.__class__.__name__ for mod in models],\n",
        "                           \"Recall_mean\": recall_mean,\n",
        "                           \"Recall_sd\": recall_sd,\n",
        "                           \"AUC_mean\": auc_mean,\n",
        "                           \"AUC_sd\": auc_sd})\n",
        "\n",
        "df_results = df_results.sort_values(by=\"Recall_mean\", ascending=False).reset_index(drop=True)"
      ],
      "metadata": {
        "id": "rTAFkZKpS9wG"
      },
      "execution_count": 22,
      "outputs": []
    },
    {
      "cell_type": "code",
      "source": [
        "df_results"
      ],
      "metadata": {
        "colab": {
          "base_uri": "https://localhost:8080/",
          "height": 269
        },
        "id": "EcRtxPSvXdnI",
        "outputId": "9e48f37e-fed7-4bcd-d710-3bdea874e201"
      },
      "execution_count": 23,
      "outputs": [
        {
          "output_type": "execute_result",
          "data": {
            "text/plain": [
              "                        Model  Recall_mean  Recall_sd  AUC_mean    AUC_sd\n",
              "0          CatBoostClassifier     0.632772   0.050992  0.787708  0.030474\n",
              "1                  GaussianNB     0.596131   0.078183  0.761863  0.042344\n",
              "2              LGBMClassifier     0.563937   0.055892  0.767863  0.034178\n",
              "3               XGBClassifier     0.543418   0.051888  0.761044  0.035207\n",
              "4          LogisticRegression     0.498784   0.074794  0.790781  0.034451\n",
              "5  GradientBoostingClassifier     0.475043   0.062356  0.777648  0.029904\n",
              "6      RandomForestClassifier     0.394575   0.071073  0.779581  0.032700"
            ],
            "text/html": [
              "\n",
              "  <div id=\"df-3cbd8b8d-7f01-412f-b65e-0f1b7f16bd73\" class=\"colab-df-container\">\n",
              "    <div>\n",
              "<style scoped>\n",
              "    .dataframe tbody tr th:only-of-type {\n",
              "        vertical-align: middle;\n",
              "    }\n",
              "\n",
              "    .dataframe tbody tr th {\n",
              "        vertical-align: top;\n",
              "    }\n",
              "\n",
              "    .dataframe thead th {\n",
              "        text-align: right;\n",
              "    }\n",
              "</style>\n",
              "<table border=\"1\" class=\"dataframe\">\n",
              "  <thead>\n",
              "    <tr style=\"text-align: right;\">\n",
              "      <th></th>\n",
              "      <th>Model</th>\n",
              "      <th>Recall_mean</th>\n",
              "      <th>Recall_sd</th>\n",
              "      <th>AUC_mean</th>\n",
              "      <th>AUC_sd</th>\n",
              "    </tr>\n",
              "  </thead>\n",
              "  <tbody>\n",
              "    <tr>\n",
              "      <th>0</th>\n",
              "      <td>CatBoostClassifier</td>\n",
              "      <td>0.632772</td>\n",
              "      <td>0.050992</td>\n",
              "      <td>0.787708</td>\n",
              "      <td>0.030474</td>\n",
              "    </tr>\n",
              "    <tr>\n",
              "      <th>1</th>\n",
              "      <td>GaussianNB</td>\n",
              "      <td>0.596131</td>\n",
              "      <td>0.078183</td>\n",
              "      <td>0.761863</td>\n",
              "      <td>0.042344</td>\n",
              "    </tr>\n",
              "    <tr>\n",
              "      <th>2</th>\n",
              "      <td>LGBMClassifier</td>\n",
              "      <td>0.563937</td>\n",
              "      <td>0.055892</td>\n",
              "      <td>0.767863</td>\n",
              "      <td>0.034178</td>\n",
              "    </tr>\n",
              "    <tr>\n",
              "      <th>3</th>\n",
              "      <td>XGBClassifier</td>\n",
              "      <td>0.543418</td>\n",
              "      <td>0.051888</td>\n",
              "      <td>0.761044</td>\n",
              "      <td>0.035207</td>\n",
              "    </tr>\n",
              "    <tr>\n",
              "      <th>4</th>\n",
              "      <td>LogisticRegression</td>\n",
              "      <td>0.498784</td>\n",
              "      <td>0.074794</td>\n",
              "      <td>0.790781</td>\n",
              "      <td>0.034451</td>\n",
              "    </tr>\n",
              "    <tr>\n",
              "      <th>5</th>\n",
              "      <td>GradientBoostingClassifier</td>\n",
              "      <td>0.475043</td>\n",
              "      <td>0.062356</td>\n",
              "      <td>0.777648</td>\n",
              "      <td>0.029904</td>\n",
              "    </tr>\n",
              "    <tr>\n",
              "      <th>6</th>\n",
              "      <td>RandomForestClassifier</td>\n",
              "      <td>0.394575</td>\n",
              "      <td>0.071073</td>\n",
              "      <td>0.779581</td>\n",
              "      <td>0.032700</td>\n",
              "    </tr>\n",
              "  </tbody>\n",
              "</table>\n",
              "</div>\n",
              "    <div class=\"colab-df-buttons\">\n",
              "\n",
              "  <div class=\"colab-df-container\">\n",
              "    <button class=\"colab-df-convert\" onclick=\"convertToInteractive('df-3cbd8b8d-7f01-412f-b65e-0f1b7f16bd73')\"\n",
              "            title=\"Convert this dataframe to an interactive table.\"\n",
              "            style=\"display:none;\">\n",
              "\n",
              "  <svg xmlns=\"http://www.w3.org/2000/svg\" height=\"24px\" viewBox=\"0 -960 960 960\">\n",
              "    <path d=\"M120-120v-720h720v720H120Zm60-500h600v-160H180v160Zm220 220h160v-160H400v160Zm0 220h160v-160H400v160ZM180-400h160v-160H180v160Zm440 0h160v-160H620v160ZM180-180h160v-160H180v160Zm440 0h160v-160H620v160Z\"/>\n",
              "  </svg>\n",
              "    </button>\n",
              "\n",
              "  <style>\n",
              "    .colab-df-container {\n",
              "      display:flex;\n",
              "      gap: 12px;\n",
              "    }\n",
              "\n",
              "    .colab-df-convert {\n",
              "      background-color: #E8F0FE;\n",
              "      border: none;\n",
              "      border-radius: 50%;\n",
              "      cursor: pointer;\n",
              "      display: none;\n",
              "      fill: #1967D2;\n",
              "      height: 32px;\n",
              "      padding: 0 0 0 0;\n",
              "      width: 32px;\n",
              "    }\n",
              "\n",
              "    .colab-df-convert:hover {\n",
              "      background-color: #E2EBFA;\n",
              "      box-shadow: 0px 1px 2px rgba(60, 64, 67, 0.3), 0px 1px 3px 1px rgba(60, 64, 67, 0.15);\n",
              "      fill: #174EA6;\n",
              "    }\n",
              "\n",
              "    .colab-df-buttons div {\n",
              "      margin-bottom: 4px;\n",
              "    }\n",
              "\n",
              "    [theme=dark] .colab-df-convert {\n",
              "      background-color: #3B4455;\n",
              "      fill: #D2E3FC;\n",
              "    }\n",
              "\n",
              "    [theme=dark] .colab-df-convert:hover {\n",
              "      background-color: #434B5C;\n",
              "      box-shadow: 0px 1px 3px 1px rgba(0, 0, 0, 0.15);\n",
              "      filter: drop-shadow(0px 1px 2px rgba(0, 0, 0, 0.3));\n",
              "      fill: #FFFFFF;\n",
              "    }\n",
              "  </style>\n",
              "\n",
              "    <script>\n",
              "      const buttonEl =\n",
              "        document.querySelector('#df-3cbd8b8d-7f01-412f-b65e-0f1b7f16bd73 button.colab-df-convert');\n",
              "      buttonEl.style.display =\n",
              "        google.colab.kernel.accessAllowed ? 'block' : 'none';\n",
              "\n",
              "      async function convertToInteractive(key) {\n",
              "        const element = document.querySelector('#df-3cbd8b8d-7f01-412f-b65e-0f1b7f16bd73');\n",
              "        const dataTable =\n",
              "          await google.colab.kernel.invokeFunction('convertToInteractive',\n",
              "                                                    [key], {});\n",
              "        if (!dataTable) return;\n",
              "\n",
              "        const docLinkHtml = 'Like what you see? Visit the ' +\n",
              "          '<a target=\"_blank\" href=https://colab.research.google.com/notebooks/data_table.ipynb>data table notebook</a>'\n",
              "          + ' to learn more about interactive tables.';\n",
              "        element.innerHTML = '';\n",
              "        dataTable['output_type'] = 'display_data';\n",
              "        await google.colab.output.renderOutput(dataTable, element);\n",
              "        const docLink = document.createElement('div');\n",
              "        docLink.innerHTML = docLinkHtml;\n",
              "        element.appendChild(docLink);\n",
              "      }\n",
              "    </script>\n",
              "  </div>\n",
              "\n",
              "\n",
              "<div id=\"df-ab88fe03-3f49-4500-8fae-56507832a301\">\n",
              "  <button class=\"colab-df-quickchart\" onclick=\"quickchart('df-ab88fe03-3f49-4500-8fae-56507832a301')\"\n",
              "            title=\"Suggest charts.\"\n",
              "            style=\"display:none;\">\n",
              "\n",
              "<svg xmlns=\"http://www.w3.org/2000/svg\" height=\"24px\"viewBox=\"0 0 24 24\"\n",
              "     width=\"24px\">\n",
              "    <g>\n",
              "        <path d=\"M19 3H5c-1.1 0-2 .9-2 2v14c0 1.1.9 2 2 2h14c1.1 0 2-.9 2-2V5c0-1.1-.9-2-2-2zM9 17H7v-7h2v7zm4 0h-2V7h2v10zm4 0h-2v-4h2v4z\"/>\n",
              "    </g>\n",
              "</svg>\n",
              "  </button>\n",
              "\n",
              "<style>\n",
              "  .colab-df-quickchart {\n",
              "      --bg-color: #E8F0FE;\n",
              "      --fill-color: #1967D2;\n",
              "      --hover-bg-color: #E2EBFA;\n",
              "      --hover-fill-color: #174EA6;\n",
              "      --disabled-fill-color: #AAA;\n",
              "      --disabled-bg-color: #DDD;\n",
              "  }\n",
              "\n",
              "  [theme=dark] .colab-df-quickchart {\n",
              "      --bg-color: #3B4455;\n",
              "      --fill-color: #D2E3FC;\n",
              "      --hover-bg-color: #434B5C;\n",
              "      --hover-fill-color: #FFFFFF;\n",
              "      --disabled-bg-color: #3B4455;\n",
              "      --disabled-fill-color: #666;\n",
              "  }\n",
              "\n",
              "  .colab-df-quickchart {\n",
              "    background-color: var(--bg-color);\n",
              "    border: none;\n",
              "    border-radius: 50%;\n",
              "    cursor: pointer;\n",
              "    display: none;\n",
              "    fill: var(--fill-color);\n",
              "    height: 32px;\n",
              "    padding: 0;\n",
              "    width: 32px;\n",
              "  }\n",
              "\n",
              "  .colab-df-quickchart:hover {\n",
              "    background-color: var(--hover-bg-color);\n",
              "    box-shadow: 0 1px 2px rgba(60, 64, 67, 0.3), 0 1px 3px 1px rgba(60, 64, 67, 0.15);\n",
              "    fill: var(--button-hover-fill-color);\n",
              "  }\n",
              "\n",
              "  .colab-df-quickchart-complete:disabled,\n",
              "  .colab-df-quickchart-complete:disabled:hover {\n",
              "    background-color: var(--disabled-bg-color);\n",
              "    fill: var(--disabled-fill-color);\n",
              "    box-shadow: none;\n",
              "  }\n",
              "\n",
              "  .colab-df-spinner {\n",
              "    border: 2px solid var(--fill-color);\n",
              "    border-color: transparent;\n",
              "    border-bottom-color: var(--fill-color);\n",
              "    animation:\n",
              "      spin 1s steps(1) infinite;\n",
              "  }\n",
              "\n",
              "  @keyframes spin {\n",
              "    0% {\n",
              "      border-color: transparent;\n",
              "      border-bottom-color: var(--fill-color);\n",
              "      border-left-color: var(--fill-color);\n",
              "    }\n",
              "    20% {\n",
              "      border-color: transparent;\n",
              "      border-left-color: var(--fill-color);\n",
              "      border-top-color: var(--fill-color);\n",
              "    }\n",
              "    30% {\n",
              "      border-color: transparent;\n",
              "      border-left-color: var(--fill-color);\n",
              "      border-top-color: var(--fill-color);\n",
              "      border-right-color: var(--fill-color);\n",
              "    }\n",
              "    40% {\n",
              "      border-color: transparent;\n",
              "      border-right-color: var(--fill-color);\n",
              "      border-top-color: var(--fill-color);\n",
              "    }\n",
              "    60% {\n",
              "      border-color: transparent;\n",
              "      border-right-color: var(--fill-color);\n",
              "    }\n",
              "    80% {\n",
              "      border-color: transparent;\n",
              "      border-right-color: var(--fill-color);\n",
              "      border-bottom-color: var(--fill-color);\n",
              "    }\n",
              "    90% {\n",
              "      border-color: transparent;\n",
              "      border-bottom-color: var(--fill-color);\n",
              "    }\n",
              "  }\n",
              "</style>\n",
              "\n",
              "  <script>\n",
              "    async function quickchart(key) {\n",
              "      const quickchartButtonEl =\n",
              "        document.querySelector('#' + key + ' button');\n",
              "      quickchartButtonEl.disabled = true;  // To prevent multiple clicks.\n",
              "      quickchartButtonEl.classList.add('colab-df-spinner');\n",
              "      try {\n",
              "        const charts = await google.colab.kernel.invokeFunction(\n",
              "            'suggestCharts', [key], {});\n",
              "      } catch (error) {\n",
              "        console.error('Error during call to suggestCharts:', error);\n",
              "      }\n",
              "      quickchartButtonEl.classList.remove('colab-df-spinner');\n",
              "      quickchartButtonEl.classList.add('colab-df-quickchart-complete');\n",
              "    }\n",
              "    (() => {\n",
              "      let quickchartButtonEl =\n",
              "        document.querySelector('#df-ab88fe03-3f49-4500-8fae-56507832a301 button');\n",
              "      quickchartButtonEl.style.display =\n",
              "        google.colab.kernel.accessAllowed ? 'block' : 'none';\n",
              "    })();\n",
              "  </script>\n",
              "</div>\n",
              "    </div>\n",
              "  </div>\n"
            ]
          },
          "metadata": {},
          "execution_count": 23
        }
      ]
    },
    {
      "cell_type": "code",
      "source": [
        "# Train LGBMClassifier, GaussianNB and CatBoostClassifier:\n",
        "lgbm.fit(X_train, y_train)\n",
        "cat.fit(X_train, y_train)\n",
        "xgb.fit(X_train, y_train)\n",
        "\n",
        "\n",
        "# Probability:\n",
        "pd_lgbm = lgbm.predict_proba(X_test)[:, 1]\n",
        "pd_xgb = xgb.predict_proba(X_test)[:, 1]\n",
        "pd_cat = cat.predict_proba(X_test)[:, 1]"
      ],
      "metadata": {
        "id": "1sJ6p1sFTte6"
      },
      "execution_count": 34,
      "outputs": []
    },
    {
      "cell_type": "code",
      "source": [
        "# AUC\n",
        "print(roc_auc_score(y_test, pd_lgbm))\n",
        "print(roc_auc_score(y_test, pd_xgb))\n",
        "print(roc_auc_score(y_test, pd_cat))"
      ],
      "metadata": {
        "colab": {
          "base_uri": "https://localhost:8080/"
        },
        "id": "wkEA-yCsX2LM",
        "outputId": "7b54d4c0-b1f1-4778-f5be-fac15914024e"
      },
      "execution_count": 35,
      "outputs": [
        {
          "output_type": "stream",
          "name": "stdout",
          "text": [
            "0.8149801587301587\n",
            "0.8012152777777778\n",
            "0.8229166666666666\n"
          ]
        }
      ]
    },
    {
      "cell_type": "code",
      "source": [
        "# Function calculates profit with given cutoff when interest rate of 4.5%:\n",
        "\n",
        "def profit_by_cutoff(cutoff, pred_prob):\n",
        "    rate = 0.045\n",
        "    pred_bg = (pred_prob >= cutoff).astype(int)\n",
        "    gg = X_test[(y_test == 0) & (pred_bg == 0)]\n",
        "    bg = X_test[(y_test == 1) & (pred_bg == 0)]\n",
        "    profit = np.sum(rate * gg[\"AMOUNT\"]) - np.sum(bg[\"AMOUNT\"])\n",
        "    return profit\n",
        "\n",
        "\n",
        "def profit(cutoff):\n",
        "    pro_lgbm = profit_by_cutoff(cutoff=cutoff, pred_prob=pd_lgbm)\n",
        "    pro_xgb = profit_by_cutoff(cutoff=cutoff, pred_prob=pd_xgb)\n",
        "    pro_cat = profit_by_cutoff(cutoff=cutoff, pred_prob=pd_cat)\n",
        "    df_pro = pd.DataFrame({\"Profit_LGBM\": [pro_lgbm],\n",
        "                           \"Profit_XGB\": [pro_xgb],\n",
        "                           \"Profit_CAT\": [pro_cat],\n",
        "                           \"Cutoff\": [cutoff]})\n",
        "\n",
        "    return df_pro\n",
        "\n",
        "\n",
        "# If cutoff = 0.02:\n",
        "print(profit(cutoff=0.02))\n",
        "\n",
        "# Profit for the two models by a range of cutoff:\n",
        "df_profit = pd.DataFrame()\n",
        "\n",
        "for j in np.arange(0.01, 0.3, 0.005):\n",
        "    df_j = profit(j)\n",
        "    df_profit = df_profit.append(df_j)\n",
        "\n",
        "df_profit = df_profit.reset_index(drop = True)"
      ],
      "metadata": {
        "colab": {
          "base_uri": "https://localhost:8080/"
        },
        "id": "gbpusmb-YGf7",
        "outputId": "e99294ec-3f3f-4d8e-87ad-db33de935192"
      },
      "execution_count": 60,
      "outputs": [
        {
          "output_type": "stream",
          "name": "stdout",
          "text": [
            "   Profit_LGBM  Profit_XGB  Profit_CAT  Cutoff\n",
            "0      -2248.5   -14462.01      242.55    0.02\n"
          ]
        }
      ]
    },
    {
      "cell_type": "code",
      "source": [
        "plt.plot(\"Cutoff\", \"Profit_LGBM\", data=df_profit, label=\"LGBM\", lw=2)\n",
        "plt.plot(\"Cutoff\", \"Profit_XGB\", data=df_profit, label=\"XGBoost\", lw=2)\n",
        "plt.plot(\"Cutoff\", \"Profit_CAT\", data=df_profit, label=\"CatBoost\", lw=2)\n",
        "plt.axvline(x = df_profit['Cutoff'][cutoff_id], color = 'b', linestyle='--', linewidth = 1)\n",
        "plt.title(\"Profit by Cutoffs and Classifiers\")\n",
        "plt.xlabel(\"Cutoff\")\n",
        "plt.ylabel(\"Profit\")\n",
        "plt.legend()\n",
        "plt.show()"
      ],
      "metadata": {
        "colab": {
          "base_uri": "https://localhost:8080/",
          "height": 491
        },
        "id": "Qrd4G76NZelm",
        "outputId": "a381e0fc-6078-4e52-a32e-85479660a3db"
      },
      "execution_count": 73,
      "outputs": [
        {
          "output_type": "display_data",
          "data": {
            "text/plain": [
              "<Figure size 640x480 with 1 Axes>"
            ],
            "image/png": "[encoded data removed]"
          },
          "metadata": {}
        }
      ]
    }
  ]
}