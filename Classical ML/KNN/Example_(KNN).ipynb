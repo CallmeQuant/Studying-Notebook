{
  "nbformat": 4,
  "nbformat_minor": 0,
  "metadata": {
    "colab": {
      "provenance": []
    },
    "kernelspec": {
      "name": "python3",
      "display_name": "Python 3"
    },
    "language_info": {
      "name": "python"
    }
  },
  "cells": [
    {
      "cell_type": "markdown",
      "source": [
        "# **Import Libraries**"
      ],
      "metadata": {
        "id": "aqYEBNRAp5ih"
      }
    },
    {
      "cell_type": "code",
      "source": [
        "import torch\n",
        "import numpy as np\n",
        "import matplotlib.pyplot as plt\n",
        "from scipy.stats import mode\n",
        "from sklearn.datasets import load_iris\n",
        "from sklearn.model_selection import train_test_split\n",
        "from sklearn.metrics import accuracy_score"
      ],
      "metadata": {
        "id": "o4V8QhpuqEeP"
      },
      "execution_count": 1,
      "outputs": []
    },
    {
      "cell_type": "markdown",
      "source": [
        "# **Implementation**"
      ],
      "metadata": {
        "id": "M27R1HkjqFmG"
      }
    },
    {
      "cell_type": "code",
      "execution_count": 2,
      "metadata": {
        "id": "thxrrbEwp3vu"
      },
      "outputs": [],
      "source": [
        "class KNN:\n",
        "    def __init__(self, k):\n",
        "        \"\"\"\n",
        "        Parameters\n",
        "        ----------\n",
        "        k: Number of neighbors. It is a hyperparameter that can be tuned\n",
        "            int\n",
        "        X: Features tensor\n",
        "            Torch tensor\n",
        "        \"\"\"\n",
        "        self.k = k\n",
        "\n",
        "    def distance(self, x1, x2, metric = \"euclidean\", p = 2):\n",
        "        metric_list = [\"euclidean\", \"manhattan\", \"minkowski\"]\n",
        "        if metric == \"euclidean\":\n",
        "            return torch.norm(x1 - x2, 2, 0)\n",
        "        elif metric == \"manhattan\":\n",
        "            return torch.sum(torch.abs(x1 - x2))\n",
        "        elif metric == \"minkowski\":\n",
        "            return torch.pow(torch.sum(torch.abs(x1- x2)**p), 1/p)\n",
        "        else:\n",
        "            raise ValueError(f\"Unknown similarity distance metric. Should be from {metric_list}\")\n",
        "\n",
        "    def fit_predict(self, X, y, X_new):\n",
        "        \"\"\"\n",
        "        Perfroming an iterative scheme using the concept of nearest neigbors.\n",
        "        For each data point, we do the following steps:\n",
        "        + Compute the distance between all training data and the new coming data using distance metric\n",
        "        + Sort the distance and retrieve the indices\n",
        "        + Find the majority class whose distance is closest to each X_new\n",
        "\n",
        "        Parameters\n",
        "        ----------\n",
        "        X: Training data\n",
        "            Torch tensor\n",
        "        y: Ground truth label\n",
        "            Torch tensor\n",
        "        X_new: Data need to be classified\n",
        "            Torch tensor\n",
        "\n",
        "        Returns\n",
        "        -------\n",
        "        Predicted labels\n",
        "        \"\"\"\n",
        "        y_pred = []\n",
        "        for x_new in X_new:\n",
        "            distances = []\n",
        "            for i in range(X.shape[0]):\n",
        "                dist = self.distance(X[i, :], x_new)\n",
        "                distances.append(dist)\n",
        "\n",
        "            distances = torch.tensor(distances)\n",
        "            k_neighbors = torch.argsort(distances)[:self.k]\n",
        "            y_label = y[k_neighbors]\n",
        "            major_class = mode(y_label, keepdims = True)\n",
        "            major_class = major_class.mode[0]\n",
        "            y_pred.append(major_class)\n",
        "\n",
        "        return torch.tensor(y_pred)\n",
        "\n",
        "\n",
        "def tune_parameter(model, X, y, X_new, y_new, ks):\n",
        "  acc = []\n",
        "  y_test = y_new\n",
        "  for i in range(1, ks):\n",
        "    knn = model(k=i)\n",
        "    y_pred = knn.fit_predict(X, y, X_new)\n",
        "    acc.append(accuracy_score(y_test, y_pred))\n",
        "\n",
        "  return np.array(acc)"
      ]
    },
    {
      "cell_type": "markdown",
      "source": [
        "# **Results**"
      ],
      "metadata": {
        "id": "4YxKIq7gqHlI"
      }
    },
    {
      "cell_type": "code",
      "source": [
        "iris = load_iris()\n",
        "X = torch.tensor(iris.data)\n",
        "y = torch.tensor(iris.target)\n",
        "torch.manual_seed(0)\n",
        "x_train, x_test, y_train, y_test = train_test_split(X, y, test_size=0.2)\n",
        "knn = KNN(k=5)\n",
        "y_pred = knn.fit_predict(x_train, y_train, x_test)"
      ],
      "metadata": {
        "id": "U8Fv8ICzqLdy"
      },
      "execution_count": 4,
      "outputs": []
    },
    {
      "cell_type": "code",
      "source": [
        "print(f'Accuracy: {100 * int(accuracy_score(y_test, y_pred))}%')"
      ],
      "metadata": {
        "colab": {
          "base_uri": "https://localhost:8080/"
        },
        "id": "s34NW7jZqO1n",
        "outputId": "1266f17e-a97f-4eed-8e0a-2ce1d8eff3e3"
      },
      "execution_count": 11,
      "outputs": [
        {
          "output_type": "stream",
          "name": "stdout",
          "text": [
            "Accuracy: 100%\n"
          ]
        }
      ]
    },
    {
      "cell_type": "code",
      "source": [
        "acc_grid = tune_parameter(KNN, x_train, y_train, x_test, y_test, 100)\n",
        "x = np.arange(1, 100)\n",
        "y = acc_grid\n",
        "\n",
        "plt.plot(x, y, color=\"tab:orange\")\n",
        "plt.xlabel('Number of neighbors')\n",
        "plt.ylabel('Accuracy')\n",
        "plt.title('Number of Neighbors vs Accuracy')\n",
        "plt.show()"
      ],
      "metadata": {
        "colab": {
          "base_uri": "https://localhost:8080/",
          "height": 472
        },
        "id": "s2Pcb9hBqQna",
        "outputId": "2e06b32c-9fe7-4d79-90c6-e40c6ef1c3a9"
      },
      "execution_count": 7,
      "outputs": [
        {
          "output_type": "display_data",
          "data": {
            "text/plain": [
              "<Figure size 640x480 with 1 Axes>"
            ],
            "image/png": "[encoded data removed]"
          },
          "metadata": {}
        }
      ]
    }
  ]
}