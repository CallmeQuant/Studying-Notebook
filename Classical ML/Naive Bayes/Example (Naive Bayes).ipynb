{
  "nbformat": 4,
  "nbformat_minor": 0,
  "metadata": {
    "colab": {
      "provenance": []
    },
    "kernelspec": {
      "name": "python3",
      "display_name": "Python 3"
    },
    "language_info": {
      "name": "python"
    }
  },
  "cells": [
    {
      "cell_type": "markdown",
      "source": [
        "## **Import Libraries**"
      ],
      "metadata": {
        "id": "Bd3VHHkhOarh"
      }
    },
    {
      "cell_type": "code",
      "execution_count": 1,
      "metadata": {
        "id": "h_EUUTf1M5aX"
      },
      "outputs": [],
      "source": [
        "from sklearn.base import BaseEstimator\n",
        "from sklearn.preprocessing import LabelEncoder\n",
        "from sklearn.model_selection import cross_val_score\n",
        "from sklearn import datasets\n",
        "import os\n",
        "import math\n",
        "import torch\n",
        "import numpy as np"
      ]
    },
    {
      "cell_type": "markdown",
      "source": [
        "## **Data Processing**"
      ],
      "metadata": {
        "id": "xZGZKeMMOX2U"
      }
    },
    {
      "cell_type": "code",
      "source": [
        "def train_test_split(X, y, test_size, random_state=None):\n",
        "  data_num = len(y)\n",
        "  test_num = int(test_size * data_num)\n",
        "  if random_state != None: np.random.seed(random_state)\n",
        "  index = np.random.permutation(data_num)\n",
        "  X_train = X[index[:-test_num]]\n",
        "  X_test = X[index[-test_num:]]\n",
        "  y_train = y[index[:-test_num]]\n",
        "  y_test = y[index[-test_num:]]\n",
        "  return X_train, X_test, y_train, y_test"
      ],
      "metadata": {
        "id": "VmiehAsbM8qb"
      },
      "execution_count": 2,
      "outputs": []
    },
    {
      "cell_type": "code",
      "source": [
        "wine_X, wine_y = datasets.load_wine(return_X_y=True)\n",
        "X_train, X_test, y_train, y_test = train_test_split(wine_X, wine_y, 0.2, 123)"
      ],
      "metadata": {
        "id": "d8ouiP-ZM-Cu"
      },
      "execution_count": 3,
      "outputs": []
    },
    {
      "cell_type": "code",
      "source": [
        "X_train = torch.from_numpy(X_train).float()\n",
        "y_train = torch.from_numpy(y_train).float()\n",
        "X_test = torch.from_numpy(X_test).float()\n",
        "y_test = torch.from_numpy(y_test).float()"
      ],
      "metadata": {
        "id": "29YMslSjM--Q"
      },
      "execution_count": 4,
      "outputs": []
    },
    {
      "cell_type": "markdown",
      "source": [
        "## **Implementation**"
      ],
      "metadata": {
        "id": "uB_tovZHOfYJ"
      }
    },
    {
      "cell_type": "code",
      "source": [
        "def gaussian_likelihood(X, mu, sigma):\n",
        "  \"\"\"\n",
        "  Computes the Gaussian pdf\n",
        "\n",
        "  Parameters\n",
        "  ----------\n",
        "  X: Features of tabular data \n",
        "    Torch tensor \n",
        "  mu: Mean parameter of Gaussian likelihood\n",
        "    Float\n",
        "  sigma: Standard deviation of Gaussian likelihood\n",
        "    Float\n",
        "  \n",
        "  Return\n",
        "  ------\n",
        "  Gaussian pdf\n",
        "  \"\"\"\n",
        "  return (2 * np.pi * sigma ** 2) ** (-0.5) * torch.exp((- (X - mu) ** 2) / (2 * sigma ** 2))"
      ],
      "metadata": {
        "id": "XETYL4J7NA-5"
      },
      "execution_count": 5,
      "outputs": []
    },
    {
      "cell_type": "code",
      "source": [
        "def accuracy_score(y_true, y_pred):\n",
        "    score = sum(y_true == y_pred)/len(y_true)\n",
        "    if \n",
        "    return round(score.numpy().item(), 3)"
      ],
      "metadata": {
        "id": "p15KWTQINEB4"
      },
      "execution_count": 6,
      "outputs": []
    },
    {
      "cell_type": "code",
      "source": [
        "is_categorical = [0] * X_train.size(1)\n",
        "num_feats = X_train.size(1)\n",
        "# size = X.size(0)\n",
        "y_vals_unique = y_train.unique()\n",
        "num_class = len(y_vals_unique)\n",
        "# Probability of each class in the training set\n",
        "class_probs = y_train.int().bincount().float()/len(y_train)\n",
        "\n",
        "feats_vals_max = torch.zeros((num_feats,), dtype = torch.int32)\n",
        "for i in range(num_feats):\n",
        "  feats_vals_max[i] = X_train[:, i].max()\n",
        "# Initialize list to store p(x_j | c_i)\n",
        "likelihoods = []\n",
        "for i in range(num_class):\n",
        "  likelihoods.append([])\n",
        "  # Index to group samples by class\n",
        "  idx = torch.where(y_train == y_vals_unique[i])[0] # torch.where returns a tuple \n",
        "  curr_class = X_train[idx]\n",
        "  class_size = curr_class.size(0)\n",
        "  for j in range(num_feats):\n",
        "    # Store all classes\n",
        "    likelihoods[i].append([])\n",
        "    if is_categorical[j]:\n",
        "      for k in range(feats_vals_max[j] + 1):\n",
        "        # Count number of observations of each feature given the class\n",
        "        prob_feat_in_class = (torch.where(curr_class[:, j])[0].size(0) + 1) / class_size\n",
        "        likelihoods[i][j].append(prob_feat_in_class)\n",
        "\n",
        "    else:\n",
        "      feats_class = curr_class[:, j]\n",
        "      mean = feats_class.mean()\n",
        "      sigma = feats_class.std() # set 'correction = 0' for not using Bessel's correction\n",
        "      likelihoods[i][j] = [mean, sigma]\n",
        "\n",
        "num_obs = X_test.size(0)\n",
        "pred = torch.zeros((num_obs, num_class), dtype = torch.float32)\n",
        "for k in range(num_obs):\n",
        "  curr_obs = X_test[k]\n",
        "  for i in range(num_class):\n",
        "    pred[k][i] = class_probs[i] # Set prior probability for ith class p(c_i)\n",
        "    prob_feat_in_class = likelihoods[i] # likelihoods for ith class p(x_j | c_i)\n",
        "    for j in range(num_feats):\n",
        "      if is_categorical[j]:\n",
        "        pred[k][i] *= prob_feat_in_class[j][curr_obs[j].int()]\n",
        "      else:\n",
        "        mean, sigma = prob_feat_in_class[j]\n",
        "        pred[k][i] *= gaussian_likelihood(curr_obs[j], mean, sigma)\n",
        "  \n",
        "label_pred = pred.argmax(dim = 1)"
      ],
      "metadata": {
        "id": "uRQF2BdSNCUx"
      },
      "execution_count": 7,
      "outputs": []
    },
    {
      "cell_type": "markdown",
      "source": [
        "## **Results**"
      ],
      "metadata": {
        "id": "-u_FZK2DOjli"
      }
    },
    {
      "cell_type": "code",
      "source": [
        "likelihoods"
      ],
      "metadata": {
        "colab": {
          "base_uri": "https://localhost:8080/"
        },
        "id": "zN4gDPviNH1I",
        "outputId": "de55c26e-2e4c-4156-9d5a-e59f530a46fb"
      },
      "execution_count": 8,
      "outputs": [
        {
          "output_type": "execute_result",
          "data": {
            "text/plain": [
              "[[[tensor(13.7522), tensor(0.4796)],\n",
              "  [tensor(1.9955), tensor(0.6775)],\n",
              "  [tensor(2.4547), tensor(0.2328)],\n",
              "  [tensor(16.9706), tensor(2.5946)],\n",
              "  [tensor(105.8627), tensor(10.6396)],\n",
              "  [tensor(2.8325), tensor(0.3560)],\n",
              "  [tensor(2.9539), tensor(0.4053)],\n",
              "  [tensor(0.2892), tensor(0.0681)],\n",
              "  [tensor(1.8657), tensor(0.4109)],\n",
              "  [tensor(5.4451), tensor(1.1998)],\n",
              "  [tensor(1.0647), tensor(0.1175)],\n",
              "  [tensor(3.1739), tensor(0.3651)],\n",
              "  [tensor(1120.1372), tensor(229.6118)]],\n",
              " [[tensor(12.2321), tensor(0.5344)],\n",
              "  [tensor(1.8669), tensor(0.8681)],\n",
              "  [tensor(2.2217), tensor(0.3329)],\n",
              "  [tensor(20.2481), tensor(3.4085)],\n",
              "  [tensor(94.0192), tensor(15.8714)],\n",
              "  [tensor(2.2037), tensor(0.5135)],\n",
              "  [tensor(1.9908), tensor(0.6758)],\n",
              "  [tensor(0.3648), tensor(0.1146)],\n",
              "  [tensor(1.5427), tensor(0.5738)],\n",
              "  [tensor(3.0338), tensor(0.9499)],\n",
              "  [tensor(1.0903), tensor(0.1983)],\n",
              "  [tensor(2.7702), tensor(0.4867)],\n",
              "  [tensor(516.5961), tensor(151.8240)]],\n",
              " [[tensor(13.0988), tensor(0.5300)],\n",
              "  [tensor(3.3670), tensor(1.1443)],\n",
              "  [tensor(2.4475), tensor(0.1877)],\n",
              "  [tensor(21.6000), tensor(2.2792)],\n",
              "  [tensor(98.6000), tensor(10.5970)],\n",
              "  [tensor(1.6895), tensor(0.3843)],\n",
              "  [tensor(0.8020), tensor(0.3138)],\n",
              "  [tensor(0.4358), tensor(0.1282)],\n",
              "  [tensor(1.1255), tensor(0.4191)],\n",
              "  [tensor(7.1760), tensor(2.3639)],\n",
              "  [tensor(0.6798), tensor(0.1120)],\n",
              "  [tensor(1.6865), tensor(0.2945)],\n",
              "  [tensor(614.5000), tensor(112.1743)]]]"
            ]
          },
          "metadata": {},
          "execution_count": 8
        }
      ]
    },
    {
      "cell_type": "code",
      "source": [
        "label_pred"
      ],
      "metadata": {
        "colab": {
          "base_uri": "https://localhost:8080/"
        },
        "id": "33OXPQS2NI0l",
        "outputId": "985b9310-b715-4ad0-8a5b-efaa4e6b51a8"
      },
      "execution_count": 9,
      "outputs": [
        {
          "output_type": "execute_result",
          "data": {
            "text/plain": [
              "tensor([1, 1, 1, 1, 1, 2, 2, 2, 2, 0, 1, 0, 0, 0, 1, 2, 1, 2, 2, 1, 0, 1, 0, 2,\n",
              "        1, 1, 0, 1, 1, 2, 0, 1, 1, 1, 1])"
            ]
          },
          "metadata": {},
          "execution_count": 9
        }
      ]
    },
    {
      "cell_type": "markdown",
      "source": [
        "## **Compare with Sklearn GaussianNB function**"
      ],
      "metadata": {
        "id": "5jvpJhH_ONMJ"
      }
    },
    {
      "cell_type": "code",
      "source": [
        "from sklearn.naive_bayes import GaussianNB\n",
        "\n",
        "model = GaussianNB()\n",
        "model.fit(X_train, y_train)\n",
        "y_pred_sklearn = model.predict(X_test)\n",
        "y_pred_sklearn = torch.from_numpy(y_pred_sklearn).float()\n",
        "accuracy_score(y_test, y_pred_sklearn)"
      ],
      "metadata": {
        "colab": {
          "base_uri": "https://localhost:8080/"
        },
        "id": "FFlWXbRNNORs",
        "outputId": "0fd0e95a-f524-41f2-e356-62f077ea213b"
      },
      "execution_count": 19,
      "outputs": [
        {
          "output_type": "execute_result",
          "data": {
            "text/plain": [
              "0.971"
            ]
          },
          "metadata": {},
          "execution_count": 19
        }
      ]
    }
  ]
}