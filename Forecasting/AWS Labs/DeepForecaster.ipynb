{
  "nbformat": 4,
  "nbformat_minor": 0,
  "metadata": {
    "colab": {
      "provenance": [],
      "collapsed_sections": [
        "PeboNg2VjpTa"
      ],
      "toc_visible": true,
      "authorship_tag": "ABX9TyNqtLlEldKDduauIzFADo5O",
      "include_colab_link": true
    },
    "kernelspec": {
      "name": "python3",
      "display_name": "Python 3"
    },
    "language_info": {
      "name": "python"
    }
  },
  "cells": [
    {
      "cell_type": "markdown",
      "metadata": {
        "id": "view-in-github",
        "colab_type": "text"
      },
      "source": [
        "<a href=\"https://colab.research.google.com/github/CallmeQuant/Studying-Notebook/blob/main/Forecasting/AWS%20Labs/DeepForecaster.ipynb\" target=\"_parent\"><img src=\"https://colab.research.google.com/assets/colab-badge.svg\" alt=\"Open In Colab\"/></a>"
      ]
    },
    {
      "cell_type": "code",
      "source": [
        "from google.colab import drive, files\n",
        "drive.mount(\"/content/drive\")"
      ],
      "metadata": {
        "colab": {
          "base_uri": "https://localhost:8080/"
        },
        "id": "qqUmR-SBqjYK",
        "outputId": "8a889d9c-1ad0-4790-c93c-bd10050210c3"
      },
      "execution_count": 1,
      "outputs": [
        {
          "output_type": "stream",
          "name": "stdout",
          "text": [
            "Drive already mounted at /content/drive; to attempt to forcibly remount, call drive.mount(\"/content/drive\", force_remount=True).\n"
          ]
        }
      ]
    },
    {
      "cell_type": "code",
      "source": [
        "import torch\n",
        "from torch import nn\n",
        "import torch.nn.functional as F\n",
        "import torch.optim as optim\n",
        "from torch.autograd import Variable\n",
        "\n",
        "import numpy as np\n",
        "import pandas as pd\n",
        "from datetime import date\n",
        "import os\n",
        "import random\n",
        "from typing import *\n",
        "from progressbar import *\n",
        "from tqdm import tqdm\n",
        "import matplotlib.pyplot as plt"
      ],
      "metadata": {
        "id": "LgR4UHkrzXM9"
      },
      "execution_count": 2,
      "outputs": []
    },
    {
      "cell_type": "markdown",
      "source": [
        "# **Shared Funtion**"
      ],
      "metadata": {
        "id": "Ghb_Bd-8Tt-o"
      }
    },
    {
      "cell_type": "markdown",
      "source": [
        "## **Data Preparation**"
      ],
      "metadata": {
        "id": "5FERVLJpM7zV"
      }
    },
    {
      "cell_type": "code",
      "source": [
        "def load_and_process(data_path: str):\n",
        "    data = (\n",
        "        pd.read_csv(data_path, sep=\",\", header=0, parse_dates=['date'])\n",
        "        .astype({'date': 'datetime64[ns]'})\n",
        "        .assign(\n",
        "            year=(lambda x: x['date'].dt.year),\n",
        "            day_of_week=(lambda x: x['date'].dt.dayofweek))\n",
        "    )\n",
        "\n",
        "    data = data.loc[(data[\"date\"] >= pd.to_datetime(date(2014, 1, 1))) &\n",
        "                    (data[\"date\"] <= pd.to_datetime(date(2014, 3, 1)))]\n",
        "    data.index = pd.RangeIndex(len(data.index))  # reset index due to compare date\n",
        "\n",
        "    # Create feature matrix\n",
        "    X = np.c_[np.asarray(data['hour']), np.asarray(data['day_of_week'])]\n",
        "    num_feats = X.shape[1]  # features = ['hour', 'day_of_week']\n",
        "    num_periods = len(data)\n",
        "\n",
        "    X = np.asarray(X).reshape(\n",
        "        (-1, num_periods, num_feats))  # To ensure the shape of univariate series is (1, num_periods, num_feats)\n",
        "    y = np.asarray(data[\"MT_200\"]).reshape((-1, num_periods))\n",
        "    return data, X, y, num_feats, num_periods\n",
        "\n",
        "def split_train_test(X: np.array, y: np.array, split_ratio: float = 0.7):\n",
        "    num_ts, num_periods, num_feats = X.shape\n",
        "    train_length = int(num_periods * split_ratio)\n",
        "    X_train = X[:, :train_length, :]\n",
        "    y_train = y[:, :train_length]\n",
        "    X_test = X[:, train_length:, :]\n",
        "    y_test = y[:, train_length:]\n",
        "    return X_train, y_train, X_test, y_test\n",
        "\n",
        "def create_batch(X, y, prior, seq_len, batch_size):\n",
        "    '''\n",
        "    Function to create batch for training.\n",
        "    For univariate case, the sampled batch will be the same repeatedly.\n",
        "    For multivariate time series, the sampled batch will contain numbers of different time series\n",
        "    that is equal to the batch size (for example, 64). This ensures the diversity of training; thereby\n",
        "    leads to more generalizable.\n",
        "\n",
        "    Parameters\n",
        "    -----------\n",
        "\n",
        "    X (array like): shape (num_samples, num_periods, num_features)\n",
        "    y (array like): shape (num_samples, num_periods)\n",
        "    piror (int)\n",
        "    seq_len (int): sequence/encoder/decoder length\n",
        "    '''\n",
        "    num_ts, num_periods, _ = X.shape\n",
        "\n",
        "    # If batch size is less than number of samples, using full batch. Otherwise, use batch size\n",
        "    if batch_size < num_ts:\n",
        "        print(f'Using full batch of size {num_ts} for training')\n",
        "    else:\n",
        "        print(f'Using mini-batch of size {batch_size} for training')\n",
        "    batch_size = min(num_ts, batch_size)\n",
        "\n",
        "    # Pre-calculate the range outside the choice function for efficiency\n",
        "    time_range = range(prior, num_periods - seq_len)\n",
        "    time_split = random.choice(time_range)\n",
        "\n",
        "    batch_range = range(num_ts)\n",
        "    batch = random.sample(batch_range, batch_size)\n",
        "\n",
        "    # Can use empty array then store sliced values for better pre-allocation memory\n",
        "    # Use slicing to get the batches\n",
        "    X_train_batch = X[batch, time_split - prior :time_split, :]\n",
        "    y_train_batch = y[batch, time_split - prior :time_split]\n",
        "\n",
        "    Xf = X[batch, time_split:time_split + seq_len, :]\n",
        "    yf = y[batch, time_split:time_split + seq_len]\n",
        "\n",
        "    return X_train_batch, y_train_batch, Xf, yf"
      ],
      "metadata": {
        "id": "y1XFUT-WTtd7"
      },
      "execution_count": 3,
      "outputs": []
    },
    {
      "cell_type": "markdown",
      "source": [
        "## **Scaling Data**"
      ],
      "metadata": {
        "id": "t65o173aNgrs"
      }
    },
    {
      "cell_type": "code",
      "source": [
        "class Normalizer:\n",
        "    \"\"\"\n",
        "    Wrapper object to perform normalization\n",
        "    \"\"\"\n",
        "    def __init__(self):\n",
        "        self.mu = None\n",
        "        self.std = None\n",
        "\n",
        "    def fit_transform(self, x):\n",
        "        self.mu = np.mean(x)\n",
        "        self.std = np.std(x) + 1e-4 # ddof = 1 implies sample std where ddof stands for degree of freedom\n",
        "        x_normalized = (x - self.mu) / self.std\n",
        "\n",
        "        return x_normalized\n",
        "\n",
        "    def inverse_transform(self, x):\n",
        "        return (x * self.std) + self.mu\n",
        "\n",
        "    def transform(self, x):\n",
        "        return (x - self.mu) / self.std\n",
        "\n",
        "\n",
        "class MeanCenter:\n",
        "    \"\"\"\n",
        "    Wrapper object to perform mean neutralization\n",
        "    \"\"\"\n",
        "    def __init__(self):\n",
        "        self.mu = None\n",
        "\n",
        "    def fit_transform(self, x):\n",
        "        self.mu = np.mean(x)\n",
        "        return x / self.mu\n",
        "\n",
        "    def inverse_transform(self, x):\n",
        "        return x * self.mu\n",
        "\n",
        "    def transform(self, x):\n",
        "        return x / self.mu\n",
        "\n",
        "\n",
        "class LogScaler:\n",
        "    \"\"\"\n",
        "    Wrapper object to perform logarithmic scaling\n",
        "    \"\"\"\n",
        "    def fit_transform(self, x):\n",
        "        return np.log1p(x)\n",
        "\n",
        "    def inverse_transform(self, x):\n",
        "        return np.expm1(x)\n",
        "\n",
        "    def transform(self, x):\n",
        "        return np.log1p(x)\n",
        "\n",
        "class MaxScaler:\n",
        "    \"\"\"\n",
        "    Wrapper object to perform max neutralization\n",
        "    \"\"\"\n",
        "    def __init__(self):\n",
        "        self.max = None\n",
        "\n",
        "    def fit_transform(self, x):\n",
        "        self.max = np.max(x)\n",
        "        return x / self.max\n",
        "\n",
        "    def inverse_transform(self, x):\n",
        "        return x * self.max\n",
        "    def transform(self, x):\n",
        "        return x / self.max"
      ],
      "metadata": {
        "id": "poi4x9CWNjHZ"
      },
      "execution_count": 4,
      "outputs": []
    },
    {
      "cell_type": "markdown",
      "source": [
        "## **Likelihood Layer**"
      ],
      "metadata": {
        "id": "oqz8PvLi87bl"
      }
    },
    {
      "cell_type": "code",
      "source": [
        "def Gaussian_sampling(mu, sigma):\n",
        "    pdf = torch.distributions.normal.Normal(mu, sigma)\n",
        "    return pdf.sample(mu.size())\n",
        "\n",
        "def NegativeBinomial_sampling(mu, alpha):\n",
        "    # Since torch does not use parameterization in the paper, we will use the conditional expection for this sample\n",
        "    var = mu + mu * mu * alpha\n",
        "    return mu + torch.randn(mu.size()) * torch.sqrt(var) # inject some dispersion\n",
        "\n",
        "\n",
        "\n",
        "class Gaussian_layer(nn.Module):\n",
        "\n",
        "    def __init__(self, hidden_size, output_size, init_weight = 'xavier'):\n",
        "        '''\n",
        "        Gaussian Likelihood Supports Continuous Data\n",
        "        Args:\n",
        "        input_size (int): hidden h_{i,t} column size\n",
        "        output_size (int): embedding size\n",
        "        '''\n",
        "        super(Gaussian_layer, self).__init__()\n",
        "        self.mu_layer = nn.Linear(hidden_size, output_size)\n",
        "        self.sigma_layer = nn.Linear(hidden_size, output_size)\n",
        "        # self.init_weight = init_weight\n",
        "\n",
        "        # if init_weight == 'xavier':\n",
        "        #     # initialize weights\n",
        "        #     nn.init.xavier_uniform_(self.mu_layer.weight)\n",
        "        #     nn.init.xavier_uniform_(self.sigma_layer.weight)\n",
        "        # if init_weight == 'kaiming':\n",
        "        #     nn.init.kaiming_uniform_(self.mu_layer.weight)\n",
        "        #     nn.init.kaiming_uniform_(self.sigma_layer.weight)\n",
        "\n",
        "    def forward(self, hidden):\n",
        "        _, hidden_size = hidden.size()\n",
        "        sigma_t = torch.log(1 + torch.exp(self.sigma_layer(hidden))) + 1e-6\n",
        "        sigma_t = sigma_t.squeeze(0)\n",
        "        mu_t = self.mu_layer(hidden).squeeze(0)\n",
        "        return mu_t, sigma_t\n",
        "\n",
        "class NegativeBinomial_layer(nn.Module):\n",
        "\n",
        "    def __init__(self, hidden_size, output_size, init_weight = 'xavier'):\n",
        "        '''\n",
        "        Gaussian Likelihood Supports Continuous Data\n",
        "        Args:\n",
        "        hidden_size (int): hidden h_{i,t} column size\n",
        "        output_size (int): embedding size\n",
        "        '''\n",
        "        super(NegativeBinomial_layer, self).__init__()\n",
        "        self.mu_layer = nn.Linear(hidden_size, output_size)\n",
        "        self.sigma_layer = nn.Linear(hidden_size, output_size)\n",
        "        # self.init_weight = init_weight\n",
        "\n",
        "        # if init_weight == 'xavier':\n",
        "        #     # initialize weights\n",
        "        #     nn.init.xavier_uniform_(self.mu_layer.weight)\n",
        "        #     nn.init.xavier_uniform_(self.sigma_layer.weight)\n",
        "        # if init_weight == 'kaiming':\n",
        "        #     nn.init.kaiming_uniform_(self.mu_layer.weight)\n",
        "        #     nn.init.kaiming_uniform_(self.sigma_layer.weight)\n",
        "\n",
        "    def forward(self, hidden):\n",
        "        _, hidden_size = hidden.size()\n",
        "        sigma_t = torch.log(1 + torch.exp(self.sigma_layer(hidden))) + 1e-6\n",
        "        # sigma_t = sigma_t.squeeze(0)\n",
        "        # mu_t = self.mu_layer(hidden).squeeze(0)\n",
        "        mu_t = torch.log(1 + torch.exp(self.mu_layer(hidden)))\n",
        "        return mu_t, sigma_t"
      ],
      "metadata": {
        "id": "sTLKxgU783Bu"
      },
      "execution_count": 5,
      "outputs": []
    },
    {
      "cell_type": "markdown",
      "source": [
        "## **Metrics**"
      ],
      "metadata": {
        "id": "r9BsSIlSNOKt"
      }
    },
    {
      "cell_type": "code",
      "source": [
        "def MAPE(y,f, is_symmetric = False):\n",
        "  \"\"\"\n",
        "\n",
        "  :param y: array of true values\n",
        "  :param f: array of predicted values\n",
        "  :param is_symmetric: If true, return the Symmetric version of MAPE (see i.e.,\n",
        "  :return: Mean absolute percentage error\n",
        "  \"\"\"\n",
        "  y = np.ravel(y) + 1e-4\n",
        "  f = np.ravel(f)\n",
        "  if is_symmetric:\n",
        "      return 100 * np.mean(2 * np.abs((y-f) / (y+f)))\n",
        "  else:\n",
        "      return 100 * np.mean(np.abs((y-f)) / y)\n",
        "\n",
        "def MAE(y, f):\n",
        "    \"\"\"\n",
        "    :param y: array of true values\n",
        "    :param f: array of predicted values\n",
        "    :return: Mean Absolute Error\n",
        "    \"\"\"\n",
        "    y = np.ravel(y)\n",
        "    f = np.ravel(f)\n",
        "    return np.mean(np.abs(y-f))\n",
        "\n",
        "def MSE(y, f):\n",
        "    \"\"\"\n",
        "\n",
        "    :param y: array of true values\n",
        "    :param f: array of predicted values\n",
        "    :return: Mean Squared Error\n",
        "    \"\"\"\n",
        "    y = np.ravel(y)\n",
        "    f = np.ravel(f)\n",
        "\n",
        "    return np.mean((y-f)**2)\n",
        "\n",
        "def RMSSE(y, f):\n",
        "    \"\"\"\n",
        "\n",
        "    :param y: array of true values\n",
        "    :param f: array of predicted values\n",
        "    :return: Root Mean Scaled Squared Error\n",
        "    \"\"\"\n",
        "    y = np.ravel(y)\n",
        "    f = np.ravel(f)\n",
        "    denom = np.mean((y[1:] - y[:-1]) ** 2)\n",
        "    numer = MSE(y, f)\n",
        "\n",
        "    return np.sqrt(numer / denom)\n",
        "\n",
        "def MASE(y, f):\n",
        "    \"\"\"\n",
        "\n",
        "    :param y: array of true values\n",
        "    :param f: array of predicted values\n",
        "    :return: Root Mean Scaled Squared Error\n",
        "    \"\"\"\n",
        "    y = np.ravel(y)\n",
        "    f = np.ravel(f)\n",
        "    nom = np.sum(np.abs(f - y))\n",
        "    denom = y.shape[0] / (y.shape[0] - 1) * np.sum(np.abs( y[1:] - y[:-1] ))\n",
        "    loss = nom / denom\n",
        "    return loss\n",
        "\n",
        "\n",
        "def MQloss(y, f_samps, model = None, qs = None):\n",
        "  # Compute the quantiles of the forecasts\n",
        "  quantiles = []\n",
        "  if qs is None:\n",
        "    qs = np.arange(0, 1.01, 0.01)\n",
        "  ar = (qs * 100).astype(np.int64)\n",
        "  for i in ar:\n",
        "    alpha = (100-i)\n",
        "    # For MQRNN model, just access the dimension 2 to quantiles\n",
        "    if model is not None:\n",
        "      q = f_samps[:, :, i].ravel()\n",
        "    else:\n",
        "      q = np.percentile(f_samps, [100 - alpha], axis=1).ravel()\n",
        "    quantiles.append(q)\n",
        "\n",
        "  quantiles = np.asarray(quantiles).reshape(-1, len(ar))\n",
        "\n",
        "  # Compute the multi-quantile loss\n",
        "  # absolute error: dim (num_periods, ) \\hat{y}_{t1}^{q00} - y_{t1} .... \\hat{y}_{t1}^{q100} - y_{t1}\n",
        "  #                                                 ...\n",
        "  #                                     \\hat{y}_{tN}^{q00} - y_{tN} .... \\hat{y}_{tN}^{q100} - y_{tN}\n",
        "\n",
        "  L = np.zeros_like(y.ravel()).astype(np.float64)\n",
        "\n",
        "  y_ravel = np.swapaxes(y, 1, 0).ravel()\n",
        "  for i, q in enumerate(qs):\n",
        "    err = y_ravel - quantiles[:, i]\n",
        "    L += np.maximum(err, np.zeros_like(err)) * (1 - q) + q * np.maximum(-err, np.zeros_like(err))\n",
        "\n",
        "  mqloss = (1/y.shape[1]) * L.mean(axis = 0)\n",
        "  return mqloss\n",
        "\n",
        "metrics_dict = {\n",
        "        'mse':MSE,\n",
        "        'mase': MASE,\n",
        "        'rmsse': RMSSE,\n",
        "        'mape':MAPE,\n",
        "        'mae':MAE,\n",
        "        'mqloss': MQloss\n",
        "    }\n",
        "\n",
        "def evaluate(y, f, f_samps, model = None, metrics = ('mse','mase', 'rmsse', 'mape','mae'), return_dataframe = True):\n",
        "  results = {}\n",
        "  for metric in metrics:\n",
        "      try:\n",
        "        if metric != 'mqloss':\n",
        "          y = np.ravel(y)\n",
        "          f = np.ravel(f)\n",
        "          results[metric] = metrics_dict[metric](y, f)\n",
        "        else:\n",
        "          y = np.expand_dims(y, axis = 0)\n",
        "          results[metric] = metrics_dict[metric](y, f_samps, model)\n",
        "      except Exception as err:\n",
        "          results[metric] = np.nan\n",
        "          print('Unable to compute metrics {0}: {1}'.format(metric, err))\n",
        "  if return_dataframe:\n",
        "    results_df = pd.DataFrame.from_dict(results.items())\n",
        "    results_df.columns = ['Metric','Value']\n",
        "    return results_df\n",
        "\n",
        "  return results"
      ],
      "metadata": {
        "id": "nVqx_9m_NRAj"
      },
      "execution_count": 15,
      "outputs": []
    },
    {
      "cell_type": "markdown",
      "source": [
        "## **Loss**"
      ],
      "metadata": {
        "id": "_IRFatJ1rvXm"
      }
    },
    {
      "cell_type": "code",
      "source": [
        "class Loss():\n",
        "    def __init__(self, ytrue):\n",
        "        self.ytrue = ytrue\n",
        "\n",
        "    def gaussian_likelihood(self, mu, sigma):\n",
        "        nll = torch.log(sigma + 1) + (self.ytrue - mu) ** 2 / (2 * sigma)\n",
        "        return nll.mean()\n",
        "\n",
        "    def negative_binomial_likelihood(self, mu, alpha):\n",
        "        batch_size, seq_len = self.ytrue.size()\n",
        "        loglik = torch.lgamma(self.ytrue + 1. / alpha) - torch.lgamma(self.ytrue + 1) - torch.lgamma(1. / alpha) - \\\n",
        "                 1. / alpha * torch.log(1 + alpha * mu) + self.ytrue * torch.log(alpha * mu / (1 + alpha * mu))\n",
        "\n",
        "        return -loglik.mean()"
      ],
      "metadata": {
        "id": "vaCwRZaDrw9w"
      },
      "execution_count": 7,
      "outputs": []
    },
    {
      "cell_type": "markdown",
      "source": [
        "## **Plotting**"
      ],
      "metadata": {
        "id": "BkxmEycaNIL-"
      }
    },
    {
      "cell_type": "code",
      "source": [
        "def plot_data_forecast(params, y_true_plot, f_samps = None, model = None, conditional_forecast = 'mean', *args):\n",
        "  fig, ax = plt.subplots(1, 1, figsize = (20, 5))\n",
        "  x_values = [k + params['sequence_length'] + params['prior'] - params['sequence_length'] \\\n",
        "      for k in range(params['sequence_length'])]\n",
        "\n",
        "  # Check conditions to plot forecasts of other models\n",
        "  if model != 'MQRNN':\n",
        "    if f_samps is None:\n",
        "      raise ValueError('Need to pass `f_samps` for other forecasting models')\n",
        "\n",
        "    if conditional_forecast == 'mean':\n",
        "      f = np.mean(f_samps, axis=1)\n",
        "    elif conditional_forecast == 'median':\n",
        "      f = np.quantile(f_samps, 0.5, axis=1)\n",
        "    else:\n",
        "      raise NotImplementedError(\n",
        "        f'Should be `mean` or `median` forecast, given unknown forecast type {conditional_forecast}')\n",
        "    # Plot median forecast\n",
        "    ax.plot(x_values, f, color=\"k\", label=(str(conditional_forecast)).capitalize() + \" forecast\")\n",
        "\n",
        "    # Plot credible intervals\n",
        "    if params['probabilistic_CI']:\n",
        "      ar = np.arange(0, 101, 1)\n",
        "      ci_legend = \"Full range of credible intervals\"\n",
        "    else:\n",
        "      # Default 95% credible interval\n",
        "      ar = [95]\n",
        "      ci_legend = str(params['credible_interval']) + \"% credible interval\"\n",
        "\n",
        "    for i in ar:\n",
        "      alpha = (100 - i) / 2\n",
        "      upper = np.percentile(f_samps, [100 - alpha], axis=1)\n",
        "      lower = np.percentile(f_samps, [alpha], axis=1)\n",
        "      fill = ax.fill_between(x=x_values, y1=lower.ravel(), y2=upper.ravel(), alpha=0.3, color='blue')\n",
        "\n",
        "  # Since MQRNN not produce full probabilistic samples, we have to pass its own forecasts to plot\n",
        "  else:\n",
        "    y_pred = args[0] if args else None\n",
        "    if y_pred is None:\n",
        "      raise ValueError('Need to pass forecasts of MQRNN to plot')\n",
        "\n",
        "    # Plot median forecast\n",
        "    ax.plot(x_values, y_pred[:, :, int(np.floor(params['num_quantiles']/2))].ravel(), color=\"k\", label=\"Median forecast\")\n",
        "\n",
        "    # Plot credible intervals\n",
        "    ci_legend = str(params['credible_interval']) + \"% credible interval\"\n",
        "\n",
        "    fill = ax.fill_between(x=x_values, y1=y_pred[:, :, 0].ravel(),\n",
        "                           y2=y_pred[:, :, params['num_quantiles']-1].ravel(),\n",
        "                           alpha=0.3, color='blue')\n",
        "\n",
        "    # Add legend for credible intervals only once\n",
        "    fill.set_label(ci_legend)\n",
        "\n",
        "\n",
        "  # Plot observations\n",
        "  yplot = y_true_plot[-1, -params['sequence_length']-params['prior']:]\n",
        "  ax.scatter(range(len(yplot)), yplot, color = 'k', label=\"Observations\")\n",
        "\n",
        "  # Plot forecast start date\n",
        "  ymin, ymax = plt.ylim()\n",
        "  ax.vlines(params['sequence_length'] + params['prior'] - params['sequence_length'],\n",
        "            ymin, ymax, color=\"green\", linestyles=\"dashed\",\n",
        "            linewidth=2, label=\"Forecast start date\")\n",
        "\n",
        "  ax.set_ylim(ymin, ymax)\n",
        "  ax.set_xlabel(\"Time\")\n",
        "  ax.set_ylabel(\"Y\")\n",
        "\n",
        "  # Create legend\n",
        "  ax.legend(loc=\"upper left\", bbox_to_anchor=(1.05, 1), frameon=True)\n",
        "\n",
        "  ax.spines['top'].set_visible(False)\n",
        "  ax.spines['right'].set_visible(False)\n",
        "\n",
        "  plt.grid(True, which='both', axis = 'y', linestyle='--', linewidth=0.5)\n",
        "\n",
        "  plt.tight_layout()\n",
        "  plt.show()"
      ],
      "metadata": {
        "id": "_e0SeVbFNKBx"
      },
      "execution_count": 8,
      "outputs": []
    },
    {
      "cell_type": "code",
      "source": [],
      "metadata": {
        "id": "7BYqHptb3slv"
      },
      "execution_count": 8,
      "outputs": []
    },
    {
      "cell_type": "markdown",
      "source": [
        "# **DeepAR**"
      ],
      "metadata": {
        "id": "-P4_OLA4TYVJ"
      }
    },
    {
      "cell_type": "markdown",
      "source": [
        "## **Model DeepAR**"
      ],
      "metadata": {
        "id": "OG_L0Ad-T2b0"
      }
    },
    {
      "cell_type": "code",
      "source": [
        "class DeepAR(nn.Module):\n",
        "    def __init__(self, params):\n",
        "        '''\n",
        "        Recurrent network with lagged inputs and covariates to forecast future values\n",
        "        '''\n",
        "        super(DeepAR, self).__init__()\n",
        "        self.params = params\n",
        "        self.embedding_layer = nn.Linear(1, params['embedding_size'])\n",
        "        self.lstm = nn.LSTM(input_size = params['input_size'] + params['embedding_size'],\n",
        "                            hidden_size=params['lstm_hidden_size'],\n",
        "                            num_layers=params['lstm_num_layers'],\n",
        "                            bias = True,\n",
        "                            batch_first=True,\n",
        "                            dropout=params['lstm_dropout'])\n",
        "        self.likelihood = params['likelihood']\n",
        "        self.lr = params['lr']\n",
        "\n",
        "        if params['data_type'] == 'continuous':\n",
        "            self.likelihood_layer = Gaussian_layer(params['lstm_hidden_size'], 1)\n",
        "        elif params['data_type'] == 'count':\n",
        "            self.likelihood_layer = NegativeBinomial_layer(params['lstm_hidden_size'], 1)\n",
        "\n",
        "\n",
        "    def forward(self, X, y, X_forecast):\n",
        "        if isinstance(X, np.ndarray):\n",
        "            X = torch.from_numpy(X).float()\n",
        "            y = torch.from_numpy(y).float()\n",
        "            X_forecast = torch.from_numpy(X_forecast).float()\n",
        "\n",
        "        num_ts, seq_len, _ = X.size()\n",
        "        _, num_horizon, num_feats = X_forecast.size()\n",
        "\n",
        "        y_f = None\n",
        "        pred = []\n",
        "        mus = []\n",
        "        sigmas = []\n",
        "        hidden, cell = None, None\n",
        "\n",
        "        for t in range(seq_len + num_horizon):\n",
        "            if t < seq_len:\n",
        "                y_f = y[:, t].view(-1, 1) # dim (y[t], 1)\n",
        "                y_embed = self.embedding_layer(y_f).view(num_ts, -1)\n",
        "                x = X[:, t, :].view(num_ts, -1)\n",
        "            else:\n",
        "                y_embed = self.embedding_layer(y_f).view(num_ts, - 1)\n",
        "                x = X_forecast[:, t - seq_len, :].view(num_ts, -1)\n",
        "            x = torch.cat([x, y_embed], dim = 1) # num_ts, num_feats + embedding_dim\n",
        "            lstm_input = x.unsqueeze(1) # (1, num_ts, num_feats + embedding_dim)\n",
        "\n",
        "            if hidden is None and cell is None:\n",
        "                output, (hidden, cell) = self.lstm(lstm_input)\n",
        "            else:\n",
        "                output, (hidden, cell) = self.lstm(lstm_input, (hidden, cell))\n",
        "\n",
        "\n",
        "            hiddens = hidden[-1, :, :]\n",
        "            hiddens = F.relu(hiddens)\n",
        "            mu, sigma = self.likelihood_layer(hiddens)\n",
        "\n",
        "            mus.append(mu.view(-1, 1))\n",
        "            sigmas.append(sigma.view(-1, 1))\n",
        "\n",
        "            if self.likelihood == 'continuous':\n",
        "                y_f = Gaussian_sampling(mu, sigma)\n",
        "            elif self.likelihood == 'count':\n",
        "                alpha_curr = sigma\n",
        "                mu_curr = mu\n",
        "                y_f = NegativeBinomial_sampling(mu_curr, alpha_curr)\n",
        "\n",
        "            if t >= seq_len - 1 and t < num_horizon + seq_len - 1:\n",
        "                pred.append(y_f)\n",
        "\n",
        "        pred = torch.cat(pred, dim = 1).view(num_ts, -1)\n",
        "        mu_ = torch.cat(mus, dim = 1).view(num_ts, -1)\n",
        "        sigma_ = torch.cat(sigmas, dim = 1).view(num_ts, -1)\n",
        "        return pred, mu_, sigma_"
      ],
      "metadata": {
        "id": "6lsbgnNaT3yo"
      },
      "execution_count": 9,
      "outputs": []
    },
    {
      "cell_type": "markdown",
      "source": [
        "## **Defining Parameters Dict**"
      ],
      "metadata": {
        "id": "FJp3RbEyqi76"
      }
    },
    {
      "cell_type": "code",
      "source": [
        "# Define parameters dict, later add on input_size after reading the data\n",
        "params = {\n",
        "    'input_size': None,\n",
        "    'embedding_size': 64,\n",
        "    'lstm_hidden_size': 64,\n",
        "    'lstm_num_layers': 3,\n",
        "    'lstm_dropout': 0.,\n",
        "    'likelihood': 'continuous',\n",
        "    'lr': 1e-3,\n",
        "    'data_type': 'continuous',\n",
        "    'prior': 168,\n",
        "    'sequence_length': 60,\n",
        "    'batch_size': 64,\n",
        "    'num_epoches': 100,\n",
        "    'iter_per_epoch': 3,\n",
        "    'credible_interval': 95,\n",
        "    'normalize': True,\n",
        "    'max_scaler': False,\n",
        "    'log_scaler': False,\n",
        "    'mean_center': False,\n",
        "    'probabilistic_CI': False\n",
        "}\n",
        "\n",
        "full_path = '/content/drive/MyDrive/data/sample_data.csv'\n",
        "data, X, y, _, _ = load_and_process(full_path)\n",
        "\n",
        "print(X.shape)\n",
        "print(y.shape)\n",
        "# Update params\n",
        "params['input_size'] = X.shape[2]"
      ],
      "metadata": {
        "colab": {
          "base_uri": "https://localhost:8080/"
        },
        "id": "HdDOMlzRUR6J",
        "outputId": "d677e0dd-9d94-4944-f5d1-9a40917e7374"
      },
      "execution_count": 10,
      "outputs": [
        {
          "output_type": "stream",
          "name": "stdout",
          "text": [
            "(1, 1440, 2)\n",
            "(1, 1440)\n"
          ]
        }
      ]
    },
    {
      "cell_type": "markdown",
      "source": [
        "## **Training Phase DeepAR**"
      ],
      "metadata": {
        "id": "nv1ka6eKT_P4"
      }
    },
    {
      "cell_type": "code",
      "source": [
        "model = DeepAR(params)\n",
        "num_ts, num_periods, num_feats = X.shape\n",
        "optimizer = optim.Adam(model.parameters(), lr = params['lr'])\n",
        "random.seed(28)\n",
        "\n",
        "X_train, y_train, X_test, y_test = split_train_test(X, y, split_ratio = 0.7)\n",
        "losses = []\n",
        "count = 0\n",
        "scaler_target = None\n",
        "if params['normalize']:\n",
        "    scaler_target = Normalizer()\n",
        "elif params['log_scaler']:\n",
        "    scaler_target = LogScaler()\n",
        "elif params['max_scaler']:\n",
        "    scaler_target = MaxScaler()\n",
        "elif params['mean_center']:\n",
        "    scaler_target = MeanCenter()\n",
        "\n",
        "if scaler_target is not None:\n",
        "    y_train = scaler_target.fit_transform(y_train)"
      ],
      "metadata": {
        "id": "A381hNL2UboX"
      },
      "execution_count": 11,
      "outputs": []
    },
    {
      "cell_type": "code",
      "source": [
        "# training phase\n",
        "progress = ProgressBar()\n",
        "count = 0\n",
        "for epoch in progress(range(params['num_epoches'])):\n",
        "  for t in range(params['iter_per_epoch']):\n",
        "    X_train_batch, y_train_batch, X_forecast, y_forecast = create_batch(X_train,\n",
        "                                                                        y_train, params['prior'],\n",
        "                                                                         params['sequence_length'], params['batch_size'])\n",
        "    X_train_tensor, y_train_tensor = torch.from_numpy(X_train_batch).float(), torch.from_numpy(y_train_batch).float()\n",
        "    X_forecast_tensor, y_forecast_tensor = torch.from_numpy(X_forecast).float(), torch.from_numpy(y_forecast).float()\n",
        "\n",
        "    ypred, mu, sigma = model(X_train_tensor, y_train_tensor, X_forecast_tensor)\n",
        "\n",
        "    y_train_tensor = torch.cat([y_train_tensor, y_forecast_tensor], dim = 1)\n",
        "    # print(y_train_tensor.size())\n",
        "\n",
        "    if params['likelihood'] == 'continuous':\n",
        "      loss_c = Loss(y_train_tensor)\n",
        "      loss = loss_c.gaussian_likelihood(mu, sigma)\n",
        "    elif params['likelihood'] == 'count':\n",
        "      loss_c = Loss(y_train_tensor)\n",
        "      loss = loss_c.negative_binomial_likelihood(mu, sigma)\n",
        "\n",
        "    losses.append(loss.item())\n",
        "    optimizer.zero_grad()\n",
        "    loss.backward()\n",
        "    optimizer.step()\n",
        "    count += 1\n",
        "\n",
        "  # Validation\n",
        "  Xtest = X_test[:, -params['sequence_length'] - params['prior']:-params['sequence_length'], :].reshape((num_ts, -1, num_feats))\n",
        "  Xforecast_test = X_test[:, -params['sequence_length']:, :].reshape((num_ts, -1, num_feats))\n",
        "  ytest = y_test[:, -params['sequence_length'] - params['prior']:-params['sequence_length']].reshape((num_ts, -1))\n",
        "  yforecast_test = y_test[:, -params['sequence_length']:].reshape((num_ts, -1))\n",
        "\n",
        "  if scaler_target is not None:\n",
        "    ytest = scaler_target.transform(ytest)\n",
        "\n",
        "  result = []\n",
        "  n_samps = 100\n",
        "  for _ in tqdm(range(n_samps)):\n",
        "    y_pred, _, _ = model(Xtest, ytest, Xforecast_test)\n",
        "    y_pred = y_pred.data.numpy()\n",
        "    if scaler_target is not None:\n",
        "      y_pred = scaler_target.inverse_transform(y_pred)\n",
        "    result.append(y_pred.reshape((-1,1)))\n",
        "\n",
        "  result = np.concatenate(result, axis=1)\n",
        "  # median_forecast = np.quantile(result, 0.5, axis=1)\n",
        "  # upper = np.quantile(result, 0.95, axis=1)\n",
        "  # lower = np.quantile(result, 0.05, axis=1)\n",
        "\n",
        "  # mape = MAPE(y_forecast_test, median_forecast)\n",
        "  # print(\"Median forecast MAPE: {}\".format(mape))\n",
        "  # mapes.append(mape)"
      ],
      "metadata": {
        "id": "X8oJeXQAU2pv",
        "colab": {
          "base_uri": "https://localhost:8080/"
        },
        "outputId": "f8548bba-e05c-4eb5-ef56-b3e921182a4c"
      },
      "execution_count": 12,
      "outputs": [
        {
          "metadata": {
            "tags": null
          },
          "name": "stderr",
          "output_type": "stream",
          "text": [
            "\r  0% (0 of 100) |                        | Elapsed Time: 0:00:00 ETA:  --:--:--"
          ]
        },
        {
          "metadata": {
            "tags": null
          },
          "name": "stdout",
          "output_type": "stream",
          "text": [
            "Using mini-batch of size 64 for training\n",
            "Using mini-batch of size 64 for training\n",
            "Using mini-batch of size 64 for training\n"
          ]
        },
        {
          "metadata": {
            "tags": null
          },
          "name": "stderr",
          "output_type": "stream",
          "text": [
            "100%|██████████| 100/100 [00:47<00:00,  2.12it/s]\n",
            "  1% (1 of 100) |                        | Elapsed Time: 0:00:50 ETA:   1:23:53"
          ]
        },
        {
          "metadata": {
            "tags": null
          },
          "name": "stdout",
          "output_type": "stream",
          "text": [
            "Using mini-batch of size 64 for training\n",
            "Using mini-batch of size 64 for training\n",
            "Using mini-batch of size 64 for training\n"
          ]
        },
        {
          "metadata": {
            "tags": null
          },
          "name": "stderr",
          "output_type": "stream",
          "text": [
            "100%|██████████| 100/100 [00:33<00:00,  2.99it/s]\n",
            "  2% (2 of 100) |                        | Elapsed Time: 0:01:26 ETA:   0:58:12"
          ]
        },
        {
          "metadata": {
            "tags": null
          },
          "name": "stdout",
          "output_type": "stream",
          "text": [
            "Using mini-batch of size 64 for training\n",
            "Using mini-batch of size 64 for training\n",
            "Using mini-batch of size 64 for training\n"
          ]
        },
        {
          "metadata": {
            "tags": null
          },
          "name": "stderr",
          "output_type": "stream",
          "text": [
            "100%|██████████| 100/100 [00:37<00:00,  2.68it/s]\n",
            "  3% (3 of 100) |                        | Elapsed Time: 0:02:05 ETA:   1:03:39"
          ]
        },
        {
          "metadata": {
            "tags": null
          },
          "name": "stdout",
          "output_type": "stream",
          "text": [
            "Using mini-batch of size 64 for training\n",
            "Using mini-batch of size 64 for training\n",
            "Using mini-batch of size 64 for training\n"
          ]
        },
        {
          "metadata": {
            "tags": null
          },
          "name": "stderr",
          "output_type": "stream",
          "text": [
            "100%|██████████| 100/100 [00:32<00:00,  3.08it/s]\n",
            "  4% (4 of 100) |                        | Elapsed Time: 0:02:40 ETA:   0:56:13"
          ]
        },
        {
          "metadata": {
            "tags": null
          },
          "name": "stdout",
          "output_type": "stream",
          "text": [
            "Using mini-batch of size 64 for training\n",
            "Using mini-batch of size 64 for training\n",
            "Using mini-batch of size 64 for training\n"
          ]
        },
        {
          "metadata": {
            "tags": null
          },
          "name": "stderr",
          "output_type": "stream",
          "text": [
            "100%|██████████| 100/100 [00:31<00:00,  3.20it/s]\n",
            "  5% (5 of 100) |#                       | Elapsed Time: 0:03:14 ETA:   0:52:46"
          ]
        },
        {
          "metadata": {
            "tags": null
          },
          "name": "stdout",
          "output_type": "stream",
          "text": [
            "Using mini-batch of size 64 for training\n",
            "Using mini-batch of size 64 for training\n",
            "Using mini-batch of size 64 for training\n"
          ]
        },
        {
          "metadata": {
            "tags": null
          },
          "name": "stderr",
          "output_type": "stream",
          "text": [
            "100%|██████████| 100/100 [00:32<00:00,  3.04it/s]\n",
            "  6% (6 of 100) |#                       | Elapsed Time: 0:03:49 ETA:   0:54:48"
          ]
        },
        {
          "metadata": {
            "tags": null
          },
          "name": "stdout",
          "output_type": "stream",
          "text": [
            "Using mini-batch of size 64 for training\n",
            "Using mini-batch of size 64 for training\n",
            "Using mini-batch of size 64 for training\n"
          ]
        },
        {
          "metadata": {
            "tags": null
          },
          "name": "stderr",
          "output_type": "stream",
          "text": [
            "100%|██████████| 100/100 [00:30<00:00,  3.24it/s]\n",
            "  7% (7 of 100) |#                       | Elapsed Time: 0:04:22 ETA:   0:51:58"
          ]
        },
        {
          "metadata": {
            "tags": null
          },
          "name": "stdout",
          "output_type": "stream",
          "text": [
            "Using mini-batch of size 64 for training\n",
            "Using mini-batch of size 64 for training\n",
            "Using mini-batch of size 64 for training\n"
          ]
        },
        {
          "metadata": {
            "tags": null
          },
          "name": "stderr",
          "output_type": "stream",
          "text": [
            "100%|██████████| 100/100 [00:30<00:00,  3.28it/s]\n",
            "  8% (8 of 100) |#                       | Elapsed Time: 0:04:55 ETA:   0:49:40"
          ]
        },
        {
          "metadata": {
            "tags": null
          },
          "name": "stdout",
          "output_type": "stream",
          "text": [
            "Using mini-batch of size 64 for training\n",
            "Using mini-batch of size 64 for training\n",
            "Using mini-batch of size 64 for training\n"
          ]
        },
        {
          "metadata": {
            "tags": null
          },
          "name": "stderr",
          "output_type": "stream",
          "text": [
            "100%|██████████| 100/100 [00:31<00:00,  3.18it/s]\n",
            "  9% (9 of 100) |##                      | Elapsed Time: 0:05:28 ETA:   0:50:39"
          ]
        },
        {
          "metadata": {
            "tags": null
          },
          "name": "stdout",
          "output_type": "stream",
          "text": [
            "Using mini-batch of size 64 for training\n",
            "Using mini-batch of size 64 for training\n",
            "Using mini-batch of size 64 for training\n"
          ]
        },
        {
          "metadata": {
            "tags": null
          },
          "name": "stderr",
          "output_type": "stream",
          "text": [
            "100%|██████████| 100/100 [00:29<00:00,  3.33it/s]\n",
            " 10% (10 of 100) |##                     | Elapsed Time: 0:06:00 ETA:   0:47:57"
          ]
        },
        {
          "metadata": {
            "tags": null
          },
          "name": "stdout",
          "output_type": "stream",
          "text": [
            "Using mini-batch of size 64 for training\n",
            "Using mini-batch of size 64 for training\n",
            "Using mini-batch of size 64 for training\n"
          ]
        },
        {
          "metadata": {
            "tags": null
          },
          "name": "stderr",
          "output_type": "stream",
          "text": [
            "100%|██████████| 100/100 [00:31<00:00,  3.21it/s]\n",
            " 11% (11 of 100) |##                     | Elapsed Time: 0:06:33 ETA:   0:49:23"
          ]
        },
        {
          "metadata": {
            "tags": null
          },
          "name": "stdout",
          "output_type": "stream",
          "text": [
            "Using mini-batch of size 64 for training\n",
            "Using mini-batch of size 64 for training\n",
            "Using mini-batch of size 64 for training\n"
          ]
        },
        {
          "metadata": {
            "tags": null
          },
          "name": "stderr",
          "output_type": "stream",
          "text": [
            "100%|██████████| 100/100 [00:30<00:00,  3.33it/s]\n",
            " 12% (12 of 100) |##                     | Elapsed Time: 0:07:06 ETA:   0:47:29"
          ]
        },
        {
          "metadata": {
            "tags": null
          },
          "name": "stdout",
          "output_type": "stream",
          "text": [
            "Using mini-batch of size 64 for training\n",
            "Using mini-batch of size 64 for training\n",
            "Using mini-batch of size 64 for training\n"
          ]
        },
        {
          "metadata": {
            "tags": null
          },
          "name": "stderr",
          "output_type": "stream",
          "text": [
            "100%|██████████| 100/100 [00:30<00:00,  3.33it/s]\n",
            " 13% (13 of 100) |##                     | Elapsed Time: 0:07:38 ETA:   0:46:27"
          ]
        },
        {
          "metadata": {
            "tags": null
          },
          "name": "stdout",
          "output_type": "stream",
          "text": [
            "Using mini-batch of size 64 for training\n",
            "Using mini-batch of size 64 for training\n",
            "Using mini-batch of size 64 for training\n"
          ]
        },
        {
          "metadata": {
            "tags": null
          },
          "name": "stderr",
          "output_type": "stream",
          "text": [
            "100%|██████████| 100/100 [00:30<00:00,  3.26it/s]\n",
            " 14% (14 of 100) |###                    | Elapsed Time: 0:08:11 ETA:   0:47:45"
          ]
        },
        {
          "metadata": {
            "tags": null
          },
          "name": "stdout",
          "output_type": "stream",
          "text": [
            "Using mini-batch of size 64 for training\n",
            "Using mini-batch of size 64 for training\n",
            "Using mini-batch of size 64 for training\n"
          ]
        },
        {
          "metadata": {
            "tags": null
          },
          "name": "stderr",
          "output_type": "stream",
          "text": [
            "100%|██████████| 100/100 [00:30<00:00,  3.28it/s]\n",
            " 15% (15 of 100) |###                    | Elapsed Time: 0:08:44 ETA:   0:46:06"
          ]
        },
        {
          "metadata": {
            "tags": null
          },
          "name": "stdout",
          "output_type": "stream",
          "text": [
            "Using mini-batch of size 64 for training\n",
            "Using mini-batch of size 64 for training\n",
            "Using mini-batch of size 64 for training\n"
          ]
        },
        {
          "metadata": {
            "tags": null
          },
          "name": "stderr",
          "output_type": "stream",
          "text": [
            "100%|██████████| 100/100 [00:30<00:00,  3.26it/s]\n",
            " 16% (16 of 100) |###                    | Elapsed Time: 0:09:17 ETA:   0:46:13"
          ]
        },
        {
          "metadata": {
            "tags": null
          },
          "name": "stdout",
          "output_type": "stream",
          "text": [
            "Using mini-batch of size 64 for training\n",
            "Using mini-batch of size 64 for training\n",
            "Using mini-batch of size 64 for training\n"
          ]
        },
        {
          "metadata": {
            "tags": null
          },
          "name": "stderr",
          "output_type": "stream",
          "text": [
            "100%|██████████| 100/100 [00:30<00:00,  3.33it/s]\n",
            " 17% (17 of 100) |###                    | Elapsed Time: 0:09:49 ETA:   0:44:05"
          ]
        },
        {
          "metadata": {
            "tags": null
          },
          "name": "stdout",
          "output_type": "stream",
          "text": [
            "Using mini-batch of size 64 for training\n",
            "Using mini-batch of size 64 for training\n",
            "Using mini-batch of size 64 for training\n"
          ]
        },
        {
          "metadata": {
            "tags": null
          },
          "name": "stderr",
          "output_type": "stream",
          "text": [
            "100%|██████████| 100/100 [00:31<00:00,  3.21it/s]\n",
            " 18% (18 of 100) |####                   | Elapsed Time: 0:10:22 ETA:   0:45:15"
          ]
        },
        {
          "metadata": {
            "tags": null
          },
          "name": "stdout",
          "output_type": "stream",
          "text": [
            "Using mini-batch of size 64 for training\n",
            "Using mini-batch of size 64 for training\n",
            "Using mini-batch of size 64 for training\n"
          ]
        },
        {
          "output_type": "stream",
          "name": "stderr",
          "text": [
            "100%|██████████| 100/100 [00:29<00:00,  3.38it/s]\n",
            " 19% (19 of 100) |####                   | Elapsed Time: 0:10:53 ETA:   0:42:32"
          ]
        },
        {
          "output_type": "stream",
          "name": "stdout",
          "text": [
            "Using mini-batch of size 64 for training\n",
            "Using mini-batch of size 64 for training\n",
            "Using mini-batch of size 64 for training\n"
          ]
        },
        {
          "output_type": "stream",
          "name": "stderr",
          "text": [
            "100%|██████████| 100/100 [00:30<00:00,  3.28it/s]\n",
            " 20% (20 of 100) |####                   | Elapsed Time: 0:11:26 ETA:   0:43:11"
          ]
        },
        {
          "output_type": "stream",
          "name": "stdout",
          "text": [
            "Using mini-batch of size 64 for training\n",
            "Using mini-batch of size 64 for training\n",
            "Using mini-batch of size 64 for training\n"
          ]
        },
        {
          "output_type": "stream",
          "name": "stderr",
          "text": [
            "100%|██████████| 100/100 [00:30<00:00,  3.32it/s]\n",
            " 21% (21 of 100) |####                   | Elapsed Time: 0:11:58 ETA:   0:43:09"
          ]
        },
        {
          "output_type": "stream",
          "name": "stdout",
          "text": [
            "Using mini-batch of size 64 for training\n",
            "Using mini-batch of size 64 for training\n",
            "Using mini-batch of size 64 for training\n"
          ]
        },
        {
          "output_type": "stream",
          "name": "stderr",
          "text": [
            "100%|██████████| 100/100 [00:30<00:00,  3.27it/s]\n",
            " 22% (22 of 100) |#####                  | Elapsed Time: 0:12:31 ETA:   0:42:11"
          ]
        },
        {
          "output_type": "stream",
          "name": "stdout",
          "text": [
            "Using mini-batch of size 64 for training\n",
            "Using mini-batch of size 64 for training\n",
            "Using mini-batch of size 64 for training\n"
          ]
        },
        {
          "output_type": "stream",
          "name": "stderr",
          "text": [
            "100%|██████████| 100/100 [00:30<00:00,  3.27it/s]\n",
            " 23% (23 of 100) |#####                  | Elapsed Time: 0:13:04 ETA:   0:42:37"
          ]
        },
        {
          "output_type": "stream",
          "name": "stdout",
          "text": [
            "Using mini-batch of size 64 for training\n",
            "Using mini-batch of size 64 for training\n",
            "Using mini-batch of size 64 for training\n"
          ]
        },
        {
          "output_type": "stream",
          "name": "stderr",
          "text": [
            "100%|██████████| 100/100 [00:30<00:00,  3.32it/s]\n",
            " 24% (24 of 100) |#####                  | Elapsed Time: 0:13:36 ETA:   0:40:38"
          ]
        },
        {
          "output_type": "stream",
          "name": "stdout",
          "text": [
            "Using mini-batch of size 64 for training\n",
            "Using mini-batch of size 64 for training\n",
            "Using mini-batch of size 64 for training\n"
          ]
        },
        {
          "output_type": "stream",
          "name": "stderr",
          "text": [
            "100%|██████████| 100/100 [00:30<00:00,  3.26it/s]\n",
            " 25% (25 of 100) |#####                  | Elapsed Time: 0:14:09 ETA:   0:40:53"
          ]
        },
        {
          "output_type": "stream",
          "name": "stdout",
          "text": [
            "Using mini-batch of size 64 for training\n",
            "Using mini-batch of size 64 for training\n",
            "Using mini-batch of size 64 for training\n"
          ]
        },
        {
          "output_type": "stream",
          "name": "stderr",
          "text": [
            "100%|██████████| 100/100 [00:31<00:00,  3.20it/s]\n",
            " 26% (26 of 100) |#####                  | Elapsed Time: 0:14:42 ETA:   0:40:57"
          ]
        },
        {
          "output_type": "stream",
          "name": "stdout",
          "text": [
            "Using mini-batch of size 64 for training\n",
            "Using mini-batch of size 64 for training\n",
            "Using mini-batch of size 64 for training\n"
          ]
        },
        {
          "output_type": "stream",
          "name": "stderr",
          "text": [
            "100%|██████████| 100/100 [00:31<00:00,  3.22it/s]\n",
            " 27% (27 of 100) |######                 | Elapsed Time: 0:15:16 ETA:   0:40:48"
          ]
        },
        {
          "output_type": "stream",
          "name": "stdout",
          "text": [
            "Using mini-batch of size 64 for training\n",
            "Using mini-batch of size 64 for training\n",
            "Using mini-batch of size 64 for training\n"
          ]
        },
        {
          "output_type": "stream",
          "name": "stderr",
          "text": [
            "100%|██████████| 100/100 [00:29<00:00,  3.36it/s]\n",
            " 28% (28 of 100) |######                 | Elapsed Time: 0:15:47 ETA:   0:38:17"
          ]
        },
        {
          "output_type": "stream",
          "name": "stdout",
          "text": [
            "Using mini-batch of size 64 for training\n",
            "Using mini-batch of size 64 for training\n",
            "Using mini-batch of size 64 for training\n"
          ]
        },
        {
          "output_type": "stream",
          "name": "stderr",
          "text": [
            "100%|██████████| 100/100 [00:30<00:00,  3.31it/s]\n",
            " 29% (29 of 100) |######                 | Elapsed Time: 0:16:20 ETA:   0:38:00"
          ]
        },
        {
          "output_type": "stream",
          "name": "stdout",
          "text": [
            "Using mini-batch of size 64 for training\n",
            "Using mini-batch of size 64 for training\n",
            "Using mini-batch of size 64 for training\n"
          ]
        },
        {
          "output_type": "stream",
          "name": "stderr",
          "text": [
            "100%|██████████| 100/100 [00:31<00:00,  3.21it/s]\n",
            " 30% (30 of 100) |######                 | Elapsed Time: 0:16:53 ETA:   0:39:28"
          ]
        },
        {
          "output_type": "stream",
          "name": "stdout",
          "text": [
            "Using mini-batch of size 64 for training\n",
            "Using mini-batch of size 64 for training\n",
            "Using mini-batch of size 64 for training\n"
          ]
        },
        {
          "output_type": "stream",
          "name": "stderr",
          "text": [
            "100%|██████████| 100/100 [00:30<00:00,  3.26it/s]\n",
            " 31% (31 of 100) |#######                | Elapsed Time: 0:17:26 ETA:   0:37:38"
          ]
        },
        {
          "output_type": "stream",
          "name": "stdout",
          "text": [
            "Using mini-batch of size 64 for training\n",
            "Using mini-batch of size 64 for training\n",
            "Using mini-batch of size 64 for training\n"
          ]
        },
        {
          "output_type": "stream",
          "name": "stderr",
          "text": [
            "100%|██████████| 100/100 [00:30<00:00,  3.28it/s]\n",
            " 32% (32 of 100) |#######                | Elapsed Time: 0:17:59 ETA:   0:37:25"
          ]
        },
        {
          "output_type": "stream",
          "name": "stdout",
          "text": [
            "Using mini-batch of size 64 for training\n",
            "Using mini-batch of size 64 for training\n",
            "Using mini-batch of size 64 for training\n"
          ]
        },
        {
          "output_type": "stream",
          "name": "stderr",
          "text": [
            "100%|██████████| 100/100 [00:30<00:00,  3.27it/s]\n",
            " 33% (33 of 100) |#######                | Elapsed Time: 0:18:32 ETA:   0:36:23"
          ]
        },
        {
          "output_type": "stream",
          "name": "stdout",
          "text": [
            "Using mini-batch of size 64 for training\n",
            "Using mini-batch of size 64 for training\n",
            "Using mini-batch of size 64 for training\n"
          ]
        },
        {
          "output_type": "stream",
          "name": "stderr",
          "text": [
            "100%|██████████| 100/100 [00:31<00:00,  3.17it/s]\n",
            " 34% (34 of 100) |#######                | Elapsed Time: 0:19:05 ETA:   0:36:56"
          ]
        },
        {
          "output_type": "stream",
          "name": "stdout",
          "text": [
            "Using mini-batch of size 64 for training\n",
            "Using mini-batch of size 64 for training\n",
            "Using mini-batch of size 64 for training\n"
          ]
        },
        {
          "output_type": "stream",
          "name": "stderr",
          "text": [
            "100%|██████████| 100/100 [00:30<00:00,  3.30it/s]\n",
            " 35% (35 of 100) |########               | Elapsed Time: 0:19:38 ETA:   0:34:55"
          ]
        },
        {
          "output_type": "stream",
          "name": "stdout",
          "text": [
            "Using mini-batch of size 64 for training\n",
            "Using mini-batch of size 64 for training\n",
            "Using mini-batch of size 64 for training\n"
          ]
        },
        {
          "output_type": "stream",
          "name": "stderr",
          "text": [
            "100%|██████████| 100/100 [00:30<00:00,  3.26it/s]\n",
            " 36% (36 of 100) |########               | Elapsed Time: 0:20:10 ETA:   0:34:51"
          ]
        },
        {
          "output_type": "stream",
          "name": "stdout",
          "text": [
            "Using mini-batch of size 64 for training\n",
            "Using mini-batch of size 64 for training\n",
            "Using mini-batch of size 64 for training\n"
          ]
        },
        {
          "output_type": "stream",
          "name": "stderr",
          "text": [
            "100%|██████████| 100/100 [00:30<00:00,  3.29it/s]\n",
            " 37% (37 of 100) |########               | Elapsed Time: 0:20:43 ETA:   0:34:16"
          ]
        },
        {
          "output_type": "stream",
          "name": "stdout",
          "text": [
            "Using mini-batch of size 64 for training\n",
            "Using mini-batch of size 64 for training\n",
            "Using mini-batch of size 64 for training\n"
          ]
        },
        {
          "output_type": "stream",
          "name": "stderr",
          "text": [
            "100%|██████████| 100/100 [00:30<00:00,  3.26it/s]\n",
            " 38% (38 of 100) |########               | Elapsed Time: 0:21:16 ETA:   0:33:52"
          ]
        },
        {
          "output_type": "stream",
          "name": "stdout",
          "text": [
            "Using mini-batch of size 64 for training\n",
            "Using mini-batch of size 64 for training\n",
            "Using mini-batch of size 64 for training\n"
          ]
        },
        {
          "output_type": "stream",
          "name": "stderr",
          "text": [
            "100%|██████████| 100/100 [00:30<00:00,  3.33it/s]\n",
            " 39% (39 of 100) |########               | Elapsed Time: 0:21:48 ETA:   0:33:04"
          ]
        },
        {
          "output_type": "stream",
          "name": "stdout",
          "text": [
            "Using mini-batch of size 64 for training\n",
            "Using mini-batch of size 64 for training\n",
            "Using mini-batch of size 64 for training\n"
          ]
        },
        {
          "output_type": "stream",
          "name": "stderr",
          "text": [
            "100%|██████████| 100/100 [00:29<00:00,  3.35it/s]\n",
            " 40% (40 of 100) |#########              | Elapsed Time: 0:22:20 ETA:   0:31:49"
          ]
        },
        {
          "output_type": "stream",
          "name": "stdout",
          "text": [
            "Using mini-batch of size 64 for training\n",
            "Using mini-batch of size 64 for training\n",
            "Using mini-batch of size 64 for training\n"
          ]
        },
        {
          "output_type": "stream",
          "name": "stderr",
          "text": [
            "100%|██████████| 100/100 [00:31<00:00,  3.20it/s]\n",
            " 41% (41 of 100) |#########              | Elapsed Time: 0:22:53 ETA:   0:32:46"
          ]
        },
        {
          "output_type": "stream",
          "name": "stdout",
          "text": [
            "Using mini-batch of size 64 for training\n",
            "Using mini-batch of size 64 for training\n",
            "Using mini-batch of size 64 for training\n"
          ]
        },
        {
          "output_type": "stream",
          "name": "stderr",
          "text": [
            "100%|██████████| 100/100 [00:30<00:00,  3.30it/s]\n",
            " 42% (42 of 100) |#########              | Elapsed Time: 0:23:26 ETA:   0:31:20"
          ]
        },
        {
          "output_type": "stream",
          "name": "stdout",
          "text": [
            "Using mini-batch of size 64 for training\n",
            "Using mini-batch of size 64 for training\n",
            "Using mini-batch of size 64 for training\n"
          ]
        },
        {
          "output_type": "stream",
          "name": "stderr",
          "text": [
            "100%|██████████| 100/100 [00:31<00:00,  3.20it/s]\n",
            " 43% (43 of 100) |#########              | Elapsed Time: 0:23:59 ETA:   0:31:35"
          ]
        },
        {
          "output_type": "stream",
          "name": "stdout",
          "text": [
            "Using mini-batch of size 64 for training\n",
            "Using mini-batch of size 64 for training\n",
            "Using mini-batch of size 64 for training\n"
          ]
        },
        {
          "output_type": "stream",
          "name": "stderr",
          "text": [
            "100%|██████████| 100/100 [00:30<00:00,  3.31it/s]\n",
            " 44% (44 of 100) |##########             | Elapsed Time: 0:24:31 ETA:   0:30:03"
          ]
        },
        {
          "output_type": "stream",
          "name": "stdout",
          "text": [
            "Using mini-batch of size 64 for training\n",
            "Using mini-batch of size 64 for training\n",
            "Using mini-batch of size 64 for training\n"
          ]
        },
        {
          "output_type": "stream",
          "name": "stderr",
          "text": [
            "100%|██████████| 100/100 [00:30<00:00,  3.26it/s]\n",
            " 45% (45 of 100) |##########             | Elapsed Time: 0:25:04 ETA:   0:30:08"
          ]
        },
        {
          "output_type": "stream",
          "name": "stdout",
          "text": [
            "Using mini-batch of size 64 for training\n",
            "Using mini-batch of size 64 for training\n",
            "Using mini-batch of size 64 for training\n"
          ]
        },
        {
          "output_type": "stream",
          "name": "stderr",
          "text": [
            "100%|██████████| 100/100 [00:30<00:00,  3.33it/s]\n",
            " 46% (46 of 100) |##########             | Elapsed Time: 0:25:36 ETA:   0:29:03"
          ]
        },
        {
          "output_type": "stream",
          "name": "stdout",
          "text": [
            "Using mini-batch of size 64 for training\n",
            "Using mini-batch of size 64 for training\n",
            "Using mini-batch of size 64 for training\n"
          ]
        },
        {
          "output_type": "stream",
          "name": "stderr",
          "text": [
            "100%|██████████| 100/100 [00:30<00:00,  3.33it/s]\n",
            " 47% (47 of 100) |##########             | Elapsed Time: 0:26:08 ETA:   0:28:17"
          ]
        },
        {
          "output_type": "stream",
          "name": "stdout",
          "text": [
            "Using mini-batch of size 64 for training\n",
            "Using mini-batch of size 64 for training\n",
            "Using mini-batch of size 64 for training\n"
          ]
        },
        {
          "output_type": "stream",
          "name": "stderr",
          "text": [
            "100%|██████████| 100/100 [00:30<00:00,  3.30it/s]\n",
            " 48% (48 of 100) |###########            | Elapsed Time: 0:26:41 ETA:   0:28:26"
          ]
        },
        {
          "output_type": "stream",
          "name": "stdout",
          "text": [
            "Using mini-batch of size 64 for training\n",
            "Using mini-batch of size 64 for training\n",
            "Using mini-batch of size 64 for training\n"
          ]
        },
        {
          "output_type": "stream",
          "name": "stderr",
          "text": [
            "100%|██████████| 100/100 [00:30<00:00,  3.30it/s]\n",
            " 49% (49 of 100) |###########            | Elapsed Time: 0:27:14 ETA:   0:27:28"
          ]
        },
        {
          "output_type": "stream",
          "name": "stdout",
          "text": [
            "Using mini-batch of size 64 for training\n",
            "Using mini-batch of size 64 for training\n",
            "Using mini-batch of size 64 for training\n"
          ]
        },
        {
          "output_type": "stream",
          "name": "stderr",
          "text": [
            "100%|██████████| 100/100 [00:31<00:00,  3.22it/s]\n",
            " 50% (50 of 100) |###########            | Elapsed Time: 0:27:47 ETA:   0:27:34"
          ]
        },
        {
          "output_type": "stream",
          "name": "stdout",
          "text": [
            "Using mini-batch of size 64 for training\n",
            "Using mini-batch of size 64 for training\n",
            "Using mini-batch of size 64 for training\n"
          ]
        },
        {
          "output_type": "stream",
          "name": "stderr",
          "text": [
            "100%|██████████| 100/100 [00:29<00:00,  3.36it/s]\n",
            " 51% (51 of 100) |###########            | Elapsed Time: 0:28:18 ETA:   0:25:53"
          ]
        },
        {
          "output_type": "stream",
          "name": "stdout",
          "text": [
            "Using mini-batch of size 64 for training\n",
            "Using mini-batch of size 64 for training\n",
            "Using mini-batch of size 64 for training\n"
          ]
        },
        {
          "output_type": "stream",
          "name": "stderr",
          "text": [
            "100%|██████████| 100/100 [00:31<00:00,  3.22it/s]\n",
            " 52% (52 of 100) |###########            | Elapsed Time: 0:28:51 ETA:   0:26:26"
          ]
        },
        {
          "output_type": "stream",
          "name": "stdout",
          "text": [
            "Using mini-batch of size 64 for training\n",
            "Using mini-batch of size 64 for training\n",
            "Using mini-batch of size 64 for training\n"
          ]
        },
        {
          "output_type": "stream",
          "name": "stderr",
          "text": [
            "100%|██████████| 100/100 [00:31<00:00,  3.18it/s]\n",
            " 53% (53 of 100) |############           | Elapsed Time: 0:29:26 ETA:   0:26:44"
          ]
        },
        {
          "output_type": "stream",
          "name": "stdout",
          "text": [
            "Using mini-batch of size 64 for training\n",
            "Using mini-batch of size 64 for training\n",
            "Using mini-batch of size 64 for training\n"
          ]
        },
        {
          "output_type": "stream",
          "name": "stderr",
          "text": [
            "100%|██████████| 100/100 [00:29<00:00,  3.39it/s]\n",
            " 54% (54 of 100) |############           | Elapsed Time: 0:29:57 ETA:   0:24:03"
          ]
        },
        {
          "output_type": "stream",
          "name": "stdout",
          "text": [
            "Using mini-batch of size 64 for training\n",
            "Using mini-batch of size 64 for training\n",
            "Using mini-batch of size 64 for training\n"
          ]
        },
        {
          "output_type": "stream",
          "name": "stderr",
          "text": [
            "100%|██████████| 100/100 [00:29<00:00,  3.35it/s]\n",
            " 55% (55 of 100) |############           | Elapsed Time: 0:30:29 ETA:   0:24:21"
          ]
        },
        {
          "output_type": "stream",
          "name": "stdout",
          "text": [
            "Using mini-batch of size 64 for training\n",
            "Using mini-batch of size 64 for training\n",
            "Using mini-batch of size 64 for training\n"
          ]
        },
        {
          "output_type": "stream",
          "name": "stderr",
          "text": [
            "100%|██████████| 100/100 [00:29<00:00,  3.35it/s]\n",
            " 56% (56 of 100) |############           | Elapsed Time: 0:31:01 ETA:   0:23:22"
          ]
        },
        {
          "output_type": "stream",
          "name": "stdout",
          "text": [
            "Using mini-batch of size 64 for training\n",
            "Using mini-batch of size 64 for training\n",
            "Using mini-batch of size 64 for training\n"
          ]
        },
        {
          "output_type": "stream",
          "name": "stderr",
          "text": [
            "100%|██████████| 100/100 [00:30<00:00,  3.23it/s]\n",
            " 57% (57 of 100) |#############          | Elapsed Time: 0:31:34 ETA:   0:23:36"
          ]
        },
        {
          "output_type": "stream",
          "name": "stdout",
          "text": [
            "Using mini-batch of size 64 for training\n",
            "Using mini-batch of size 64 for training\n",
            "Using mini-batch of size 64 for training\n"
          ]
        },
        {
          "output_type": "stream",
          "name": "stderr",
          "text": [
            "100%|██████████| 100/100 [00:30<00:00,  3.30it/s]\n",
            " 58% (58 of 100) |#############          | Elapsed Time: 0:32:07 ETA:   0:22:35"
          ]
        },
        {
          "output_type": "stream",
          "name": "stdout",
          "text": [
            "Using mini-batch of size 64 for training\n",
            "Using mini-batch of size 64 for training\n",
            "Using mini-batch of size 64 for training\n"
          ]
        },
        {
          "output_type": "stream",
          "name": "stderr",
          "text": [
            "100%|██████████| 100/100 [00:31<00:00,  3.22it/s]\n",
            " 59% (59 of 100) |#############          | Elapsed Time: 0:32:40 ETA:   0:22:38"
          ]
        },
        {
          "output_type": "stream",
          "name": "stdout",
          "text": [
            "Using mini-batch of size 64 for training\n",
            "Using mini-batch of size 64 for training\n",
            "Using mini-batch of size 64 for training\n"
          ]
        },
        {
          "output_type": "stream",
          "name": "stderr",
          "text": [
            "100%|██████████| 100/100 [00:30<00:00,  3.30it/s]\n",
            " 60% (60 of 100) |#############          | Elapsed Time: 0:33:12 ETA:   0:21:49"
          ]
        },
        {
          "output_type": "stream",
          "name": "stdout",
          "text": [
            "Using mini-batch of size 64 for training\n",
            "Using mini-batch of size 64 for training\n",
            "Using mini-batch of size 64 for training\n"
          ]
        },
        {
          "output_type": "stream",
          "name": "stderr",
          "text": [
            "100%|██████████| 100/100 [00:29<00:00,  3.34it/s]\n",
            " 61% (61 of 100) |##############         | Elapsed Time: 0:33:44 ETA:   0:20:42"
          ]
        },
        {
          "output_type": "stream",
          "name": "stdout",
          "text": [
            "Using mini-batch of size 64 for training\n",
            "Using mini-batch of size 64 for training\n",
            "Using mini-batch of size 64 for training\n"
          ]
        },
        {
          "output_type": "stream",
          "name": "stderr",
          "text": [
            "100%|██████████| 100/100 [00:30<00:00,  3.26it/s]\n",
            " 62% (62 of 100) |##############         | Elapsed Time: 0:34:17 ETA:   0:20:59"
          ]
        },
        {
          "output_type": "stream",
          "name": "stdout",
          "text": [
            "Using mini-batch of size 64 for training\n",
            "Using mini-batch of size 64 for training\n",
            "Using mini-batch of size 64 for training\n"
          ]
        },
        {
          "output_type": "stream",
          "name": "stderr",
          "text": [
            "100%|██████████| 100/100 [00:30<00:00,  3.31it/s]\n",
            " 63% (63 of 100) |##############         | Elapsed Time: 0:34:50 ETA:   0:20:00"
          ]
        },
        {
          "output_type": "stream",
          "name": "stdout",
          "text": [
            "Using mini-batch of size 64 for training\n",
            "Using mini-batch of size 64 for training\n",
            "Using mini-batch of size 64 for training\n"
          ]
        },
        {
          "output_type": "stream",
          "name": "stderr",
          "text": [
            "100%|██████████| 100/100 [00:30<00:00,  3.27it/s]\n",
            " 64% (64 of 100) |##############         | Elapsed Time: 0:35:22 ETA:   0:19:30"
          ]
        },
        {
          "output_type": "stream",
          "name": "stdout",
          "text": [
            "Using mini-batch of size 64 for training\n",
            "Using mini-batch of size 64 for training\n",
            "Using mini-batch of size 64 for training\n"
          ]
        },
        {
          "output_type": "stream",
          "name": "stderr",
          "text": [
            "100%|██████████| 100/100 [00:30<00:00,  3.33it/s]\n",
            " 65% (65 of 100) |##############         | Elapsed Time: 0:35:54 ETA:   0:18:39"
          ]
        },
        {
          "output_type": "stream",
          "name": "stdout",
          "text": [
            "Using mini-batch of size 64 for training\n",
            "Using mini-batch of size 64 for training\n",
            "Using mini-batch of size 64 for training\n"
          ]
        },
        {
          "output_type": "stream",
          "name": "stderr",
          "text": [
            "100%|██████████| 100/100 [00:29<00:00,  3.34it/s]\n",
            " 66% (66 of 100) |###############        | Elapsed Time: 0:36:26 ETA:   0:18:04"
          ]
        },
        {
          "output_type": "stream",
          "name": "stdout",
          "text": [
            "Using mini-batch of size 64 for training\n",
            "Using mini-batch of size 64 for training\n",
            "Using mini-batch of size 64 for training\n"
          ]
        },
        {
          "output_type": "stream",
          "name": "stderr",
          "text": [
            "100%|██████████| 100/100 [00:30<00:00,  3.30it/s]\n",
            " 67% (67 of 100) |###############        | Elapsed Time: 0:36:59 ETA:   0:18:10"
          ]
        },
        {
          "output_type": "stream",
          "name": "stdout",
          "text": [
            "Using mini-batch of size 64 for training\n",
            "Using mini-batch of size 64 for training\n",
            "Using mini-batch of size 64 for training\n"
          ]
        },
        {
          "output_type": "stream",
          "name": "stderr",
          "text": [
            "100%|██████████| 100/100 [00:29<00:00,  3.35it/s]\n",
            " 68% (68 of 100) |###############        | Elapsed Time: 0:37:31 ETA:   0:16:56"
          ]
        },
        {
          "output_type": "stream",
          "name": "stdout",
          "text": [
            "Using mini-batch of size 64 for training\n",
            "Using mini-batch of size 64 for training\n",
            "Using mini-batch of size 64 for training\n"
          ]
        },
        {
          "output_type": "stream",
          "name": "stderr",
          "text": [
            "100%|██████████| 100/100 [00:31<00:00,  3.21it/s]\n",
            " 69% (69 of 100) |###############        | Elapsed Time: 0:38:04 ETA:   0:17:10"
          ]
        },
        {
          "output_type": "stream",
          "name": "stdout",
          "text": [
            "Using mini-batch of size 64 for training\n",
            "Using mini-batch of size 64 for training\n",
            "Using mini-batch of size 64 for training\n"
          ]
        },
        {
          "output_type": "stream",
          "name": "stderr",
          "text": [
            "100%|██████████| 100/100 [00:30<00:00,  3.29it/s]\n",
            " 70% (70 of 100) |################       | Elapsed Time: 0:38:37 ETA:   0:16:13"
          ]
        },
        {
          "output_type": "stream",
          "name": "stdout",
          "text": [
            "Using mini-batch of size 64 for training\n",
            "Using mini-batch of size 64 for training\n",
            "Using mini-batch of size 64 for training\n"
          ]
        },
        {
          "output_type": "stream",
          "name": "stderr",
          "text": [
            "100%|██████████| 100/100 [00:31<00:00,  3.20it/s]\n",
            " 71% (71 of 100) |################       | Elapsed Time: 0:39:10 ETA:   0:16:04"
          ]
        },
        {
          "output_type": "stream",
          "name": "stdout",
          "text": [
            "Using mini-batch of size 64 for training\n",
            "Using mini-batch of size 64 for training\n",
            "Using mini-batch of size 64 for training\n"
          ]
        },
        {
          "output_type": "stream",
          "name": "stderr",
          "text": [
            "100%|██████████| 100/100 [00:29<00:00,  3.36it/s]\n",
            " 72% (72 of 100) |################       | Elapsed Time: 0:39:42 ETA:   0:14:48"
          ]
        },
        {
          "output_type": "stream",
          "name": "stdout",
          "text": [
            "Using mini-batch of size 64 for training\n",
            "Using mini-batch of size 64 for training\n",
            "Using mini-batch of size 64 for training\n"
          ]
        },
        {
          "output_type": "stream",
          "name": "stderr",
          "text": [
            "100%|██████████| 100/100 [00:29<00:00,  3.36it/s]\n",
            " 73% (73 of 100) |################       | Elapsed Time: 0:40:13 ETA:   0:14:14"
          ]
        },
        {
          "output_type": "stream",
          "name": "stdout",
          "text": [
            "Using mini-batch of size 64 for training\n",
            "Using mini-batch of size 64 for training\n",
            "Using mini-batch of size 64 for training\n"
          ]
        },
        {
          "output_type": "stream",
          "name": "stderr",
          "text": [
            "100%|██████████| 100/100 [00:30<00:00,  3.27it/s]\n",
            " 74% (74 of 100) |#################      | Elapsed Time: 0:40:47 ETA:   0:14:24"
          ]
        },
        {
          "output_type": "stream",
          "name": "stdout",
          "text": [
            "Using mini-batch of size 64 for training\n",
            "Using mini-batch of size 64 for training\n",
            "Using mini-batch of size 64 for training\n"
          ]
        },
        {
          "output_type": "stream",
          "name": "stderr",
          "text": [
            "100%|██████████| 100/100 [00:29<00:00,  3.34it/s]\n",
            " 75% (75 of 100) |#################      | Elapsed Time: 0:41:19 ETA:   0:13:16"
          ]
        },
        {
          "output_type": "stream",
          "name": "stdout",
          "text": [
            "Using mini-batch of size 64 for training\n",
            "Using mini-batch of size 64 for training\n",
            "Using mini-batch of size 64 for training\n"
          ]
        },
        {
          "output_type": "stream",
          "name": "stderr",
          "text": [
            "100%|██████████| 100/100 [00:30<00:00,  3.25it/s]\n",
            " 76% (76 of 100) |#################      | Elapsed Time: 0:41:51 ETA:   0:13:03"
          ]
        },
        {
          "output_type": "stream",
          "name": "stdout",
          "text": [
            "Using mini-batch of size 64 for training\n",
            "Using mini-batch of size 64 for training\n",
            "Using mini-batch of size 64 for training\n"
          ]
        },
        {
          "output_type": "stream",
          "name": "stderr",
          "text": [
            "100%|██████████| 100/100 [00:30<00:00,  3.27it/s]\n",
            " 77% (77 of 100) |#################      | Elapsed Time: 0:42:24 ETA:   0:12:26"
          ]
        },
        {
          "output_type": "stream",
          "name": "stdout",
          "text": [
            "Using mini-batch of size 64 for training\n",
            "Using mini-batch of size 64 for training\n",
            "Using mini-batch of size 64 for training\n"
          ]
        },
        {
          "output_type": "stream",
          "name": "stderr",
          "text": [
            "100%|██████████| 100/100 [00:30<00:00,  3.24it/s]\n",
            " 78% (78 of 100) |#################      | Elapsed Time: 0:42:57 ETA:   0:12:05"
          ]
        },
        {
          "output_type": "stream",
          "name": "stdout",
          "text": [
            "Using mini-batch of size 64 for training\n",
            "Using mini-batch of size 64 for training\n",
            "Using mini-batch of size 64 for training\n"
          ]
        },
        {
          "output_type": "stream",
          "name": "stderr",
          "text": [
            "100%|██████████| 100/100 [00:30<00:00,  3.31it/s]\n",
            " 79% (79 of 100) |##################     | Elapsed Time: 0:43:29 ETA:   0:11:23"
          ]
        },
        {
          "output_type": "stream",
          "name": "stdout",
          "text": [
            "Using mini-batch of size 64 for training\n",
            "Using mini-batch of size 64 for training\n",
            "Using mini-batch of size 64 for training\n"
          ]
        },
        {
          "output_type": "stream",
          "name": "stderr",
          "text": [
            "100%|██████████| 100/100 [00:30<00:00,  3.33it/s]\n",
            " 80% (80 of 100) |##################     | Elapsed Time: 0:44:01 ETA:   0:10:41"
          ]
        },
        {
          "output_type": "stream",
          "name": "stdout",
          "text": [
            "Using mini-batch of size 64 for training\n",
            "Using mini-batch of size 64 for training\n",
            "Using mini-batch of size 64 for training\n"
          ]
        },
        {
          "output_type": "stream",
          "name": "stderr",
          "text": [
            "100%|██████████| 100/100 [00:31<00:00,  3.20it/s]\n",
            " 81% (81 of 100) |##################     | Elapsed Time: 0:44:35 ETA:   0:10:46"
          ]
        },
        {
          "output_type": "stream",
          "name": "stdout",
          "text": [
            "Using mini-batch of size 64 for training\n",
            "Using mini-batch of size 64 for training\n",
            "Using mini-batch of size 64 for training\n"
          ]
        },
        {
          "output_type": "stream",
          "name": "stderr",
          "text": [
            "100%|██████████| 100/100 [00:29<00:00,  3.35it/s]\n",
            " 82% (82 of 100) |##################     | Elapsed Time: 0:45:07 ETA:   0:09:34"
          ]
        },
        {
          "output_type": "stream",
          "name": "stdout",
          "text": [
            "Using mini-batch of size 64 for training\n",
            "Using mini-batch of size 64 for training\n",
            "Using mini-batch of size 64 for training\n"
          ]
        },
        {
          "output_type": "stream",
          "name": "stderr",
          "text": [
            "100%|██████████| 100/100 [00:31<00:00,  3.20it/s]\n",
            " 83% (83 of 100) |###################    | Elapsed Time: 0:45:41 ETA:   0:09:29"
          ]
        },
        {
          "output_type": "stream",
          "name": "stdout",
          "text": [
            "Using mini-batch of size 64 for training\n",
            "Using mini-batch of size 64 for training\n",
            "Using mini-batch of size 64 for training\n"
          ]
        },
        {
          "output_type": "stream",
          "name": "stderr",
          "text": [
            "100%|██████████| 100/100 [00:30<00:00,  3.29it/s]\n",
            " 84% (84 of 100) |###################    | Elapsed Time: 0:46:13 ETA:   0:08:38"
          ]
        },
        {
          "output_type": "stream",
          "name": "stdout",
          "text": [
            "Using mini-batch of size 64 for training\n",
            "Using mini-batch of size 64 for training\n",
            "Using mini-batch of size 64 for training\n"
          ]
        },
        {
          "output_type": "stream",
          "name": "stderr",
          "text": [
            "100%|██████████| 100/100 [00:31<00:00,  3.19it/s]\n",
            " 85% (85 of 100) |###################    | Elapsed Time: 0:46:46 ETA:   0:08:20"
          ]
        },
        {
          "output_type": "stream",
          "name": "stdout",
          "text": [
            "Using mini-batch of size 64 for training\n",
            "Using mini-batch of size 64 for training\n",
            "Using mini-batch of size 64 for training\n"
          ]
        },
        {
          "output_type": "stream",
          "name": "stderr",
          "text": [
            "100%|██████████| 100/100 [00:29<00:00,  3.35it/s]\n",
            " 86% (86 of 100) |###################    | Elapsed Time: 0:47:18 ETA:   0:07:27"
          ]
        },
        {
          "output_type": "stream",
          "name": "stdout",
          "text": [
            "Using mini-batch of size 64 for training\n",
            "Using mini-batch of size 64 for training\n",
            "Using mini-batch of size 64 for training\n"
          ]
        },
        {
          "output_type": "stream",
          "name": "stderr",
          "text": [
            "100%|██████████| 100/100 [00:30<00:00,  3.30it/s]\n",
            " 87% (87 of 100) |####################   | Elapsed Time: 0:47:51 ETA:   0:06:58"
          ]
        },
        {
          "output_type": "stream",
          "name": "stdout",
          "text": [
            "Using mini-batch of size 64 for training\n",
            "Using mini-batch of size 64 for training\n",
            "Using mini-batch of size 64 for training\n"
          ]
        },
        {
          "output_type": "stream",
          "name": "stderr",
          "text": [
            "100%|██████████| 100/100 [00:29<00:00,  3.34it/s]\n",
            " 88% (88 of 100) |####################   | Elapsed Time: 0:48:23 ETA:   0:06:31"
          ]
        },
        {
          "output_type": "stream",
          "name": "stdout",
          "text": [
            "Using mini-batch of size 64 for training\n",
            "Using mini-batch of size 64 for training\n",
            "Using mini-batch of size 64 for training\n"
          ]
        },
        {
          "output_type": "stream",
          "name": "stderr",
          "text": [
            "100%|██████████| 100/100 [00:30<00:00,  3.24it/s]\n",
            " 89% (89 of 100) |####################   | Elapsed Time: 0:48:56 ETA:   0:06:00"
          ]
        },
        {
          "output_type": "stream",
          "name": "stdout",
          "text": [
            "Using mini-batch of size 64 for training\n",
            "Using mini-batch of size 64 for training\n",
            "Using mini-batch of size 64 for training\n"
          ]
        },
        {
          "output_type": "stream",
          "name": "stderr",
          "text": [
            "100%|██████████| 100/100 [00:30<00:00,  3.29it/s]\n",
            " 90% (90 of 100) |####################   | Elapsed Time: 0:49:29 ETA:   0:05:30"
          ]
        },
        {
          "output_type": "stream",
          "name": "stdout",
          "text": [
            "Using mini-batch of size 64 for training\n",
            "Using mini-batch of size 64 for training\n",
            "Using mini-batch of size 64 for training\n"
          ]
        },
        {
          "output_type": "stream",
          "name": "stderr",
          "text": [
            "100%|██████████| 100/100 [00:29<00:00,  3.34it/s]\n",
            " 91% (91 of 100) |####################   | Elapsed Time: 0:50:01 ETA:   0:04:47"
          ]
        },
        {
          "output_type": "stream",
          "name": "stdout",
          "text": [
            "Using mini-batch of size 64 for training\n",
            "Using mini-batch of size 64 for training\n",
            "Using mini-batch of size 64 for training\n"
          ]
        },
        {
          "output_type": "stream",
          "name": "stderr",
          "text": [
            "100%|██████████| 100/100 [00:30<00:00,  3.23it/s]\n",
            " 92% (92 of 100) |#####################  | Elapsed Time: 0:50:34 ETA:   0:04:23"
          ]
        },
        {
          "output_type": "stream",
          "name": "stdout",
          "text": [
            "Using mini-batch of size 64 for training\n",
            "Using mini-batch of size 64 for training\n",
            "Using mini-batch of size 64 for training\n"
          ]
        },
        {
          "output_type": "stream",
          "name": "stderr",
          "text": [
            "100%|██████████| 100/100 [00:30<00:00,  3.29it/s]\n",
            " 93% (93 of 100) |#####################  | Elapsed Time: 0:51:06 ETA:   0:03:47"
          ]
        },
        {
          "output_type": "stream",
          "name": "stdout",
          "text": [
            "Using mini-batch of size 64 for training\n",
            "Using mini-batch of size 64 for training\n",
            "Using mini-batch of size 64 for training\n"
          ]
        },
        {
          "output_type": "stream",
          "name": "stderr",
          "text": [
            "100%|██████████| 100/100 [00:30<00:00,  3.32it/s]\n",
            " 94% (94 of 100) |#####################  | Elapsed Time: 0:51:38 ETA:   0:03:11"
          ]
        },
        {
          "output_type": "stream",
          "name": "stdout",
          "text": [
            "Using mini-batch of size 64 for training\n",
            "Using mini-batch of size 64 for training\n",
            "Using mini-batch of size 64 for training\n"
          ]
        },
        {
          "output_type": "stream",
          "name": "stderr",
          "text": [
            "100%|██████████| 100/100 [00:30<00:00,  3.30it/s]\n",
            " 95% (95 of 100) |#####################  | Elapsed Time: 0:52:11 ETA:   0:02:44"
          ]
        },
        {
          "output_type": "stream",
          "name": "stdout",
          "text": [
            "Using mini-batch of size 64 for training\n",
            "Using mini-batch of size 64 for training\n",
            "Using mini-batch of size 64 for training\n"
          ]
        },
        {
          "output_type": "stream",
          "name": "stderr",
          "text": [
            "100%|██████████| 100/100 [00:30<00:00,  3.29it/s]\n",
            " 96% (96 of 100) |###################### | Elapsed Time: 0:52:44 ETA:   0:02:10"
          ]
        },
        {
          "output_type": "stream",
          "name": "stdout",
          "text": [
            "Using mini-batch of size 64 for training\n",
            "Using mini-batch of size 64 for training\n",
            "Using mini-batch of size 64 for training\n"
          ]
        },
        {
          "output_type": "stream",
          "name": "stderr",
          "text": [
            "100%|██████████| 100/100 [00:30<00:00,  3.26it/s]\n",
            " 97% (97 of 100) |###################### | Elapsed Time: 0:53:17 ETA:   0:01:39"
          ]
        },
        {
          "output_type": "stream",
          "name": "stdout",
          "text": [
            "Using mini-batch of size 64 for training\n",
            "Using mini-batch of size 64 for training\n",
            "Using mini-batch of size 64 for training\n"
          ]
        },
        {
          "output_type": "stream",
          "name": "stderr",
          "text": [
            "100%|██████████| 100/100 [00:30<00:00,  3.32it/s]\n",
            " 98% (98 of 100) |###################### | Elapsed Time: 0:53:49 ETA:   0:01:03"
          ]
        },
        {
          "output_type": "stream",
          "name": "stdout",
          "text": [
            "Using mini-batch of size 64 for training\n",
            "Using mini-batch of size 64 for training\n",
            "Using mini-batch of size 64 for training\n"
          ]
        },
        {
          "output_type": "stream",
          "name": "stderr",
          "text": [
            "100%|██████████| 100/100 [00:31<00:00,  3.21it/s]\n",
            " 99% (99 of 100) |###################### | Elapsed Time: 0:54:22 ETA:   0:00:33"
          ]
        },
        {
          "output_type": "stream",
          "name": "stdout",
          "text": [
            "Using mini-batch of size 64 for training\n",
            "Using mini-batch of size 64 for training\n",
            "Using mini-batch of size 64 for training\n"
          ]
        },
        {
          "output_type": "stream",
          "name": "stderr",
          "text": [
            "100%|██████████| 100/100 [00:30<00:00,  3.31it/s]\n",
            "100% (100 of 100) |######################| Elapsed Time: 0:54:54 Time:  0:54:54\n"
          ]
        }
      ]
    },
    {
      "cell_type": "markdown",
      "source": [
        "## **Evaluation**"
      ],
      "metadata": {
        "id": "nvgNQS4SJE3b"
      }
    },
    {
      "cell_type": "code",
      "source": [
        "alpha = (100 - params['credible_interval']) / 2\n",
        "median_forecast = np.median(result, axis=1)\n",
        "upper = np.percentile(result, [100-alpha], axis=1)\n",
        "lower = np.percentile(result, [alpha], axis = 1)"
      ],
      "metadata": {
        "id": "zRv41j1EJXQJ"
      },
      "execution_count": 13,
      "outputs": []
    },
    {
      "cell_type": "code",
      "source": [
        "result_deepar = evaluate(yforecast_test, median_forecast, result)\n",
        "result_deepar['Model'] = 'Deep AR'"
      ],
      "metadata": {
        "id": "F0pyhoznJTW6"
      },
      "execution_count": 16,
      "outputs": []
    },
    {
      "cell_type": "code",
      "source": [
        "result_deepar"
      ],
      "metadata": {
        "colab": {
          "base_uri": "https://localhost:8080/",
          "height": 206
        },
        "id": "earQuUHpJVpL",
        "outputId": "836c21b3-bb55-4c61-c971-91783d0530eb"
      },
      "execution_count": 18,
      "outputs": [
        {
          "output_type": "execute_result",
          "data": {
            "text/plain": [
              "  Metric         Value    Model\n",
              "0    mse  83014.587531  Deep AR\n",
              "1   mase      0.966540  Deep AR\n",
              "2  rmsse      0.992570  Deep AR\n",
              "3   mape      7.373291  Deep AR\n",
              "4    mae    204.955897  Deep AR"
            ],
            "text/html": [
              "\n",
              "  <div id=\"df-8cbd15ff-bc89-44e8-9e1b-5018016fe6d9\" class=\"colab-df-container\">\n",
              "    <div>\n",
              "<style scoped>\n",
              "    .dataframe tbody tr th:only-of-type {\n",
              "        vertical-align: middle;\n",
              "    }\n",
              "\n",
              "    .dataframe tbody tr th {\n",
              "        vertical-align: top;\n",
              "    }\n",
              "\n",
              "    .dataframe thead th {\n",
              "        text-align: right;\n",
              "    }\n",
              "</style>\n",
              "<table border=\"1\" class=\"dataframe\">\n",
              "  <thead>\n",
              "    <tr style=\"text-align: right;\">\n",
              "      <th></th>\n",
              "      <th>Metric</th>\n",
              "      <th>Value</th>\n",
              "      <th>Model</th>\n",
              "    </tr>\n",
              "  </thead>\n",
              "  <tbody>\n",
              "    <tr>\n",
              "      <th>0</th>\n",
              "      <td>mse</td>\n",
              "      <td>83014.587531</td>\n",
              "      <td>Deep AR</td>\n",
              "    </tr>\n",
              "    <tr>\n",
              "      <th>1</th>\n",
              "      <td>mase</td>\n",
              "      <td>0.966540</td>\n",
              "      <td>Deep AR</td>\n",
              "    </tr>\n",
              "    <tr>\n",
              "      <th>2</th>\n",
              "      <td>rmsse</td>\n",
              "      <td>0.992570</td>\n",
              "      <td>Deep AR</td>\n",
              "    </tr>\n",
              "    <tr>\n",
              "      <th>3</th>\n",
              "      <td>mape</td>\n",
              "      <td>7.373291</td>\n",
              "      <td>Deep AR</td>\n",
              "    </tr>\n",
              "    <tr>\n",
              "      <th>4</th>\n",
              "      <td>mae</td>\n",
              "      <td>204.955897</td>\n",
              "      <td>Deep AR</td>\n",
              "    </tr>\n",
              "  </tbody>\n",
              "</table>\n",
              "</div>\n",
              "    <div class=\"colab-df-buttons\">\n",
              "\n",
              "  <div class=\"colab-df-container\">\n",
              "    <button class=\"colab-df-convert\" onclick=\"convertToInteractive('df-8cbd15ff-bc89-44e8-9e1b-5018016fe6d9')\"\n",
              "            title=\"Convert this dataframe to an interactive table.\"\n",
              "            style=\"display:none;\">\n",
              "\n",
              "  <svg xmlns=\"http://www.w3.org/2000/svg\" height=\"24px\" viewBox=\"0 -960 960 960\">\n",
              "    <path d=\"M120-120v-720h720v720H120Zm60-500h600v-160H180v160Zm220 220h160v-160H400v160Zm0 220h160v-160H400v160ZM180-400h160v-160H180v160Zm440 0h160v-160H620v160ZM180-180h160v-160H180v160Zm440 0h160v-160H620v160Z\"/>\n",
              "  </svg>\n",
              "    </button>\n",
              "\n",
              "  <style>\n",
              "    .colab-df-container {\n",
              "      display:flex;\n",
              "      gap: 12px;\n",
              "    }\n",
              "\n",
              "    .colab-df-convert {\n",
              "      background-color: #E8F0FE;\n",
              "      border: none;\n",
              "      border-radius: 50%;\n",
              "      cursor: pointer;\n",
              "      display: none;\n",
              "      fill: #1967D2;\n",
              "      height: 32px;\n",
              "      padding: 0 0 0 0;\n",
              "      width: 32px;\n",
              "    }\n",
              "\n",
              "    .colab-df-convert:hover {\n",
              "      background-color: #E2EBFA;\n",
              "      box-shadow: 0px 1px 2px rgba(60, 64, 67, 0.3), 0px 1px 3px 1px rgba(60, 64, 67, 0.15);\n",
              "      fill: #174EA6;\n",
              "    }\n",
              "\n",
              "    .colab-df-buttons div {\n",
              "      margin-bottom: 4px;\n",
              "    }\n",
              "\n",
              "    [theme=dark] .colab-df-convert {\n",
              "      background-color: #3B4455;\n",
              "      fill: #D2E3FC;\n",
              "    }\n",
              "\n",
              "    [theme=dark] .colab-df-convert:hover {\n",
              "      background-color: #434B5C;\n",
              "      box-shadow: 0px 1px 3px 1px rgba(0, 0, 0, 0.15);\n",
              "      filter: drop-shadow(0px 1px 2px rgba(0, 0, 0, 0.3));\n",
              "      fill: #FFFFFF;\n",
              "    }\n",
              "  </style>\n",
              "\n",
              "    <script>\n",
              "      const buttonEl =\n",
              "        document.querySelector('#df-8cbd15ff-bc89-44e8-9e1b-5018016fe6d9 button.colab-df-convert');\n",
              "      buttonEl.style.display =\n",
              "        google.colab.kernel.accessAllowed ? 'block' : 'none';\n",
              "\n",
              "      async function convertToInteractive(key) {\n",
              "        const element = document.querySelector('#df-8cbd15ff-bc89-44e8-9e1b-5018016fe6d9');\n",
              "        const dataTable =\n",
              "          await google.colab.kernel.invokeFunction('convertToInteractive',\n",
              "                                                    [key], {});\n",
              "        if (!dataTable) return;\n",
              "\n",
              "        const docLinkHtml = 'Like what you see? Visit the ' +\n",
              "          '<a target=\"_blank\" href=https://colab.research.google.com/notebooks/data_table.ipynb>data table notebook</a>'\n",
              "          + ' to learn more about interactive tables.';\n",
              "        element.innerHTML = '';\n",
              "        dataTable['output_type'] = 'display_data';\n",
              "        await google.colab.output.renderOutput(dataTable, element);\n",
              "        const docLink = document.createElement('div');\n",
              "        docLink.innerHTML = docLinkHtml;\n",
              "        element.appendChild(docLink);\n",
              "      }\n",
              "    </script>\n",
              "  </div>\n",
              "\n",
              "\n",
              "<div id=\"df-d5929147-93f1-423f-b0ef-484b41a76203\">\n",
              "  <button class=\"colab-df-quickchart\" onclick=\"quickchart('df-d5929147-93f1-423f-b0ef-484b41a76203')\"\n",
              "            title=\"Suggest charts.\"\n",
              "            style=\"display:none;\">\n",
              "\n",
              "<svg xmlns=\"http://www.w3.org/2000/svg\" height=\"24px\"viewBox=\"0 0 24 24\"\n",
              "     width=\"24px\">\n",
              "    <g>\n",
              "        <path d=\"M19 3H5c-1.1 0-2 .9-2 2v14c0 1.1.9 2 2 2h14c1.1 0 2-.9 2-2V5c0-1.1-.9-2-2-2zM9 17H7v-7h2v7zm4 0h-2V7h2v10zm4 0h-2v-4h2v4z\"/>\n",
              "    </g>\n",
              "</svg>\n",
              "  </button>\n",
              "\n",
              "<style>\n",
              "  .colab-df-quickchart {\n",
              "      --bg-color: #E8F0FE;\n",
              "      --fill-color: #1967D2;\n",
              "      --hover-bg-color: #E2EBFA;\n",
              "      --hover-fill-color: #174EA6;\n",
              "      --disabled-fill-color: #AAA;\n",
              "      --disabled-bg-color: #DDD;\n",
              "  }\n",
              "\n",
              "  [theme=dark] .colab-df-quickchart {\n",
              "      --bg-color: #3B4455;\n",
              "      --fill-color: #D2E3FC;\n",
              "      --hover-bg-color: #434B5C;\n",
              "      --hover-fill-color: #FFFFFF;\n",
              "      --disabled-bg-color: #3B4455;\n",
              "      --disabled-fill-color: #666;\n",
              "  }\n",
              "\n",
              "  .colab-df-quickchart {\n",
              "    background-color: var(--bg-color);\n",
              "    border: none;\n",
              "    border-radius: 50%;\n",
              "    cursor: pointer;\n",
              "    display: none;\n",
              "    fill: var(--fill-color);\n",
              "    height: 32px;\n",
              "    padding: 0;\n",
              "    width: 32px;\n",
              "  }\n",
              "\n",
              "  .colab-df-quickchart:hover {\n",
              "    background-color: var(--hover-bg-color);\n",
              "    box-shadow: 0 1px 2px rgba(60, 64, 67, 0.3), 0 1px 3px 1px rgba(60, 64, 67, 0.15);\n",
              "    fill: var(--button-hover-fill-color);\n",
              "  }\n",
              "\n",
              "  .colab-df-quickchart-complete:disabled,\n",
              "  .colab-df-quickchart-complete:disabled:hover {\n",
              "    background-color: var(--disabled-bg-color);\n",
              "    fill: var(--disabled-fill-color);\n",
              "    box-shadow: none;\n",
              "  }\n",
              "\n",
              "  .colab-df-spinner {\n",
              "    border: 2px solid var(--fill-color);\n",
              "    border-color: transparent;\n",
              "    border-bottom-color: var(--fill-color);\n",
              "    animation:\n",
              "      spin 1s steps(1) infinite;\n",
              "  }\n",
              "\n",
              "  @keyframes spin {\n",
              "    0% {\n",
              "      border-color: transparent;\n",
              "      border-bottom-color: var(--fill-color);\n",
              "      border-left-color: var(--fill-color);\n",
              "    }\n",
              "    20% {\n",
              "      border-color: transparent;\n",
              "      border-left-color: var(--fill-color);\n",
              "      border-top-color: var(--fill-color);\n",
              "    }\n",
              "    30% {\n",
              "      border-color: transparent;\n",
              "      border-left-color: var(--fill-color);\n",
              "      border-top-color: var(--fill-color);\n",
              "      border-right-color: var(--fill-color);\n",
              "    }\n",
              "    40% {\n",
              "      border-color: transparent;\n",
              "      border-right-color: var(--fill-color);\n",
              "      border-top-color: var(--fill-color);\n",
              "    }\n",
              "    60% {\n",
              "      border-color: transparent;\n",
              "      border-right-color: var(--fill-color);\n",
              "    }\n",
              "    80% {\n",
              "      border-color: transparent;\n",
              "      border-right-color: var(--fill-color);\n",
              "      border-bottom-color: var(--fill-color);\n",
              "    }\n",
              "    90% {\n",
              "      border-color: transparent;\n",
              "      border-bottom-color: var(--fill-color);\n",
              "    }\n",
              "  }\n",
              "</style>\n",
              "\n",
              "  <script>\n",
              "    async function quickchart(key) {\n",
              "      const quickchartButtonEl =\n",
              "        document.querySelector('#' + key + ' button');\n",
              "      quickchartButtonEl.disabled = true;  // To prevent multiple clicks.\n",
              "      quickchartButtonEl.classList.add('colab-df-spinner');\n",
              "      try {\n",
              "        const charts = await google.colab.kernel.invokeFunction(\n",
              "            'suggestCharts', [key], {});\n",
              "      } catch (error) {\n",
              "        console.error('Error during call to suggestCharts:', error);\n",
              "      }\n",
              "      quickchartButtonEl.classList.remove('colab-df-spinner');\n",
              "      quickchartButtonEl.classList.add('colab-df-quickchart-complete');\n",
              "    }\n",
              "    (() => {\n",
              "      let quickchartButtonEl =\n",
              "        document.querySelector('#df-d5929147-93f1-423f-b0ef-484b41a76203 button');\n",
              "      quickchartButtonEl.style.display =\n",
              "        google.colab.kernel.accessAllowed ? 'block' : 'none';\n",
              "    })();\n",
              "  </script>\n",
              "</div>\n",
              "    </div>\n",
              "  </div>\n"
            ]
          },
          "metadata": {},
          "execution_count": 18
        }
      ]
    },
    {
      "cell_type": "code",
      "source": [
        "plt.plot(range(len(losses)), losses, \"k-\")\n",
        "plt.xlabel(\"Period\")\n",
        "plt.ylabel(\"Loss\")\n",
        "plt.show()"
      ],
      "metadata": {
        "colab": {
          "base_uri": "https://localhost:8080/",
          "height": 449
        },
        "id": "HuaHylDD8Gb7",
        "outputId": "d9011eec-4034-4a80-b67c-b242a9f15fb6"
      },
      "execution_count": 19,
      "outputs": [
        {
          "output_type": "display_data",
          "data": {
            "text/plain": [
              "<Figure size 640x480 with 1 Axes>"
            ],
            "image/png": "[encoded data removed]"
          },
          "metadata": {}
        }
      ]
    },
    {
      "cell_type": "markdown",
      "source": [
        "## **Plotting Forecasts**"
      ],
      "metadata": {
        "id": "fNrOUBSRG4SI"
      }
    },
    {
      "cell_type": "code",
      "source": [
        "y_true_plot = y_test\n",
        "DeepARfig = plot_data_forecast(params, y_true_plot, result, conditional_forecast = 'median')\n",
        "plt.savefig(\"DeepAR.pdf\", bbox_inches='tight')\n",
        "files.download(\"DeepAR.pdf\")"
      ],
      "metadata": {
        "id": "ecbkmu5wGZOm",
        "colab": {
          "base_uri": "https://localhost:8080/",
          "height": 272
        },
        "outputId": "3ae31f4c-0de0-4425-d98d-f9c27614baf9"
      },
      "execution_count": 20,
      "outputs": [
        {
          "output_type": "display_data",
          "data": {
            "text/plain": [
              "<Figure size 2000x500 with 1 Axes>"
            ],
            "image/png": "[encoded data removed]"
          },
          "metadata": {}
        },
        {
          "output_type": "display_data",
          "data": {
            "text/plain": [
              "<IPython.core.display.Javascript object>"
            ],
            "application/javascript": [
              "\n",
              "    async function download(id, filename, size) {\n",
              "      if (!google.colab.kernel.accessAllowed) {\n",
              "        return;\n",
              "      }\n",
              "      const div = document.createElement('div');\n",
              "      const label = document.createElement('label');\n",
              "      label.textContent = `Downloading \"${filename}\": `;\n",
              "      div.appendChild(label);\n",
              "      const progress = document.createElement('progress');\n",
              "      progress.max = size;\n",
              "      div.appendChild(progress);\n",
              "      document.body.appendChild(div);\n",
              "\n",
              "      const buffers = [];\n",
              "      let downloaded = 0;\n",
              "\n",
              "      const channel = await google.colab.kernel.comms.open(id);\n",
              "      // Send a message to notify the kernel that we're ready.\n",
              "      channel.send({})\n",
              "\n",
              "      for await (const message of channel.messages) {\n",
              "        // Send a message to notify the kernel that we're ready.\n",
              "        channel.send({})\n",
              "        if (message.buffers) {\n",
              "          for (const buffer of message.buffers) {\n",
              "            buffers.push(buffer);\n",
              "            downloaded += buffer.byteLength;\n",
              "            progress.value = downloaded;\n",
              "          }\n",
              "        }\n",
              "      }\n",
              "      const blob = new Blob(buffers, {type: 'application/binary'});\n",
              "      const a = document.createElement('a');\n",
              "      a.href = window.URL.createObjectURL(blob);\n",
              "      a.download = filename;\n",
              "      div.appendChild(a);\n",
              "      a.click();\n",
              "      div.remove();\n",
              "    }\n",
              "  "
            ]
          },
          "metadata": {}
        },
        {
          "output_type": "display_data",
          "data": {
            "text/plain": [
              "<IPython.core.display.Javascript object>"
            ],
            "application/javascript": [
              "download(\"download_524a562d-313d-456e-8c91-1f94c6620525\", \"DeepAR.pdf\", 1194)"
            ]
          },
          "metadata": {}
        },
        {
          "output_type": "display_data",
          "data": {
            "text/plain": [
              "<Figure size 640x480 with 0 Axes>"
            ]
          },
          "metadata": {}
        }
      ]
    },
    {
      "cell_type": "markdown",
      "source": [
        "# **Deep Factors**"
      ],
      "metadata": {
        "id": "1P58LfJ7_39k"
      }
    },
    {
      "cell_type": "markdown",
      "source": [
        "## **Model Deep Factors**"
      ],
      "metadata": {
        "id": "TD4atP-QARGn"
      }
    },
    {
      "cell_type": "code",
      "source": [
        "class NoiseRNN(nn.Module):\n",
        "    \"\"\"\n",
        "    Generates noise from RNN architecture that takes input features.\n",
        "    \"\"\"\n",
        "    def __init__(self, params):\n",
        "        super(NoiseRNN, self).__init__()\n",
        "        self.rnn_cell = nn.LSTM(params['input_size'], params['noise_hidden_size'],\n",
        "                                params['noise_num_layers'], bias = True, batch_first=True)\n",
        "        self.affine_transform = nn.Linear(params['noise_hidden_size'], 1)\n",
        "\n",
        "    def forward(self, X):\n",
        "        num_ts, num_feats = X.shape\n",
        "        X = X.unsqueeze(1)\n",
        "        _, (hidden, cell) = self.rnn_cell(X)\n",
        "        hiddens = hidden[-1, :, :] # dim (num_ts, random effects)\n",
        "        hiddens = F.relu(hiddens)\n",
        "        sigma_t = self.affine_transform(hiddens)\n",
        "        sigma_t = torch.log(1 + torch.exp(sigma_t)) # Sofplus to make sure sigma_t is positive\n",
        "        return sigma_t.view(-1, 1)\n",
        "\n",
        "class GlobalFactor(nn.Module):\n",
        "    \"\"\"\n",
        "    Generates global effects (fixed effects or common patterns) modelled by RNNs\n",
        "    given the input features. Later this will play as pivotal\n",
        "    components in the linear combination of deep factors.\n",
        "    \"\"\"\n",
        "    def __init__(self, params):\n",
        "        super(GlobalFactor, self).__init__()\n",
        "        self.rnn_cell = nn.LSTM(params['input_size'], params['global_hidden_size'],\n",
        "                                params['global_num_layers'],\n",
        "                                bias = True, batch_first=True)\n",
        "        self.latent_deep_factor = nn.Linear(params['global_hidden_size'], params['global_num_factors'])\n",
        "\n",
        "    def forward(self, X):\n",
        "        num_ts, num_feats = X.shape\n",
        "        X = X.unsqueeze(1)\n",
        "        _, (hidden, cell) = self.rnn_cell(X)\n",
        "        hiddens = hidden[-1, :, :]  # dim (num_ts, global effects)\n",
        "        hiddens = F.relu(hiddens)\n",
        "        gt = hiddens\n",
        "        return gt.view(num_ts, -1)\n",
        "\n",
        "class DeepFactorRNN(nn.Module):\n",
        "    def __init__(self, params):\n",
        "        super(DeepFactorRNN, self).__init__()\n",
        "        self.generate_noise = NoiseRNN(params)\n",
        "        self.global_factor = GlobalFactor(params)\n",
        "        self.affine = nn.Linear(params['global_hidden_size'], params['global_num_factors'])\n",
        "\n",
        "    def forward(self, X):\n",
        "        if isinstance(X, np.ndarray):\n",
        "            X = torch.from_numpy(X).float()\n",
        "        num_ts, num_periods, num_feats = X.size()\n",
        "        mus = []\n",
        "        sigmas = []\n",
        "        for t in range(num_periods):\n",
        "            global_factor_t = self.global_factor(X[:, t, :])\n",
        "            fixed_effect_t  = self.affine(global_factor_t)\n",
        "            fixed_effect_t = fixed_effect_t.sum(dim = 1).view(-1, 1)\n",
        "            sigma_t = self.generate_noise(X[:, t, :])\n",
        "            mus.append(fixed_effect_t)\n",
        "            sigmas.append(sigma_t)\n",
        "        mus = torch.cat(mus, dim = 1).view(num_ts, num_periods)\n",
        "        sigmas = torch.cat(sigmas, dim = 1).view(num_ts, num_periods) + 1e-6 # prevent nonnegative\n",
        "        return mus, sigmas\n",
        "\n",
        "    def sample(self, X, num_samps = 100):\n",
        "        if isinstance(X, np.ndarray):\n",
        "            X = torch.from_numpy(X).float()\n",
        "\n",
        "        mu, sigma = self.forward(X)\n",
        "        num_ts, num_periods = mu.size()\n",
        "        z = torch.zeros(num_ts, num_periods)\n",
        "        for _ in range(num_samps):\n",
        "            likelihood = torch.distributions.normal.Normal(loc = mu, scale = sigma)\n",
        "            z_samp = likelihood.sample().view(num_ts, num_periods)\n",
        "            z += z_samp\n",
        "\n",
        "        z = z / num_samps\n",
        "        return z"
      ],
      "metadata": {
        "id": "Qtu8xoqK_7BA"
      },
      "execution_count": 21,
      "outputs": []
    },
    {
      "cell_type": "markdown",
      "source": [
        "## **Defining Parameters Dict**"
      ],
      "metadata": {
        "id": "VI87fbFDqcUL"
      }
    },
    {
      "cell_type": "code",
      "source": [
        "# Define parameters dict, later add on input_size after reading the data\n",
        "params = {\n",
        "    'input_size': None,\n",
        "    'num_layers': 3,\n",
        "    'global_hidden_size': 64,\n",
        "    'noise_hidden_size': 6,\n",
        "    'global_num_layers': 3,\n",
        "    'noise_num_layers': 1,\n",
        "    'global_num_factors': 10,\n",
        "    'lr': 1e-3,\n",
        "    'prior': 168,\n",
        "    'sequence_length': 60,\n",
        "    'batch_size': 64,\n",
        "    'num_epoches': 100,\n",
        "    'iter_per_epoch': 3,\n",
        "    'credible_interval': 95,\n",
        "    'likelihood': 'continuous',\n",
        "    'normalize': True,\n",
        "    'max_scaler': False,\n",
        "    'log_scaler': False,\n",
        "    'mean_center': False,\n",
        "    'probabilistic_CI': False\n",
        "}\n",
        "\n",
        "full_path = '/content/drive/MyDrive/data/sample_data.csv'\n",
        "data, X, y, _, _ = load_and_process(full_path)\n",
        "\n",
        "print(X.shape)\n",
        "print(y.shape)\n",
        "# Update params\n",
        "params['input_size'] = X.shape[2]"
      ],
      "metadata": {
        "colab": {
          "base_uri": "https://localhost:8080/"
        },
        "id": "i327hFuIApg8",
        "outputId": "9224307f-4189-4f62-a449-545eb90c8b21"
      },
      "execution_count": 22,
      "outputs": [
        {
          "output_type": "stream",
          "name": "stdout",
          "text": [
            "(1, 1440, 2)\n",
            "(1, 1440)\n"
          ]
        }
      ]
    },
    {
      "cell_type": "markdown",
      "source": [
        "## **Training Phase Deep Factors**"
      ],
      "metadata": {
        "id": "0a7J6ffcBYns"
      }
    },
    {
      "cell_type": "code",
      "source": [
        "model = DeepFactorRNN(params)\n",
        "num_ts, num_periods, num_feats = X.shape\n",
        "optimizer = optim.Adam(model.parameters(), lr = params['lr'])\n",
        "random.seed(28)\n",
        "\n",
        "X_train, y_train, X_test, y_test = split_train_test(X, y)\n",
        "losses = []\n",
        "count = 0\n",
        "scaler_target = None\n",
        "if params['normalize']:\n",
        "    scaler_target = Normalizer()\n",
        "elif params['log_scaler']:\n",
        "    scaler_target = LogScaler()\n",
        "elif params['max_scaler']:\n",
        "    scaler_target = MaxScaler()\n",
        "elif params['mean_center']:\n",
        "    scaler_target = MeanCenter()\n",
        "\n",
        "if scaler_target is not None:\n",
        "    y_train = scaler_target.fit_transform(y_train)"
      ],
      "metadata": {
        "id": "UTGIRZa_BYME"
      },
      "execution_count": 23,
      "outputs": []
    },
    {
      "cell_type": "code",
      "source": [
        "# training phase\n",
        "progress = ProgressBar()\n",
        "count = 0\n",
        "for epoch in progress(range(params['num_epoches'])):\n",
        "  for t in range(params['iter_per_epoch']):\n",
        "    X_train_batch, y_train_batch, X_forecast, y_forecast = create_batch(X_train, y_train, params['prior'],\n",
        "                                                                            params['sequence_length'], params['batch_size'])\n",
        "    X_train_tensor, y_train_tensor = torch.from_numpy(X_train_batch).float(), torch.from_numpy(y_train_batch).float()\n",
        "    X_forecast_tensor, y_forecast_tensor = torch.from_numpy(X_forecast).float(), torch.from_numpy(y_forecast).float()\n",
        "\n",
        "    mu, sigma = model(X_train_tensor)\n",
        "    print(mu.size())\n",
        "    print(sigma.size())\n",
        "\n",
        "    if params['likelihood'] == 'continuous':\n",
        "      loss_c = Loss(y_train_tensor)\n",
        "      loss = loss_c.gaussian_likelihood(mu, sigma)\n",
        "    elif params['likelihood'] == 'count':\n",
        "      loss_c = Loss(y_train_tensor)\n",
        "      loss = loss_c.negative_binomial_likelihood(mu, sigma)\n",
        "\n",
        "    losses.append(loss.item())\n",
        "    optimizer.zero_grad()\n",
        "    loss.backward()\n",
        "    optimizer.step()\n",
        "    count += 1\n",
        "\n",
        "# Validation\n",
        "Xtest = X_test[:, -params['sequence_length'] - params['prior']:-params['sequence_length'], :].reshape((num_ts, -1, num_feats))\n",
        "Xforecast_test = X_test[:, -params['sequence_length']:, :].reshape((num_ts, -1, num_feats))\n",
        "ytest = y_test[:, -params['sequence_length'] - params['prior']:-params['sequence_length']].reshape((num_ts, -1))\n",
        "yforecast_test = y_test[:, -params['sequence_length']:].reshape((num_ts, -1))\n",
        "\n",
        "if scaler_target is not None:\n",
        "  ytest = scaler_target.transform(ytest)\n",
        "\n",
        "result = []\n",
        "n_samps = 100\n",
        "for _ in tqdm(range(n_samps)):\n",
        "  y_pred = model.sample(Xforecast_test)\n",
        "  y_pred = y_pred.data.numpy()\n",
        "  if scaler_target is not None:\n",
        "    y_pred = scaler_target.inverse_transform(y_pred)\n",
        "    # print(y_pred.shape)\n",
        "  result.append(y_pred.reshape((-1,1))) # dim (num_periods, 1)\n",
        "\n",
        "result = np.concatenate(result, axis=1) # dim (num_periods, num_samps)\n",
        "\n",
        "alpha = (100 - params['credible_interval']) / 2\n",
        "median_forecast = np.median(result, axis=1)\n",
        "upper = np.percentile(result, [100-alpha], axis=1)\n",
        "lower = np.percentile(result, [alpha], axis = 1)\n",
        "# median_forecast = np.quantile(result, 0.5, axis=1)\n",
        "# upper = np.quantile(result, 0.975, axis=1)\n",
        "# lower = np.quantile(result, 0.025, axis=1)\n",
        "# mape = MAPE(y_forecast_test, median_forecast)\n",
        "# print(\"Median forecast MAPE: {}\".format(mape))\n",
        "# mapes.append(mape)"
      ],
      "metadata": {
        "colab": {
          "base_uri": "https://localhost:8080/"
        },
        "id": "TD0AgP2DD-Qh",
        "outputId": "5b796ad1-da50-46af-df96-d062c47d970c"
      },
      "execution_count": 24,
      "outputs": [
        {
          "output_type": "stream",
          "name": "stderr",
          "text": [
            "\r  0% (0 of 100) |                        | Elapsed Time: 0:00:00 ETA:  --:--:--"
          ]
        },
        {
          "output_type": "stream",
          "name": "stdout",
          "text": [
            "Using mini-batch of size 64 for training\n",
            "torch.Size([1, 168])\n",
            "torch.Size([1, 168])\n",
            "Using mini-batch of size 64 for training\n",
            "torch.Size([1, 168])\n",
            "torch.Size([1, 168])\n",
            "Using mini-batch of size 64 for training\n",
            "torch.Size([1, 168])\n",
            "torch.Size([1, 168])\n"
          ]
        },
        {
          "output_type": "stream",
          "name": "stderr",
          "text": [
            "\r  1% (1 of 100) |                        | Elapsed Time: 0:00:02 ETA:   0:03:26"
          ]
        },
        {
          "output_type": "stream",
          "name": "stdout",
          "text": [
            "Using mini-batch of size 64 for training\n",
            "torch.Size([1, 168])\n",
            "torch.Size([1, 168])\n",
            "Using mini-batch of size 64 for training\n",
            "torch.Size([1, 168])\n",
            "torch.Size([1, 168])\n",
            "Using mini-batch of size 64 for training\n",
            "torch.Size([1, 168])\n",
            "torch.Size([1, 168])\n"
          ]
        },
        {
          "output_type": "stream",
          "name": "stderr",
          "text": [
            "\r  2% (2 of 100) |                        | Elapsed Time: 0:00:04 ETA:   0:03:28"
          ]
        },
        {
          "output_type": "stream",
          "name": "stdout",
          "text": [
            "Using mini-batch of size 64 for training\n",
            "torch.Size([1, 168])\n",
            "torch.Size([1, 168])\n",
            "Using mini-batch of size 64 for training\n",
            "torch.Size([1, 168])\n",
            "torch.Size([1, 168])\n",
            "Using mini-batch of size 64 for training\n",
            "torch.Size([1, 168])\n",
            "torch.Size([1, 168])\n"
          ]
        },
        {
          "output_type": "stream",
          "name": "stderr",
          "text": [
            "\r  3% (3 of 100) |                        | Elapsed Time: 0:00:06 ETA:   0:03:11"
          ]
        },
        {
          "output_type": "stream",
          "name": "stdout",
          "text": [
            "Using mini-batch of size 64 for training\n",
            "torch.Size([1, 168])\n",
            "torch.Size([1, 168])\n",
            "Using mini-batch of size 64 for training\n",
            "torch.Size([1, 168])\n",
            "torch.Size([1, 168])\n",
            "Using mini-batch of size 64 for training\n",
            "torch.Size([1, 168])\n",
            "torch.Size([1, 168])\n"
          ]
        },
        {
          "output_type": "stream",
          "name": "stderr",
          "text": [
            "\r  4% (4 of 100) |                        | Elapsed Time: 0:00:07 ETA:   0:02:45"
          ]
        },
        {
          "output_type": "stream",
          "name": "stdout",
          "text": [
            "Using mini-batch of size 64 for training\n",
            "torch.Size([1, 168])\n",
            "torch.Size([1, 168])\n",
            "Using mini-batch of size 64 for training\n",
            "torch.Size([1, 168])\n",
            "torch.Size([1, 168])\n",
            "Using mini-batch of size 64 for training\n",
            "torch.Size([1, 168])\n",
            "torch.Size([1, 168])\n"
          ]
        },
        {
          "output_type": "stream",
          "name": "stderr",
          "text": [
            "\r  5% (5 of 100) |#                       | Elapsed Time: 0:00:09 ETA:   0:02:38"
          ]
        },
        {
          "output_type": "stream",
          "name": "stdout",
          "text": [
            "Using mini-batch of size 64 for training\n",
            "torch.Size([1, 168])\n",
            "torch.Size([1, 168])\n",
            "Using mini-batch of size 64 for training\n",
            "torch.Size([1, 168])\n",
            "torch.Size([1, 168])\n",
            "Using mini-batch of size 64 for training\n",
            "torch.Size([1, 168])\n",
            "torch.Size([1, 168])\n"
          ]
        },
        {
          "output_type": "stream",
          "name": "stderr",
          "text": [
            "\r  6% (6 of 100) |#                       | Elapsed Time: 0:00:11 ETA:   0:02:38"
          ]
        },
        {
          "output_type": "stream",
          "name": "stdout",
          "text": [
            "Using mini-batch of size 64 for training\n",
            "torch.Size([1, 168])\n",
            "torch.Size([1, 168])\n",
            "Using mini-batch of size 64 for training\n",
            "torch.Size([1, 168])\n",
            "torch.Size([1, 168])\n",
            "Using mini-batch of size 64 for training\n",
            "torch.Size([1, 168])\n",
            "torch.Size([1, 168])\n"
          ]
        },
        {
          "output_type": "stream",
          "name": "stderr",
          "text": [
            "\r  7% (7 of 100) |#                       | Elapsed Time: 0:00:12 ETA:   0:02:33"
          ]
        },
        {
          "output_type": "stream",
          "name": "stdout",
          "text": [
            "Using mini-batch of size 64 for training\n",
            "torch.Size([1, 168])\n",
            "torch.Size([1, 168])\n",
            "Using mini-batch of size 64 for training\n",
            "torch.Size([1, 168])\n",
            "torch.Size([1, 168])\n",
            "Using mini-batch of size 64 for training\n",
            "torch.Size([1, 168])\n",
            "torch.Size([1, 168])\n"
          ]
        },
        {
          "output_type": "stream",
          "name": "stderr",
          "text": [
            "\r  8% (8 of 100) |#                       | Elapsed Time: 0:00:14 ETA:   0:02:26"
          ]
        },
        {
          "output_type": "stream",
          "name": "stdout",
          "text": [
            "Using mini-batch of size 64 for training\n",
            "torch.Size([1, 168])\n",
            "torch.Size([1, 168])\n",
            "Using mini-batch of size 64 for training\n",
            "torch.Size([1, 168])\n",
            "torch.Size([1, 168])\n",
            "Using mini-batch of size 64 for training\n",
            "torch.Size([1, 168])\n",
            "torch.Size([1, 168])\n"
          ]
        },
        {
          "output_type": "stream",
          "name": "stderr",
          "text": [
            "\r  9% (9 of 100) |##                      | Elapsed Time: 0:00:16 ETA:   0:02:35"
          ]
        },
        {
          "output_type": "stream",
          "name": "stdout",
          "text": [
            "Using mini-batch of size 64 for training\n",
            "torch.Size([1, 168])\n",
            "torch.Size([1, 168])\n",
            "Using mini-batch of size 64 for training\n",
            "torch.Size([1, 168])\n",
            "torch.Size([1, 168])\n",
            "Using mini-batch of size 64 for training\n",
            "torch.Size([1, 168])\n",
            "torch.Size([1, 168])\n"
          ]
        },
        {
          "output_type": "stream",
          "name": "stderr",
          "text": [
            "\r 10% (10 of 100) |##                     | Elapsed Time: 0:00:18 ETA:   0:03:19"
          ]
        },
        {
          "output_type": "stream",
          "name": "stdout",
          "text": [
            "Using mini-batch of size 64 for training\n",
            "torch.Size([1, 168])\n",
            "torch.Size([1, 168])\n",
            "Using mini-batch of size 64 for training\n",
            "torch.Size([1, 168])\n",
            "torch.Size([1, 168])\n",
            "Using mini-batch of size 64 for training\n",
            "torch.Size([1, 168])\n",
            "torch.Size([1, 168])\n"
          ]
        },
        {
          "output_type": "stream",
          "name": "stderr",
          "text": [
            "\r 11% (11 of 100) |##                     | Elapsed Time: 0:00:20 ETA:   0:03:00"
          ]
        },
        {
          "output_type": "stream",
          "name": "stdout",
          "text": [
            "Using mini-batch of size 64 for training\n",
            "torch.Size([1, 168])\n",
            "torch.Size([1, 168])\n",
            "Using mini-batch of size 64 for training\n",
            "torch.Size([1, 168])\n",
            "torch.Size([1, 168])\n",
            "Using mini-batch of size 64 for training\n",
            "torch.Size([1, 168])\n",
            "torch.Size([1, 168])\n"
          ]
        },
        {
          "output_type": "stream",
          "name": "stderr",
          "text": [
            "\r 12% (12 of 100) |##                     | Elapsed Time: 0:00:21 ETA:   0:02:39"
          ]
        },
        {
          "output_type": "stream",
          "name": "stdout",
          "text": [
            "Using mini-batch of size 64 for training\n",
            "torch.Size([1, 168])\n",
            "torch.Size([1, 168])\n",
            "Using mini-batch of size 64 for training\n",
            "torch.Size([1, 168])\n",
            "torch.Size([1, 168])\n",
            "Using mini-batch of size 64 for training\n",
            "torch.Size([1, 168])\n",
            "torch.Size([1, 168])\n"
          ]
        },
        {
          "output_type": "stream",
          "name": "stderr",
          "text": [
            "\r 13% (13 of 100) |##                     | Elapsed Time: 0:00:23 ETA:   0:02:16"
          ]
        },
        {
          "output_type": "stream",
          "name": "stdout",
          "text": [
            "Using mini-batch of size 64 for training\n",
            "torch.Size([1, 168])\n",
            "torch.Size([1, 168])\n",
            "Using mini-batch of size 64 for training\n",
            "torch.Size([1, 168])\n",
            "torch.Size([1, 168])\n",
            "Using mini-batch of size 64 for training\n",
            "torch.Size([1, 168])\n",
            "torch.Size([1, 168])\n"
          ]
        },
        {
          "output_type": "stream",
          "name": "stderr",
          "text": [
            "\r 14% (14 of 100) |###                    | Elapsed Time: 0:00:25 ETA:   0:02:13"
          ]
        },
        {
          "output_type": "stream",
          "name": "stdout",
          "text": [
            "Using mini-batch of size 64 for training\n",
            "torch.Size([1, 168])\n",
            "torch.Size([1, 168])\n",
            "Using mini-batch of size 64 for training\n",
            "torch.Size([1, 168])\n",
            "torch.Size([1, 168])\n",
            "Using mini-batch of size 64 for training\n",
            "torch.Size([1, 168])\n",
            "torch.Size([1, 168])\n"
          ]
        },
        {
          "output_type": "stream",
          "name": "stderr",
          "text": [
            "\r 15% (15 of 100) |###                    | Elapsed Time: 0:00:26 ETA:   0:02:10"
          ]
        },
        {
          "output_type": "stream",
          "name": "stdout",
          "text": [
            "Using mini-batch of size 64 for training\n",
            "torch.Size([1, 168])\n",
            "torch.Size([1, 168])\n",
            "Using mini-batch of size 64 for training\n",
            "torch.Size([1, 168])\n",
            "torch.Size([1, 168])\n",
            "Using mini-batch of size 64 for training\n",
            "torch.Size([1, 168])\n",
            "torch.Size([1, 168])\n"
          ]
        },
        {
          "output_type": "stream",
          "name": "stderr",
          "text": [
            "\r 16% (16 of 100) |###                    | Elapsed Time: 0:00:28 ETA:   0:02:12"
          ]
        },
        {
          "output_type": "stream",
          "name": "stdout",
          "text": [
            "Using mini-batch of size 64 for training\n",
            "torch.Size([1, 168])\n",
            "torch.Size([1, 168])\n",
            "Using mini-batch of size 64 for training\n",
            "torch.Size([1, 168])\n",
            "torch.Size([1, 168])\n",
            "Using mini-batch of size 64 for training\n",
            "torch.Size([1, 168])\n",
            "torch.Size([1, 168])\n"
          ]
        },
        {
          "output_type": "stream",
          "name": "stderr",
          "text": [
            "\r 17% (17 of 100) |###                    | Elapsed Time: 0:00:29 ETA:   0:02:19"
          ]
        },
        {
          "output_type": "stream",
          "name": "stdout",
          "text": [
            "Using mini-batch of size 64 for training\n",
            "torch.Size([1, 168])\n",
            "torch.Size([1, 168])\n",
            "Using mini-batch of size 64 for training\n",
            "torch.Size([1, 168])\n",
            "torch.Size([1, 168])\n",
            "Using mini-batch of size 64 for training\n",
            "torch.Size([1, 168])\n",
            "torch.Size([1, 168])\n"
          ]
        },
        {
          "output_type": "stream",
          "name": "stderr",
          "text": [
            "\r 18% (18 of 100) |####                   | Elapsed Time: 0:00:32 ETA:   0:03:07"
          ]
        },
        {
          "output_type": "stream",
          "name": "stdout",
          "text": [
            "Using mini-batch of size 64 for training\n",
            "torch.Size([1, 168])\n",
            "torch.Size([1, 168])\n",
            "Using mini-batch of size 64 for training\n",
            "torch.Size([1, 168])\n",
            "torch.Size([1, 168])\n",
            "Using mini-batch of size 64 for training\n",
            "torch.Size([1, 168])\n",
            "torch.Size([1, 168])\n"
          ]
        },
        {
          "output_type": "stream",
          "name": "stderr",
          "text": [
            "\r 19% (19 of 100) |####                   | Elapsed Time: 0:00:34 ETA:   0:02:47"
          ]
        },
        {
          "output_type": "stream",
          "name": "stdout",
          "text": [
            "Using mini-batch of size 64 for training\n",
            "torch.Size([1, 168])\n",
            "torch.Size([1, 168])\n",
            "Using mini-batch of size 64 for training\n",
            "torch.Size([1, 168])\n",
            "torch.Size([1, 168])\n",
            "Using mini-batch of size 64 for training\n",
            "torch.Size([1, 168])\n",
            "torch.Size([1, 168])\n"
          ]
        },
        {
          "output_type": "stream",
          "name": "stderr",
          "text": [
            "\r 20% (20 of 100) |####                   | Elapsed Time: 0:00:36 ETA:   0:02:32"
          ]
        },
        {
          "output_type": "stream",
          "name": "stdout",
          "text": [
            "Using mini-batch of size 64 for training\n",
            "torch.Size([1, 168])\n",
            "torch.Size([1, 168])\n",
            "Using mini-batch of size 64 for training\n",
            "torch.Size([1, 168])\n",
            "torch.Size([1, 168])\n",
            "Using mini-batch of size 64 for training\n",
            "torch.Size([1, 168])\n",
            "torch.Size([1, 168])\n"
          ]
        },
        {
          "output_type": "stream",
          "name": "stderr",
          "text": [
            "\r 21% (21 of 100) |####                   | Elapsed Time: 0:00:37 ETA:   0:02:11"
          ]
        },
        {
          "output_type": "stream",
          "name": "stdout",
          "text": [
            "Using mini-batch of size 64 for training\n",
            "torch.Size([1, 168])\n",
            "torch.Size([1, 168])\n",
            "Using mini-batch of size 64 for training\n",
            "torch.Size([1, 168])\n",
            "torch.Size([1, 168])\n",
            "Using mini-batch of size 64 for training\n",
            "torch.Size([1, 168])\n",
            "torch.Size([1, 168])\n"
          ]
        },
        {
          "output_type": "stream",
          "name": "stderr",
          "text": [
            "\r 22% (22 of 100) |#####                  | Elapsed Time: 0:00:39 ETA:   0:02:09"
          ]
        },
        {
          "output_type": "stream",
          "name": "stdout",
          "text": [
            "Using mini-batch of size 64 for training\n",
            "torch.Size([1, 168])\n",
            "torch.Size([1, 168])\n",
            "Using mini-batch of size 64 for training\n",
            "torch.Size([1, 168])\n",
            "torch.Size([1, 168])\n",
            "Using mini-batch of size 64 for training\n",
            "torch.Size([1, 168])\n",
            "torch.Size([1, 168])\n"
          ]
        },
        {
          "output_type": "stream",
          "name": "stderr",
          "text": [
            "\r 23% (23 of 100) |#####                  | Elapsed Time: 0:00:41 ETA:   0:02:11"
          ]
        },
        {
          "output_type": "stream",
          "name": "stdout",
          "text": [
            "Using mini-batch of size 64 for training\n",
            "torch.Size([1, 168])\n",
            "torch.Size([1, 168])\n",
            "Using mini-batch of size 64 for training\n",
            "torch.Size([1, 168])\n",
            "torch.Size([1, 168])\n",
            "Using mini-batch of size 64 for training\n",
            "torch.Size([1, 168])\n",
            "torch.Size([1, 168])\n"
          ]
        },
        {
          "output_type": "stream",
          "name": "stderr",
          "text": [
            "\r 24% (24 of 100) |#####                  | Elapsed Time: 0:00:42 ETA:   0:02:04"
          ]
        },
        {
          "output_type": "stream",
          "name": "stdout",
          "text": [
            "Using mini-batch of size 64 for training\n",
            "torch.Size([1, 168])\n",
            "torch.Size([1, 168])\n",
            "Using mini-batch of size 64 for training\n",
            "torch.Size([1, 168])\n",
            "torch.Size([1, 168])\n",
            "Using mini-batch of size 64 for training\n",
            "torch.Size([1, 168])\n",
            "torch.Size([1, 168])\n"
          ]
        },
        {
          "output_type": "stream",
          "name": "stderr",
          "text": [
            "\r 25% (25 of 100) |#####                  | Elapsed Time: 0:00:44 ETA:   0:02:05"
          ]
        },
        {
          "output_type": "stream",
          "name": "stdout",
          "text": [
            "Using mini-batch of size 64 for training\n",
            "torch.Size([1, 168])\n",
            "torch.Size([1, 168])\n",
            "Using mini-batch of size 64 for training\n",
            "torch.Size([1, 168])\n",
            "torch.Size([1, 168])\n",
            "Using mini-batch of size 64 for training\n",
            "torch.Size([1, 168])\n",
            "torch.Size([1, 168])\n"
          ]
        },
        {
          "output_type": "stream",
          "name": "stderr",
          "text": [
            "\r 26% (26 of 100) |#####                  | Elapsed Time: 0:00:46 ETA:   0:02:48"
          ]
        },
        {
          "output_type": "stream",
          "name": "stdout",
          "text": [
            "Using mini-batch of size 64 for training\n",
            "torch.Size([1, 168])\n",
            "torch.Size([1, 168])\n",
            "Using mini-batch of size 64 for training\n",
            "torch.Size([1, 168])\n",
            "torch.Size([1, 168])\n",
            "Using mini-batch of size 64 for training\n",
            "torch.Size([1, 168])\n",
            "torch.Size([1, 168])\n"
          ]
        },
        {
          "output_type": "stream",
          "name": "stderr",
          "text": [
            "\r 27% (27 of 100) |######                 | Elapsed Time: 0:00:49 ETA:   0:03:09"
          ]
        },
        {
          "output_type": "stream",
          "name": "stdout",
          "text": [
            "Using mini-batch of size 64 for training\n",
            "torch.Size([1, 168])\n",
            "torch.Size([1, 168])\n",
            "Using mini-batch of size 64 for training\n",
            "torch.Size([1, 168])\n",
            "torch.Size([1, 168])\n",
            "Using mini-batch of size 64 for training\n",
            "torch.Size([1, 168])\n",
            "torch.Size([1, 168])\n"
          ]
        },
        {
          "output_type": "stream",
          "name": "stderr",
          "text": [
            "\r 28% (28 of 100) |######                 | Elapsed Time: 0:00:50 ETA:   0:02:31"
          ]
        },
        {
          "output_type": "stream",
          "name": "stdout",
          "text": [
            "Using mini-batch of size 64 for training\n",
            "torch.Size([1, 168])\n",
            "torch.Size([1, 168])\n",
            "Using mini-batch of size 64 for training\n",
            "torch.Size([1, 168])\n",
            "torch.Size([1, 168])\n",
            "Using mini-batch of size 64 for training\n",
            "torch.Size([1, 168])\n",
            "torch.Size([1, 168])\n"
          ]
        },
        {
          "output_type": "stream",
          "name": "stderr",
          "text": [
            "\r 29% (29 of 100) |######                 | Elapsed Time: 0:00:52 ETA:   0:01:53"
          ]
        },
        {
          "output_type": "stream",
          "name": "stdout",
          "text": [
            "Using mini-batch of size 64 for training\n",
            "torch.Size([1, 168])\n",
            "torch.Size([1, 168])\n",
            "Using mini-batch of size 64 for training\n",
            "torch.Size([1, 168])\n",
            "torch.Size([1, 168])\n",
            "Using mini-batch of size 64 for training\n",
            "torch.Size([1, 168])\n",
            "torch.Size([1, 168])\n"
          ]
        },
        {
          "output_type": "stream",
          "name": "stderr",
          "text": [
            "\r 30% (30 of 100) |######                 | Elapsed Time: 0:00:54 ETA:   0:01:54"
          ]
        },
        {
          "output_type": "stream",
          "name": "stdout",
          "text": [
            "Using mini-batch of size 64 for training\n",
            "torch.Size([1, 168])\n",
            "torch.Size([1, 168])\n",
            "Using mini-batch of size 64 for training\n",
            "torch.Size([1, 168])\n",
            "torch.Size([1, 168])\n",
            "Using mini-batch of size 64 for training\n",
            "torch.Size([1, 168])\n",
            "torch.Size([1, 168])\n"
          ]
        },
        {
          "output_type": "stream",
          "name": "stderr",
          "text": [
            "\r 31% (31 of 100) |#######                | Elapsed Time: 0:00:55 ETA:   0:01:55"
          ]
        },
        {
          "output_type": "stream",
          "name": "stdout",
          "text": [
            "Using mini-batch of size 64 for training\n",
            "torch.Size([1, 168])\n",
            "torch.Size([1, 168])\n",
            "Using mini-batch of size 64 for training\n",
            "torch.Size([1, 168])\n",
            "torch.Size([1, 168])\n",
            "Using mini-batch of size 64 for training\n",
            "torch.Size([1, 168])\n",
            "torch.Size([1, 168])\n"
          ]
        },
        {
          "output_type": "stream",
          "name": "stderr",
          "text": [
            "\r 32% (32 of 100) |#######                | Elapsed Time: 0:00:57 ETA:   0:01:52"
          ]
        },
        {
          "output_type": "stream",
          "name": "stdout",
          "text": [
            "Using mini-batch of size 64 for training\n",
            "torch.Size([1, 168])\n",
            "torch.Size([1, 168])\n",
            "Using mini-batch of size 64 for training\n",
            "torch.Size([1, 168])\n",
            "torch.Size([1, 168])\n",
            "Using mini-batch of size 64 for training\n",
            "torch.Size([1, 168])\n",
            "torch.Size([1, 168])\n"
          ]
        },
        {
          "output_type": "stream",
          "name": "stderr",
          "text": [
            "\r 33% (33 of 100) |#######                | Elapsed Time: 0:00:59 ETA:   0:01:57"
          ]
        },
        {
          "output_type": "stream",
          "name": "stdout",
          "text": [
            "Using mini-batch of size 64 for training\n",
            "torch.Size([1, 168])\n",
            "torch.Size([1, 168])\n",
            "Using mini-batch of size 64 for training\n",
            "torch.Size([1, 168])\n",
            "torch.Size([1, 168])\n",
            "Using mini-batch of size 64 for training\n",
            "torch.Size([1, 168])\n",
            "torch.Size([1, 168])\n"
          ]
        },
        {
          "output_type": "stream",
          "name": "stderr",
          "text": [
            "\r 34% (34 of 100) |#######                | Elapsed Time: 0:01:01 ETA:   0:02:38"
          ]
        },
        {
          "output_type": "stream",
          "name": "stdout",
          "text": [
            "Using mini-batch of size 64 for training\n",
            "torch.Size([1, 168])\n",
            "torch.Size([1, 168])\n",
            "Using mini-batch of size 64 for training\n",
            "torch.Size([1, 168])\n",
            "torch.Size([1, 168])\n",
            "Using mini-batch of size 64 for training\n",
            "torch.Size([1, 168])\n",
            "torch.Size([1, 168])\n"
          ]
        },
        {
          "output_type": "stream",
          "name": "stderr",
          "text": [
            "\r 35% (35 of 100) |########               | Elapsed Time: 0:01:03 ETA:   0:02:17"
          ]
        },
        {
          "output_type": "stream",
          "name": "stdout",
          "text": [
            "Using mini-batch of size 64 for training\n",
            "torch.Size([1, 168])\n",
            "torch.Size([1, 168])\n",
            "Using mini-batch of size 64 for training\n",
            "torch.Size([1, 168])\n",
            "torch.Size([1, 168])\n",
            "Using mini-batch of size 64 for training\n",
            "torch.Size([1, 168])\n",
            "torch.Size([1, 168])\n"
          ]
        },
        {
          "output_type": "stream",
          "name": "stderr",
          "text": [
            "\r 36% (36 of 100) |########               | Elapsed Time: 0:01:05 ETA:   0:01:52"
          ]
        },
        {
          "output_type": "stream",
          "name": "stdout",
          "text": [
            "Using mini-batch of size 64 for training\n",
            "torch.Size([1, 168])\n",
            "torch.Size([1, 168])\n",
            "Using mini-batch of size 64 for training\n",
            "torch.Size([1, 168])\n",
            "torch.Size([1, 168])\n",
            "Using mini-batch of size 64 for training\n",
            "torch.Size([1, 168])\n",
            "torch.Size([1, 168])\n"
          ]
        },
        {
          "output_type": "stream",
          "name": "stderr",
          "text": [
            "\r 37% (37 of 100) |########               | Elapsed Time: 0:01:06 ETA:   0:01:46"
          ]
        },
        {
          "output_type": "stream",
          "name": "stdout",
          "text": [
            "Using mini-batch of size 64 for training\n",
            "torch.Size([1, 168])\n",
            "torch.Size([1, 168])\n",
            "Using mini-batch of size 64 for training\n",
            "torch.Size([1, 168])\n",
            "torch.Size([1, 168])\n",
            "Using mini-batch of size 64 for training\n",
            "torch.Size([1, 168])\n",
            "torch.Size([1, 168])\n"
          ]
        },
        {
          "output_type": "stream",
          "name": "stderr",
          "text": [
            "\r 38% (38 of 100) |########               | Elapsed Time: 0:01:08 ETA:   0:01:45"
          ]
        },
        {
          "output_type": "stream",
          "name": "stdout",
          "text": [
            "Using mini-batch of size 64 for training\n",
            "torch.Size([1, 168])\n",
            "torch.Size([1, 168])\n",
            "Using mini-batch of size 64 for training\n",
            "torch.Size([1, 168])\n",
            "torch.Size([1, 168])\n",
            "Using mini-batch of size 64 for training\n",
            "torch.Size([1, 168])\n",
            "torch.Size([1, 168])\n"
          ]
        },
        {
          "output_type": "stream",
          "name": "stderr",
          "text": [
            "\r 39% (39 of 100) |########               | Elapsed Time: 0:01:10 ETA:   0:01:40"
          ]
        },
        {
          "output_type": "stream",
          "name": "stdout",
          "text": [
            "Using mini-batch of size 64 for training\n",
            "torch.Size([1, 168])\n",
            "torch.Size([1, 168])\n",
            "Using mini-batch of size 64 for training\n",
            "torch.Size([1, 168])\n",
            "torch.Size([1, 168])\n",
            "Using mini-batch of size 64 for training\n",
            "torch.Size([1, 168])\n",
            "torch.Size([1, 168])\n"
          ]
        },
        {
          "output_type": "stream",
          "name": "stderr",
          "text": [
            "\r 40% (40 of 100) |#########              | Elapsed Time: 0:01:11 ETA:   0:01:35"
          ]
        },
        {
          "output_type": "stream",
          "name": "stdout",
          "text": [
            "Using mini-batch of size 64 for training\n",
            "torch.Size([1, 168])\n",
            "torch.Size([1, 168])\n",
            "Using mini-batch of size 64 for training\n",
            "torch.Size([1, 168])\n",
            "torch.Size([1, 168])\n",
            "Using mini-batch of size 64 for training\n",
            "torch.Size([1, 168])\n",
            "torch.Size([1, 168])\n"
          ]
        },
        {
          "output_type": "stream",
          "name": "stderr",
          "text": [
            "\r 41% (41 of 100) |#########              | Elapsed Time: 0:01:13 ETA:   0:01:43"
          ]
        },
        {
          "output_type": "stream",
          "name": "stdout",
          "text": [
            "Using mini-batch of size 64 for training\n",
            "torch.Size([1, 168])\n",
            "torch.Size([1, 168])\n",
            "Using mini-batch of size 64 for training\n",
            "torch.Size([1, 168])\n",
            "torch.Size([1, 168])\n",
            "Using mini-batch of size 64 for training\n",
            "torch.Size([1, 168])\n",
            "torch.Size([1, 168])\n"
          ]
        },
        {
          "output_type": "stream",
          "name": "stderr",
          "text": [
            "\r 42% (42 of 100) |#########              | Elapsed Time: 0:01:16 ETA:   0:02:22"
          ]
        },
        {
          "output_type": "stream",
          "name": "stdout",
          "text": [
            "Using mini-batch of size 64 for training\n",
            "torch.Size([1, 168])\n",
            "torch.Size([1, 168])\n",
            "Using mini-batch of size 64 for training\n",
            "torch.Size([1, 168])\n",
            "torch.Size([1, 168])\n",
            "Using mini-batch of size 64 for training\n",
            "torch.Size([1, 168])\n",
            "torch.Size([1, 168])\n"
          ]
        },
        {
          "output_type": "stream",
          "name": "stderr",
          "text": [
            "\r 43% (43 of 100) |#########              | Elapsed Time: 0:01:18 ETA:   0:02:02"
          ]
        },
        {
          "output_type": "stream",
          "name": "stdout",
          "text": [
            "Using mini-batch of size 64 for training\n",
            "torch.Size([1, 168])\n",
            "torch.Size([1, 168])\n",
            "Using mini-batch of size 64 for training\n",
            "torch.Size([1, 168])\n",
            "torch.Size([1, 168])\n",
            "Using mini-batch of size 64 for training\n",
            "torch.Size([1, 168])\n",
            "torch.Size([1, 168])\n"
          ]
        },
        {
          "output_type": "stream",
          "name": "stderr",
          "text": [
            "\r 44% (44 of 100) |##########             | Elapsed Time: 0:01:19 ETA:   0:01:39"
          ]
        },
        {
          "output_type": "stream",
          "name": "stdout",
          "text": [
            "Using mini-batch of size 64 for training\n",
            "torch.Size([1, 168])\n",
            "torch.Size([1, 168])\n",
            "Using mini-batch of size 64 for training\n",
            "torch.Size([1, 168])\n",
            "torch.Size([1, 168])\n",
            "Using mini-batch of size 64 for training\n",
            "torch.Size([1, 168])\n",
            "torch.Size([1, 168])\n"
          ]
        },
        {
          "output_type": "stream",
          "name": "stderr",
          "text": [
            "\r 45% (45 of 100) |##########             | Elapsed Time: 0:01:21 ETA:   0:01:31"
          ]
        },
        {
          "output_type": "stream",
          "name": "stdout",
          "text": [
            "Using mini-batch of size 64 for training\n",
            "torch.Size([1, 168])\n",
            "torch.Size([1, 168])\n",
            "Using mini-batch of size 64 for training\n",
            "torch.Size([1, 168])\n",
            "torch.Size([1, 168])\n",
            "Using mini-batch of size 64 for training\n",
            "torch.Size([1, 168])\n",
            "torch.Size([1, 168])\n"
          ]
        },
        {
          "output_type": "stream",
          "name": "stderr",
          "text": [
            "\r 46% (46 of 100) |##########             | Elapsed Time: 0:01:22 ETA:   0:01:27"
          ]
        },
        {
          "output_type": "stream",
          "name": "stdout",
          "text": [
            "Using mini-batch of size 64 for training\n",
            "torch.Size([1, 168])\n",
            "torch.Size([1, 168])\n",
            "Using mini-batch of size 64 for training\n",
            "torch.Size([1, 168])\n",
            "torch.Size([1, 168])\n",
            "Using mini-batch of size 64 for training\n",
            "torch.Size([1, 168])\n",
            "torch.Size([1, 168])\n"
          ]
        },
        {
          "output_type": "stream",
          "name": "stderr",
          "text": [
            "\r 47% (47 of 100) |##########             | Elapsed Time: 0:01:24 ETA:   0:01:25"
          ]
        },
        {
          "output_type": "stream",
          "name": "stdout",
          "text": [
            "Using mini-batch of size 64 for training\n",
            "torch.Size([1, 168])\n",
            "torch.Size([1, 168])\n",
            "Using mini-batch of size 64 for training\n",
            "torch.Size([1, 168])\n",
            "torch.Size([1, 168])\n",
            "Using mini-batch of size 64 for training\n",
            "torch.Size([1, 168])\n",
            "torch.Size([1, 168])\n"
          ]
        },
        {
          "output_type": "stream",
          "name": "stderr",
          "text": [
            "\r 48% (48 of 100) |###########            | Elapsed Time: 0:01:26 ETA:   0:01:21"
          ]
        },
        {
          "output_type": "stream",
          "name": "stdout",
          "text": [
            "Using mini-batch of size 64 for training\n",
            "torch.Size([1, 168])\n",
            "torch.Size([1, 168])\n",
            "Using mini-batch of size 64 for training\n",
            "torch.Size([1, 168])\n",
            "torch.Size([1, 168])\n",
            "Using mini-batch of size 64 for training\n",
            "torch.Size([1, 168])\n",
            "torch.Size([1, 168])\n"
          ]
        },
        {
          "output_type": "stream",
          "name": "stderr",
          "text": [
            "\r 49% (49 of 100) |###########            | Elapsed Time: 0:01:28 ETA:   0:01:46"
          ]
        },
        {
          "output_type": "stream",
          "name": "stdout",
          "text": [
            "Using mini-batch of size 64 for training\n",
            "torch.Size([1, 168])\n",
            "torch.Size([1, 168])\n",
            "Using mini-batch of size 64 for training\n",
            "torch.Size([1, 168])\n",
            "torch.Size([1, 168])\n",
            "Using mini-batch of size 64 for training\n",
            "torch.Size([1, 168])\n",
            "torch.Size([1, 168])\n"
          ]
        },
        {
          "output_type": "stream",
          "name": "stderr",
          "text": [
            "\r 50% (50 of 100) |###########            | Elapsed Time: 0:01:30 ETA:   0:01:58"
          ]
        },
        {
          "output_type": "stream",
          "name": "stdout",
          "text": [
            "Using mini-batch of size 64 for training\n",
            "torch.Size([1, 168])\n",
            "torch.Size([1, 168])\n",
            "Using mini-batch of size 64 for training\n",
            "torch.Size([1, 168])\n",
            "torch.Size([1, 168])\n",
            "Using mini-batch of size 64 for training\n",
            "torch.Size([1, 168])\n",
            "torch.Size([1, 168])\n"
          ]
        },
        {
          "output_type": "stream",
          "name": "stderr",
          "text": [
            "\r 51% (51 of 100) |###########            | Elapsed Time: 0:01:32 ETA:   0:01:42"
          ]
        },
        {
          "output_type": "stream",
          "name": "stdout",
          "text": [
            "Using mini-batch of size 64 for training\n",
            "torch.Size([1, 168])\n",
            "torch.Size([1, 168])\n",
            "Using mini-batch of size 64 for training\n",
            "torch.Size([1, 168])\n",
            "torch.Size([1, 168])\n",
            "Using mini-batch of size 64 for training\n",
            "torch.Size([1, 168])\n",
            "torch.Size([1, 168])\n"
          ]
        },
        {
          "output_type": "stream",
          "name": "stderr",
          "text": [
            "\r 52% (52 of 100) |###########            | Elapsed Time: 0:01:34 ETA:   0:01:24"
          ]
        },
        {
          "output_type": "stream",
          "name": "stdout",
          "text": [
            "Using mini-batch of size 64 for training\n",
            "torch.Size([1, 168])\n",
            "torch.Size([1, 168])\n",
            "Using mini-batch of size 64 for training\n",
            "torch.Size([1, 168])\n",
            "torch.Size([1, 168])\n",
            "Using mini-batch of size 64 for training\n",
            "torch.Size([1, 168])\n",
            "torch.Size([1, 168])\n"
          ]
        },
        {
          "output_type": "stream",
          "name": "stderr",
          "text": [
            "\r 53% (53 of 100) |############           | Elapsed Time: 0:01:35 ETA:   0:01:20"
          ]
        },
        {
          "output_type": "stream",
          "name": "stdout",
          "text": [
            "Using mini-batch of size 64 for training\n",
            "torch.Size([1, 168])\n",
            "torch.Size([1, 168])\n",
            "Using mini-batch of size 64 for training\n",
            "torch.Size([1, 168])\n",
            "torch.Size([1, 168])\n",
            "Using mini-batch of size 64 for training\n",
            "torch.Size([1, 168])\n",
            "torch.Size([1, 168])\n"
          ]
        },
        {
          "output_type": "stream",
          "name": "stderr",
          "text": [
            "\r 54% (54 of 100) |############           | Elapsed Time: 0:01:37 ETA:   0:01:16"
          ]
        },
        {
          "output_type": "stream",
          "name": "stdout",
          "text": [
            "Using mini-batch of size 64 for training\n",
            "torch.Size([1, 168])\n",
            "torch.Size([1, 168])\n",
            "Using mini-batch of size 64 for training\n",
            "torch.Size([1, 168])\n",
            "torch.Size([1, 168])\n",
            "Using mini-batch of size 64 for training\n",
            "torch.Size([1, 168])\n",
            "torch.Size([1, 168])\n"
          ]
        },
        {
          "output_type": "stream",
          "name": "stderr",
          "text": [
            "\r 55% (55 of 100) |############           | Elapsed Time: 0:01:39 ETA:   0:01:15"
          ]
        },
        {
          "output_type": "stream",
          "name": "stdout",
          "text": [
            "Using mini-batch of size 64 for training\n",
            "torch.Size([1, 168])\n",
            "torch.Size([1, 168])\n",
            "Using mini-batch of size 64 for training\n",
            "torch.Size([1, 168])\n",
            "torch.Size([1, 168])\n",
            "Using mini-batch of size 64 for training\n",
            "torch.Size([1, 168])\n",
            "torch.Size([1, 168])\n"
          ]
        },
        {
          "output_type": "stream",
          "name": "stderr",
          "text": [
            "\r 56% (56 of 100) |############           | Elapsed Time: 0:01:40 ETA:   0:01:13"
          ]
        },
        {
          "output_type": "stream",
          "name": "stdout",
          "text": [
            "Using mini-batch of size 64 for training\n",
            "torch.Size([1, 168])\n",
            "torch.Size([1, 168])\n",
            "Using mini-batch of size 64 for training\n",
            "torch.Size([1, 168])\n",
            "torch.Size([1, 168])\n",
            "Using mini-batch of size 64 for training\n",
            "torch.Size([1, 168])\n",
            "torch.Size([1, 168])\n"
          ]
        },
        {
          "output_type": "stream",
          "name": "stderr",
          "text": [
            "\r 57% (57 of 100) |#############          | Elapsed Time: 0:01:43 ETA:   0:01:40"
          ]
        },
        {
          "output_type": "stream",
          "name": "stdout",
          "text": [
            "Using mini-batch of size 64 for training\n",
            "torch.Size([1, 168])\n",
            "torch.Size([1, 168])\n",
            "Using mini-batch of size 64 for training\n",
            "torch.Size([1, 168])\n",
            "torch.Size([1, 168])\n",
            "Using mini-batch of size 64 for training\n",
            "torch.Size([1, 168])\n",
            "torch.Size([1, 168])\n"
          ]
        },
        {
          "output_type": "stream",
          "name": "stderr",
          "text": [
            "\r 58% (58 of 100) |#############          | Elapsed Time: 0:01:45 ETA:   0:01:36"
          ]
        },
        {
          "output_type": "stream",
          "name": "stdout",
          "text": [
            "Using mini-batch of size 64 for training\n",
            "torch.Size([1, 168])\n",
            "torch.Size([1, 168])\n",
            "Using mini-batch of size 64 for training\n",
            "torch.Size([1, 168])\n",
            "torch.Size([1, 168])\n",
            "Using mini-batch of size 64 for training\n",
            "torch.Size([1, 168])\n",
            "torch.Size([1, 168])\n"
          ]
        },
        {
          "output_type": "stream",
          "name": "stderr",
          "text": [
            "\r 59% (59 of 100) |#############          | Elapsed Time: 0:01:47 ETA:   0:01:20"
          ]
        },
        {
          "output_type": "stream",
          "name": "stdout",
          "text": [
            "Using mini-batch of size 64 for training\n",
            "torch.Size([1, 168])\n",
            "torch.Size([1, 168])\n",
            "Using mini-batch of size 64 for training\n",
            "torch.Size([1, 168])\n",
            "torch.Size([1, 168])\n",
            "Using mini-batch of size 64 for training\n",
            "torch.Size([1, 168])\n",
            "torch.Size([1, 168])\n"
          ]
        },
        {
          "output_type": "stream",
          "name": "stderr",
          "text": [
            "\r 60% (60 of 100) |#############          | Elapsed Time: 0:01:48 ETA:   0:01:05"
          ]
        },
        {
          "output_type": "stream",
          "name": "stdout",
          "text": [
            "Using mini-batch of size 64 for training\n",
            "torch.Size([1, 168])\n",
            "torch.Size([1, 168])\n",
            "Using mini-batch of size 64 for training\n",
            "torch.Size([1, 168])\n",
            "torch.Size([1, 168])\n",
            "Using mini-batch of size 64 for training\n",
            "torch.Size([1, 168])\n",
            "torch.Size([1, 168])\n"
          ]
        },
        {
          "output_type": "stream",
          "name": "stderr",
          "text": [
            "\r 61% (61 of 100) |##############         | Elapsed Time: 0:01:50 ETA:   0:01:02"
          ]
        },
        {
          "output_type": "stream",
          "name": "stdout",
          "text": [
            "Using mini-batch of size 64 for training\n",
            "torch.Size([1, 168])\n",
            "torch.Size([1, 168])\n",
            "Using mini-batch of size 64 for training\n",
            "torch.Size([1, 168])\n",
            "torch.Size([1, 168])\n",
            "Using mini-batch of size 64 for training\n",
            "torch.Size([1, 168])\n",
            "torch.Size([1, 168])\n"
          ]
        },
        {
          "output_type": "stream",
          "name": "stderr",
          "text": [
            "\r 62% (62 of 100) |##############         | Elapsed Time: 0:01:51 ETA:   0:00:58"
          ]
        },
        {
          "output_type": "stream",
          "name": "stdout",
          "text": [
            "Using mini-batch of size 64 for training\n",
            "torch.Size([1, 168])\n",
            "torch.Size([1, 168])\n",
            "Using mini-batch of size 64 for training\n",
            "torch.Size([1, 168])\n",
            "torch.Size([1, 168])\n",
            "Using mini-batch of size 64 for training\n",
            "torch.Size([1, 168])\n",
            "torch.Size([1, 168])\n"
          ]
        },
        {
          "output_type": "stream",
          "name": "stderr",
          "text": [
            "\r 63% (63 of 100) |##############         | Elapsed Time: 0:01:53 ETA:   0:00:58"
          ]
        },
        {
          "output_type": "stream",
          "name": "stdout",
          "text": [
            "Using mini-batch of size 64 for training\n",
            "torch.Size([1, 168])\n",
            "torch.Size([1, 168])\n",
            "Using mini-batch of size 64 for training\n",
            "torch.Size([1, 168])\n",
            "torch.Size([1, 168])\n",
            "Using mini-batch of size 64 for training\n",
            "torch.Size([1, 168])\n",
            "torch.Size([1, 168])\n"
          ]
        },
        {
          "output_type": "stream",
          "name": "stderr",
          "text": [
            "\r 64% (64 of 100) |##############         | Elapsed Time: 0:01:55 ETA:   0:01:00"
          ]
        },
        {
          "output_type": "stream",
          "name": "stdout",
          "text": [
            "Using mini-batch of size 64 for training\n",
            "torch.Size([1, 168])\n",
            "torch.Size([1, 168])\n",
            "Using mini-batch of size 64 for training\n",
            "torch.Size([1, 168])\n",
            "torch.Size([1, 168])\n",
            "Using mini-batch of size 64 for training\n",
            "torch.Size([1, 168])\n",
            "torch.Size([1, 168])\n"
          ]
        },
        {
          "output_type": "stream",
          "name": "stderr",
          "text": [
            "\r 65% (65 of 100) |##############         | Elapsed Time: 0:01:57 ETA:   0:01:14"
          ]
        },
        {
          "output_type": "stream",
          "name": "stdout",
          "text": [
            "Using mini-batch of size 64 for training\n",
            "torch.Size([1, 168])\n",
            "torch.Size([1, 168])\n",
            "Using mini-batch of size 64 for training\n",
            "torch.Size([1, 168])\n",
            "torch.Size([1, 168])\n",
            "Using mini-batch of size 64 for training\n",
            "torch.Size([1, 168])\n",
            "torch.Size([1, 168])\n"
          ]
        },
        {
          "output_type": "stream",
          "name": "stderr",
          "text": [
            "\r 66% (66 of 100) |###############        | Elapsed Time: 0:01:59 ETA:   0:01:13"
          ]
        },
        {
          "output_type": "stream",
          "name": "stdout",
          "text": [
            "Using mini-batch of size 64 for training\n",
            "torch.Size([1, 168])\n",
            "torch.Size([1, 168])\n",
            "Using mini-batch of size 64 for training\n",
            "torch.Size([1, 168])\n",
            "torch.Size([1, 168])\n",
            "Using mini-batch of size 64 for training\n",
            "torch.Size([1, 168])\n",
            "torch.Size([1, 168])\n"
          ]
        },
        {
          "output_type": "stream",
          "name": "stderr",
          "text": [
            "\r 67% (67 of 100) |###############        | Elapsed Time: 0:02:01 ETA:   0:01:04"
          ]
        },
        {
          "output_type": "stream",
          "name": "stdout",
          "text": [
            "Using mini-batch of size 64 for training\n",
            "torch.Size([1, 168])\n",
            "torch.Size([1, 168])\n",
            "Using mini-batch of size 64 for training\n",
            "torch.Size([1, 168])\n",
            "torch.Size([1, 168])\n",
            "Using mini-batch of size 64 for training\n",
            "torch.Size([1, 168])\n",
            "torch.Size([1, 168])\n"
          ]
        },
        {
          "output_type": "stream",
          "name": "stderr",
          "text": [
            "\r 68% (68 of 100) |###############        | Elapsed Time: 0:02:02 ETA:   0:00:54"
          ]
        },
        {
          "output_type": "stream",
          "name": "stdout",
          "text": [
            "Using mini-batch of size 64 for training\n",
            "torch.Size([1, 168])\n",
            "torch.Size([1, 168])\n",
            "Using mini-batch of size 64 for training\n",
            "torch.Size([1, 168])\n",
            "torch.Size([1, 168])\n",
            "Using mini-batch of size 64 for training\n",
            "torch.Size([1, 168])\n",
            "torch.Size([1, 168])\n"
          ]
        },
        {
          "output_type": "stream",
          "name": "stderr",
          "text": [
            "\r 69% (69 of 100) |###############        | Elapsed Time: 0:02:04 ETA:   0:00:50"
          ]
        },
        {
          "output_type": "stream",
          "name": "stdout",
          "text": [
            "Using mini-batch of size 64 for training\n",
            "torch.Size([1, 168])\n",
            "torch.Size([1, 168])\n",
            "Using mini-batch of size 64 for training\n",
            "torch.Size([1, 168])\n",
            "torch.Size([1, 168])\n",
            "Using mini-batch of size 64 for training\n",
            "torch.Size([1, 168])\n",
            "torch.Size([1, 168])\n"
          ]
        },
        {
          "output_type": "stream",
          "name": "stderr",
          "text": [
            "\r 70% (70 of 100) |################       | Elapsed Time: 0:02:06 ETA:   0:00:48"
          ]
        },
        {
          "output_type": "stream",
          "name": "stdout",
          "text": [
            "Using mini-batch of size 64 for training\n",
            "torch.Size([1, 168])\n",
            "torch.Size([1, 168])\n",
            "Using mini-batch of size 64 for training\n",
            "torch.Size([1, 168])\n",
            "torch.Size([1, 168])\n",
            "Using mini-batch of size 64 for training\n",
            "torch.Size([1, 168])\n",
            "torch.Size([1, 168])\n"
          ]
        },
        {
          "output_type": "stream",
          "name": "stderr",
          "text": [
            "\r 71% (71 of 100) |################       | Elapsed Time: 0:02:07 ETA:   0:00:47"
          ]
        },
        {
          "output_type": "stream",
          "name": "stdout",
          "text": [
            "Using mini-batch of size 64 for training\n",
            "torch.Size([1, 168])\n",
            "torch.Size([1, 168])\n",
            "Using mini-batch of size 64 for training\n",
            "torch.Size([1, 168])\n",
            "torch.Size([1, 168])\n",
            "Using mini-batch of size 64 for training\n",
            "torch.Size([1, 168])\n",
            "torch.Size([1, 168])\n"
          ]
        },
        {
          "output_type": "stream",
          "name": "stderr",
          "text": [
            "\r 72% (72 of 100) |################       | Elapsed Time: 0:02:09 ETA:   0:00:46"
          ]
        },
        {
          "output_type": "stream",
          "name": "stdout",
          "text": [
            "Using mini-batch of size 64 for training\n",
            "torch.Size([1, 168])\n",
            "torch.Size([1, 168])\n",
            "Using mini-batch of size 64 for training\n",
            "torch.Size([1, 168])\n",
            "torch.Size([1, 168])\n",
            "Using mini-batch of size 64 for training\n",
            "torch.Size([1, 168])\n",
            "torch.Size([1, 168])\n"
          ]
        },
        {
          "output_type": "stream",
          "name": "stderr",
          "text": [
            "\r 73% (73 of 100) |################       | Elapsed Time: 0:02:11 ETA:   0:00:54"
          ]
        },
        {
          "output_type": "stream",
          "name": "stdout",
          "text": [
            "Using mini-batch of size 64 for training\n",
            "torch.Size([1, 168])\n",
            "torch.Size([1, 168])\n",
            "Using mini-batch of size 64 for training\n",
            "torch.Size([1, 168])\n",
            "torch.Size([1, 168])\n",
            "Using mini-batch of size 64 for training\n",
            "torch.Size([1, 168])\n",
            "torch.Size([1, 168])\n"
          ]
        },
        {
          "output_type": "stream",
          "name": "stderr",
          "text": [
            "\r 74% (74 of 100) |#################      | Elapsed Time: 0:02:13 ETA:   0:00:56"
          ]
        },
        {
          "output_type": "stream",
          "name": "stdout",
          "text": [
            "Using mini-batch of size 64 for training\n",
            "torch.Size([1, 168])\n",
            "torch.Size([1, 168])\n",
            "Using mini-batch of size 64 for training\n",
            "torch.Size([1, 168])\n",
            "torch.Size([1, 168])\n",
            "Using mini-batch of size 64 for training\n",
            "torch.Size([1, 168])\n",
            "torch.Size([1, 168])\n"
          ]
        },
        {
          "output_type": "stream",
          "name": "stderr",
          "text": [
            "\r 75% (75 of 100) |#################      | Elapsed Time: 0:02:15 ETA:   0:00:49"
          ]
        },
        {
          "output_type": "stream",
          "name": "stdout",
          "text": [
            "Using mini-batch of size 64 for training\n",
            "torch.Size([1, 168])\n",
            "torch.Size([1, 168])\n",
            "Using mini-batch of size 64 for training\n",
            "torch.Size([1, 168])\n",
            "torch.Size([1, 168])\n",
            "Using mini-batch of size 64 for training\n",
            "torch.Size([1, 168])\n",
            "torch.Size([1, 168])\n"
          ]
        },
        {
          "output_type": "stream",
          "name": "stderr",
          "text": [
            "\r 76% (76 of 100) |#################      | Elapsed Time: 0:02:16 ETA:   0:00:40"
          ]
        },
        {
          "output_type": "stream",
          "name": "stdout",
          "text": [
            "Using mini-batch of size 64 for training\n",
            "torch.Size([1, 168])\n",
            "torch.Size([1, 168])\n",
            "Using mini-batch of size 64 for training\n",
            "torch.Size([1, 168])\n",
            "torch.Size([1, 168])\n",
            "Using mini-batch of size 64 for training\n",
            "torch.Size([1, 168])\n",
            "torch.Size([1, 168])\n"
          ]
        },
        {
          "output_type": "stream",
          "name": "stderr",
          "text": [
            "\r 77% (77 of 100) |#################      | Elapsed Time: 0:02:18 ETA:   0:00:36"
          ]
        },
        {
          "output_type": "stream",
          "name": "stdout",
          "text": [
            "Using mini-batch of size 64 for training\n",
            "torch.Size([1, 168])\n",
            "torch.Size([1, 168])\n",
            "Using mini-batch of size 64 for training\n",
            "torch.Size([1, 168])\n",
            "torch.Size([1, 168])\n",
            "Using mini-batch of size 64 for training\n",
            "torch.Size([1, 168])\n",
            "torch.Size([1, 168])\n"
          ]
        },
        {
          "output_type": "stream",
          "name": "stderr",
          "text": [
            "\r 78% (78 of 100) |#################      | Elapsed Time: 0:02:20 ETA:   0:00:36"
          ]
        },
        {
          "output_type": "stream",
          "name": "stdout",
          "text": [
            "Using mini-batch of size 64 for training\n",
            "torch.Size([1, 168])\n",
            "torch.Size([1, 168])\n",
            "Using mini-batch of size 64 for training\n",
            "torch.Size([1, 168])\n",
            "torch.Size([1, 168])\n",
            "Using mini-batch of size 64 for training\n",
            "torch.Size([1, 168])\n",
            "torch.Size([1, 168])\n"
          ]
        },
        {
          "output_type": "stream",
          "name": "stderr",
          "text": [
            "\r 79% (79 of 100) |##################     | Elapsed Time: 0:02:21 ETA:   0:00:34"
          ]
        },
        {
          "output_type": "stream",
          "name": "stdout",
          "text": [
            "Using mini-batch of size 64 for training\n",
            "torch.Size([1, 168])\n",
            "torch.Size([1, 168])\n",
            "Using mini-batch of size 64 for training\n",
            "torch.Size([1, 168])\n",
            "torch.Size([1, 168])\n",
            "Using mini-batch of size 64 for training\n",
            "torch.Size([1, 168])\n",
            "torch.Size([1, 168])\n"
          ]
        },
        {
          "output_type": "stream",
          "name": "stderr",
          "text": [
            "\r 80% (80 of 100) |##################     | Elapsed Time: 0:02:23 ETA:   0:00:31"
          ]
        },
        {
          "output_type": "stream",
          "name": "stdout",
          "text": [
            "Using mini-batch of size 64 for training\n",
            "torch.Size([1, 168])\n",
            "torch.Size([1, 168])\n",
            "Using mini-batch of size 64 for training\n",
            "torch.Size([1, 168])\n",
            "torch.Size([1, 168])\n",
            "Using mini-batch of size 64 for training\n",
            "torch.Size([1, 168])\n",
            "torch.Size([1, 168])\n"
          ]
        },
        {
          "output_type": "stream",
          "name": "stderr",
          "text": [
            "\r 81% (81 of 100) |##################     | Elapsed Time: 0:02:25 ETA:   0:00:31"
          ]
        },
        {
          "output_type": "stream",
          "name": "stdout",
          "text": [
            "Using mini-batch of size 64 for training\n",
            "torch.Size([1, 168])\n",
            "torch.Size([1, 168])\n",
            "Using mini-batch of size 64 for training\n",
            "torch.Size([1, 168])\n",
            "torch.Size([1, 168])\n",
            "Using mini-batch of size 64 for training\n",
            "torch.Size([1, 168])\n",
            "torch.Size([1, 168])\n"
          ]
        },
        {
          "output_type": "stream",
          "name": "stderr",
          "text": [
            "\r 82% (82 of 100) |##################     | Elapsed Time: 0:02:27 ETA:   0:00:40"
          ]
        },
        {
          "output_type": "stream",
          "name": "stdout",
          "text": [
            "Using mini-batch of size 64 for training\n",
            "torch.Size([1, 168])\n",
            "torch.Size([1, 168])\n",
            "Using mini-batch of size 64 for training\n",
            "torch.Size([1, 168])\n",
            "torch.Size([1, 168])\n",
            "Using mini-batch of size 64 for training\n",
            "torch.Size([1, 168])\n",
            "torch.Size([1, 168])\n"
          ]
        },
        {
          "output_type": "stream",
          "name": "stderr",
          "text": [
            "\r 83% (83 of 100) |###################    | Elapsed Time: 0:02:29 ETA:   0:00:34"
          ]
        },
        {
          "output_type": "stream",
          "name": "stdout",
          "text": [
            "Using mini-batch of size 64 for training\n",
            "torch.Size([1, 168])\n",
            "torch.Size([1, 168])\n",
            "Using mini-batch of size 64 for training\n",
            "torch.Size([1, 168])\n",
            "torch.Size([1, 168])\n",
            "Using mini-batch of size 64 for training\n",
            "torch.Size([1, 168])\n",
            "torch.Size([1, 168])\n"
          ]
        },
        {
          "output_type": "stream",
          "name": "stderr",
          "text": [
            "\r 84% (84 of 100) |###################    | Elapsed Time: 0:02:31 ETA:   0:00:28"
          ]
        },
        {
          "output_type": "stream",
          "name": "stdout",
          "text": [
            "Using mini-batch of size 64 for training\n",
            "torch.Size([1, 168])\n",
            "torch.Size([1, 168])\n",
            "Using mini-batch of size 64 for training\n",
            "torch.Size([1, 168])\n",
            "torch.Size([1, 168])\n",
            "Using mini-batch of size 64 for training\n",
            "torch.Size([1, 168])\n",
            "torch.Size([1, 168])\n"
          ]
        },
        {
          "output_type": "stream",
          "name": "stderr",
          "text": [
            "\r 85% (85 of 100) |###################    | Elapsed Time: 0:02:32 ETA:   0:00:24"
          ]
        },
        {
          "output_type": "stream",
          "name": "stdout",
          "text": [
            "Using mini-batch of size 64 for training\n",
            "torch.Size([1, 168])\n",
            "torch.Size([1, 168])\n",
            "Using mini-batch of size 64 for training\n",
            "torch.Size([1, 168])\n",
            "torch.Size([1, 168])\n",
            "Using mini-batch of size 64 for training\n",
            "torch.Size([1, 168])\n",
            "torch.Size([1, 168])\n"
          ]
        },
        {
          "output_type": "stream",
          "name": "stderr",
          "text": [
            "\r 86% (86 of 100) |###################    | Elapsed Time: 0:02:34 ETA:   0:00:22"
          ]
        },
        {
          "output_type": "stream",
          "name": "stdout",
          "text": [
            "Using mini-batch of size 64 for training\n",
            "torch.Size([1, 168])\n",
            "torch.Size([1, 168])\n",
            "Using mini-batch of size 64 for training\n",
            "torch.Size([1, 168])\n",
            "torch.Size([1, 168])\n",
            "Using mini-batch of size 64 for training\n",
            "torch.Size([1, 168])\n",
            "torch.Size([1, 168])\n"
          ]
        },
        {
          "output_type": "stream",
          "name": "stderr",
          "text": [
            "\r 87% (87 of 100) |####################   | Elapsed Time: 0:02:36 ETA:   0:00:28"
          ]
        },
        {
          "output_type": "stream",
          "name": "stdout",
          "text": [
            "Using mini-batch of size 64 for training\n",
            "torch.Size([1, 168])\n",
            "torch.Size([1, 168])\n",
            "Using mini-batch of size 64 for training\n",
            "torch.Size([1, 168])\n",
            "torch.Size([1, 168])\n",
            "Using mini-batch of size 64 for training\n",
            "torch.Size([1, 168])\n",
            "torch.Size([1, 168])\n"
          ]
        },
        {
          "output_type": "stream",
          "name": "stderr",
          "text": [
            "\r 88% (88 of 100) |####################   | Elapsed Time: 0:02:38 ETA:   0:00:23"
          ]
        },
        {
          "output_type": "stream",
          "name": "stdout",
          "text": [
            "Using mini-batch of size 64 for training\n",
            "torch.Size([1, 168])\n",
            "torch.Size([1, 168])\n",
            "Using mini-batch of size 64 for training\n",
            "torch.Size([1, 168])\n",
            "torch.Size([1, 168])\n",
            "Using mini-batch of size 64 for training\n",
            "torch.Size([1, 168])\n",
            "torch.Size([1, 168])\n"
          ]
        },
        {
          "output_type": "stream",
          "name": "stderr",
          "text": [
            "\r 89% (89 of 100) |####################   | Elapsed Time: 0:02:40 ETA:   0:00:23"
          ]
        },
        {
          "output_type": "stream",
          "name": "stdout",
          "text": [
            "Using mini-batch of size 64 for training\n",
            "torch.Size([1, 168])\n",
            "torch.Size([1, 168])\n",
            "Using mini-batch of size 64 for training\n",
            "torch.Size([1, 168])\n",
            "torch.Size([1, 168])\n",
            "Using mini-batch of size 64 for training\n",
            "torch.Size([1, 168])\n",
            "torch.Size([1, 168])\n"
          ]
        },
        {
          "output_type": "stream",
          "name": "stderr",
          "text": [
            "\r 90% (90 of 100) |####################   | Elapsed Time: 0:02:42 ETA:   0:00:23"
          ]
        },
        {
          "output_type": "stream",
          "name": "stdout",
          "text": [
            "Using mini-batch of size 64 for training\n",
            "torch.Size([1, 168])\n",
            "torch.Size([1, 168])\n",
            "Using mini-batch of size 64 for training\n",
            "torch.Size([1, 168])\n",
            "torch.Size([1, 168])\n",
            "Using mini-batch of size 64 for training\n",
            "torch.Size([1, 168])\n",
            "torch.Size([1, 168])\n"
          ]
        },
        {
          "output_type": "stream",
          "name": "stderr",
          "text": [
            "\r 91% (91 of 100) |####################   | Elapsed Time: 0:02:44 ETA:   0:00:18"
          ]
        },
        {
          "output_type": "stream",
          "name": "stdout",
          "text": [
            "Using mini-batch of size 64 for training\n",
            "torch.Size([1, 168])\n",
            "torch.Size([1, 168])\n",
            "Using mini-batch of size 64 for training\n",
            "torch.Size([1, 168])\n",
            "torch.Size([1, 168])\n",
            "Using mini-batch of size 64 for training\n",
            "torch.Size([1, 168])\n",
            "torch.Size([1, 168])\n"
          ]
        },
        {
          "output_type": "stream",
          "name": "stderr",
          "text": [
            "\r 92% (92 of 100) |#####################  | Elapsed Time: 0:02:45 ETA:   0:00:13"
          ]
        },
        {
          "output_type": "stream",
          "name": "stdout",
          "text": [
            "Using mini-batch of size 64 for training\n",
            "torch.Size([1, 168])\n",
            "torch.Size([1, 168])\n",
            "Using mini-batch of size 64 for training\n",
            "torch.Size([1, 168])\n",
            "torch.Size([1, 168])\n",
            "Using mini-batch of size 64 for training\n",
            "torch.Size([1, 168])\n",
            "torch.Size([1, 168])\n"
          ]
        },
        {
          "output_type": "stream",
          "name": "stderr",
          "text": [
            "\r 93% (93 of 100) |#####################  | Elapsed Time: 0:02:47 ETA:   0:00:10"
          ]
        },
        {
          "output_type": "stream",
          "name": "stdout",
          "text": [
            "Using mini-batch of size 64 for training\n",
            "torch.Size([1, 168])\n",
            "torch.Size([1, 168])\n",
            "Using mini-batch of size 64 for training\n",
            "torch.Size([1, 168])\n",
            "torch.Size([1, 168])\n",
            "Using mini-batch of size 64 for training\n",
            "torch.Size([1, 168])\n",
            "torch.Size([1, 168])\n"
          ]
        },
        {
          "output_type": "stream",
          "name": "stderr",
          "text": [
            "\r 94% (94 of 100) |#####################  | Elapsed Time: 0:02:48 ETA:   0:00:08"
          ]
        },
        {
          "output_type": "stream",
          "name": "stdout",
          "text": [
            "Using mini-batch of size 64 for training\n",
            "torch.Size([1, 168])\n",
            "torch.Size([1, 168])\n",
            "Using mini-batch of size 64 for training\n",
            "torch.Size([1, 168])\n",
            "torch.Size([1, 168])\n",
            "Using mini-batch of size 64 for training\n",
            "torch.Size([1, 168])\n",
            "torch.Size([1, 168])\n"
          ]
        },
        {
          "output_type": "stream",
          "name": "stderr",
          "text": [
            "\r 95% (95 of 100) |#####################  | Elapsed Time: 0:02:50 ETA:   0:00:07"
          ]
        },
        {
          "output_type": "stream",
          "name": "stdout",
          "text": [
            "Using mini-batch of size 64 for training\n",
            "torch.Size([1, 168])\n",
            "torch.Size([1, 168])\n",
            "Using mini-batch of size 64 for training\n",
            "torch.Size([1, 168])\n",
            "torch.Size([1, 168])\n",
            "Using mini-batch of size 64 for training\n",
            "torch.Size([1, 168])\n",
            "torch.Size([1, 168])\n"
          ]
        },
        {
          "output_type": "stream",
          "name": "stderr",
          "text": [
            "\r 96% (96 of 100) |###################### | Elapsed Time: 0:02:52 ETA:   0:00:06"
          ]
        },
        {
          "output_type": "stream",
          "name": "stdout",
          "text": [
            "Using mini-batch of size 64 for training\n",
            "torch.Size([1, 168])\n",
            "torch.Size([1, 168])\n",
            "Using mini-batch of size 64 for training\n",
            "torch.Size([1, 168])\n",
            "torch.Size([1, 168])\n",
            "Using mini-batch of size 64 for training\n",
            "torch.Size([1, 168])\n",
            "torch.Size([1, 168])\n"
          ]
        },
        {
          "output_type": "stream",
          "name": "stderr",
          "text": [
            "\r 97% (97 of 100) |###################### | Elapsed Time: 0:02:54 ETA:   0:00:05"
          ]
        },
        {
          "output_type": "stream",
          "name": "stdout",
          "text": [
            "Using mini-batch of size 64 for training\n",
            "torch.Size([1, 168])\n",
            "torch.Size([1, 168])\n",
            "Using mini-batch of size 64 for training\n",
            "torch.Size([1, 168])\n",
            "torch.Size([1, 168])\n",
            "Using mini-batch of size 64 for training\n",
            "torch.Size([1, 168])\n",
            "torch.Size([1, 168])\n"
          ]
        },
        {
          "output_type": "stream",
          "name": "stderr",
          "text": [
            "\r 98% (98 of 100) |###################### | Elapsed Time: 0:02:56 ETA:   0:00:04"
          ]
        },
        {
          "output_type": "stream",
          "name": "stdout",
          "text": [
            "Using mini-batch of size 64 for training\n",
            "torch.Size([1, 168])\n",
            "torch.Size([1, 168])\n",
            "Using mini-batch of size 64 for training\n",
            "torch.Size([1, 168])\n",
            "torch.Size([1, 168])\n",
            "Using mini-batch of size 64 for training\n",
            "torch.Size([1, 168])\n",
            "torch.Size([1, 168])\n"
          ]
        },
        {
          "output_type": "stream",
          "name": "stderr",
          "text": [
            "\r 99% (99 of 100) |###################### | Elapsed Time: 0:02:58 ETA:   0:00:02"
          ]
        },
        {
          "output_type": "stream",
          "name": "stdout",
          "text": [
            "Using mini-batch of size 64 for training\n",
            "torch.Size([1, 168])\n",
            "torch.Size([1, 168])\n",
            "Using mini-batch of size 64 for training\n",
            "torch.Size([1, 168])\n",
            "torch.Size([1, 168])\n",
            "Using mini-batch of size 64 for training\n",
            "torch.Size([1, 168])\n",
            "torch.Size([1, 168])\n"
          ]
        },
        {
          "output_type": "stream",
          "name": "stderr",
          "text": [
            "100% (100 of 100) |######################| Elapsed Time: 0:03:01 Time:  0:03:01\n",
            "100%|██████████| 100/100 [00:14<00:00,  6.86it/s]\n"
          ]
        }
      ]
    },
    {
      "cell_type": "markdown",
      "source": [
        "## **Testing Multi-quantile loss**"
      ],
      "metadata": {
        "id": "PeboNg2VjpTa"
      }
    },
    {
      "cell_type": "code",
      "source": [
        "# quantiles = []\n",
        "# ar = np.arange(0, 101, 1)\n",
        "# for i in ar:\n",
        "#   alpha = (100-i)\n",
        "#   q = np.percentile(result, [100 - alpha], axis=1).ravel()\n",
        "#   quantiles.append(q)\n",
        "\n",
        "# quantiles = np.asarray(quantiles)"
      ],
      "metadata": {
        "id": "BMLxKt5FckKr"
      },
      "execution_count": 25,
      "outputs": []
    },
    {
      "cell_type": "code",
      "source": [
        "# # Compute the quantiles of the forecasts\n",
        "# quantiles = []\n",
        "# ar = np.arange(0, 101, 1)\n",
        "# for i in ar:\n",
        "#   alpha = (100-i)\n",
        "#   q = np.percentile(result, [100 - alpha], axis=1).ravel()\n",
        "#   quantiles.append(q)\n",
        "# quantiles = np.asarray(quantiles).reshape(-1, len(ar))\n",
        "\n",
        "# # Compute the multi-quantile loss\n",
        "# # absolute error: dim (num_periods, ) \\hat{y}_{t1}^{q00} - y_{t1} .... \\hat{y}_{t1}^{q100} - y_{t1}\n",
        "# #                                                 ...\n",
        "# #                                     \\hat{y}_{tN}^{q00} - y_{tN} .... \\hat{y}_{tN}^{q100} - y_{tN}\n",
        "\n",
        "# qs = np.arange(0, 1.01, 0.01)\n",
        "# L = np.zeros_like(y_forecast_test.ravel()).astype(np.float64)\n",
        "# for i, q in enumerate(qs):\n",
        "#   err = np.swapaxes(y_forecast_test, 1, 0).ravel() - quantiles[:, i]\n",
        "#   L += np.maximum(err, np.zeros_like(err)) * (1 - q) + q * np.maximum(-err, np.zeros_like(err))\n",
        "\n",
        "# mqloss = (1/y_forecast_test.shape[1]) * L.mean(axis = 0)"
      ],
      "metadata": {
        "id": "4i83vfUcoW41"
      },
      "execution_count": 26,
      "outputs": []
    },
    {
      "cell_type": "markdown",
      "source": [
        "## **Evaluation**"
      ],
      "metadata": {
        "id": "3INo99bejusJ"
      }
    },
    {
      "cell_type": "code",
      "source": [
        "alpha = (100 - params['credible_interval']) / 2\n",
        "median_forecast = np.median(result, axis=1)\n",
        "result_deepfactor = evaluate(yforecast_test, median_forecast, result)\n",
        "result_deepfactor['Model'] = 'Deep Factor'"
      ],
      "metadata": {
        "id": "1w5-O-bWh8vt"
      },
      "execution_count": 27,
      "outputs": []
    },
    {
      "cell_type": "code",
      "source": [
        "result_deepfactor"
      ],
      "metadata": {
        "colab": {
          "base_uri": "https://localhost:8080/",
          "height": 206
        },
        "id": "yQSlM3G_CxDa",
        "outputId": "2fb71384-4927-4144-acfa-73713c8e9b7a"
      },
      "execution_count": 28,
      "outputs": [
        {
          "output_type": "execute_result",
          "data": {
            "text/plain": [
              "  Metric         Value        Model\n",
              "0    mse  27032.847683  Deep Factor\n",
              "1   mase      0.625958  Deep Factor\n",
              "2  rmsse      0.566409  Deep Factor\n",
              "3   mape      4.384458  Deep Factor\n",
              "4    mae    132.735021  Deep Factor"
            ],
            "text/html": [
              "\n",
              "  <div id=\"df-588f1857-ff8e-4b47-b818-e03809a63343\" class=\"colab-df-container\">\n",
              "    <div>\n",
              "<style scoped>\n",
              "    .dataframe tbody tr th:only-of-type {\n",
              "        vertical-align: middle;\n",
              "    }\n",
              "\n",
              "    .dataframe tbody tr th {\n",
              "        vertical-align: top;\n",
              "    }\n",
              "\n",
              "    .dataframe thead th {\n",
              "        text-align: right;\n",
              "    }\n",
              "</style>\n",
              "<table border=\"1\" class=\"dataframe\">\n",
              "  <thead>\n",
              "    <tr style=\"text-align: right;\">\n",
              "      <th></th>\n",
              "      <th>Metric</th>\n",
              "      <th>Value</th>\n",
              "      <th>Model</th>\n",
              "    </tr>\n",
              "  </thead>\n",
              "  <tbody>\n",
              "    <tr>\n",
              "      <th>0</th>\n",
              "      <td>mse</td>\n",
              "      <td>27032.847683</td>\n",
              "      <td>Deep Factor</td>\n",
              "    </tr>\n",
              "    <tr>\n",
              "      <th>1</th>\n",
              "      <td>mase</td>\n",
              "      <td>0.625958</td>\n",
              "      <td>Deep Factor</td>\n",
              "    </tr>\n",
              "    <tr>\n",
              "      <th>2</th>\n",
              "      <td>rmsse</td>\n",
              "      <td>0.566409</td>\n",
              "      <td>Deep Factor</td>\n",
              "    </tr>\n",
              "    <tr>\n",
              "      <th>3</th>\n",
              "      <td>mape</td>\n",
              "      <td>4.384458</td>\n",
              "      <td>Deep Factor</td>\n",
              "    </tr>\n",
              "    <tr>\n",
              "      <th>4</th>\n",
              "      <td>mae</td>\n",
              "      <td>132.735021</td>\n",
              "      <td>Deep Factor</td>\n",
              "    </tr>\n",
              "  </tbody>\n",
              "</table>\n",
              "</div>\n",
              "    <div class=\"colab-df-buttons\">\n",
              "\n",
              "  <div class=\"colab-df-container\">\n",
              "    <button class=\"colab-df-convert\" onclick=\"convertToInteractive('df-588f1857-ff8e-4b47-b818-e03809a63343')\"\n",
              "            title=\"Convert this dataframe to an interactive table.\"\n",
              "            style=\"display:none;\">\n",
              "\n",
              "  <svg xmlns=\"http://www.w3.org/2000/svg\" height=\"24px\" viewBox=\"0 -960 960 960\">\n",
              "    <path d=\"M120-120v-720h720v720H120Zm60-500h600v-160H180v160Zm220 220h160v-160H400v160Zm0 220h160v-160H400v160ZM180-400h160v-160H180v160Zm440 0h160v-160H620v160ZM180-180h160v-160H180v160Zm440 0h160v-160H620v160Z\"/>\n",
              "  </svg>\n",
              "    </button>\n",
              "\n",
              "  <style>\n",
              "    .colab-df-container {\n",
              "      display:flex;\n",
              "      gap: 12px;\n",
              "    }\n",
              "\n",
              "    .colab-df-convert {\n",
              "      background-color: #E8F0FE;\n",
              "      border: none;\n",
              "      border-radius: 50%;\n",
              "      cursor: pointer;\n",
              "      display: none;\n",
              "      fill: #1967D2;\n",
              "      height: 32px;\n",
              "      padding: 0 0 0 0;\n",
              "      width: 32px;\n",
              "    }\n",
              "\n",
              "    .colab-df-convert:hover {\n",
              "      background-color: #E2EBFA;\n",
              "      box-shadow: 0px 1px 2px rgba(60, 64, 67, 0.3), 0px 1px 3px 1px rgba(60, 64, 67, 0.15);\n",
              "      fill: #174EA6;\n",
              "    }\n",
              "\n",
              "    .colab-df-buttons div {\n",
              "      margin-bottom: 4px;\n",
              "    }\n",
              "\n",
              "    [theme=dark] .colab-df-convert {\n",
              "      background-color: #3B4455;\n",
              "      fill: #D2E3FC;\n",
              "    }\n",
              "\n",
              "    [theme=dark] .colab-df-convert:hover {\n",
              "      background-color: #434B5C;\n",
              "      box-shadow: 0px 1px 3px 1px rgba(0, 0, 0, 0.15);\n",
              "      filter: drop-shadow(0px 1px 2px rgba(0, 0, 0, 0.3));\n",
              "      fill: #FFFFFF;\n",
              "    }\n",
              "  </style>\n",
              "\n",
              "    <script>\n",
              "      const buttonEl =\n",
              "        document.querySelector('#df-588f1857-ff8e-4b47-b818-e03809a63343 button.colab-df-convert');\n",
              "      buttonEl.style.display =\n",
              "        google.colab.kernel.accessAllowed ? 'block' : 'none';\n",
              "\n",
              "      async function convertToInteractive(key) {\n",
              "        const element = document.querySelector('#df-588f1857-ff8e-4b47-b818-e03809a63343');\n",
              "        const dataTable =\n",
              "          await google.colab.kernel.invokeFunction('convertToInteractive',\n",
              "                                                    [key], {});\n",
              "        if (!dataTable) return;\n",
              "\n",
              "        const docLinkHtml = 'Like what you see? Visit the ' +\n",
              "          '<a target=\"_blank\" href=https://colab.research.google.com/notebooks/data_table.ipynb>data table notebook</a>'\n",
              "          + ' to learn more about interactive tables.';\n",
              "        element.innerHTML = '';\n",
              "        dataTable['output_type'] = 'display_data';\n",
              "        await google.colab.output.renderOutput(dataTable, element);\n",
              "        const docLink = document.createElement('div');\n",
              "        docLink.innerHTML = docLinkHtml;\n",
              "        element.appendChild(docLink);\n",
              "      }\n",
              "    </script>\n",
              "  </div>\n",
              "\n",
              "\n",
              "<div id=\"df-12bca4de-e45a-4e26-8dd6-8570f37ea9d6\">\n",
              "  <button class=\"colab-df-quickchart\" onclick=\"quickchart('df-12bca4de-e45a-4e26-8dd6-8570f37ea9d6')\"\n",
              "            title=\"Suggest charts.\"\n",
              "            style=\"display:none;\">\n",
              "\n",
              "<svg xmlns=\"http://www.w3.org/2000/svg\" height=\"24px\"viewBox=\"0 0 24 24\"\n",
              "     width=\"24px\">\n",
              "    <g>\n",
              "        <path d=\"M19 3H5c-1.1 0-2 .9-2 2v14c0 1.1.9 2 2 2h14c1.1 0 2-.9 2-2V5c0-1.1-.9-2-2-2zM9 17H7v-7h2v7zm4 0h-2V7h2v10zm4 0h-2v-4h2v4z\"/>\n",
              "    </g>\n",
              "</svg>\n",
              "  </button>\n",
              "\n",
              "<style>\n",
              "  .colab-df-quickchart {\n",
              "      --bg-color: #E8F0FE;\n",
              "      --fill-color: #1967D2;\n",
              "      --hover-bg-color: #E2EBFA;\n",
              "      --hover-fill-color: #174EA6;\n",
              "      --disabled-fill-color: #AAA;\n",
              "      --disabled-bg-color: #DDD;\n",
              "  }\n",
              "\n",
              "  [theme=dark] .colab-df-quickchart {\n",
              "      --bg-color: #3B4455;\n",
              "      --fill-color: #D2E3FC;\n",
              "      --hover-bg-color: #434B5C;\n",
              "      --hover-fill-color: #FFFFFF;\n",
              "      --disabled-bg-color: #3B4455;\n",
              "      --disabled-fill-color: #666;\n",
              "  }\n",
              "\n",
              "  .colab-df-quickchart {\n",
              "    background-color: var(--bg-color);\n",
              "    border: none;\n",
              "    border-radius: 50%;\n",
              "    cursor: pointer;\n",
              "    display: none;\n",
              "    fill: var(--fill-color);\n",
              "    height: 32px;\n",
              "    padding: 0;\n",
              "    width: 32px;\n",
              "  }\n",
              "\n",
              "  .colab-df-quickchart:hover {\n",
              "    background-color: var(--hover-bg-color);\n",
              "    box-shadow: 0 1px 2px rgba(60, 64, 67, 0.3), 0 1px 3px 1px rgba(60, 64, 67, 0.15);\n",
              "    fill: var(--button-hover-fill-color);\n",
              "  }\n",
              "\n",
              "  .colab-df-quickchart-complete:disabled,\n",
              "  .colab-df-quickchart-complete:disabled:hover {\n",
              "    background-color: var(--disabled-bg-color);\n",
              "    fill: var(--disabled-fill-color);\n",
              "    box-shadow: none;\n",
              "  }\n",
              "\n",
              "  .colab-df-spinner {\n",
              "    border: 2px solid var(--fill-color);\n",
              "    border-color: transparent;\n",
              "    border-bottom-color: var(--fill-color);\n",
              "    animation:\n",
              "      spin 1s steps(1) infinite;\n",
              "  }\n",
              "\n",
              "  @keyframes spin {\n",
              "    0% {\n",
              "      border-color: transparent;\n",
              "      border-bottom-color: var(--fill-color);\n",
              "      border-left-color: var(--fill-color);\n",
              "    }\n",
              "    20% {\n",
              "      border-color: transparent;\n",
              "      border-left-color: var(--fill-color);\n",
              "      border-top-color: var(--fill-color);\n",
              "    }\n",
              "    30% {\n",
              "      border-color: transparent;\n",
              "      border-left-color: var(--fill-color);\n",
              "      border-top-color: var(--fill-color);\n",
              "      border-right-color: var(--fill-color);\n",
              "    }\n",
              "    40% {\n",
              "      border-color: transparent;\n",
              "      border-right-color: var(--fill-color);\n",
              "      border-top-color: var(--fill-color);\n",
              "    }\n",
              "    60% {\n",
              "      border-color: transparent;\n",
              "      border-right-color: var(--fill-color);\n",
              "    }\n",
              "    80% {\n",
              "      border-color: transparent;\n",
              "      border-right-color: var(--fill-color);\n",
              "      border-bottom-color: var(--fill-color);\n",
              "    }\n",
              "    90% {\n",
              "      border-color: transparent;\n",
              "      border-bottom-color: var(--fill-color);\n",
              "    }\n",
              "  }\n",
              "</style>\n",
              "\n",
              "  <script>\n",
              "    async function quickchart(key) {\n",
              "      const quickchartButtonEl =\n",
              "        document.querySelector('#' + key + ' button');\n",
              "      quickchartButtonEl.disabled = true;  // To prevent multiple clicks.\n",
              "      quickchartButtonEl.classList.add('colab-df-spinner');\n",
              "      try {\n",
              "        const charts = await google.colab.kernel.invokeFunction(\n",
              "            'suggestCharts', [key], {});\n",
              "      } catch (error) {\n",
              "        console.error('Error during call to suggestCharts:', error);\n",
              "      }\n",
              "      quickchartButtonEl.classList.remove('colab-df-spinner');\n",
              "      quickchartButtonEl.classList.add('colab-df-quickchart-complete');\n",
              "    }\n",
              "    (() => {\n",
              "      let quickchartButtonEl =\n",
              "        document.querySelector('#df-12bca4de-e45a-4e26-8dd6-8570f37ea9d6 button');\n",
              "      quickchartButtonEl.style.display =\n",
              "        google.colab.kernel.accessAllowed ? 'block' : 'none';\n",
              "    })();\n",
              "  </script>\n",
              "</div>\n",
              "    </div>\n",
              "  </div>\n"
            ]
          },
          "metadata": {},
          "execution_count": 28
        }
      ]
    },
    {
      "cell_type": "code",
      "source": [
        "#title Default title text\n",
        "plt.plot(range(len(losses)), losses, \"k-\")\n",
        "plt.xlabel(\"Period\")\n",
        "plt.ylabel(\"Loss\")\n",
        "plt.show()"
      ],
      "metadata": {
        "colab": {
          "base_uri": "https://localhost:8080/",
          "height": 449
        },
        "id": "77gCJJd3hAch",
        "outputId": "d0b01ecd-a5e3-4fc0-d494-012614100cf7"
      },
      "execution_count": 29,
      "outputs": [
        {
          "output_type": "display_data",
          "data": {
            "text/plain": [
              "<Figure size 640x480 with 1 Axes>"
            ],
            "image/png": "[encoded data removed]"
          },
          "metadata": {}
        }
      ]
    },
    {
      "cell_type": "markdown",
      "source": [
        "## **Plotting Forecasts**\n",
        "\n",
        "\n"
      ],
      "metadata": {
        "id": "yiezbM41th91"
      }
    },
    {
      "cell_type": "code",
      "source": [
        "y_true_plot = np.hstack((scaler_target.inverse_transform(ytest), yforecast_test))\n",
        "# upper = np.quantile(result, 0.975, axis=1)\n",
        "# lower = np.quantile(result, 0.025, axis=1)\n",
        "Deepfactorfig = plot_data_forecast(params, y_true_plot, result, conditional_forecast = 'median')\n",
        "# plt.savefig(\"Deepfactor.pdf\", bbox_inches='tight')\n",
        "# files.download(\"Deepfactor.pdf\")"
      ],
      "metadata": {
        "colab": {
          "base_uri": "https://localhost:8080/",
          "height": 272
        },
        "id": "1dnsfWsuyA-6",
        "outputId": "f4fcef0f-4aaf-47f7-d910-4ae4c4ae7d63"
      },
      "execution_count": 30,
      "outputs": [
        {
          "output_type": "display_data",
          "data": {
            "text/plain": [
              "<Figure size 2000x500 with 1 Axes>"
            ],
            "image/png": "[encoded data removed]"
          },
          "metadata": {}
        },
        {
          "output_type": "display_data",
          "data": {
            "text/plain": [
              "<IPython.core.display.Javascript object>"
            ],
            "application/javascript": [
              "\n",
              "    async function download(id, filename, size) {\n",
              "      if (!google.colab.kernel.accessAllowed) {\n",
              "        return;\n",
              "      }\n",
              "      const div = document.createElement('div');\n",
              "      const label = document.createElement('label');\n",
              "      label.textContent = `Downloading \"${filename}\": `;\n",
              "      div.appendChild(label);\n",
              "      const progress = document.createElement('progress');\n",
              "      progress.max = size;\n",
              "      div.appendChild(progress);\n",
              "      document.body.appendChild(div);\n",
              "\n",
              "      const buffers = [];\n",
              "      let downloaded = 0;\n",
              "\n",
              "      const channel = await google.colab.kernel.comms.open(id);\n",
              "      // Send a message to notify the kernel that we're ready.\n",
              "      channel.send({})\n",
              "\n",
              "      for await (const message of channel.messages) {\n",
              "        // Send a message to notify the kernel that we're ready.\n",
              "        channel.send({})\n",
              "        if (message.buffers) {\n",
              "          for (const buffer of message.buffers) {\n",
              "            buffers.push(buffer);\n",
              "            downloaded += buffer.byteLength;\n",
              "            progress.value = downloaded;\n",
              "          }\n",
              "        }\n",
              "      }\n",
              "      const blob = new Blob(buffers, {type: 'application/binary'});\n",
              "      const a = document.createElement('a');\n",
              "      a.href = window.URL.createObjectURL(blob);\n",
              "      a.download = filename;\n",
              "      div.appendChild(a);\n",
              "      a.click();\n",
              "      div.remove();\n",
              "    }\n",
              "  "
            ]
          },
          "metadata": {}
        },
        {
          "output_type": "display_data",
          "data": {
            "text/plain": [
              "<IPython.core.display.Javascript object>"
            ],
            "application/javascript": [
              "download(\"download_cdaf4f49-bfcc-4093-8b9e-15c16d55c693\", \"Deepfactor.pdf\", 1194)"
            ]
          },
          "metadata": {}
        },
        {
          "output_type": "display_data",
          "data": {
            "text/plain": [
              "<Figure size 640x480 with 0 Axes>"
            ]
          },
          "metadata": {}
        }
      ]
    },
    {
      "cell_type": "markdown",
      "source": [
        "# **MQ-RNN**\n"
      ],
      "metadata": {
        "id": "ATPwwo21cv2O"
      }
    },
    {
      "cell_type": "markdown",
      "source": [
        "## **Model MQ-RNN**"
      ],
      "metadata": {
        "id": "YJUKvrbsqN_m"
      }
    },
    {
      "cell_type": "code",
      "source": [
        "import math\n",
        "import numpy as np\n",
        "import torch\n",
        "import torch.nn as nn\n",
        "import torch.nn.functional as F\n",
        "from torch.autograd import Variable\n",
        "\n",
        "class Decoder(nn.Module):\n",
        "  def __init__(self, input_size,\n",
        "        output_horizon,\n",
        "        encoder_hidden_size,\n",
        "        decoder_hidden_size,\n",
        "        output_size):\n",
        "    super(Decoder, self).__init__()\n",
        "    self.global_mlp = nn.Linear(output_horizon * (encoder_hidden_size + input_size), \\\n",
        "              (output_horizon+1) * decoder_hidden_size)\n",
        "    self.local_mlp = nn.Linear(decoder_hidden_size + input_size + 1, output_size)\n",
        "    self.decoder_hidden_size = decoder_hidden_size\n",
        "\n",
        "  def forward(self, hidden_t, X_forecast):\n",
        "    \"\"\"\n",
        "    hidden_t: (1, hidden_size)\n",
        "    X_forecast: (1, output_horizon, num_features)\n",
        "    \"\"\"\n",
        "    num_ts, output_horizon, num_feats = X_forecast.size()\n",
        "    num_ts, hidden_size = hidden_t.size() # (1, hidden_size)\n",
        "\n",
        "    hidden_t = hidden_t.unsqueeze(1) # (1, 1, hidden_size)\n",
        "    hidden_t = hidden_t.expand(num_ts, output_horizon, hidden_size)\n",
        "\n",
        "    # Concatentate future covariates and last hidden states from encoder\n",
        "    concat_input = torch.cat([X_forecast, hidden_t], dim = 2).view(num_ts, -1)\n",
        "\n",
        "    contextual_input = self.global_mlp(concat_input)\n",
        "    contextual_input = contextual_input.view(num_ts, output_horizon + 1, self.decoder_hidden_size)\n",
        "\n",
        "    contextual_input_t = contextual_input[:, -1, :].view(num_ts, -1)\n",
        "    contextual_input_final = contextual_input_t[:, :-1]\n",
        "    contextual_input_final = F.relu(contextual_input_final)\n",
        "\n",
        "    y = []\n",
        "    for i in range(output_horizon):\n",
        "        contextual_input_ = contextual_input_final[:, i].view(num_ts, -1)\n",
        "        # print(f'contextual_input_ shape: {contextual_input_.size()}')\n",
        "        X_forecast_ = X_forecast[:, i, :].view(num_ts, -1)\n",
        "        # print(f'X_forecast_ shape: {X_forecast_.size()}')\n",
        "        concat_input = torch.cat([X_forecast_, contextual_input_, contextual_input_t], dim = 1)\n",
        "        # print(f'concat_input shape: {concat_input.size()}')\n",
        "        out = self.local_mlp(concat_input) # (num_ts, num_quantiles)\n",
        "\n",
        "        y.append(out.unsqueeze(1)) # (num_ts, 1, num_quantiles)\n",
        "\n",
        "    y = torch.cat(y, dim = 1) # (num_ts/batch_size, output_horizon ,num_quantiles)\n",
        "    return y\n",
        "\n",
        "\n",
        "class MQRNN(nn.Module):\n",
        "    def __init__(self, params):\n",
        "        \"\"\"\n",
        "        Parameters\n",
        "        ----------\n",
        "\n",
        "        output_horizon (int): output horizons to output in prediction\n",
        "        num_quantiles (int): number of quantiles interests, e.g. 0.25, 0.5, 0.75\n",
        "        input_size (int): feature size\n",
        "        embedding_size (int): embedding size\n",
        "        encoder_hidden_size (int): hidden size in encoder\n",
        "        encoder_n_layers (int): encoder number of layers\n",
        "        decoder_hidden_size (int): hidden size in decoder\n",
        "        \"\"\"\n",
        "        super(MQRNN, self).__init__()\n",
        "        self.output_horizon = params['output_horizon']\n",
        "        self.encoder_hidden_size = params['encoder_hidden_size']\n",
        "        self.embed_layer = nn.Linear(1, params['embedding_size'])  # time series embedding\n",
        "        self.encoder = nn.LSTM(params['input_size'] + params['embedding_size'], params['encoder_hidden_size'], \\\n",
        "                               params['num_layers'], bias=True, batch_first=True)\n",
        "        self.decoder = Decoder(params['input_size'], params['output_horizon'], params['encoder_hidden_size'], \\\n",
        "                               params['decoder_hidden_size'], params['num_quantiles'])\n",
        "\n",
        "    def forward(self, X, y, X_forecast):\n",
        "        \"\"\"\n",
        "        Parameters\n",
        "        ----------\n",
        "        X: (num_ts, num_periods, num_feats)\n",
        "        y: (num_ts, num_periods)\n",
        "        X_forecast: (num_ts, seq_len, num_feats)\n",
        "        \"\"\"\n",
        "\n",
        "        if isinstance(X, type(np.empty(2))):\n",
        "            X = torch.from_numpy(X).float()\n",
        "            y = torch.from_numpy(y).float()\n",
        "            X_forecast = torch.from_numpy(X_forecast).float()\n",
        "\n",
        "        num_ts, num_periods, num_feats = X.size()\n",
        "        y = y.unsqueeze(2) # (num_ts, num_periods, 1)\n",
        "        y = self.embed_layer(y)\n",
        "        x = torch.cat([X, y], dim = 2)\n",
        "\n",
        "        _, (h, c) = self.encoder(x)\n",
        "        hidden_t = h[-1, :, :]\n",
        "\n",
        "        hidden_t = F.relu(hidden_t)\n",
        "        y_pred = self.decoder(hidden_t, X_forecast)\n",
        "        return y_pred\n"
      ],
      "metadata": {
        "id": "2xGecxXwY_2X"
      },
      "execution_count": 31,
      "outputs": []
    },
    {
      "cell_type": "markdown",
      "source": [
        "## **Defining Parameters Dict**"
      ],
      "metadata": {
        "id": "IBozlGArqpO9"
      }
    },
    {
      "cell_type": "code",
      "source": [
        "# Define parameters dict, later add on input_size after reading the data\n",
        "params = {\n",
        "    'input_size': None,\n",
        "    'quantiles': [0.025, 0.5, 0.975],\n",
        "    'num_quantiles': None,\n",
        "    'num_layers': 3,\n",
        "    'encoder_hidden_size': 64,\n",
        "    'decoder_hidden_size': 64,\n",
        "    'embedding_size': 10,\n",
        "    'lr': 1e-3,\n",
        "    'prior': 168,\n",
        "    'output_horizon': 60,\n",
        "    'sequence_length': 60,\n",
        "    'batch_size': 64,\n",
        "    'num_epoches': 100,\n",
        "    'iter_per_epoch': 3,\n",
        "    'credible_interval': 95,\n",
        "    'normalize': True,\n",
        "    'max_scaler': False,\n",
        "    'log_scaler': False,\n",
        "    'mean_center': False,\n",
        "    'probabilistic_CI': False\n",
        "}\n",
        "\n",
        "# data_path = os.path.join(os.getcwd(), 'data')\n",
        "# full_path = os.path.join(data_path, \"LD_MT200_hour.txt\")\n",
        "\n",
        "full_path = '/content/drive/MyDrive/data/sample_data.csv'\n",
        "data, X, y, _, _ = load_and_process(full_path)\n",
        "\n",
        "print(X.shape)\n",
        "print(y.shape)\n",
        "# Update params\n",
        "params['input_size'] = X.shape[2]\n",
        "num_quantiles = len(params['quantiles'])\n",
        "params['num_quantiles'] = num_quantiles"
      ],
      "metadata": {
        "colab": {
          "base_uri": "https://localhost:8080/"
        },
        "id": "nHI7R4s1qqDD",
        "outputId": "2b04b42e-8668-456f-98b2-9a0f2715f130"
      },
      "execution_count": 32,
      "outputs": [
        {
          "output_type": "stream",
          "name": "stdout",
          "text": [
            "(1, 1440, 2)\n",
            "(1, 1440)\n"
          ]
        }
      ]
    },
    {
      "cell_type": "markdown",
      "source": [
        "## **Training Phase MQ-RNN**"
      ],
      "metadata": {
        "id": "6GMigjrUqR4Q"
      }
    },
    {
      "cell_type": "code",
      "source": [
        "model = MQRNN(params)\n",
        "num_ts, num_periods, num_feats = X.shape\n",
        "optimizer = optim.Adam(model.parameters(), lr = params['lr'])\n",
        "random.seed(28)\n",
        "\n",
        "X_train, y_train, X_test, y_test = split_train_test(X, y)\n",
        "losses = []\n",
        "count = 0\n",
        "scaler_target = None\n",
        "if params['normalize']:\n",
        "    scaler_target = Normalizer()\n",
        "elif params['log_scaler']:\n",
        "    scaler_target = LogScaler()\n",
        "elif params['max_scaler']:\n",
        "    scaler_target = MaxScaler()\n",
        "elif params['mean_center']:\n",
        "    scaler_target = MeanCenter()\n",
        "\n",
        "if scaler_target is not None:\n",
        "    y_train = scaler_target.fit_transform(y_train)"
      ],
      "metadata": {
        "id": "EhThqlcFd4CW"
      },
      "execution_count": 33,
      "outputs": []
    },
    {
      "cell_type": "code",
      "source": [
        "# training phase\n",
        "progress = ProgressBar()\n",
        "count = 0\n",
        "for epoch in progress(range(params['num_epoches'])):\n",
        "  for t in range(params['iter_per_epoch']):\n",
        "    X_train_batch, y_train_batch, X_forecast, y_forecast = create_batch(X_train, y_train, params['prior'],\n",
        "                                                                            params['sequence_length'], params['batch_size'])\n",
        "    X_train_tensor, y_train_tensor = torch.from_numpy(X_train_batch).float(), torch.from_numpy(y_train_batch).float()\n",
        "    X_forecast_tensor, y_forecast_tensor = torch.from_numpy(X_forecast).float(), torch.from_numpy(y_forecast).float()\n",
        "    y_pred = model(X_train_tensor, y_train_tensor, X_forecast_tensor)\n",
        "\n",
        "    # quantile loss\n",
        "    loss = torch.zeros_like(y_forecast_tensor)\n",
        "    num_ts = X_forecast_tensor.size(0)\n",
        "    for q, rho in enumerate(params['quantiles']):\n",
        "        y_pred_rho = y_pred[:, :, q].view(num_ts, -1)\n",
        "        e = y_pred_rho - y_forecast_tensor\n",
        "        loss += torch.max(rho * e, (rho - 1) * e)\n",
        "    loss = loss.mean()\n",
        "\n",
        "    losses.append(loss.item())\n",
        "    optimizer.zero_grad()\n",
        "    loss.backward()\n",
        "    optimizer.step()\n",
        "    count += 1\n",
        "\n",
        "# Validation\n",
        "Xtest = X_test[:, -params['sequence_length'] - params['prior']:-params['sequence_length'], :].reshape((num_ts, -1, num_feats))\n",
        "Xforecast_test = X_test[:, -params['sequence_length']:, :].reshape((num_ts, -1, num_feats))\n",
        "ytest = y_test[:, -params['sequence_length'] - params['prior']:-params['sequence_length']].reshape((num_ts, -1))\n",
        "yforecast_test = y_test[:, -params['sequence_length']:].reshape((num_ts, -1))\n",
        "\n",
        "if scaler_target is not None:\n",
        "  ytest = scaler_target.transform(ytest)\n",
        "\n",
        "y_pred = model(Xtest, ytest, Xforecast_test)\n",
        "y_pred = y_pred.data.numpy()\n",
        "if scaler_target is not None:\n",
        "  y_pred = scaler_target.inverse_transform(y_pred)\n",
        "\n",
        "y_pred = np.maximum(0, y_pred)"
      ],
      "metadata": {
        "colab": {
          "base_uri": "https://localhost:8080/"
        },
        "id": "SG_PzDuYto0I",
        "outputId": "b05e7d4d-5a95-4490-ed6e-f27cc0f11bf5"
      },
      "execution_count": 34,
      "outputs": [
        {
          "output_type": "stream",
          "name": "stderr",
          "text": [
            "\r  0% (0 of 100) |                        | Elapsed Time: 0:00:00 ETA:  --:--:--"
          ]
        },
        {
          "output_type": "stream",
          "name": "stdout",
          "text": [
            "Using mini-batch of size 64 for training\n",
            "Using mini-batch of size 64 for training\n",
            "Using mini-batch of size 64 for training\n"
          ]
        },
        {
          "output_type": "stream",
          "name": "stderr",
          "text": [
            "\r  1% (1 of 100) |                        | Elapsed Time: 0:00:01 ETA:   0:02:08"
          ]
        },
        {
          "output_type": "stream",
          "name": "stdout",
          "text": [
            "Using mini-batch of size 64 for training\n",
            "Using mini-batch of size 64 for training\n",
            "Using mini-batch of size 64 for training\n"
          ]
        },
        {
          "output_type": "stream",
          "name": "stderr",
          "text": [
            "\r  2% (2 of 100) |                        | Elapsed Time: 0:00:02 ETA:   0:01:57"
          ]
        },
        {
          "output_type": "stream",
          "name": "stdout",
          "text": [
            "Using mini-batch of size 64 for training\n",
            "Using mini-batch of size 64 for training\n",
            "Using mini-batch of size 64 for training\n"
          ]
        },
        {
          "output_type": "stream",
          "name": "stderr",
          "text": [
            "\r  3% (3 of 100) |                        | Elapsed Time: 0:00:03 ETA:   0:01:42"
          ]
        },
        {
          "output_type": "stream",
          "name": "stdout",
          "text": [
            "Using mini-batch of size 64 for training\n",
            "Using mini-batch of size 64 for training\n",
            "Using mini-batch of size 64 for training\n"
          ]
        },
        {
          "output_type": "stream",
          "name": "stderr",
          "text": [
            "\r  4% (4 of 100) |                        | Elapsed Time: 0:00:04 ETA:   0:01:38"
          ]
        },
        {
          "output_type": "stream",
          "name": "stdout",
          "text": [
            "Using mini-batch of size 64 for training\n",
            "Using mini-batch of size 64 for training\n",
            "Using mini-batch of size 64 for training\n"
          ]
        },
        {
          "output_type": "stream",
          "name": "stderr",
          "text": [
            "\r  5% (5 of 100) |#                       | Elapsed Time: 0:00:05 ETA:   0:01:52"
          ]
        },
        {
          "output_type": "stream",
          "name": "stdout",
          "text": [
            "Using mini-batch of size 64 for training\n",
            "Using mini-batch of size 64 for training\n",
            "Using mini-batch of size 64 for training\n"
          ]
        },
        {
          "output_type": "stream",
          "name": "stderr",
          "text": [
            "\r  6% (6 of 100) |#                       | Elapsed Time: 0:00:07 ETA:   0:02:05"
          ]
        },
        {
          "output_type": "stream",
          "name": "stdout",
          "text": [
            "Using mini-batch of size 64 for training\n",
            "Using mini-batch of size 64 for training\n",
            "Using mini-batch of size 64 for training\n"
          ]
        },
        {
          "output_type": "stream",
          "name": "stderr",
          "text": [
            "\r  7% (7 of 100) |#                       | Elapsed Time: 0:00:08 ETA:   0:01:55"
          ]
        },
        {
          "output_type": "stream",
          "name": "stdout",
          "text": [
            "Using mini-batch of size 64 for training\n",
            "Using mini-batch of size 64 for training\n",
            "Using mini-batch of size 64 for training\n"
          ]
        },
        {
          "output_type": "stream",
          "name": "stderr",
          "text": [
            "\r  8% (8 of 100) |#                       | Elapsed Time: 0:00:09 ETA:   0:01:42"
          ]
        },
        {
          "output_type": "stream",
          "name": "stdout",
          "text": [
            "Using mini-batch of size 64 for training\n",
            "Using mini-batch of size 64 for training\n",
            "Using mini-batch of size 64 for training\n"
          ]
        },
        {
          "output_type": "stream",
          "name": "stderr",
          "text": [
            "\r  9% (9 of 100) |##                      | Elapsed Time: 0:00:10 ETA:   0:01:35"
          ]
        },
        {
          "output_type": "stream",
          "name": "stdout",
          "text": [
            "Using mini-batch of size 64 for training\n",
            "Using mini-batch of size 64 for training\n",
            "Using mini-batch of size 64 for training\n"
          ]
        },
        {
          "output_type": "stream",
          "name": "stderr",
          "text": [
            "\r 10% (10 of 100) |##                     | Elapsed Time: 0:00:11 ETA:   0:01:30"
          ]
        },
        {
          "output_type": "stream",
          "name": "stdout",
          "text": [
            "Using mini-batch of size 64 for training\n",
            "Using mini-batch of size 64 for training\n",
            "Using mini-batch of size 64 for training\n"
          ]
        },
        {
          "output_type": "stream",
          "name": "stderr",
          "text": [
            "\r 11% (11 of 100) |##                     | Elapsed Time: 0:00:12 ETA:   0:01:30"
          ]
        },
        {
          "output_type": "stream",
          "name": "stdout",
          "text": [
            "Using mini-batch of size 64 for training\n",
            "Using mini-batch of size 64 for training\n",
            "Using mini-batch of size 64 for training\n"
          ]
        },
        {
          "output_type": "stream",
          "name": "stderr",
          "text": [
            "\r 12% (12 of 100) |##                     | Elapsed Time: 0:00:13 ETA:   0:01:27"
          ]
        },
        {
          "output_type": "stream",
          "name": "stdout",
          "text": [
            "Using mini-batch of size 64 for training\n",
            "Using mini-batch of size 64 for training\n",
            "Using mini-batch of size 64 for training\n"
          ]
        },
        {
          "output_type": "stream",
          "name": "stderr",
          "text": [
            "\r 13% (13 of 100) |##                     | Elapsed Time: 0:00:14 ETA:   0:01:22"
          ]
        },
        {
          "output_type": "stream",
          "name": "stdout",
          "text": [
            "Using mini-batch of size 64 for training\n",
            "Using mini-batch of size 64 for training\n",
            "Using mini-batch of size 64 for training\n"
          ]
        },
        {
          "output_type": "stream",
          "name": "stderr",
          "text": [
            "\r 14% (14 of 100) |###                    | Elapsed Time: 0:00:15 ETA:   0:01:21"
          ]
        },
        {
          "output_type": "stream",
          "name": "stdout",
          "text": [
            "Using mini-batch of size 64 for training\n",
            "Using mini-batch of size 64 for training\n",
            "Using mini-batch of size 64 for training\n"
          ]
        },
        {
          "output_type": "stream",
          "name": "stderr",
          "text": [
            "\r 15% (15 of 100) |###                    | Elapsed Time: 0:00:15 ETA:   0:01:16"
          ]
        },
        {
          "output_type": "stream",
          "name": "stdout",
          "text": [
            "Using mini-batch of size 64 for training\n",
            "Using mini-batch of size 64 for training\n",
            "Using mini-batch of size 64 for training\n"
          ]
        },
        {
          "output_type": "stream",
          "name": "stderr",
          "text": [
            "\r 16% (16 of 100) |###                    | Elapsed Time: 0:00:16 ETA:   0:01:15"
          ]
        },
        {
          "output_type": "stream",
          "name": "stdout",
          "text": [
            "Using mini-batch of size 64 for training\n",
            "Using mini-batch of size 64 for training\n",
            "Using mini-batch of size 64 for training\n"
          ]
        },
        {
          "output_type": "stream",
          "name": "stderr",
          "text": [
            "\r 17% (17 of 100) |###                    | Elapsed Time: 0:00:17 ETA:   0:01:09"
          ]
        },
        {
          "output_type": "stream",
          "name": "stdout",
          "text": [
            "Using mini-batch of size 64 for training\n",
            "Using mini-batch of size 64 for training\n",
            "Using mini-batch of size 64 for training\n"
          ]
        },
        {
          "output_type": "stream",
          "name": "stderr",
          "text": [
            "\r 18% (18 of 100) |####                   | Elapsed Time: 0:00:18 ETA:   0:01:09"
          ]
        },
        {
          "output_type": "stream",
          "name": "stdout",
          "text": [
            "Using mini-batch of size 64 for training\n",
            "Using mini-batch of size 64 for training\n",
            "Using mini-batch of size 64 for training\n"
          ]
        },
        {
          "output_type": "stream",
          "name": "stderr",
          "text": [
            "\r 19% (19 of 100) |####                   | Elapsed Time: 0:00:19 ETA:   0:01:15"
          ]
        },
        {
          "output_type": "stream",
          "name": "stdout",
          "text": [
            "Using mini-batch of size 64 for training\n",
            "Using mini-batch of size 64 for training\n",
            "Using mini-batch of size 64 for training\n"
          ]
        },
        {
          "output_type": "stream",
          "name": "stderr",
          "text": [
            "\r 20% (20 of 100) |####                   | Elapsed Time: 0:00:20 ETA:   0:01:37"
          ]
        },
        {
          "output_type": "stream",
          "name": "stdout",
          "text": [
            "Using mini-batch of size 64 for training\n",
            "Using mini-batch of size 64 for training\n",
            "Using mini-batch of size 64 for training\n"
          ]
        },
        {
          "output_type": "stream",
          "name": "stderr",
          "text": [
            "\r 21% (21 of 100) |####                   | Elapsed Time: 0:00:22 ETA:   0:01:41"
          ]
        },
        {
          "output_type": "stream",
          "name": "stdout",
          "text": [
            "Using mini-batch of size 64 for training\n",
            "Using mini-batch of size 64 for training\n",
            "Using mini-batch of size 64 for training\n"
          ]
        },
        {
          "output_type": "stream",
          "name": "stderr",
          "text": [
            "\r 22% (22 of 100) |#####                  | Elapsed Time: 0:00:23 ETA:   0:01:41"
          ]
        },
        {
          "output_type": "stream",
          "name": "stdout",
          "text": [
            "Using mini-batch of size 64 for training\n",
            "Using mini-batch of size 64 for training\n",
            "Using mini-batch of size 64 for training\n"
          ]
        },
        {
          "output_type": "stream",
          "name": "stderr",
          "text": [
            "\r 23% (23 of 100) |#####                  | Elapsed Time: 0:00:24 ETA:   0:01:34"
          ]
        },
        {
          "output_type": "stream",
          "name": "stdout",
          "text": [
            "Using mini-batch of size 64 for training\n",
            "Using mini-batch of size 64 for training\n",
            "Using mini-batch of size 64 for training\n"
          ]
        },
        {
          "output_type": "stream",
          "name": "stderr",
          "text": [
            "\r 24% (24 of 100) |#####                  | Elapsed Time: 0:00:25 ETA:   0:01:20"
          ]
        },
        {
          "output_type": "stream",
          "name": "stdout",
          "text": [
            "Using mini-batch of size 64 for training\n",
            "Using mini-batch of size 64 for training\n",
            "Using mini-batch of size 64 for training\n"
          ]
        },
        {
          "output_type": "stream",
          "name": "stderr",
          "text": [
            "\r 25% (25 of 100) |#####                  | Elapsed Time: 0:00:26 ETA:   0:01:18"
          ]
        },
        {
          "output_type": "stream",
          "name": "stdout",
          "text": [
            "Using mini-batch of size 64 for training\n",
            "Using mini-batch of size 64 for training\n",
            "Using mini-batch of size 64 for training\n"
          ]
        },
        {
          "output_type": "stream",
          "name": "stderr",
          "text": [
            "\r 26% (26 of 100) |#####                  | Elapsed Time: 0:00:27 ETA:   0:01:14"
          ]
        },
        {
          "output_type": "stream",
          "name": "stdout",
          "text": [
            "Using mini-batch of size 64 for training\n",
            "Using mini-batch of size 64 for training\n",
            "Using mini-batch of size 64 for training\n"
          ]
        },
        {
          "output_type": "stream",
          "name": "stderr",
          "text": [
            "\r 27% (27 of 100) |######                 | Elapsed Time: 0:00:28 ETA:   0:01:11"
          ]
        },
        {
          "output_type": "stream",
          "name": "stdout",
          "text": [
            "Using mini-batch of size 64 for training\n",
            "Using mini-batch of size 64 for training\n",
            "Using mini-batch of size 64 for training\n"
          ]
        },
        {
          "output_type": "stream",
          "name": "stderr",
          "text": [
            "\r 28% (28 of 100) |######                 | Elapsed Time: 0:00:29 ETA:   0:01:11"
          ]
        },
        {
          "output_type": "stream",
          "name": "stdout",
          "text": [
            "Using mini-batch of size 64 for training\n",
            "Using mini-batch of size 64 for training\n",
            "Using mini-batch of size 64 for training\n"
          ]
        },
        {
          "output_type": "stream",
          "name": "stderr",
          "text": [
            "\r 29% (29 of 100) |######                 | Elapsed Time: 0:00:30 ETA:   0:01:15"
          ]
        },
        {
          "output_type": "stream",
          "name": "stdout",
          "text": [
            "Using mini-batch of size 64 for training\n",
            "Using mini-batch of size 64 for training\n",
            "Using mini-batch of size 64 for training\n"
          ]
        },
        {
          "output_type": "stream",
          "name": "stderr",
          "text": [
            "\r 30% (30 of 100) |######                 | Elapsed Time: 0:00:31 ETA:   0:01:14"
          ]
        },
        {
          "output_type": "stream",
          "name": "stdout",
          "text": [
            "Using mini-batch of size 64 for training\n",
            "Using mini-batch of size 64 for training\n",
            "Using mini-batch of size 64 for training\n"
          ]
        },
        {
          "output_type": "stream",
          "name": "stderr",
          "text": [
            "\r 31% (31 of 100) |#######                | Elapsed Time: 0:00:32 ETA:   0:01:12"
          ]
        },
        {
          "output_type": "stream",
          "name": "stdout",
          "text": [
            "Using mini-batch of size 64 for training\n",
            "Using mini-batch of size 64 for training\n",
            "Using mini-batch of size 64 for training\n"
          ]
        },
        {
          "output_type": "stream",
          "name": "stderr",
          "text": [
            "\r 32% (32 of 100) |#######                | Elapsed Time: 0:00:33 ETA:   0:01:09"
          ]
        },
        {
          "output_type": "stream",
          "name": "stdout",
          "text": [
            "Using mini-batch of size 64 for training\n",
            "Using mini-batch of size 64 for training\n",
            "Using mini-batch of size 64 for training\n"
          ]
        },
        {
          "output_type": "stream",
          "name": "stderr",
          "text": [
            "\r 33% (33 of 100) |#######                | Elapsed Time: 0:00:34 ETA:   0:01:10"
          ]
        },
        {
          "output_type": "stream",
          "name": "stdout",
          "text": [
            "Using mini-batch of size 64 for training\n",
            "Using mini-batch of size 64 for training\n",
            "Using mini-batch of size 64 for training\n"
          ]
        },
        {
          "output_type": "stream",
          "name": "stderr",
          "text": [
            "\r 34% (34 of 100) |#######                | Elapsed Time: 0:00:36 ETA:   0:01:20"
          ]
        },
        {
          "output_type": "stream",
          "name": "stdout",
          "text": [
            "Using mini-batch of size 64 for training\n",
            "Using mini-batch of size 64 for training\n",
            "Using mini-batch of size 64 for training\n"
          ]
        },
        {
          "output_type": "stream",
          "name": "stderr",
          "text": [
            "\r 35% (35 of 100) |########               | Elapsed Time: 0:00:37 ETA:   0:01:26"
          ]
        },
        {
          "output_type": "stream",
          "name": "stdout",
          "text": [
            "Using mini-batch of size 64 for training\n",
            "Using mini-batch of size 64 for training\n",
            "Using mini-batch of size 64 for training\n"
          ]
        },
        {
          "output_type": "stream",
          "name": "stderr",
          "text": [
            "\r 36% (36 of 100) |########               | Elapsed Time: 0:00:38 ETA:   0:01:14"
          ]
        },
        {
          "output_type": "stream",
          "name": "stdout",
          "text": [
            "Using mini-batch of size 64 for training\n",
            "Using mini-batch of size 64 for training\n",
            "Using mini-batch of size 64 for training\n"
          ]
        },
        {
          "output_type": "stream",
          "name": "stderr",
          "text": [
            "\r 37% (37 of 100) |########               | Elapsed Time: 0:00:39 ETA:   0:01:07"
          ]
        },
        {
          "output_type": "stream",
          "name": "stdout",
          "text": [
            "Using mini-batch of size 64 for training\n",
            "Using mini-batch of size 64 for training\n",
            "Using mini-batch of size 64 for training\n"
          ]
        },
        {
          "output_type": "stream",
          "name": "stderr",
          "text": [
            "\r 38% (38 of 100) |########               | Elapsed Time: 0:00:40 ETA:   0:00:55"
          ]
        },
        {
          "output_type": "stream",
          "name": "stdout",
          "text": [
            "Using mini-batch of size 64 for training\n",
            "Using mini-batch of size 64 for training\n",
            "Using mini-batch of size 64 for training\n"
          ]
        },
        {
          "output_type": "stream",
          "name": "stderr",
          "text": [
            "\r 39% (39 of 100) |########               | Elapsed Time: 0:00:41 ETA:   0:00:52"
          ]
        },
        {
          "output_type": "stream",
          "name": "stdout",
          "text": [
            "Using mini-batch of size 64 for training\n",
            "Using mini-batch of size 64 for training\n",
            "Using mini-batch of size 64 for training\n"
          ]
        },
        {
          "output_type": "stream",
          "name": "stderr",
          "text": [
            "\r 40% (40 of 100) |#########              | Elapsed Time: 0:00:42 ETA:   0:00:51"
          ]
        },
        {
          "output_type": "stream",
          "name": "stdout",
          "text": [
            "Using mini-batch of size 64 for training\n",
            "Using mini-batch of size 64 for training\n",
            "Using mini-batch of size 64 for training\n"
          ]
        },
        {
          "output_type": "stream",
          "name": "stderr",
          "text": [
            "\r 41% (41 of 100) |#########              | Elapsed Time: 0:00:42 ETA:   0:00:50"
          ]
        },
        {
          "output_type": "stream",
          "name": "stdout",
          "text": [
            "Using mini-batch of size 64 for training\n",
            "Using mini-batch of size 64 for training\n",
            "Using mini-batch of size 64 for training\n"
          ]
        },
        {
          "output_type": "stream",
          "name": "stderr",
          "text": [
            "\r 42% (42 of 100) |#########              | Elapsed Time: 0:00:43 ETA:   0:00:52"
          ]
        },
        {
          "output_type": "stream",
          "name": "stdout",
          "text": [
            "Using mini-batch of size 64 for training\n",
            "Using mini-batch of size 64 for training\n",
            "Using mini-batch of size 64 for training\n"
          ]
        },
        {
          "output_type": "stream",
          "name": "stderr",
          "text": [
            "\r 43% (43 of 100) |#########              | Elapsed Time: 0:00:44 ETA:   0:00:51"
          ]
        },
        {
          "output_type": "stream",
          "name": "stdout",
          "text": [
            "Using mini-batch of size 64 for training\n",
            "Using mini-batch of size 64 for training\n",
            "Using mini-batch of size 64 for training\n"
          ]
        },
        {
          "output_type": "stream",
          "name": "stderr",
          "text": [
            "\r 44% (44 of 100) |##########             | Elapsed Time: 0:00:45 ETA:   0:00:53"
          ]
        },
        {
          "output_type": "stream",
          "name": "stdout",
          "text": [
            "Using mini-batch of size 64 for training\n",
            "Using mini-batch of size 64 for training\n",
            "Using mini-batch of size 64 for training\n"
          ]
        },
        {
          "output_type": "stream",
          "name": "stderr",
          "text": [
            "\r 45% (45 of 100) |##########             | Elapsed Time: 0:00:46 ETA:   0:00:57"
          ]
        },
        {
          "output_type": "stream",
          "name": "stdout",
          "text": [
            "Using mini-batch of size 64 for training\n",
            "Using mini-batch of size 64 for training\n",
            "Using mini-batch of size 64 for training\n"
          ]
        },
        {
          "output_type": "stream",
          "name": "stderr",
          "text": [
            "\r 46% (46 of 100) |##########             | Elapsed Time: 0:00:47 ETA:   0:00:56"
          ]
        },
        {
          "output_type": "stream",
          "name": "stdout",
          "text": [
            "Using mini-batch of size 64 for training\n",
            "Using mini-batch of size 64 for training\n",
            "Using mini-batch of size 64 for training\n"
          ]
        },
        {
          "output_type": "stream",
          "name": "stderr",
          "text": [
            "\r 47% (47 of 100) |##########             | Elapsed Time: 0:00:49 ETA:   0:01:02"
          ]
        },
        {
          "output_type": "stream",
          "name": "stdout",
          "text": [
            "Using mini-batch of size 64 for training\n",
            "Using mini-batch of size 64 for training\n",
            "Using mini-batch of size 64 for training\n"
          ]
        },
        {
          "output_type": "stream",
          "name": "stderr",
          "text": [
            "\r 48% (48 of 100) |###########            | Elapsed Time: 0:00:50 ETA:   0:01:02"
          ]
        },
        {
          "output_type": "stream",
          "name": "stdout",
          "text": [
            "Using mini-batch of size 64 for training\n",
            "Using mini-batch of size 64 for training\n",
            "Using mini-batch of size 64 for training\n"
          ]
        },
        {
          "output_type": "stream",
          "name": "stderr",
          "text": [
            "\r 49% (49 of 100) |###########            | Elapsed Time: 0:00:51 ETA:   0:00:57"
          ]
        },
        {
          "output_type": "stream",
          "name": "stdout",
          "text": [
            "Using mini-batch of size 64 for training\n",
            "Using mini-batch of size 64 for training\n",
            "Using mini-batch of size 64 for training\n"
          ]
        },
        {
          "output_type": "stream",
          "name": "stderr",
          "text": [
            "\r 50% (50 of 100) |###########            | Elapsed Time: 0:00:52 ETA:   0:00:56"
          ]
        },
        {
          "output_type": "stream",
          "name": "stdout",
          "text": [
            "Using mini-batch of size 64 for training\n",
            "Using mini-batch of size 64 for training\n",
            "Using mini-batch of size 64 for training\n"
          ]
        },
        {
          "output_type": "stream",
          "name": "stderr",
          "text": [
            "\r 51% (51 of 100) |###########            | Elapsed Time: 0:00:53 ETA:   0:00:50"
          ]
        },
        {
          "output_type": "stream",
          "name": "stdout",
          "text": [
            "Using mini-batch of size 64 for training\n",
            "Using mini-batch of size 64 for training\n",
            "Using mini-batch of size 64 for training\n"
          ]
        },
        {
          "output_type": "stream",
          "name": "stderr",
          "text": [
            "\r 52% (52 of 100) |###########            | Elapsed Time: 0:00:54 ETA:   0:00:44"
          ]
        },
        {
          "output_type": "stream",
          "name": "stdout",
          "text": [
            "Using mini-batch of size 64 for training\n",
            "Using mini-batch of size 64 for training\n",
            "Using mini-batch of size 64 for training\n"
          ]
        },
        {
          "output_type": "stream",
          "name": "stderr",
          "text": [
            "\r 53% (53 of 100) |############           | Elapsed Time: 0:00:55 ETA:   0:00:39"
          ]
        },
        {
          "output_type": "stream",
          "name": "stdout",
          "text": [
            "Using mini-batch of size 64 for training\n",
            "Using mini-batch of size 64 for training\n",
            "Using mini-batch of size 64 for training\n"
          ]
        },
        {
          "output_type": "stream",
          "name": "stderr",
          "text": [
            "\r 54% (54 of 100) |############           | Elapsed Time: 0:00:56 ETA:   0:00:41"
          ]
        },
        {
          "output_type": "stream",
          "name": "stdout",
          "text": [
            "Using mini-batch of size 64 for training\n",
            "Using mini-batch of size 64 for training\n",
            "Using mini-batch of size 64 for training\n"
          ]
        },
        {
          "output_type": "stream",
          "name": "stderr",
          "text": [
            "\r 55% (55 of 100) |############           | Elapsed Time: 0:00:57 ETA:   0:00:45"
          ]
        },
        {
          "output_type": "stream",
          "name": "stdout",
          "text": [
            "Using mini-batch of size 64 for training\n",
            "Using mini-batch of size 64 for training\n",
            "Using mini-batch of size 64 for training\n"
          ]
        },
        {
          "output_type": "stream",
          "name": "stderr",
          "text": [
            "\r 56% (56 of 100) |############           | Elapsed Time: 0:00:57 ETA:   0:00:42"
          ]
        },
        {
          "output_type": "stream",
          "name": "stdout",
          "text": [
            "Using mini-batch of size 64 for training\n",
            "Using mini-batch of size 64 for training\n",
            "Using mini-batch of size 64 for training\n"
          ]
        },
        {
          "output_type": "stream",
          "name": "stderr",
          "text": [
            "\r 57% (57 of 100) |#############          | Elapsed Time: 0:00:58 ETA:   0:00:38"
          ]
        },
        {
          "output_type": "stream",
          "name": "stdout",
          "text": [
            "Using mini-batch of size 64 for training\n",
            "Using mini-batch of size 64 for training\n",
            "Using mini-batch of size 64 for training\n"
          ]
        },
        {
          "output_type": "stream",
          "name": "stderr",
          "text": [
            "\r 58% (58 of 100) |#############          | Elapsed Time: 0:00:59 ETA:   0:00:35"
          ]
        },
        {
          "output_type": "stream",
          "name": "stdout",
          "text": [
            "Using mini-batch of size 64 for training\n",
            "Using mini-batch of size 64 for training\n",
            "Using mini-batch of size 64 for training\n"
          ]
        },
        {
          "output_type": "stream",
          "name": "stderr",
          "text": [
            "\r 59% (59 of 100) |#############          | Elapsed Time: 0:01:01 ETA:   0:00:47"
          ]
        },
        {
          "output_type": "stream",
          "name": "stdout",
          "text": [
            "Using mini-batch of size 64 for training\n",
            "Using mini-batch of size 64 for training\n",
            "Using mini-batch of size 64 for training\n"
          ]
        },
        {
          "output_type": "stream",
          "name": "stderr",
          "text": [
            "\r 60% (60 of 100) |#############          | Elapsed Time: 0:01:03 ETA:   0:01:08"
          ]
        },
        {
          "output_type": "stream",
          "name": "stdout",
          "text": [
            "Using mini-batch of size 64 for training\n",
            "Using mini-batch of size 64 for training\n",
            "Using mini-batch of size 64 for training\n"
          ]
        },
        {
          "output_type": "stream",
          "name": "stderr",
          "text": [
            "\r 61% (61 of 100) |##############         | Elapsed Time: 0:01:06 ETA:   0:02:23"
          ]
        },
        {
          "output_type": "stream",
          "name": "stdout",
          "text": [
            "Using mini-batch of size 64 for training\n",
            "Using mini-batch of size 64 for training\n",
            "Using mini-batch of size 64 for training\n"
          ]
        },
        {
          "output_type": "stream",
          "name": "stderr",
          "text": [
            "\r 62% (62 of 100) |##############         | Elapsed Time: 0:01:09 ETA:   0:01:50"
          ]
        },
        {
          "output_type": "stream",
          "name": "stdout",
          "text": [
            "Using mini-batch of size 64 for training\n",
            "Using mini-batch of size 64 for training\n",
            "Using mini-batch of size 64 for training\n"
          ]
        },
        {
          "output_type": "stream",
          "name": "stderr",
          "text": [
            "\r 63% (63 of 100) |##############         | Elapsed Time: 0:01:11 ETA:   0:01:24"
          ]
        },
        {
          "output_type": "stream",
          "name": "stdout",
          "text": [
            "Using mini-batch of size 64 for training\n",
            "Using mini-batch of size 64 for training\n",
            "Using mini-batch of size 64 for training\n"
          ]
        },
        {
          "output_type": "stream",
          "name": "stderr",
          "text": [
            "\r 64% (64 of 100) |##############         | Elapsed Time: 0:01:14 ETA:   0:01:55"
          ]
        },
        {
          "output_type": "stream",
          "name": "stdout",
          "text": [
            "Using mini-batch of size 64 for training\n",
            "Using mini-batch of size 64 for training\n",
            "Using mini-batch of size 64 for training\n"
          ]
        },
        {
          "output_type": "stream",
          "name": "stderr",
          "text": [
            "\r 65% (65 of 100) |##############         | Elapsed Time: 0:01:15 ETA:   0:01:15"
          ]
        },
        {
          "output_type": "stream",
          "name": "stdout",
          "text": [
            "Using mini-batch of size 64 for training\n",
            "Using mini-batch of size 64 for training\n",
            "Using mini-batch of size 64 for training\n"
          ]
        },
        {
          "output_type": "stream",
          "name": "stderr",
          "text": [
            "\r 66% (66 of 100) |###############        | Elapsed Time: 0:01:16 ETA:   0:00:35"
          ]
        },
        {
          "output_type": "stream",
          "name": "stdout",
          "text": [
            "Using mini-batch of size 64 for training\n",
            "Using mini-batch of size 64 for training\n",
            "Using mini-batch of size 64 for training\n"
          ]
        },
        {
          "output_type": "stream",
          "name": "stderr",
          "text": [
            "\r 67% (67 of 100) |###############        | Elapsed Time: 0:01:17 ETA:   0:00:32"
          ]
        },
        {
          "output_type": "stream",
          "name": "stdout",
          "text": [
            "Using mini-batch of size 64 for training\n",
            "Using mini-batch of size 64 for training\n",
            "Using mini-batch of size 64 for training\n"
          ]
        },
        {
          "output_type": "stream",
          "name": "stderr",
          "text": [
            "\r 68% (68 of 100) |###############        | Elapsed Time: 0:01:18 ETA:   0:00:31"
          ]
        },
        {
          "output_type": "stream",
          "name": "stdout",
          "text": [
            "Using mini-batch of size 64 for training\n",
            "Using mini-batch of size 64 for training\n",
            "Using mini-batch of size 64 for training\n"
          ]
        },
        {
          "output_type": "stream",
          "name": "stderr",
          "text": [
            "\r 69% (69 of 100) |###############        | Elapsed Time: 0:01:19 ETA:   0:00:39"
          ]
        },
        {
          "output_type": "stream",
          "name": "stdout",
          "text": [
            "Using mini-batch of size 64 for training\n",
            "Using mini-batch of size 64 for training\n",
            "Using mini-batch of size 64 for training\n"
          ]
        },
        {
          "output_type": "stream",
          "name": "stderr",
          "text": [
            "\r 70% (70 of 100) |################       | Elapsed Time: 0:01:21 ETA:   0:00:40"
          ]
        },
        {
          "output_type": "stream",
          "name": "stdout",
          "text": [
            "Using mini-batch of size 64 for training\n",
            "Using mini-batch of size 64 for training\n",
            "Using mini-batch of size 64 for training\n"
          ]
        },
        {
          "output_type": "stream",
          "name": "stderr",
          "text": [
            "\r 71% (71 of 100) |################       | Elapsed Time: 0:01:22 ETA:   0:00:36"
          ]
        },
        {
          "output_type": "stream",
          "name": "stdout",
          "text": [
            "Using mini-batch of size 64 for training\n",
            "Using mini-batch of size 64 for training\n",
            "Using mini-batch of size 64 for training\n"
          ]
        },
        {
          "output_type": "stream",
          "name": "stderr",
          "text": [
            "\r 72% (72 of 100) |################       | Elapsed Time: 0:01:23 ETA:   0:00:28"
          ]
        },
        {
          "output_type": "stream",
          "name": "stdout",
          "text": [
            "Using mini-batch of size 64 for training\n",
            "Using mini-batch of size 64 for training\n",
            "Using mini-batch of size 64 for training\n"
          ]
        },
        {
          "output_type": "stream",
          "name": "stderr",
          "text": [
            "\r 73% (73 of 100) |################       | Elapsed Time: 0:01:24 ETA:   0:00:25"
          ]
        },
        {
          "output_type": "stream",
          "name": "stdout",
          "text": [
            "Using mini-batch of size 64 for training\n",
            "Using mini-batch of size 64 for training\n",
            "Using mini-batch of size 64 for training\n"
          ]
        },
        {
          "output_type": "stream",
          "name": "stderr",
          "text": [
            "\r 74% (74 of 100) |#################      | Elapsed Time: 0:01:24 ETA:   0:00:21"
          ]
        },
        {
          "output_type": "stream",
          "name": "stdout",
          "text": [
            "Using mini-batch of size 64 for training\n",
            "Using mini-batch of size 64 for training\n",
            "Using mini-batch of size 64 for training\n"
          ]
        },
        {
          "output_type": "stream",
          "name": "stderr",
          "text": [
            "\r 75% (75 of 100) |#################      | Elapsed Time: 0:01:25 ETA:   0:00:21"
          ]
        },
        {
          "output_type": "stream",
          "name": "stdout",
          "text": [
            "Using mini-batch of size 64 for training\n",
            "Using mini-batch of size 64 for training\n",
            "Using mini-batch of size 64 for training\n"
          ]
        },
        {
          "output_type": "stream",
          "name": "stderr",
          "text": [
            "\r 76% (76 of 100) |#################      | Elapsed Time: 0:01:26 ETA:   0:00:21"
          ]
        },
        {
          "output_type": "stream",
          "name": "stdout",
          "text": [
            "Using mini-batch of size 64 for training\n",
            "Using mini-batch of size 64 for training\n",
            "Using mini-batch of size 64 for training\n"
          ]
        },
        {
          "output_type": "stream",
          "name": "stderr",
          "text": [
            "\r 77% (77 of 100) |#################      | Elapsed Time: 0:01:27 ETA:   0:00:23"
          ]
        },
        {
          "output_type": "stream",
          "name": "stdout",
          "text": [
            "Using mini-batch of size 64 for training\n",
            "Using mini-batch of size 64 for training\n",
            "Using mini-batch of size 64 for training\n"
          ]
        },
        {
          "output_type": "stream",
          "name": "stderr",
          "text": [
            "\r 78% (78 of 100) |#################      | Elapsed Time: 0:01:28 ETA:   0:00:22"
          ]
        },
        {
          "output_type": "stream",
          "name": "stdout",
          "text": [
            "Using mini-batch of size 64 for training\n",
            "Using mini-batch of size 64 for training\n",
            "Using mini-batch of size 64 for training\n"
          ]
        },
        {
          "output_type": "stream",
          "name": "stderr",
          "text": [
            "\r 79% (79 of 100) |##################     | Elapsed Time: 0:01:29 ETA:   0:00:21"
          ]
        },
        {
          "output_type": "stream",
          "name": "stdout",
          "text": [
            "Using mini-batch of size 64 for training\n",
            "Using mini-batch of size 64 for training\n",
            "Using mini-batch of size 64 for training\n"
          ]
        },
        {
          "output_type": "stream",
          "name": "stderr",
          "text": [
            "\r 80% (80 of 100) |##################     | Elapsed Time: 0:01:31 ETA:   0:00:21"
          ]
        },
        {
          "output_type": "stream",
          "name": "stdout",
          "text": [
            "Using mini-batch of size 64 for training\n",
            "Using mini-batch of size 64 for training\n",
            "Using mini-batch of size 64 for training\n"
          ]
        },
        {
          "output_type": "stream",
          "name": "stderr",
          "text": [
            "\r 81% (81 of 100) |##################     | Elapsed Time: 0:01:31 ETA:   0:00:19"
          ]
        },
        {
          "output_type": "stream",
          "name": "stdout",
          "text": [
            "Using mini-batch of size 64 for training\n",
            "Using mini-batch of size 64 for training\n",
            "Using mini-batch of size 64 for training\n"
          ]
        },
        {
          "output_type": "stream",
          "name": "stderr",
          "text": [
            "\r 82% (82 of 100) |##################     | Elapsed Time: 0:01:33 ETA:   0:00:19"
          ]
        },
        {
          "output_type": "stream",
          "name": "stdout",
          "text": [
            "Using mini-batch of size 64 for training\n",
            "Using mini-batch of size 64 for training\n",
            "Using mini-batch of size 64 for training\n"
          ]
        },
        {
          "output_type": "stream",
          "name": "stderr",
          "text": [
            "\r 83% (83 of 100) |###################    | Elapsed Time: 0:01:34 ETA:   0:00:22"
          ]
        },
        {
          "output_type": "stream",
          "name": "stdout",
          "text": [
            "Using mini-batch of size 64 for training\n",
            "Using mini-batch of size 64 for training\n",
            "Using mini-batch of size 64 for training\n"
          ]
        },
        {
          "output_type": "stream",
          "name": "stderr",
          "text": [
            "\r 84% (84 of 100) |###################    | Elapsed Time: 0:01:35 ETA:   0:00:21"
          ]
        },
        {
          "output_type": "stream",
          "name": "stdout",
          "text": [
            "Using mini-batch of size 64 for training\n",
            "Using mini-batch of size 64 for training\n",
            "Using mini-batch of size 64 for training\n"
          ]
        },
        {
          "output_type": "stream",
          "name": "stderr",
          "text": [
            "\r 85% (85 of 100) |###################    | Elapsed Time: 0:01:36 ETA:   0:00:17"
          ]
        },
        {
          "output_type": "stream",
          "name": "stdout",
          "text": [
            "Using mini-batch of size 64 for training\n",
            "Using mini-batch of size 64 for training\n",
            "Using mini-batch of size 64 for training\n"
          ]
        },
        {
          "output_type": "stream",
          "name": "stderr",
          "text": [
            "\r 86% (86 of 100) |###################    | Elapsed Time: 0:01:37 ETA:   0:00:14"
          ]
        },
        {
          "output_type": "stream",
          "name": "stdout",
          "text": [
            "Using mini-batch of size 64 for training\n",
            "Using mini-batch of size 64 for training\n",
            "Using mini-batch of size 64 for training\n"
          ]
        },
        {
          "output_type": "stream",
          "name": "stderr",
          "text": [
            "\r 87% (87 of 100) |####################   | Elapsed Time: 0:01:38 ETA:   0:00:12"
          ]
        },
        {
          "output_type": "stream",
          "name": "stdout",
          "text": [
            "Using mini-batch of size 64 for training\n",
            "Using mini-batch of size 64 for training\n",
            "Using mini-batch of size 64 for training\n"
          ]
        },
        {
          "output_type": "stream",
          "name": "stderr",
          "text": [
            "\r 88% (88 of 100) |####################   | Elapsed Time: 0:01:39 ETA:   0:00:10"
          ]
        },
        {
          "output_type": "stream",
          "name": "stdout",
          "text": [
            "Using mini-batch of size 64 for training\n",
            "Using mini-batch of size 64 for training\n",
            "Using mini-batch of size 64 for training\n"
          ]
        },
        {
          "output_type": "stream",
          "name": "stderr",
          "text": [
            "\r 89% (89 of 100) |####################   | Elapsed Time: 0:01:40 ETA:   0:00:09"
          ]
        },
        {
          "output_type": "stream",
          "name": "stdout",
          "text": [
            "Using mini-batch of size 64 for training\n",
            "Using mini-batch of size 64 for training\n",
            "Using mini-batch of size 64 for training\n"
          ]
        },
        {
          "output_type": "stream",
          "name": "stderr",
          "text": [
            "\r 90% (90 of 100) |####################   | Elapsed Time: 0:01:41 ETA:   0:00:08"
          ]
        },
        {
          "output_type": "stream",
          "name": "stdout",
          "text": [
            "Using mini-batch of size 64 for training\n",
            "Using mini-batch of size 64 for training\n",
            "Using mini-batch of size 64 for training\n"
          ]
        },
        {
          "output_type": "stream",
          "name": "stderr",
          "text": [
            "\r 91% (91 of 100) |####################   | Elapsed Time: 0:01:42 ETA:   0:00:07"
          ]
        },
        {
          "output_type": "stream",
          "name": "stdout",
          "text": [
            "Using mini-batch of size 64 for training\n",
            "Using mini-batch of size 64 for training\n",
            "Using mini-batch of size 64 for training\n"
          ]
        },
        {
          "output_type": "stream",
          "name": "stderr",
          "text": [
            "\r 92% (92 of 100) |#####################  | Elapsed Time: 0:01:42 ETA:   0:00:06"
          ]
        },
        {
          "output_type": "stream",
          "name": "stdout",
          "text": [
            "Using mini-batch of size 64 for training\n",
            "Using mini-batch of size 64 for training\n",
            "Using mini-batch of size 64 for training\n"
          ]
        },
        {
          "output_type": "stream",
          "name": "stderr",
          "text": [
            "\r 93% (93 of 100) |#####################  | Elapsed Time: 0:01:43 ETA:   0:00:05"
          ]
        },
        {
          "output_type": "stream",
          "name": "stdout",
          "text": [
            "Using mini-batch of size 64 for training\n",
            "Using mini-batch of size 64 for training\n",
            "Using mini-batch of size 64 for training\n"
          ]
        },
        {
          "output_type": "stream",
          "name": "stderr",
          "text": [
            "\r 94% (94 of 100) |#####################  | Elapsed Time: 0:01:44 ETA:   0:00:05"
          ]
        },
        {
          "output_type": "stream",
          "name": "stdout",
          "text": [
            "Using mini-batch of size 64 for training\n",
            "Using mini-batch of size 64 for training\n",
            "Using mini-batch of size 64 for training\n"
          ]
        },
        {
          "output_type": "stream",
          "name": "stderr",
          "text": [
            "\r 95% (95 of 100) |#####################  | Elapsed Time: 0:01:45 ETA:   0:00:04"
          ]
        },
        {
          "output_type": "stream",
          "name": "stdout",
          "text": [
            "Using mini-batch of size 64 for training\n",
            "Using mini-batch of size 64 for training\n",
            "Using mini-batch of size 64 for training\n"
          ]
        },
        {
          "output_type": "stream",
          "name": "stderr",
          "text": [
            "\r 96% (96 of 100) |###################### | Elapsed Time: 0:01:46 ETA:   0:00:03"
          ]
        },
        {
          "output_type": "stream",
          "name": "stdout",
          "text": [
            "Using mini-batch of size 64 for training\n",
            "Using mini-batch of size 64 for training\n",
            "Using mini-batch of size 64 for training\n"
          ]
        },
        {
          "output_type": "stream",
          "name": "stderr",
          "text": [
            "\r 97% (97 of 100) |###################### | Elapsed Time: 0:01:48 ETA:   0:00:03"
          ]
        },
        {
          "output_type": "stream",
          "name": "stdout",
          "text": [
            "Using mini-batch of size 64 for training\n",
            "Using mini-batch of size 64 for training\n",
            "Using mini-batch of size 64 for training\n"
          ]
        },
        {
          "output_type": "stream",
          "name": "stderr",
          "text": [
            "\r 98% (98 of 100) |###################### | Elapsed Time: 0:01:49 ETA:   0:00:02"
          ]
        },
        {
          "output_type": "stream",
          "name": "stdout",
          "text": [
            "Using mini-batch of size 64 for training\n",
            "Using mini-batch of size 64 for training\n",
            "Using mini-batch of size 64 for training\n"
          ]
        },
        {
          "output_type": "stream",
          "name": "stderr",
          "text": [
            "\r 99% (99 of 100) |###################### | Elapsed Time: 0:01:50 ETA:   0:00:01"
          ]
        },
        {
          "output_type": "stream",
          "name": "stdout",
          "text": [
            "Using mini-batch of size 64 for training\n",
            "Using mini-batch of size 64 for training\n",
            "Using mini-batch of size 64 for training\n"
          ]
        },
        {
          "output_type": "stream",
          "name": "stderr",
          "text": [
            "\r100% (100 of 100) |######################| Elapsed Time: 0:01:51 Time:  0:01:51\n"
          ]
        }
      ]
    },
    {
      "cell_type": "markdown",
      "source": [
        "## **Evaluation**"
      ],
      "metadata": {
        "id": "XyffpKdP7ts7"
      }
    },
    {
      "cell_type": "code",
      "source": [
        "median_forecast = y_pred[:, : , 1]\n",
        "result_mqrnn = evaluate(yforecast_test, median_forecast, y_pred, 'MQRNN')\n",
        "result_mqrnn['Model'] = 'MQRNN'\n",
        "result_mqrnn"
      ],
      "metadata": {
        "colab": {
          "base_uri": "https://localhost:8080/",
          "height": 206
        },
        "id": "TOg8VKM557UM",
        "outputId": "cde20b24-5622-4ad8-f1be-65148e9cc0d6"
      },
      "execution_count": 38,
      "outputs": [
        {
          "output_type": "execute_result",
          "data": {
            "text/plain": [
              "  Metric          Value  Model\n",
              "0    mse  303922.457194  MQRNN\n",
              "1   mase       2.238220  MQRNN\n",
              "2  rmsse       1.899177  MQRNN\n",
              "3   mape      16.574688  MQRNN\n",
              "4    mae     474.616956  MQRNN"
            ],
            "text/html": [
              "\n",
              "  <div id=\"df-997e3a39-bb01-4cfc-a0b9-7966e5b4e09c\" class=\"colab-df-container\">\n",
              "    <div>\n",
              "<style scoped>\n",
              "    .dataframe tbody tr th:only-of-type {\n",
              "        vertical-align: middle;\n",
              "    }\n",
              "\n",
              "    .dataframe tbody tr th {\n",
              "        vertical-align: top;\n",
              "    }\n",
              "\n",
              "    .dataframe thead th {\n",
              "        text-align: right;\n",
              "    }\n",
              "</style>\n",
              "<table border=\"1\" class=\"dataframe\">\n",
              "  <thead>\n",
              "    <tr style=\"text-align: right;\">\n",
              "      <th></th>\n",
              "      <th>Metric</th>\n",
              "      <th>Value</th>\n",
              "      <th>Model</th>\n",
              "    </tr>\n",
              "  </thead>\n",
              "  <tbody>\n",
              "    <tr>\n",
              "      <th>0</th>\n",
              "      <td>mse</td>\n",
              "      <td>303922.457194</td>\n",
              "      <td>MQRNN</td>\n",
              "    </tr>\n",
              "    <tr>\n",
              "      <th>1</th>\n",
              "      <td>mase</td>\n",
              "      <td>2.238220</td>\n",
              "      <td>MQRNN</td>\n",
              "    </tr>\n",
              "    <tr>\n",
              "      <th>2</th>\n",
              "      <td>rmsse</td>\n",
              "      <td>1.899177</td>\n",
              "      <td>MQRNN</td>\n",
              "    </tr>\n",
              "    <tr>\n",
              "      <th>3</th>\n",
              "      <td>mape</td>\n",
              "      <td>16.574688</td>\n",
              "      <td>MQRNN</td>\n",
              "    </tr>\n",
              "    <tr>\n",
              "      <th>4</th>\n",
              "      <td>mae</td>\n",
              "      <td>474.616956</td>\n",
              "      <td>MQRNN</td>\n",
              "    </tr>\n",
              "  </tbody>\n",
              "</table>\n",
              "</div>\n",
              "    <div class=\"colab-df-buttons\">\n",
              "\n",
              "  <div class=\"colab-df-container\">\n",
              "    <button class=\"colab-df-convert\" onclick=\"convertToInteractive('df-997e3a39-bb01-4cfc-a0b9-7966e5b4e09c')\"\n",
              "            title=\"Convert this dataframe to an interactive table.\"\n",
              "            style=\"display:none;\">\n",
              "\n",
              "  <svg xmlns=\"http://www.w3.org/2000/svg\" height=\"24px\" viewBox=\"0 -960 960 960\">\n",
              "    <path d=\"M120-120v-720h720v720H120Zm60-500h600v-160H180v160Zm220 220h160v-160H400v160Zm0 220h160v-160H400v160ZM180-400h160v-160H180v160Zm440 0h160v-160H620v160ZM180-180h160v-160H180v160Zm440 0h160v-160H620v160Z\"/>\n",
              "  </svg>\n",
              "    </button>\n",
              "\n",
              "  <style>\n",
              "    .colab-df-container {\n",
              "      display:flex;\n",
              "      gap: 12px;\n",
              "    }\n",
              "\n",
              "    .colab-df-convert {\n",
              "      background-color: #E8F0FE;\n",
              "      border: none;\n",
              "      border-radius: 50%;\n",
              "      cursor: pointer;\n",
              "      display: none;\n",
              "      fill: #1967D2;\n",
              "      height: 32px;\n",
              "      padding: 0 0 0 0;\n",
              "      width: 32px;\n",
              "    }\n",
              "\n",
              "    .colab-df-convert:hover {\n",
              "      background-color: #E2EBFA;\n",
              "      box-shadow: 0px 1px 2px rgba(60, 64, 67, 0.3), 0px 1px 3px 1px rgba(60, 64, 67, 0.15);\n",
              "      fill: #174EA6;\n",
              "    }\n",
              "\n",
              "    .colab-df-buttons div {\n",
              "      margin-bottom: 4px;\n",
              "    }\n",
              "\n",
              "    [theme=dark] .colab-df-convert {\n",
              "      background-color: #3B4455;\n",
              "      fill: #D2E3FC;\n",
              "    }\n",
              "\n",
              "    [theme=dark] .colab-df-convert:hover {\n",
              "      background-color: #434B5C;\n",
              "      box-shadow: 0px 1px 3px 1px rgba(0, 0, 0, 0.15);\n",
              "      filter: drop-shadow(0px 1px 2px rgba(0, 0, 0, 0.3));\n",
              "      fill: #FFFFFF;\n",
              "    }\n",
              "  </style>\n",
              "\n",
              "    <script>\n",
              "      const buttonEl =\n",
              "        document.querySelector('#df-997e3a39-bb01-4cfc-a0b9-7966e5b4e09c button.colab-df-convert');\n",
              "      buttonEl.style.display =\n",
              "        google.colab.kernel.accessAllowed ? 'block' : 'none';\n",
              "\n",
              "      async function convertToInteractive(key) {\n",
              "        const element = document.querySelector('#df-997e3a39-bb01-4cfc-a0b9-7966e5b4e09c');\n",
              "        const dataTable =\n",
              "          await google.colab.kernel.invokeFunction('convertToInteractive',\n",
              "                                                    [key], {});\n",
              "        if (!dataTable) return;\n",
              "\n",
              "        const docLinkHtml = 'Like what you see? Visit the ' +\n",
              "          '<a target=\"_blank\" href=https://colab.research.google.com/notebooks/data_table.ipynb>data table notebook</a>'\n",
              "          + ' to learn more about interactive tables.';\n",
              "        element.innerHTML = '';\n",
              "        dataTable['output_type'] = 'display_data';\n",
              "        await google.colab.output.renderOutput(dataTable, element);\n",
              "        const docLink = document.createElement('div');\n",
              "        docLink.innerHTML = docLinkHtml;\n",
              "        element.appendChild(docLink);\n",
              "      }\n",
              "    </script>\n",
              "  </div>\n",
              "\n",
              "\n",
              "<div id=\"df-75e8d01e-d550-4cf4-94aa-43279699a76e\">\n",
              "  <button class=\"colab-df-quickchart\" onclick=\"quickchart('df-75e8d01e-d550-4cf4-94aa-43279699a76e')\"\n",
              "            title=\"Suggest charts.\"\n",
              "            style=\"display:none;\">\n",
              "\n",
              "<svg xmlns=\"http://www.w3.org/2000/svg\" height=\"24px\"viewBox=\"0 0 24 24\"\n",
              "     width=\"24px\">\n",
              "    <g>\n",
              "        <path d=\"M19 3H5c-1.1 0-2 .9-2 2v14c0 1.1.9 2 2 2h14c1.1 0 2-.9 2-2V5c0-1.1-.9-2-2-2zM9 17H7v-7h2v7zm4 0h-2V7h2v10zm4 0h-2v-4h2v4z\"/>\n",
              "    </g>\n",
              "</svg>\n",
              "  </button>\n",
              "\n",
              "<style>\n",
              "  .colab-df-quickchart {\n",
              "      --bg-color: #E8F0FE;\n",
              "      --fill-color: #1967D2;\n",
              "      --hover-bg-color: #E2EBFA;\n",
              "      --hover-fill-color: #174EA6;\n",
              "      --disabled-fill-color: #AAA;\n",
              "      --disabled-bg-color: #DDD;\n",
              "  }\n",
              "\n",
              "  [theme=dark] .colab-df-quickchart {\n",
              "      --bg-color: #3B4455;\n",
              "      --fill-color: #D2E3FC;\n",
              "      --hover-bg-color: #434B5C;\n",
              "      --hover-fill-color: #FFFFFF;\n",
              "      --disabled-bg-color: #3B4455;\n",
              "      --disabled-fill-color: #666;\n",
              "  }\n",
              "\n",
              "  .colab-df-quickchart {\n",
              "    background-color: var(--bg-color);\n",
              "    border: none;\n",
              "    border-radius: 50%;\n",
              "    cursor: pointer;\n",
              "    display: none;\n",
              "    fill: var(--fill-color);\n",
              "    height: 32px;\n",
              "    padding: 0;\n",
              "    width: 32px;\n",
              "  }\n",
              "\n",
              "  .colab-df-quickchart:hover {\n",
              "    background-color: var(--hover-bg-color);\n",
              "    box-shadow: 0 1px 2px rgba(60, 64, 67, 0.3), 0 1px 3px 1px rgba(60, 64, 67, 0.15);\n",
              "    fill: var(--button-hover-fill-color);\n",
              "  }\n",
              "\n",
              "  .colab-df-quickchart-complete:disabled,\n",
              "  .colab-df-quickchart-complete:disabled:hover {\n",
              "    background-color: var(--disabled-bg-color);\n",
              "    fill: var(--disabled-fill-color);\n",
              "    box-shadow: none;\n",
              "  }\n",
              "\n",
              "  .colab-df-spinner {\n",
              "    border: 2px solid var(--fill-color);\n",
              "    border-color: transparent;\n",
              "    border-bottom-color: var(--fill-color);\n",
              "    animation:\n",
              "      spin 1s steps(1) infinite;\n",
              "  }\n",
              "\n",
              "  @keyframes spin {\n",
              "    0% {\n",
              "      border-color: transparent;\n",
              "      border-bottom-color: var(--fill-color);\n",
              "      border-left-color: var(--fill-color);\n",
              "    }\n",
              "    20% {\n",
              "      border-color: transparent;\n",
              "      border-left-color: var(--fill-color);\n",
              "      border-top-color: var(--fill-color);\n",
              "    }\n",
              "    30% {\n",
              "      border-color: transparent;\n",
              "      border-left-color: var(--fill-color);\n",
              "      border-top-color: var(--fill-color);\n",
              "      border-right-color: var(--fill-color);\n",
              "    }\n",
              "    40% {\n",
              "      border-color: transparent;\n",
              "      border-right-color: var(--fill-color);\n",
              "      border-top-color: var(--fill-color);\n",
              "    }\n",
              "    60% {\n",
              "      border-color: transparent;\n",
              "      border-right-color: var(--fill-color);\n",
              "    }\n",
              "    80% {\n",
              "      border-color: transparent;\n",
              "      border-right-color: var(--fill-color);\n",
              "      border-bottom-color: var(--fill-color);\n",
              "    }\n",
              "    90% {\n",
              "      border-color: transparent;\n",
              "      border-bottom-color: var(--fill-color);\n",
              "    }\n",
              "  }\n",
              "</style>\n",
              "\n",
              "  <script>\n",
              "    async function quickchart(key) {\n",
              "      const quickchartButtonEl =\n",
              "        document.querySelector('#' + key + ' button');\n",
              "      quickchartButtonEl.disabled = true;  // To prevent multiple clicks.\n",
              "      quickchartButtonEl.classList.add('colab-df-spinner');\n",
              "      try {\n",
              "        const charts = await google.colab.kernel.invokeFunction(\n",
              "            'suggestCharts', [key], {});\n",
              "      } catch (error) {\n",
              "        console.error('Error during call to suggestCharts:', error);\n",
              "      }\n",
              "      quickchartButtonEl.classList.remove('colab-df-spinner');\n",
              "      quickchartButtonEl.classList.add('colab-df-quickchart-complete');\n",
              "    }\n",
              "    (() => {\n",
              "      let quickchartButtonEl =\n",
              "        document.querySelector('#df-75e8d01e-d550-4cf4-94aa-43279699a76e button');\n",
              "      quickchartButtonEl.style.display =\n",
              "        google.colab.kernel.accessAllowed ? 'block' : 'none';\n",
              "    })();\n",
              "  </script>\n",
              "</div>\n",
              "    </div>\n",
              "  </div>\n"
            ]
          },
          "metadata": {},
          "execution_count": 38
        }
      ]
    },
    {
      "cell_type": "markdown",
      "source": [
        "## **Plotting Forecasts**"
      ],
      "metadata": {
        "id": "RxGCxBKS-p7i"
      }
    },
    {
      "cell_type": "code",
      "source": [
        "y_true_plot = np.hstack((scaler_target.inverse_transform(ytest), yforecast_test))\n",
        "plot_data_forecast(params, y_true_plot, None, 'MQRNN', 'median', y_pred)\n",
        "plt.savefig(\"MQRNN.pdf\", bbox_inches='tight')\n",
        "files.download(\"MQRNN.pdf\")"
      ],
      "metadata": {
        "colab": {
          "base_uri": "https://localhost:8080/",
          "height": 272
        },
        "id": "5FmwgdL3qpp1",
        "outputId": "74e8efc7-33c7-4452-c8d2-92e8bc20af57"
      },
      "execution_count": 37,
      "outputs": [
        {
          "output_type": "display_data",
          "data": {
            "text/plain": [
              "<Figure size 2000x500 with 1 Axes>"
            ],
            "image/png": "[encoded data removed]"
          },
          "metadata": {}
        },
        {
          "output_type": "display_data",
          "data": {
            "text/plain": [
              "<IPython.core.display.Javascript object>"
            ],
            "application/javascript": [
              "\n",
              "    async function download(id, filename, size) {\n",
              "      if (!google.colab.kernel.accessAllowed) {\n",
              "        return;\n",
              "      }\n",
              "      const div = document.createElement('div');\n",
              "      const label = document.createElement('label');\n",
              "      label.textContent = `Downloading \"${filename}\": `;\n",
              "      div.appendChild(label);\n",
              "      const progress = document.createElement('progress');\n",
              "      progress.max = size;\n",
              "      div.appendChild(progress);\n",
              "      document.body.appendChild(div);\n",
              "\n",
              "      const buffers = [];\n",
              "      let downloaded = 0;\n",
              "\n",
              "      const channel = await google.colab.kernel.comms.open(id);\n",
              "      // Send a message to notify the kernel that we're ready.\n",
              "      channel.send({})\n",
              "\n",
              "      for await (const message of channel.messages) {\n",
              "        // Send a message to notify the kernel that we're ready.\n",
              "        channel.send({})\n",
              "        if (message.buffers) {\n",
              "          for (const buffer of message.buffers) {\n",
              "            buffers.push(buffer);\n",
              "            downloaded += buffer.byteLength;\n",
              "            progress.value = downloaded;\n",
              "          }\n",
              "        }\n",
              "      }\n",
              "      const blob = new Blob(buffers, {type: 'application/binary'});\n",
              "      const a = document.createElement('a');\n",
              "      a.href = window.URL.createObjectURL(blob);\n",
              "      a.download = filename;\n",
              "      div.appendChild(a);\n",
              "      a.click();\n",
              "      div.remove();\n",
              "    }\n",
              "  "
            ]
          },
          "metadata": {}
        },
        {
          "output_type": "display_data",
          "data": {
            "text/plain": [
              "<IPython.core.display.Javascript object>"
            ],
            "application/javascript": [
              "download(\"download_02269fbf-1a58-4865-a9af-68ef51d786fa\", \"MQRNN.pdf\", 1194)"
            ]
          },
          "metadata": {}
        },
        {
          "output_type": "display_data",
          "data": {
            "text/plain": [
              "<Figure size 640x480 with 0 Axes>"
            ]
          },
          "metadata": {}
        }
      ]
    },
    {
      "cell_type": "markdown",
      "source": [
        "# **Compare Results**"
      ],
      "metadata": {
        "id": "HhMCsX9SNDwY"
      }
    },
    {
      "cell_type": "code",
      "source": [
        "result_all = pd.concat([result_deepfactor, result_deepar, result_mqrnn]).pivot(index = 'Model', columns = 'Metric', values = 'Value')\n",
        "result_all = result_all.transform(np.sort)"
      ],
      "metadata": {
        "id": "b96Ih3SU51j7"
      },
      "execution_count": 50,
      "outputs": []
    },
    {
      "cell_type": "code",
      "source": [
        "result_all"
      ],
      "metadata": {
        "colab": {
          "base_uri": "https://localhost:8080/",
          "height": 174
        },
        "id": "oL19vj9sNHhE",
        "outputId": "9f75360a-eb3f-4235-fdf0-63be8b554d75"
      },
      "execution_count": 51,
      "outputs": [
        {
          "output_type": "execute_result",
          "data": {
            "text/plain": [
              "Metric              mae       mape      mase            mse     rmsse\n",
              "Model                                                                \n",
              "Deep AR      132.735021   4.384458  0.625958   27032.847683  0.566409\n",
              "Deep Factor  204.955897   7.373291  0.966540   83014.587531  0.992570\n",
              "MQRNN        474.616956  16.574688  2.238220  303922.457194  1.899177"
            ],
            "text/html": [
              "\n",
              "  <div id=\"df-b2f972da-3fd9-40e2-9992-506a5ef64db4\" class=\"colab-df-container\">\n",
              "    <div>\n",
              "<style scoped>\n",
              "    .dataframe tbody tr th:only-of-type {\n",
              "        vertical-align: middle;\n",
              "    }\n",
              "\n",
              "    .dataframe tbody tr th {\n",
              "        vertical-align: top;\n",
              "    }\n",
              "\n",
              "    .dataframe thead th {\n",
              "        text-align: right;\n",
              "    }\n",
              "</style>\n",
              "<table border=\"1\" class=\"dataframe\">\n",
              "  <thead>\n",
              "    <tr style=\"text-align: right;\">\n",
              "      <th>Metric</th>\n",
              "      <th>mae</th>\n",
              "      <th>mape</th>\n",
              "      <th>mase</th>\n",
              "      <th>mse</th>\n",
              "      <th>rmsse</th>\n",
              "    </tr>\n",
              "    <tr>\n",
              "      <th>Model</th>\n",
              "      <th></th>\n",
              "      <th></th>\n",
              "      <th></th>\n",
              "      <th></th>\n",
              "      <th></th>\n",
              "    </tr>\n",
              "  </thead>\n",
              "  <tbody>\n",
              "    <tr>\n",
              "      <th>Deep AR</th>\n",
              "      <td>132.735021</td>\n",
              "      <td>4.384458</td>\n",
              "      <td>0.625958</td>\n",
              "      <td>27032.847683</td>\n",
              "      <td>0.566409</td>\n",
              "    </tr>\n",
              "    <tr>\n",
              "      <th>Deep Factor</th>\n",
              "      <td>204.955897</td>\n",
              "      <td>7.373291</td>\n",
              "      <td>0.966540</td>\n",
              "      <td>83014.587531</td>\n",
              "      <td>0.992570</td>\n",
              "    </tr>\n",
              "    <tr>\n",
              "      <th>MQRNN</th>\n",
              "      <td>474.616956</td>\n",
              "      <td>16.574688</td>\n",
              "      <td>2.238220</td>\n",
              "      <td>303922.457194</td>\n",
              "      <td>1.899177</td>\n",
              "    </tr>\n",
              "  </tbody>\n",
              "</table>\n",
              "</div>\n",
              "    <div class=\"colab-df-buttons\">\n",
              "\n",
              "  <div class=\"colab-df-container\">\n",
              "    <button class=\"colab-df-convert\" onclick=\"convertToInteractive('df-b2f972da-3fd9-40e2-9992-506a5ef64db4')\"\n",
              "            title=\"Convert this dataframe to an interactive table.\"\n",
              "            style=\"display:none;\">\n",
              "\n",
              "  <svg xmlns=\"http://www.w3.org/2000/svg\" height=\"24px\" viewBox=\"0 -960 960 960\">\n",
              "    <path d=\"M120-120v-720h720v720H120Zm60-500h600v-160H180v160Zm220 220h160v-160H400v160Zm0 220h160v-160H400v160ZM180-400h160v-160H180v160Zm440 0h160v-160H620v160ZM180-180h160v-160H180v160Zm440 0h160v-160H620v160Z\"/>\n",
              "  </svg>\n",
              "    </button>\n",
              "\n",
              "  <style>\n",
              "    .colab-df-container {\n",
              "      display:flex;\n",
              "      gap: 12px;\n",
              "    }\n",
              "\n",
              "    .colab-df-convert {\n",
              "      background-color: #E8F0FE;\n",
              "      border: none;\n",
              "      border-radius: 50%;\n",
              "      cursor: pointer;\n",
              "      display: none;\n",
              "      fill: #1967D2;\n",
              "      height: 32px;\n",
              "      padding: 0 0 0 0;\n",
              "      width: 32px;\n",
              "    }\n",
              "\n",
              "    .colab-df-convert:hover {\n",
              "      background-color: #E2EBFA;\n",
              "      box-shadow: 0px 1px 2px rgba(60, 64, 67, 0.3), 0px 1px 3px 1px rgba(60, 64, 67, 0.15);\n",
              "      fill: #174EA6;\n",
              "    }\n",
              "\n",
              "    .colab-df-buttons div {\n",
              "      margin-bottom: 4px;\n",
              "    }\n",
              "\n",
              "    [theme=dark] .colab-df-convert {\n",
              "      background-color: #3B4455;\n",
              "      fill: #D2E3FC;\n",
              "    }\n",
              "\n",
              "    [theme=dark] .colab-df-convert:hover {\n",
              "      background-color: #434B5C;\n",
              "      box-shadow: 0px 1px 3px 1px rgba(0, 0, 0, 0.15);\n",
              "      filter: drop-shadow(0px 1px 2px rgba(0, 0, 0, 0.3));\n",
              "      fill: #FFFFFF;\n",
              "    }\n",
              "  </style>\n",
              "\n",
              "    <script>\n",
              "      const buttonEl =\n",
              "        document.querySelector('#df-b2f972da-3fd9-40e2-9992-506a5ef64db4 button.colab-df-convert');\n",
              "      buttonEl.style.display =\n",
              "        google.colab.kernel.accessAllowed ? 'block' : 'none';\n",
              "\n",
              "      async function convertToInteractive(key) {\n",
              "        const element = document.querySelector('#df-b2f972da-3fd9-40e2-9992-506a5ef64db4');\n",
              "        const dataTable =\n",
              "          await google.colab.kernel.invokeFunction('convertToInteractive',\n",
              "                                                    [key], {});\n",
              "        if (!dataTable) return;\n",
              "\n",
              "        const docLinkHtml = 'Like what you see? Visit the ' +\n",
              "          '<a target=\"_blank\" href=https://colab.research.google.com/notebooks/data_table.ipynb>data table notebook</a>'\n",
              "          + ' to learn more about interactive tables.';\n",
              "        element.innerHTML = '';\n",
              "        dataTable['output_type'] = 'display_data';\n",
              "        await google.colab.output.renderOutput(dataTable, element);\n",
              "        const docLink = document.createElement('div');\n",
              "        docLink.innerHTML = docLinkHtml;\n",
              "        element.appendChild(docLink);\n",
              "      }\n",
              "    </script>\n",
              "  </div>\n",
              "\n",
              "\n",
              "<div id=\"df-56be7417-75db-470e-9fe8-39cbe3d46e9c\">\n",
              "  <button class=\"colab-df-quickchart\" onclick=\"quickchart('df-56be7417-75db-470e-9fe8-39cbe3d46e9c')\"\n",
              "            title=\"Suggest charts.\"\n",
              "            style=\"display:none;\">\n",
              "\n",
              "<svg xmlns=\"http://www.w3.org/2000/svg\" height=\"24px\"viewBox=\"0 0 24 24\"\n",
              "     width=\"24px\">\n",
              "    <g>\n",
              "        <path d=\"M19 3H5c-1.1 0-2 .9-2 2v14c0 1.1.9 2 2 2h14c1.1 0 2-.9 2-2V5c0-1.1-.9-2-2-2zM9 17H7v-7h2v7zm4 0h-2V7h2v10zm4 0h-2v-4h2v4z\"/>\n",
              "    </g>\n",
              "</svg>\n",
              "  </button>\n",
              "\n",
              "<style>\n",
              "  .colab-df-quickchart {\n",
              "      --bg-color: #E8F0FE;\n",
              "      --fill-color: #1967D2;\n",
              "      --hover-bg-color: #E2EBFA;\n",
              "      --hover-fill-color: #174EA6;\n",
              "      --disabled-fill-color: #AAA;\n",
              "      --disabled-bg-color: #DDD;\n",
              "  }\n",
              "\n",
              "  [theme=dark] .colab-df-quickchart {\n",
              "      --bg-color: #3B4455;\n",
              "      --fill-color: #D2E3FC;\n",
              "      --hover-bg-color: #434B5C;\n",
              "      --hover-fill-color: #FFFFFF;\n",
              "      --disabled-bg-color: #3B4455;\n",
              "      --disabled-fill-color: #666;\n",
              "  }\n",
              "\n",
              "  .colab-df-quickchart {\n",
              "    background-color: var(--bg-color);\n",
              "    border: none;\n",
              "    border-radius: 50%;\n",
              "    cursor: pointer;\n",
              "    display: none;\n",
              "    fill: var(--fill-color);\n",
              "    height: 32px;\n",
              "    padding: 0;\n",
              "    width: 32px;\n",
              "  }\n",
              "\n",
              "  .colab-df-quickchart:hover {\n",
              "    background-color: var(--hover-bg-color);\n",
              "    box-shadow: 0 1px 2px rgba(60, 64, 67, 0.3), 0 1px 3px 1px rgba(60, 64, 67, 0.15);\n",
              "    fill: var(--button-hover-fill-color);\n",
              "  }\n",
              "\n",
              "  .colab-df-quickchart-complete:disabled,\n",
              "  .colab-df-quickchart-complete:disabled:hover {\n",
              "    background-color: var(--disabled-bg-color);\n",
              "    fill: var(--disabled-fill-color);\n",
              "    box-shadow: none;\n",
              "  }\n",
              "\n",
              "  .colab-df-spinner {\n",
              "    border: 2px solid var(--fill-color);\n",
              "    border-color: transparent;\n",
              "    border-bottom-color: var(--fill-color);\n",
              "    animation:\n",
              "      spin 1s steps(1) infinite;\n",
              "  }\n",
              "\n",
              "  @keyframes spin {\n",
              "    0% {\n",
              "      border-color: transparent;\n",
              "      border-bottom-color: var(--fill-color);\n",
              "      border-left-color: var(--fill-color);\n",
              "    }\n",
              "    20% {\n",
              "      border-color: transparent;\n",
              "      border-left-color: var(--fill-color);\n",
              "      border-top-color: var(--fill-color);\n",
              "    }\n",
              "    30% {\n",
              "      border-color: transparent;\n",
              "      border-left-color: var(--fill-color);\n",
              "      border-top-color: var(--fill-color);\n",
              "      border-right-color: var(--fill-color);\n",
              "    }\n",
              "    40% {\n",
              "      border-color: transparent;\n",
              "      border-right-color: var(--fill-color);\n",
              "      border-top-color: var(--fill-color);\n",
              "    }\n",
              "    60% {\n",
              "      border-color: transparent;\n",
              "      border-right-color: var(--fill-color);\n",
              "    }\n",
              "    80% {\n",
              "      border-color: transparent;\n",
              "      border-right-color: var(--fill-color);\n",
              "      border-bottom-color: var(--fill-color);\n",
              "    }\n",
              "    90% {\n",
              "      border-color: transparent;\n",
              "      border-bottom-color: var(--fill-color);\n",
              "    }\n",
              "  }\n",
              "</style>\n",
              "\n",
              "  <script>\n",
              "    async function quickchart(key) {\n",
              "      const quickchartButtonEl =\n",
              "        document.querySelector('#' + key + ' button');\n",
              "      quickchartButtonEl.disabled = true;  // To prevent multiple clicks.\n",
              "      quickchartButtonEl.classList.add('colab-df-spinner');\n",
              "      try {\n",
              "        const charts = await google.colab.kernel.invokeFunction(\n",
              "            'suggestCharts', [key], {});\n",
              "      } catch (error) {\n",
              "        console.error('Error during call to suggestCharts:', error);\n",
              "      }\n",
              "      quickchartButtonEl.classList.remove('colab-df-spinner');\n",
              "      quickchartButtonEl.classList.add('colab-df-quickchart-complete');\n",
              "    }\n",
              "    (() => {\n",
              "      let quickchartButtonEl =\n",
              "        document.querySelector('#df-56be7417-75db-470e-9fe8-39cbe3d46e9c button');\n",
              "      quickchartButtonEl.style.display =\n",
              "        google.colab.kernel.accessAllowed ? 'block' : 'none';\n",
              "    })();\n",
              "  </script>\n",
              "</div>\n",
              "    </div>\n",
              "  </div>\n"
            ]
          },
          "metadata": {},
          "execution_count": 51
        }
      ]
    }
  ]
}