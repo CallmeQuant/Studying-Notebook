{
  "cells": [
    {
      "cell_type": "markdown",
      "metadata": {
        "id": "view-in-github",
        "colab_type": "text"
      },
      "source": [
        "<a href=\"https://colab.research.google.com/github/CallmeQuant/Studying-Notebook/blob/main/Quantitative%20Finance/Deep%20Portfolio/Deep_Optimization_Portfolio.ipynb\" target=\"_parent\"><img src=\"https://colab.research.google.com/assets/colab-badge.svg\" alt=\"Open In Colab\"/></a>"
      ]
    },
    {
      "cell_type": "code",
      "execution_count": 1,
      "metadata": {
        "id": "tnCSmVmN_4y0"
      },
      "outputs": [],
      "source": [
        "%load_ext rpy2.ipython"
      ]
    },
    {
      "cell_type": "code",
      "execution_count": 2,
      "metadata": {
        "id": "Oz8Z05x5Ezz-",
        "colab": {
          "base_uri": "https://localhost:8080/"
        },
        "outputId": "20e6c79e-395a-4341-84a4-04e0eb01b61d"
      },
      "outputs": [
        {
          "output_type": "stream",
          "name": "stdout",
          "text": [
            "Mounted at /content/drive\n"
          ]
        }
      ],
      "source": [
        "from google.colab import drive, files\n",
        "drive.mount('/content/drive')"
      ]
    },
    {
      "cell_type": "markdown",
      "metadata": {
        "id": "DwJeZ5uUuH7p"
      },
      "source": [
        "# **Crawling Function**"
      ]
    },
    {
      "cell_type": "code",
      "execution_count": 3,
      "metadata": {
        "id": "CDyVUzFh_jgk"
      },
      "outputs": [],
      "source": [
        "import pandas as pd\n",
        "import requests\n",
        "from pandas import json_normalize\n",
        "from io import BytesIO\n",
        "import time\n",
        "from datetime import datetime, timedelta\n",
        "from functools import reduce\n",
        "import numpy as np\n",
        "\n",
        "entrade_headers = {\n",
        "  'authority': 'services.entrade.com.vn',\n",
        "  'accept': 'application/json, text/plain, */*',\n",
        "  'accept-language': 'en-US,en;q=0.9',\n",
        "  'dnt': '1',\n",
        "  'origin': 'https://banggia.dnse.com.vn',\n",
        "  'referer': 'https://banggia.dnse.com.vn/',\n",
        "  'sec-ch-ua': '\"Edge\";v=\"114\", \"Chromium\";v=\"114\", \"Not=A?Brand\";v=\"24\"',\n",
        "  'sec-ch-ua-mobile': '?0',\n",
        "  'sec-ch-ua-platform': '\"Windows\"',\n",
        "  'sec-fetch-dest': 'empty',\n",
        "  'sec-fetch-mode': 'cors',\n",
        "  'sec-fetch-site': 'cross-site',\n",
        "  'user-agent': 'Mozilla/5.0 (Windows NT 10.0; Win64; x64) AppleWebKit/537.36 (KHTML, like Gecko) Chrome/114.0.0.0 Safari/537.36 Edg/114.0.1788.0'\n",
        "}\n",
        "\n",
        "\n",
        "def convert_date(text, data_type = \"%Y-%m-%d\"):\n",
        "    return datetime.strptime(text, data_type)\n",
        "\n",
        "def price_collector(symbol, start_date='2023-09-25', end_date='2023-10-25',\n",
        "                    frequency='1D', type='stock', thousand_unit=True,\n",
        "                    headers=entrade_headers):\n",
        "    \"\"\"\n",
        "    Get historical price data from entrade.com.vn. The unit price is thousand VND.\n",
        "    Parameters:\n",
        "    ----------\n",
        "        symbol (str): ticker of a stock or index. Available indices are: VNINDEX, VN30, HNX, HNX30, UPCOM, VNXALLSHARE, VN30F1M, VN30F2M, VN30F1Q, VN30F2Q\n",
        "        start_date (str): start date of the historical price data\n",
        "        end_date (str): end date of the historical price data\n",
        "        frequency (str): frequency of the historical price data. Default is '1D' (daily), other options are '1' (1 minute), 15 (15 minutes), 30 (30 minutes), '1H' (hourly)\n",
        "        type (str): stock or index. Default is 'stock'\n",
        "        thousand_unit (bool): if True, convert open, high, low, close to VND for stock symbols. Default is True\n",
        "        headers (dict): headers of the request\n",
        "    Returns:\n",
        "    pandas.DataFrame with the following format\n",
        "        | time | open | high | low | close | volume |\n",
        "        | ----------- | ---- | ---- | --- | ----- | ------ |\n",
        "        | YYYY-mm-dd  | xxxx | xxxx | xxx | xxxxx | xxxxxx |\n",
        "    \"\"\"\n",
        "    # add one more day to end_date\n",
        "    end_date = (datetime.strptime(end_date, '%Y-%m-%d') + timedelta(days=1)).strftime('%Y-%m-%d')\n",
        "    # convert from_date, to_date to timestamp\n",
        "    from_timestamp = int(datetime.strptime(start_date, '%Y-%m-%d').timestamp())\n",
        "    to_timestamp = int(datetime.strptime(end_date, '%Y-%m-%d').timestamp())\n",
        "    url = f\"https://services.entrade.com.vn/chart-api/v2/ohlcs/{type}?from={from_timestamp}&to={to_timestamp}&symbol={symbol}&resolution={frequency}\"\n",
        "    response = requests.request(\"GET\", url, headers=headers)\n",
        "\n",
        "    if response.status_code == 200:\n",
        "        response_data = response.json()\n",
        "        df = pd.DataFrame(response_data)\n",
        "        df['t'] = pd.to_datetime(df['t'], unit='s') # convert timestamp to datetime\n",
        "        df = df.rename(columns={'t': 'time', 'o': 'open', 'h': 'high', 'l': 'low', 'c': 'close', 'v': 'volume'}).drop(columns=['nextTime'])\n",
        "        # add symbol column\n",
        "        df['ticker'] = symbol\n",
        "        df['time'] = df['time'].dt.tz_localize('UTC').dt.tz_convert('Asia/Ho_Chi_Minh')\n",
        "        # if frequency is 1D, then convert time to date\n",
        "        if frequency == '1D':\n",
        "            df['time'] = pd.to_datetime(df['time'].dt.date)\n",
        "            df = df.rename(columns={'time': 'date'})\n",
        "        else:\n",
        "            pass\n",
        "        # if type=stock and thousand_unit=False, then convert open, high, low, close to VND, elif type=index keep as is\n",
        "        if type == 'stock' and thousand_unit == False:\n",
        "            df[['open', 'high', 'low', 'close']] = df[['open', 'high', 'low', 'close']] * 1000\n",
        "            # convert open, high, low, close to int\n",
        "            df[['open', 'high', 'low', 'close']] = df[['open', 'high', 'low', 'close']].astype(int)\n",
        "        else:\n",
        "            pass\n",
        "    else:\n",
        "        print(f\"Error in API response {response.text}\", \"\\n\")\n",
        "    return df\n",
        "\n",
        "\n",
        "def get_stocks_price(symbols, start_date='2023-06-25', end_date='2023-10-25',\n",
        "                     frequency='1D', type='stock', thousand_unit=True,\n",
        "                     dataframe_type = 'wide',\n",
        "                     headers=entrade_headers):\n",
        "    \"\"\"\n",
        "    Get historical price data from entrade.com.vn. The unit price is thousand VND.\n",
        "    Parameters:\n",
        "    ----------\n",
        "        symbols (list): list of tickers of stocks or indices.\n",
        "        start_date (str): start date of the historical price data\n",
        "        end_date (str): end date of the historical price data\n",
        "        frequency (str): frequency of the historical price data. Default is '1D' (daily), other options are '1' (1 minute), 15 (15 minutes), 30 (30 minutes), '1H' (hourly)\n",
        "        type (str): stock or index. Default is 'stock'\n",
        "        thousand_unit (bool): if True, convert open, high, low, close to VND for stock symbols. Default is True\n",
        "        dataframe_type (str): long or wide. Default is 'wide'.\n",
        "        headers (dict): headers of the request\n",
        "    Returns:\n",
        "    --------\n",
        "    pandas.DataFrame\n",
        "    \"\"\"\n",
        "    # Initialize a dictionary to store all stock dataframes\n",
        "    all_stocks = {}\n",
        "\n",
        "    # Loop over each symbol in the list\n",
        "    for symbol in symbols:\n",
        "        # Get the stock data for the current symbol\n",
        "        df = price_collector(symbol, start_date, end_date, frequency, type, thousand_unit, headers)\n",
        "\n",
        "        # Drop 'ticker' column and set 'date' column as index\n",
        "        df = df.drop(columns=['ticker']).set_index('date')\n",
        "\n",
        "        # Store the dataframe in the dictionary with its symbol as its key\n",
        "        all_stocks[symbol] = df\n",
        "\n",
        "    # Concatenate all dataframes in the dictionary\n",
        "    if dataframe_type == 'wide':\n",
        "      # Concatenate along columns and create multi-index from dictionary keys (symbols)\n",
        "      all_stocks = reduce(lambda left,right: pd.merge(left,\n",
        "                                                      right,\n",
        "                                                      on='date',\n",
        "                                                      how='outer',\n",
        "                                                      suffixes=('', '_right')),\n",
        "                           all_stocks.values())\n",
        "      all_stocks.columns = pd.MultiIndex.from_product([stock_list,\n",
        "                                                       ['open', 'high', 'low', 'close', 'volume']],\n",
        "                                                       names=['Tickers', 'Attributes'])\n",
        "\n",
        "      # all_stocks.fillna(0, inplace=True)\n",
        "\n",
        "      # Swap levels in multi-index columns and sort them\n",
        "      all_stocks.columns = all_stocks.columns.swaplevel(0, 1)\n",
        "      all_stocks.sort_index(axis=1, level=[0, 1], inplace=True)\n",
        "\n",
        "      # Rename column levels\n",
        "      all_stocks.columns.names = ['Attributes', 'Tickers']\n",
        "    elif dataframe_type == 'long':\n",
        "      # Create a list to store DataFrames\n",
        "      dfs = []\n",
        "      for ticker, df in all_stocks.items():\n",
        "        # Add a 'Ticker' column to each DataFrame\n",
        "        df['ticker'] = ticker\n",
        "        # Reorder the columns\n",
        "        df = df.iloc[:, [5, 0, 1, 2, 3, 4]]\n",
        "        dfs.append(df)\n",
        "\n",
        "      # Concatenate all dataframes in the list\n",
        "      all_stocks = pd.concat(dfs)\n",
        "      all_stocks.fillna(0, inplace=True)\n",
        "\n",
        "\n",
        "    return all_stocks"
      ]
    },
    {
      "cell_type": "markdown",
      "metadata": {
        "id": "ftP-UJbauLAb"
      },
      "source": [
        "# **Testing Crawling Function**"
      ]
    },
    {
      "cell_type": "code",
      "execution_count": 4,
      "metadata": {
        "id": "A-EMoQ01E2uO"
      },
      "outputs": [],
      "source": [
        "stock_list = ['CII','DIG','HPG',\"HT1\",'HSG',\"GAS\",\"GVR\",'TPB','TCB','MSN']\n",
        "end_date = '2023-11-1'\n",
        "start_date = (datetime.strptime(end_date, '%Y-%m-%d') - timedelta(days = 6 * 365 - 1)).strftime('%Y-%m-%d')\n",
        "df_original = get_stocks_price(['CII','DIG','HPG',\"HT1\",'HSG',\"GAS\",\"GVR\",'TPB','TCB','MSN'],\n",
        "                               start_date = start_date, end_date = end_date)\n",
        "\n",
        "columns = df_original.close.columns[~df_original.close.iloc[-1].isna()]\n",
        "df_original = df_original.iloc[:, df_original.columns.get_level_values(1).isin(columns)]\n",
        "df_original.close = df_original.close.interpolate(method='linear',limit_area='inside',limit_direction='both', axis=0)\n",
        "df_original.dropna(inplace = True)\n",
        "df_log_ret = np.log(df_original.close/df_original.close.shift(1)).fillna(1e-2)\n",
        "df_log_ret = df_log_ret.interpolate(method='linear',limit_area=\"inside\",limit_direction='both', axis=0)"
      ]
    },
    {
      "cell_type": "markdown",
      "metadata": {
        "id": "qOj-ZisQEVRr"
      },
      "source": [
        "## **Testing Sliding Window**"
      ]
    },
    {
      "cell_type": "code",
      "execution_count": 5,
      "metadata": {
        "id": "5kb1VSQjsRcW"
      },
      "outputs": [],
      "source": [
        "data = list(range(36))\n",
        "window_size = 12\n",
        "h = 7\n",
        "splits = []\n",
        "for i in range(len(data) - window_size + 1):\n",
        "  train = np.array(data[i:i+window_size])\n",
        "  test = np.array(data[i+window_size:i+window_size+h])\n",
        "  splits.append(('TRAIN:', train, 'TEST:', test))"
      ]
    },
    {
      "cell_type": "code",
      "execution_count": 6,
      "metadata": {
        "id": "w-hLOUH5sjzA",
        "colab": {
          "base_uri": "https://localhost:8080/"
        },
        "outputId": "b2f7201d-54b8-45c4-f70f-300a2fdda3bd"
      },
      "outputs": [
        {
          "output_type": "stream",
          "name": "stdout",
          "text": [
            "('TRAIN:', array([ 0,  1,  2,  3,  4,  5,  6,  7,  8,  9, 10, 11]), 'TEST:', array([12, 13, 14, 15, 16, 17, 18]))\n",
            "('TRAIN:', array([ 1,  2,  3,  4,  5,  6,  7,  8,  9, 10, 11, 12]), 'TEST:', array([13, 14, 15, 16, 17, 18, 19]))\n",
            "('TRAIN:', array([ 2,  3,  4,  5,  6,  7,  8,  9, 10, 11, 12, 13]), 'TEST:', array([14, 15, 16, 17, 18, 19, 20]))\n",
            "('TRAIN:', array([ 3,  4,  5,  6,  7,  8,  9, 10, 11, 12, 13, 14]), 'TEST:', array([15, 16, 17, 18, 19, 20, 21]))\n",
            "('TRAIN:', array([ 4,  5,  6,  7,  8,  9, 10, 11, 12, 13, 14, 15]), 'TEST:', array([16, 17, 18, 19, 20, 21, 22]))\n",
            "('TRAIN:', array([ 5,  6,  7,  8,  9, 10, 11, 12, 13, 14, 15, 16]), 'TEST:', array([17, 18, 19, 20, 21, 22, 23]))\n",
            "('TRAIN:', array([ 6,  7,  8,  9, 10, 11, 12, 13, 14, 15, 16, 17]), 'TEST:', array([18, 19, 20, 21, 22, 23, 24]))\n",
            "('TRAIN:', array([ 7,  8,  9, 10, 11, 12, 13, 14, 15, 16, 17, 18]), 'TEST:', array([19, 20, 21, 22, 23, 24, 25]))\n",
            "('TRAIN:', array([ 8,  9, 10, 11, 12, 13, 14, 15, 16, 17, 18, 19]), 'TEST:', array([20, 21, 22, 23, 24, 25, 26]))\n",
            "('TRAIN:', array([ 9, 10, 11, 12, 13, 14, 15, 16, 17, 18, 19, 20]), 'TEST:', array([21, 22, 23, 24, 25, 26, 27]))\n",
            "('TRAIN:', array([10, 11, 12, 13, 14, 15, 16, 17, 18, 19, 20, 21]), 'TEST:', array([22, 23, 24, 25, 26, 27, 28]))\n",
            "('TRAIN:', array([11, 12, 13, 14, 15, 16, 17, 18, 19, 20, 21, 22]), 'TEST:', array([23, 24, 25, 26, 27, 28, 29]))\n",
            "('TRAIN:', array([12, 13, 14, 15, 16, 17, 18, 19, 20, 21, 22, 23]), 'TEST:', array([24, 25, 26, 27, 28, 29, 30]))\n",
            "('TRAIN:', array([13, 14, 15, 16, 17, 18, 19, 20, 21, 22, 23, 24]), 'TEST:', array([25, 26, 27, 28, 29, 30, 31]))\n",
            "('TRAIN:', array([14, 15, 16, 17, 18, 19, 20, 21, 22, 23, 24, 25]), 'TEST:', array([26, 27, 28, 29, 30, 31, 32]))\n",
            "('TRAIN:', array([15, 16, 17, 18, 19, 20, 21, 22, 23, 24, 25, 26]), 'TEST:', array([27, 28, 29, 30, 31, 32, 33]))\n",
            "('TRAIN:', array([16, 17, 18, 19, 20, 21, 22, 23, 24, 25, 26, 27]), 'TEST:', array([28, 29, 30, 31, 32, 33, 34]))\n",
            "('TRAIN:', array([17, 18, 19, 20, 21, 22, 23, 24, 25, 26, 27, 28]), 'TEST:', array([29, 30, 31, 32, 33, 34, 35]))\n",
            "('TRAIN:', array([18, 19, 20, 21, 22, 23, 24, 25, 26, 27, 28, 29]), 'TEST:', array([30, 31, 32, 33, 34, 35]))\n",
            "('TRAIN:', array([19, 20, 21, 22, 23, 24, 25, 26, 27, 28, 29, 30]), 'TEST:', array([31, 32, 33, 34, 35]))\n",
            "('TRAIN:', array([20, 21, 22, 23, 24, 25, 26, 27, 28, 29, 30, 31]), 'TEST:', array([32, 33, 34, 35]))\n",
            "('TRAIN:', array([21, 22, 23, 24, 25, 26, 27, 28, 29, 30, 31, 32]), 'TEST:', array([33, 34, 35]))\n",
            "('TRAIN:', array([22, 23, 24, 25, 26, 27, 28, 29, 30, 31, 32, 33]), 'TEST:', array([34, 35]))\n",
            "('TRAIN:', array([23, 24, 25, 26, 27, 28, 29, 30, 31, 32, 33, 34]), 'TEST:', array([35]))\n",
            "('TRAIN:', array([24, 25, 26, 27, 28, 29, 30, 31, 32, 33, 34, 35]), 'TEST:', array([], dtype=float64))\n"
          ]
        }
      ],
      "source": [
        "for a_tuple in splits:\n",
        "  print(a_tuple)"
      ]
    },
    {
      "cell_type": "markdown",
      "source": [
        "# **Plotting Params**"
      ],
      "metadata": {
        "id": "E3fUCnBJSZnz"
      }
    },
    {
      "cell_type": "code",
      "source": [
        "import matplotlib.pyplot as plt\n",
        "plot_params = {\n",
        "    \"font.size\": 12,\n",
        "    \"figure.facecolor\": \"white\",\n",
        "    \"axes.facecolor\": \"white\",\n",
        "    \"axes.grid\": False,\n",
        "    \"grid.linestyle\": \"-\",\n",
        "    \"grid.linewidth\": 0.5,\n",
        "    \"axes.spines.top\": False,\n",
        "    \"axes.spines.right\": False,\n",
        "    \"axes.labelsize\": 12,\n",
        "    \"legend.fontsize\": 8,\n",
        "    \"xtick.labelsize\": 8,\n",
        "    \"ytick.labelsize\": 8,\n",
        "    \"axes.titlesize\": 15,\n",
        "    \"figure.dpi\": 150,\n",
        "    \"figure.constrained_layout.use\": True,\n",
        "    \"figure.autolayout\": False}\n",
        "\n",
        "plt.rcParams.update(plot_params)"
      ],
      "metadata": {
        "id": "AnjhkWtsSYsK"
      },
      "execution_count": 7,
      "outputs": []
    },
    {
      "cell_type": "markdown",
      "metadata": {
        "id": "4yJP83mgB0Nr"
      },
      "source": [
        "# **Dataset Class**"
      ]
    },
    {
      "cell_type": "code",
      "execution_count": 8,
      "metadata": {
        "id": "cWW8zSnD6ykG"
      },
      "outputs": [],
      "source": [
        "import torch\n",
        "from torch.utils.data import TensorDataset, DataLoader\n",
        "import numpy as np\n",
        "\n",
        "class Dataset:\n",
        "  \"\"\"Dataset class for modelling\"\"\"\n",
        "  def __init__(self, end_date, stock_list, train_ratio, train_len, pred_len, batch_size):\n",
        "    # batch_size = num_obs + 1\n",
        "    self.data = self.get_data(end_date, stock_list = stock_list)\n",
        "    self.data_values = torch.tensor(self.data.values, dtype = torch.float32)\n",
        "    self.data_index = self.data.index.to_series().astype(int).values  # Convert Timestamp to int\n",
        "    self.train_ratio = train_ratio\n",
        "    self.train_len = train_len\n",
        "    self.pred_len = pred_len\n",
        "    self.seq_len = train_len + pred_len\n",
        "    self.batch_size = batch_size\n",
        "    self.stock_names = self.data.columns.tolist()\n",
        "    self.num_stock = len(self.data.columns.tolist())\n",
        "\n",
        "  def create_dataset(self, data_values, data_index, seq_len):\n",
        "    # shape: batch x seq_len x num_features/num_stocks\n",
        "    dataset = data_values.unfold(0, seq_len, 1).permute(0, 2, 1)\n",
        "    times = [data_index[i : seq_len + i] for i in range(len(data_values) - seq_len + 1)]\n",
        "\n",
        "    # Separate the input and target data\n",
        "    x = dataset[:, :-self.pred_len, :]\n",
        "    y = dataset[:, -self.pred_len:, :]\n",
        "\n",
        "    # Separate the time indices for x and y\n",
        "    times_x = [t[:-self.pred_len] for t in times]\n",
        "    times_y = [t[-self.pred_len:] for t in times]\n",
        "\n",
        "    return x, y, times_x, times_y, times\n",
        "\n",
        "  def create_loader(self, split_idx = None):\n",
        "    if split_idx is None:\n",
        "      split_idx = int(len(self.data_values) * self.train_ratio)\n",
        "    data_train_values, data_test_values = torch.split(self.data_values, split_idx, dim=0)\n",
        "    data_train_index, data_test_index = torch.split(torch.tensor(self.data_index), split_idx, dim=0)\n",
        "\n",
        "    x_train, y_train, times_train, _, _ = self.create_dataset(data_train_values,\n",
        "                                            data_train_index, self.seq_len)\n",
        "    x_test, y_test, times_test, _, _ = self.create_dataset(data_test_values,\n",
        "                                          data_test_index, self.seq_len)\n",
        "\n",
        "    train_dataset = TensorDataset(x_train, y_train)\n",
        "    test_dataset = TensorDataset(x_test, y_test)\n",
        "\n",
        "    train_loader = DataLoader(train_dataset,\n",
        "                              batch_size=self.batch_size,\n",
        "                              shuffle=True,\n",
        "                              drop_last=True,)\n",
        "    test_loader = DataLoader(test_dataset,\n",
        "                              batch_size=self.batch_size,\n",
        "                              shuffle=False,\n",
        "                             drop_last=True,)\n",
        "\n",
        "    return train_loader, test_loader, times_train, times_test\n",
        "\n",
        "  def get_data(self, end_date,\n",
        "               start_date = None,\n",
        "               stock_list = ['CII','DIG','HPG',\"HT1\",'HSG',\"GAS\",\"GVR\",'TPB','TCB','MSN']):\n",
        "    if start_date is None:\n",
        "      start_date = (datetime.strptime(end_date, '%Y-%m-%d') - timedelta(days = 7 * 365)).strftime('%Y-%m-%d')\n",
        "    df = get_stocks_price(stock_list,\n",
        "                          dataframe_type = 'long',\n",
        "                          start_date = start_date, end_date = end_date)\n",
        "\n",
        "    # df.columns = df.columns.droplevel(1)\n",
        "    df = df.loc[:, ['ticker', 'close']].reset_index()\n",
        "    df['dow'] = df.date.apply(lambda x: x.dayofweek)\n",
        "    ## just select working days\n",
        "    df = df[(df.dow<=4)&(df.dow>=0)]\n",
        "    df = df.drop(['dow'],axis=1)\n",
        "    df = df.pivot_table(index='date', columns='ticker')\n",
        "    ## select tickers not nan in final day\n",
        "    columns = df.close.columns[~df.close.iloc[-1].isna()]\n",
        "    df = df.iloc[:, df.columns.get_level_values(1).isin(columns)]\n",
        "    df.close = df.close.interpolate(method='linear',limit_area='inside',limit_direction='both', axis=0)\n",
        "    df.dropna(inplace = True)\n",
        "\n",
        "    df_log_ret = np.log(df.close/df.close.shift(1)).fillna(1e-2)\n",
        "    df_log_ret = df_log_ret.interpolate(method='linear',limit_area=\"inside\",limit_direction='both', axis=0)\n",
        "\n",
        "    return df_log_ret\n",
        "\n",
        "  def get(self, train_mode = True):\n",
        "    train_loader, test_loader, _, _ = self.create_loader()\n",
        "    if train_mode:\n",
        "      return train_loader\n",
        "    else:\n",
        "      return test_loader\n"
      ]
    },
    {
      "cell_type": "markdown",
      "metadata": {
        "id": "XWxF420kuSA0"
      },
      "source": [
        "## **Testing Dataset**"
      ]
    },
    {
      "cell_type": "code",
      "execution_count": 9,
      "metadata": {
        "id": "ZJBTGK3bDr3l"
      },
      "outputs": [],
      "source": [
        "stock_list = ['CII','DIG','HPG',\"HT1\",'HSG',\"GAS\",\"GVR\",'TPB','TCB','MSN']\n",
        "end_date = '2023-11-1'\n",
        "# start_date = (datetime.strptime(end_date, '%Y-%m-%d') - timedelta(days = 6 * 365 - 1)).strftime('%Y-%m-%d')\n",
        "data = Dataset(end_date, stock_list, 0.8, 63, 21, 32)\n",
        "train_loader = data.get(train_mode = True)\n",
        "test_loader = data.get(train_mode = False)"
      ]
    },
    {
      "cell_type": "code",
      "execution_count": 10,
      "metadata": {
        "id": "Jo8Fns1-SX14"
      },
      "outputs": [],
      "source": [
        "def create_dataset(data, data_len, n_stock):\n",
        "    times = []\n",
        "    dataset = np.array(data.iloc[:data_len, :]).reshape(1, -1, n_stock)\n",
        "    times.append(data.iloc[:data_len, :].index)\n",
        "\n",
        "    for i in range(1, len(data) - data_len + 1):\n",
        "        addition = np.array(data.iloc[i : data_len + i, :]).reshape(1, -1, n_stock)\n",
        "        dataset = np.concatenate((dataset, addition))\n",
        "        times.append(data.iloc[i : data_len + i, :].index)\n",
        "    return dataset, times\n",
        "\n",
        "\n",
        "def data_split(data, train_len, pred_len, tr_ratio, n_stock):\n",
        "    return_train, times_train = create_dataset(\n",
        "        data[: int(len(data) * tr_ratio)], train_len + pred_len, n_stock\n",
        "    )\n",
        "    return_test, times_test = create_dataset(\n",
        "        data[int(len(data) * tr_ratio) :], train_len + pred_len, n_stock\n",
        "    )\n",
        "\n",
        "    x_tr = np.array([x[:train_len] for x in return_train])\n",
        "    y_tr = np.array([x[-pred_len:] for x in return_train])\n",
        "    times_tr = np.unique(\n",
        "        np.array([x[-pred_len:] for x in times_train]).flatten()\n",
        "    ).tolist()\n",
        "\n",
        "    x_te = np.array([x[:train_len] for x in return_test])\n",
        "    y_te = np.array([x[-pred_len:] for x in return_test])\n",
        "    times_te = np.unique(\n",
        "        np.array([x[-pred_len:] for x in times_test]).flatten()\n",
        "    ).tolist()\n",
        "\n",
        "    return x_tr, y_tr, x_te, y_te, times_tr, times_te\n",
        "\n",
        "x_tr, y_tr, x_te, y_te, times_tr, times_te = data_split(\n",
        "        df_log_ret,\n",
        "        63,\n",
        "        21,\n",
        "        0.8,\n",
        "        10,\n",
        "    )"
      ]
    },
    {
      "cell_type": "code",
      "execution_count": 11,
      "metadata": {
        "id": "vN8yuf55Zkf-",
        "colab": {
          "base_uri": "https://localhost:8080/"
        },
        "outputId": "52bd070b-7ea4-4deb-c663-34b11d766204"
      },
      "outputs": [
        {
          "output_type": "stream",
          "name": "stdout",
          "text": [
            "True\n",
            "True\n",
            "False\n",
            "False\n"
          ]
        }
      ],
      "source": [
        "# Numpy version\n",
        "x_tr_np, y_tr_np, x_te_np, y_te_np, times_tr_np, times_te_np = data_split(\n",
        "        df_log_ret,\n",
        "        63,\n",
        "        21,\n",
        "        0.8,\n",
        "        10,\n",
        "    )\n",
        "x_tr_np = torch.from_numpy(x_tr_np.astype(\"float32\"))\n",
        "y_tr_np = torch.from_numpy(y_tr_np.astype(\"float32\"))\n",
        "x_te_np = torch.from_numpy(x_te_np.astype(\"float32\"))\n",
        "y_te_np = torch.from_numpy(y_te_np.astype(\"float32\"))\n",
        "\n",
        "randomized = np.arange(len(x_tr_np))\n",
        "np.random.shuffle(randomized)\n",
        "x_tr_np = x_tr_np[randomized]\n",
        "y_tr_np = y_tr_np[randomized]\n",
        "\n",
        "train_dataset = TensorDataset(x_tr_np, y_tr_np)\n",
        "train_loader =  DataLoader(\n",
        "            dataset=train_dataset,\n",
        "            batch_size=32,\n",
        "            shuffle=False,\n",
        "            drop_last=True)\n",
        "\n",
        "test_dataset = TensorDataset(x_te_np, y_te_np)\n",
        "test_loader =  DataLoader(\n",
        "            dataset=test_dataset,\n",
        "            batch_size=32,\n",
        "            shuffle=False,\n",
        "            drop_last=True)\n",
        "\n",
        "# PyTorch version\n",
        "stock_list = ['CII','DIG','HPG',\"HT1\",'HSG',\"GAS\",\"GVR\",'TPB','TCB','MSN']\n",
        "end_date = '2023-11-1'\n",
        "data = Dataset(end_date, stock_list, 0.8, 63, 21, 32)\n",
        "train_loader_pt = data.get(train_mode = True)\n",
        "test_loader_pt = data.get(train_mode = False)\n",
        "\n",
        "# Compare shapes\n",
        "print(next(iter(train_loader))[0].shape == next(iter(train_loader_pt))[0].shape)\n",
        "print(next(iter(train_loader))[1].shape == next(iter(train_loader_pt))[1].shape)\n",
        "\n",
        "# Compare values\n",
        "print(np.allclose(next(iter(train_loader))[0].numpy(), next(iter(train_loader_pt))[0].numpy()))\n",
        "print(np.allclose(next(iter(train_loader))[1].numpy(), next(iter(train_loader_pt))[1].numpy()))\n"
      ]
    },
    {
      "cell_type": "code",
      "execution_count": 12,
      "metadata": {
        "id": "QkM9Cu3GSJYZ"
      },
      "outputs": [],
      "source": [
        "import torch\n",
        "import torch.nn as nn\n",
        "import torch.nn.functional as F\n",
        "\n",
        "class AdditiveAttentionLayer(nn.Module):\n",
        "    def __init__(self, latent_dim=32):\n",
        "        super(AdditiveAttentionLayer, self).__init__()\n",
        "        self.latent_dim = latent_dim\n",
        "        self.Wa = nn.Linear(latent_dim, latent_dim)\n",
        "        self.Ua = nn.Linear(latent_dim, latent_dim)\n",
        "        self.Va = nn.Linear(latent_dim, 1)\n",
        "\n",
        "    def forward(self, in_seq, out_vec):\n",
        "        in_seq_shape = in_seq.shape\n",
        "        out_vec_shape = out_vec.shape\n",
        "\n",
        "        W_as = self.Wa(in_seq.view(in_seq_shape[0]*in_seq_shape[1], -1))\n",
        "        out = self.Ua(out_vec)\n",
        "        out = out.repeat(1, in_seq_shape[1]).view(in_seq_shape[0]*in_seq_shape[1], -1)\n",
        "\n",
        "        energy = self.Va(torch.tanh(W_as + out)).view(in_seq_shape[0], -1)\n",
        "        prob = F.softmax(energy, dim=1)\n",
        "\n",
        "        context_vec = torch.sum(in_seq * prob.unsqueeze(-1), dim=1)\n",
        "\n",
        "        return context_vec"
      ]
    },
    {
      "cell_type": "markdown",
      "metadata": {
        "id": "kH9bTgD8yFcY"
      },
      "source": [
        "# **Model**"
      ]
    },
    {
      "cell_type": "markdown",
      "metadata": {
        "id": "fI5ben3QVApO"
      },
      "source": [
        "## **Testing Attention Flow**"
      ]
    },
    {
      "cell_type": "code",
      "execution_count": 13,
      "metadata": {
        "id": "TzvlWTwK9Atr"
      },
      "outputs": [],
      "source": [
        "num_layers = 1\n",
        "num_feats = 10\n",
        "seq_len = 63\n",
        "batch_size = 32\n",
        "hidden_dim = 128"
      ]
    },
    {
      "cell_type": "code",
      "execution_count": 14,
      "metadata": {
        "id": "-B3rObYtAYZC"
      },
      "outputs": [],
      "source": [
        "X = torch.randn((batch_size, seq_len, num_feats)) # features\n",
        "rnn = nn.GRU(num_feats, hidden_dim, num_layers = num_layers, batch_first = True)\n",
        "out, hh = rnn(X)\n",
        "out_ = out[:, -1, :].unsqueeze(1).expand(-1, X.size(1), -1)\n",
        "hidden = out[:, -1, :]"
      ]
    },
    {
      "cell_type": "code",
      "execution_count": 15,
      "metadata": {
        "id": "lPcjow2qykly",
        "colab": {
          "base_uri": "https://localhost:8080/"
        },
        "outputId": "f34886cd-74c9-4e48-e784-f06d61a91175"
      },
      "outputs": [
        {
          "output_type": "execute_result",
          "data": {
            "text/plain": [
              "torch.Size([32, 63, 128])"
            ]
          },
          "metadata": {},
          "execution_count": 15
        }
      ],
      "source": [
        "out.shape"
      ]
    },
    {
      "cell_type": "code",
      "execution_count": 16,
      "metadata": {
        "id": "d00q6s7mAeAq"
      },
      "outputs": [],
      "source": [
        "W_general = torch.randn(seq_len, seq_len)\n",
        "W_hidden = torch.randn(hidden_dim, num_feats)\n",
        "W_concat = torch.randn(num_feats + hidden_dim, hidden_dim)\n",
        "v_concat = torch.randn(hidden_dim)"
      ]
    },
    {
      "cell_type": "code",
      "execution_count": 17,
      "metadata": {
        "id": "E-1DCT2Ce10k",
        "colab": {
          "base_uri": "https://localhost:8080/"
        },
        "outputId": "0fbb8e14-bcb4-4c26-af28-c06ba60d6c54"
      },
      "outputs": [
        {
          "output_type": "stream",
          "name": "stderr",
          "text": [
            "<ipython-input-17-a82225af870c>:4: UserWarning: Implicit dimension choice for softmax has been deprecated. Change the call to include dim=X as an argument.\n",
            "  attn_weights = F.softmax(energy).unsqueeze(1)\n"
          ]
        }
      ],
      "source": [
        "hidden_embedded = hidden @ W_hidden\n",
        "energy = torch.bmm(X, hidden_embedded.unsqueeze(2)).squeeze(2)\n",
        "energy = energy @ W_general\n",
        "attn_weights = F.softmax(energy).unsqueeze(1)"
      ]
    },
    {
      "cell_type": "code",
      "execution_count": 18,
      "metadata": {
        "id": "zfd1DL1TJAP5",
        "colab": {
          "base_uri": "https://localhost:8080/"
        },
        "outputId": "de98d4fc-6964-412b-b0de-6deede491679"
      },
      "outputs": [
        {
          "output_type": "stream",
          "name": "stderr",
          "text": [
            "<ipython-input-18-d26b43cd26ea>:6: UserWarning: Implicit dimension choice for softmax has been deprecated. Change the call to include dim=X as an argument.\n",
            "  attn_weights = F.softmax(energy).unsqueeze(1) # [B*1*T]\n"
          ]
        }
      ],
      "source": [
        " # (batch_size, seq_len, hidden_dim)\n",
        "energy = torch.tanh(torch.concat([out_, X], 2) @ W_concat) # [B*T*H]\n",
        "energy = torch.transpose(energy, 1, 2) # [B*H*T]\n",
        "v_concat_ = v_concat.repeat(X.size(0), 1).unsqueeze(1) # [B*1*H]\n",
        "energy = torch.bmm(v_concat_, energy).squeeze(1) # [B*T]\n",
        "attn_weights = F.softmax(energy).unsqueeze(1) # [B*1*T]\n",
        "context = attn_weights.bmm(out) # [B*1*H]\n",
        "context = context.squeeze(1) # [B*H]\n",
        "concat_hidden = torch.concat([hidden, context], dim = 1)\n",
        "assert concat_hidden.shape[1] == hidden_dim * 2"
      ]
    },
    {
      "cell_type": "markdown",
      "metadata": {
        "id": "HkmxDvaTVRhv"
      },
      "source": [
        "## **Models**"
      ]
    },
    {
      "cell_type": "code",
      "source": [
        "import torch\n",
        "import torch.nn as nn\n",
        "import torch.nn.functional as F\n",
        "from torch.autograd import Variable\n",
        "from torch.nn.utils import weight_norm\n",
        "import copy\n",
        "import math\n",
        "\n",
        "from tqdm import tqdm\n",
        "\n",
        "import warnings\n",
        "warnings.filterwarnings(\"ignore\")"
      ],
      "metadata": {
        "id": "UK0Ie-6yEmun"
      },
      "execution_count": 19,
      "outputs": []
    },
    {
      "cell_type": "markdown",
      "metadata": {
        "id": "gXzdKggZ1ak5"
      },
      "source": [
        "### **GRU**"
      ]
    },
    {
      "cell_type": "code",
      "execution_count": 20,
      "metadata": {
        "id": "Edss72a-yEV-"
      },
      "outputs": [],
      "source": [
        "class Attention_layer(nn.Module):\n",
        "  \"\"\"Additive attention based on Luong method\"\"\"\n",
        "  def __init__(self, hidden_size, input_size, seq_len, method):\n",
        "    super(Attention_layer, self).__init__()\n",
        "    self.hidden_size = hidden_size\n",
        "    self.input_size = input_size\n",
        "    self.seq_len = seq_len\n",
        "    self.method = method\n",
        "    self.embedding_hidden = nn.Linear(self.hidden_size, self.input_size)\n",
        "\n",
        "    if self.method not in ['general', 'concat']:\n",
        "      raise ValueError(self.method, 'is not an appropriate attention method')\n",
        "    if self.method == 'general':\n",
        "      self.attention = torch.nn.Linear(self.seq_len, seq_len)\n",
        "    elif self.method == 'concat':\n",
        "      self.attention = torch.nn.Linear(self.hidden_size + self.input_size, hidden_size)\n",
        "      self.v = nn.Parameter(torch.rand(hidden_size))\n",
        "      self.v = nn.Parameter(torch.rand(hidden_size))\n",
        "      stdv = 1. / np.sqrt(self.v.size(0))\n",
        "      self.v.data.normal_(mean=0, std=stdv)\n",
        "\n",
        "  def forward(self, hidden, inputs):\n",
        "    attn_energy = self.score(hidden, inputs)\n",
        "    return F.softmax(attn_energy, dim = 1).unsqueeze(1) # [B*1*T]\n",
        "\n",
        "  def score(self, hidden, inputs):\n",
        "    if self.method == 'concat':\n",
        "      if hidden.ndimension() < 3:\n",
        "        hidden = hidden.unsqueeze(1).expand(-1, X.size(1), -1)\n",
        "      energy = torch.tanh(self.attention(torch.cat([hidden, inputs], 2))) # [B*T*H]\n",
        "      energy = torch.transpose(energy, 1, 2) # [B*H*T]\n",
        "      v = self.v.repeat(inputs.size(0), 1).unsqueeze(1)  # [B*1*H]\n",
        "      energy = torch.bmm(v, energy)  # [B*1*T]\n",
        "      energy = energy.squeeze(1)\n",
        "    elif self.method == 'general':\n",
        "      if hidden.size(1) != inputs.size(2):\n",
        "        embedded_hidden = self.embedding_hidden(hidden)\n",
        "      energy = self.attention(torch.bmm(inputs, embedded_hidden.unsqueeze(2)).squeeze(2))\n",
        "\n",
        "    return energy # [B*T]\n",
        "\n",
        "class GRU(nn.Module):\n",
        "    def __init__(self, num_layers, hidden_dim, seq_len, num_stocks, drop_out = 0.2,\n",
        "                bidirectional = False, use_attention = True, lb = 0, ub = 0.2):\n",
        "        super().__init__()\n",
        "        self.num_layers = num_layers\n",
        "        self.hidden_dim = hidden_dim\n",
        "        self.lb = lb\n",
        "        self.ub = ub\n",
        "        # Attention layer\n",
        "        self.use_attention = use_attention\n",
        "        self.attention = Attention_layer(hidden_dim, num_stocks, seq_len, 'concat') if use_attention else None\n",
        "        # GRU layer\n",
        "        self.gru = nn.GRU(\n",
        "            num_stocks, self.hidden_dim, num_layers = self.num_layers,\n",
        "            batch_first=True, bidirectional = bidirectional\n",
        "        )\n",
        "        self.dropout = nn.Dropout(drop_out)\n",
        "        self.scale = 2 if bidirectional else 1\n",
        "        self.fc = nn.Linear(self.hidden_dim * self.scale*2, num_stocks) if self.use_attention else nn.Linear(self.hidden_dim * self.scale, num_stocks)\n",
        "        self.swish = nn.SiLU()\n",
        "\n",
        "    def forward(self, x):\n",
        "        # initialize hidden states bookkeeping\n",
        "        h0 = torch.zeros((self.num_layers * self.scale, x.size(0), self.hidden_dim)).to(x.device)\n",
        "        out, _ = self.gru(x, h0)\n",
        "        h_t = out[:, -1, :]\n",
        "        # Calculate the attention weights\n",
        "        if self.use_attention:\n",
        "          attn_weights = self.attention(h_t, x)\n",
        "          context = attn_weights.bmm(out).squeeze(1) # batch_size x hidden_dim\n",
        "          concat_hidden = torch.concat([h_t, context], dim = 1)\n",
        "          logit = self.fc(self.dropout(concat_hidden))\n",
        "        else:\n",
        "          logit = self.fc(self.dropout(h_t))\n",
        "        logit = F.softmax(logit, dim = -1)\n",
        "        logit = torch.stack([self.rebalance(batch, self.lb, self.ub) for batch in logit])\n",
        "\n",
        "        return logit\n",
        "\n",
        "    def rebalance(self, weight, lb, ub):\n",
        "        old = weight\n",
        "        weight_clamped = torch.clamp(old, lb, ub)\n",
        "        while True:\n",
        "            leftover = (old - weight_clamped).sum().item()\n",
        "            nominees = weight_clamped[torch.where(weight_clamped != ub)[0]]\n",
        "            gift = leftover * (nominees / nominees.sum())\n",
        "            weight_clamped[torch.where(weight_clamped != ub)[0]] += gift\n",
        "            old = weight_clamped\n",
        "            if len(torch.where(weight_clamped > ub)[0]) == 0:\n",
        "                break\n",
        "            else:\n",
        "                weight_clamped = torch.clamp(old, lb, ub)\n",
        "        return weight_clamped"
      ]
    },
    {
      "cell_type": "markdown",
      "source": [
        "### **TCN**\n",
        "\n",
        "\n"
      ],
      "metadata": {
        "id": "pguOnhJQEMDE"
      }
    },
    {
      "cell_type": "code",
      "source": [
        "class TCN(nn.Module):\n",
        "    def __init__(self, n_feature, n_output, num_channels,\n",
        "                 kernel_size, n_dropout, n_timestep, lb, ub):\n",
        "        super(TCN, self).__init__()\n",
        "        self.input_size = n_feature\n",
        "        self.tcn = TemporalConvNet(n_feature, num_channels,\n",
        "                                   kernel_size, dropout=n_dropout)\n",
        "        self.fc = nn.Linear(num_channels[-1], n_output)\n",
        "        self.tempmaxpool = nn.MaxPool1d(n_timestep)\n",
        "        self.lb = lb\n",
        "        self.ub = ub\n",
        "\n",
        "    def forward(self, x):\n",
        "        output = self.tcn(x.transpose(1, 2))\n",
        "        output = self.tempmaxpool(output).squeeze(-1)\n",
        "        out = self.fc(output)\n",
        "        out = F.softmax(out, dim=1)\n",
        "        out = torch.stack([self.rebalance(batch, self.lb, self.ub) for batch in out])\n",
        "        return out\n",
        "\n",
        "    def rebalance(self, weight, lb, ub):\n",
        "        old = weight\n",
        "        weight_clamped = torch.clamp(old, lb, ub)\n",
        "        while True:\n",
        "            leftover = (old - weight_clamped).sum().item()\n",
        "            nominees = weight_clamped[torch.where(weight_clamped != ub)[0]]\n",
        "            gift = leftover * (nominees / nominees.sum())\n",
        "            weight_clamped[torch.where(weight_clamped != ub)[0]] += gift\n",
        "            old = weight_clamped\n",
        "            if len(torch.where(weight_clamped > ub)[0]) == 0:\n",
        "                break\n",
        "            else:\n",
        "                weight_clamped = torch.clamp(old, lb, ub)\n",
        "        return weight_clamped\n",
        "\n",
        "class Chomp1d(nn.Module):\n",
        "    def __init__(self, chomp_size):\n",
        "        super(Chomp1d, self).__init__()\n",
        "        \"\"\"\n",
        "        chomp_size: zero padding size\n",
        "        \"\"\"\n",
        "        self.chomp_size = chomp_size\n",
        "\n",
        "    def forward(self, x):\n",
        "        return x[:, :, :-self.chomp_size].contiguous()\n",
        "\n",
        "\n",
        "class TemporalBlock(nn.Module):\n",
        "    def __init__(self, n_inputs, n_outputs, kernel_size, stride, dilation, padding, dropout=0.2):\n",
        "        super(TemporalBlock, self).__init__()\n",
        "        self.conv1 = weight_norm(nn.Conv1d(n_inputs, n_outputs, kernel_size,\n",
        "                                           stride=stride, padding=padding, dilation=dilation))\n",
        "        self.chomp1 = Chomp1d(padding)\n",
        "        self.relu1 = nn.ReLU()\n",
        "        self.dropout1 = nn.Dropout(dropout)\n",
        "\n",
        "        self.conv2 = weight_norm(nn.Conv1d(n_outputs, n_outputs, kernel_size,\n",
        "                                           stride=stride, padding=padding, dilation=dilation))\n",
        "        self.chomp2 = Chomp1d(padding)\n",
        "        self.relu2 = nn.ReLU()\n",
        "        self.dropout2 = nn.Dropout(dropout)\n",
        "\n",
        "        self.net = nn.Sequential(self.conv1, self.chomp1, self.relu1, self.dropout1,\n",
        "                                 self.conv2, self.chomp2, self.relu2, self.dropout2)\n",
        "        self.downsample = nn.Conv1d(n_inputs, n_outputs, 1) if n_inputs != n_outputs else None\n",
        "        self.relu = nn.ReLU()\n",
        "        self.init_weights()\n",
        "\n",
        "    def init_weights(self):\n",
        "        self.conv1.weight.data.normal_(0, 0.01)\n",
        "        self.conv2.weight.data.normal_(0, 0.01)\n",
        "        if self.downsample is not None:\n",
        "            self.downsample.weight.data.normal_(0, 0.01)\n",
        "\n",
        "    def forward(self, x):\n",
        "        out = self.net(x)\n",
        "        res = x if self.downsample is None else self.downsample(x)\n",
        "        return self.relu(out + res)\n",
        "\n",
        "\n",
        "class TemporalConvNet(nn.Module):\n",
        "    def __init__(self, num_inputs, num_channels, kernel_size=2, dropout=0.2):\n",
        "        super(TemporalConvNet, self).__init__()\n",
        "        layers = []\n",
        "        num_levels = len(num_channels)\n",
        "        for i in range(num_levels):\n",
        "            dilation_size = 2 ** i\n",
        "\n",
        "            in_channels = num_inputs if i == 0 else num_channels[i - 1]\n",
        "            out_channels = num_channels[i]\n",
        "            layers += [TemporalBlock(in_channels, out_channels, kernel_size, stride=1, dilation=dilation_size,\n",
        "                                     padding=(kernel_size - 1) * dilation_size, dropout=dropout)]\n",
        "\n",
        "        self.network = nn.Sequential(*layers)\n",
        "\n",
        "    def forward(self, x):\n",
        "        return self.network(x)"
      ],
      "metadata": {
        "id": "v6eHbnAKD12q"
      },
      "execution_count": 21,
      "outputs": []
    },
    {
      "cell_type": "markdown",
      "source": [
        "### **Transformer**"
      ],
      "metadata": {
        "id": "MD_wIxVWEOaW"
      }
    },
    {
      "cell_type": "code",
      "source": [
        "def creatMask(batch, sequence_length):\n",
        "    mask = torch.zeros(batch, sequence_length, sequence_length)\n",
        "    for i in range(sequence_length):\n",
        "        mask[:, i, :i + 1] = 1\n",
        "    return mask\n",
        "\n",
        "\n",
        "class Norm(nn.Module):\n",
        "    def __init__(self, d_model, eps=1e-6):\n",
        "        super().__init__()\n",
        "\n",
        "        self.size = d_model\n",
        "\n",
        "        # create two learnable parameters to calibrate normalisation\n",
        "        self.alpha = nn.Parameter(torch.ones(self.size))\n",
        "        self.bias = nn.Parameter(torch.zeros(self.size))\n",
        "\n",
        "        self.eps = eps\n",
        "\n",
        "    def forward(self, x):\n",
        "        norm = self.alpha * (x - x.mean(dim=-1, keepdim=True)) \\\n",
        "               / (x.std(dim=-1, keepdim=True) + self.eps) + self.bias\n",
        "        return norm\n",
        "\n",
        "\n",
        "def attention(q, k, v, d_k, mask=None, dropout=None, returnWeights=False):\n",
        "    scores = torch.matmul(q, k.transpose(-2, -1)) / math.sqrt(d_k)\n",
        "\n",
        "    if mask is not None:\n",
        "        mask = mask.unsqueeze(1)\n",
        "        scores = scores.masked_fill(mask == 0, -1e9)\n",
        "\n",
        "    scores = F.softmax(scores, dim=-1)\n",
        "\n",
        "    if dropout is not None:\n",
        "        scores = dropout(scores)\n",
        "    output = torch.matmul(scores, v)\n",
        "    # print(\"Scores in attention itself\",torch.sum(scores))\n",
        "    if (returnWeights):\n",
        "        return output, scores\n",
        "\n",
        "    return output\n",
        "\n",
        "\n",
        "class MultiHeadAttention(nn.Module):\n",
        "    def __init__(self, heads, d_model, dropout=0.1):\n",
        "        super().__init__()\n",
        "\n",
        "        self.d_model = d_model\n",
        "        self.d_k = d_model // heads\n",
        "        self.h = heads\n",
        "\n",
        "        self.q_linear = nn.Linear(d_model, d_model)\n",
        "        self.v_linear = nn.Linear(d_model, d_model)\n",
        "        self.k_linear = nn.Linear(d_model, d_model)\n",
        "\n",
        "        self.dropout = nn.Dropout(dropout)\n",
        "        self.out = nn.Linear(d_model, d_model)\n",
        "\n",
        "    def forward(self, q, k, v, mask=None, returnWeights=False):\n",
        "\n",
        "        bs = q.size(0)\n",
        "\n",
        "        # perform linear operation and split into N heads\n",
        "        k = self.k_linear(k).view(bs, -1, self.h, self.d_k)\n",
        "        q = self.q_linear(q).view(bs, -1, self.h, self.d_k)\n",
        "        v = self.v_linear(v).view(bs, -1, self.h, self.d_k)\n",
        "\n",
        "        # transpose to get dimensions bs * N * sl * d_model\n",
        "        k = k.transpose(1, 2)\n",
        "        q = q.transpose(1, 2)\n",
        "        v = v.transpose(1, 2)\n",
        "        # calculate attention using function we will define next\n",
        "\n",
        "        if (returnWeights):\n",
        "            scores, weights = attention(q, k, v, self.d_k, mask, self.dropout, returnWeights=returnWeights)\n",
        "            # print(\"scores\",scores.shape,\"weights\",weights.shape)\n",
        "        else:\n",
        "            scores = attention(q, k, v, self.d_k, mask, self.dropout)\n",
        "\n",
        "        # concatenate heads and put through final linear layer\n",
        "        concat = scores.transpose(1, 2).contiguous() \\\n",
        "            .view(bs, -1, self.d_model)\n",
        "        output = self.out(concat)\n",
        "        # print(\"Attention output\", output.shape,torch.min(output))\n",
        "        if (returnWeights):\n",
        "            return output, weights\n",
        "        else:\n",
        "            return output\n",
        "\n",
        "\n",
        "class FeedForward(nn.Module):\n",
        "    def __init__(self, d_model, d_ff=400, dropout=0.1):\n",
        "        super().__init__()\n",
        "\n",
        "        self.linear_1 = nn.Linear(d_model, d_ff)\n",
        "        self.dropout = nn.Dropout(dropout)\n",
        "        self.linear_2 = nn.Linear(d_ff, d_model)\n",
        "\n",
        "    def forward(self, x):\n",
        "        x = self.dropout(F.relu(self.linear_1(x)))\n",
        "        x = self.linear_2(x)\n",
        "        return x\n",
        "\n",
        "\n",
        "class EncoderLayer(nn.Module):\n",
        "    def __init__(self, d_model, heads, dropout=0.1):\n",
        "        super().__init__()\n",
        "        self.norm_1 = Norm(d_model)\n",
        "        self.norm_2 = Norm(d_model)\n",
        "        self.attn = MultiHeadAttention(heads, d_model, dropout=dropout)\n",
        "        self.ff = FeedForward(d_model, dropout=dropout)\n",
        "        self.dropout_1 = nn.Dropout(dropout)\n",
        "        self.dropout_2 = nn.Dropout(dropout)\n",
        "\n",
        "    def forward(self, x, mask=None, returnWeights=False):\n",
        "        x2 = self.norm_1(x)\n",
        "        # print(x2[0,0,0])\n",
        "        # print(\"attention input.shape\",x2.shape)\n",
        "        if (returnWeights):\n",
        "            attenOutput, attenWeights = self.attn(x2, x2, x2, mask, returnWeights=returnWeights)\n",
        "        else:\n",
        "            attenOutput = self.attn(x2, x2, x2, mask)\n",
        "        # print(\"attenOutput\",attenOutput.shape)\n",
        "        x = x + self.dropout_1(attenOutput)\n",
        "        x2 = self.norm_2(x)\n",
        "        x = x + self.dropout_2(self.ff(x2))\n",
        "        if (returnWeights):\n",
        "            return x, attenWeights\n",
        "        else:\n",
        "            return x\n",
        "\n",
        "\n",
        "class PositionalEncoder(nn.Module):\n",
        "    def __init__(self, d_model, max_seq_len=100, dropout=0.1):\n",
        "        super().__init__()\n",
        "        self.d_model = d_model\n",
        "        self.dropout = nn.Dropout(dropout)\n",
        "        # create constant 'pe' matrix with values dependant on\n",
        "        # pos and i\n",
        "        pe = torch.zeros(max_seq_len, d_model)\n",
        "        for pos in range(max_seq_len):\n",
        "            for i in range(0, d_model, 2):\n",
        "                pe[pos, i] = \\\n",
        "                    math.sin(pos / (10000 ** ((2 * i) / d_model)))\n",
        "                pe[pos, i + 1] = \\\n",
        "                    math.cos(pos / (10000 ** ((2 * (i + 1)) / d_model)))\n",
        "        pe = pe.unsqueeze(0)\n",
        "        self.register_buffer('pe', pe)\n",
        "\n",
        "    def forward(self, x):\n",
        "        # make embeddings relatively larger\n",
        "        x = x * math.sqrt(self.d_model)\n",
        "        # add constant to embedding\n",
        "        seq_len = x.size(1)\n",
        "\n",
        "        pe = Variable(self.pe[:, :seq_len], requires_grad=False)\n",
        "\n",
        "        if x.is_cuda:\n",
        "            pe.cuda()\n",
        "        x = x + pe\n",
        "        return self.dropout(x)\n",
        "\n",
        "\n",
        "def get_clones(module, N):\n",
        "    return nn.ModuleList([copy.deepcopy(module) for i in range(N)])\n",
        "\n",
        "\n",
        "class Encoder(nn.Module):\n",
        "    def __init__(self, input_size, seq_len, N, heads, dropout):\n",
        "        super().__init__()\n",
        "        self.N = N\n",
        "        self.pe = PositionalEncoder(input_size, seq_len, dropout=dropout)\n",
        "        self.layers = get_clones(EncoderLayer(input_size, heads, dropout), N)\n",
        "        self.norm = Norm(input_size)\n",
        "\n",
        "    def forward(self, x, mask=None, returnWeights=False):\n",
        "        x = self.pe(x)\n",
        "\n",
        "        for i in range(self.N):\n",
        "            if (i == 0 and returnWeights):\n",
        "                x, weights = self.layers[i](x, mask=mask, returnWeights=returnWeights)\n",
        "            else:\n",
        "                # print(i)\n",
        "                x = self.layers[i](x, mask=mask)\n",
        "\n",
        "        if (returnWeights):\n",
        "            return self.norm(x), weights\n",
        "        else:\n",
        "            return self.norm(x)\n",
        "\n",
        "\n",
        "class Transformer(nn.Module):\n",
        "    def __init__(self, n_feature, n_timestep, n_layer, n_head, n_dropout, n_output, lb, ub):\n",
        "        super().__init__()\n",
        "        self.encoder = Encoder(n_feature, n_timestep, n_layer, n_head, n_dropout)\n",
        "        self.out = nn.Linear(n_feature, n_output)\n",
        "        self.tempmaxpool = nn.MaxPool1d(n_timestep)\n",
        "        self.lb = lb\n",
        "        self.ub = ub\n",
        "\n",
        "    def forward(self, src, returnWeights=False):\n",
        "        mask = creatMask(src.shape[0], src.shape[1]).to(device)\n",
        "        # print(src.shape)\n",
        "        if (returnWeights):\n",
        "            e_outputs, weights, z = self.encoder(src, mask, returnWeights=returnWeights)\n",
        "        else:\n",
        "            e_outputs = self.encoder(src, mask)\n",
        "\n",
        "        e_outputs = self.tempmaxpool(e_outputs.transpose(1, 2)).squeeze(-1)\n",
        "        output = self.out(e_outputs)\n",
        "        output = F.softmax(output, dim=1)\n",
        "        output = torch.stack([self.rebalance(batch, self.lb, self.ub) for batch in output])\n",
        "        if (returnWeights):\n",
        "            return output, weights\n",
        "        else:\n",
        "            return output\n",
        "\n",
        "    def rebalance(self, weight, lb, ub):\n",
        "        old = weight\n",
        "        weight_clamped = torch.clamp(old, lb, ub)\n",
        "        while True:\n",
        "            leftover = (old - weight_clamped).sum().item()\n",
        "            nominees = weight_clamped[torch.where(weight_clamped != ub)[0]]\n",
        "            gift = leftover * (nominees / nominees.sum())\n",
        "            weight_clamped[torch.where(weight_clamped != ub)[0]] += gift\n",
        "            old = weight_clamped\n",
        "            if len(torch.where(weight_clamped > ub)[0]) == 0:\n",
        "                break\n",
        "            else:\n",
        "                weight_clamped = torch.clamp(old, lb, ub)\n",
        "        return weight_clamped"
      ],
      "metadata": {
        "id": "v2MsYmGHESVc"
      },
      "execution_count": 22,
      "outputs": []
    },
    {
      "cell_type": "markdown",
      "metadata": {
        "id": "ok8taq451dYL"
      },
      "source": [
        "### **Optimizer**"
      ]
    },
    {
      "cell_type": "code",
      "execution_count": 23,
      "metadata": {
        "id": "RW5elCW-1ZBl"
      },
      "outputs": [],
      "source": [
        "import torch\n",
        "class SAM(torch.optim.Optimizer):\n",
        "    def __init__(self, params, base_optimizer, rho=0.05, **kwargs):\n",
        "        assert rho >= 0.0, f\"Invalid rho, should be non-negative: {rho}\"\n",
        "\n",
        "        defaults = dict(rho=rho, **kwargs)\n",
        "        super(SAM, self).__init__(params, defaults)\n",
        "\n",
        "        self.base_optimizer = base_optimizer(self.param_groups, **kwargs)\n",
        "        self.param_groups = self.base_optimizer.param_groups\n",
        "\n",
        "    @torch.no_grad()\n",
        "    def first_step(self, zero_grad=False):\n",
        "        grad_norm = self._grad_norm()\n",
        "        for group in self.param_groups:\n",
        "            scale = group[\"rho\"] / (grad_norm + 1e-12)\n",
        "\n",
        "            for p in group[\"params\"]:\n",
        "                if p.grad is None:\n",
        "                    continue\n",
        "                e_w = p.grad * scale.to(p)\n",
        "                p.add_(e_w)  # climb to the local maximum \"w + e(w)\"\n",
        "                self.state[p][\"e_w\"] = e_w\n",
        "\n",
        "        if zero_grad:\n",
        "            self.zero_grad()\n",
        "\n",
        "    @torch.no_grad()\n",
        "    def second_step(self, zero_grad=False):\n",
        "        for group in self.param_groups:\n",
        "            for p in group[\"params\"]:\n",
        "                if p.grad is None:\n",
        "                    continue\n",
        "                p.sub_(self.state[p][\"e_w\"])  # get back to \"w\" from \"w + e(w)\"\n",
        "\n",
        "        self.base_optimizer.step()  # do the actual \"sharpness-aware\" update\n",
        "\n",
        "        if zero_grad:\n",
        "            self.zero_grad()\n",
        "\n",
        "    def step(self, closure=None):\n",
        "        raise NotImplementedError(\n",
        "            \"SAM doesn't work like the other optimizers, you should first call `first_step` and the `second_step`; see the documentation for more info.\"\n",
        "        )\n",
        "\n",
        "    def _grad_norm(self):\n",
        "        shared_device = self.param_groups[0][\"params\"][\n",
        "            0\n",
        "        ].device  # put everything on the same device, in case of model parallelism\n",
        "        norm = torch.norm(\n",
        "            torch.stack(\n",
        "                [\n",
        "                    p.grad.norm(p=2).to(shared_device)\n",
        "                    for group in self.param_groups\n",
        "                    for p in group[\"params\"]\n",
        "                    if p.grad is not None\n",
        "                ]\n",
        "            ),\n",
        "            p=2,\n",
        "        )\n",
        "        return norm"
      ]
    },
    {
      "cell_type": "markdown",
      "metadata": {
        "id": "Zsbpye7w1iry"
      },
      "source": [
        "### **Loss Functions**"
      ]
    },
    {
      "cell_type": "code",
      "execution_count": 24,
      "metadata": {
        "id": "3LElPvhc1hVB"
      },
      "outputs": [],
      "source": [
        "import torch\n",
        "import numpy as np\n",
        "def max_sharpe(y_return, weights, regularization = False, lambda_=0.001, C=1.002):\n",
        "    weights = torch.unsqueeze(weights, 1)\n",
        "    meanReturn = torch.unsqueeze(torch.mean(y_return, axis=1), 2)\n",
        "    if torch.cuda.is_available():\n",
        "      covmat = torch.Tensor([np.cov(batch.cpu().T, ddof=0) for batch in y_return]).to('cuda')\n",
        "    else:\n",
        "      covmat = torch.Tensor([np.cov(batch.cpu().T, ddof=0) for batch in y_return])\n",
        "    portReturn = torch.matmul(weights, meanReturn)\n",
        "    portVol = torch.matmul(\n",
        "        weights, torch.matmul(covmat, torch.transpose(weights, 2, 1))\n",
        "    )\n",
        "    # Add a small constant to the denominator to avoid division by zero\n",
        "    portVol = torch.where(portVol < 1e-6, torch.ones_like(portVol) * 1e-6, portVol)\n",
        "    objective = (portReturn * 12 - 0.02) / (torch.sqrt(portVol * 12)) # risk-free rate = 0.02\n",
        "    # Add a penalty term to the objective function to restrict too many stocks\n",
        "    # being included in one portfolio\n",
        "    penalty = lambda_ * (torch.abs(C - weights.sum(dim=1)) * weights).mean()\n",
        "    if regularization:\n",
        "      return -(objective.mean() - penalty)\n",
        "    else:\n",
        "      return -objective.mean()\n",
        "\n",
        "\n",
        "def equal_risk_parity(y_return, weights):\n",
        "    B = y_return.shape[0]\n",
        "    F = y_return.shape[2]\n",
        "    weights = torch.unsqueeze(weights, 1).to(\"cuda\")\n",
        "    covmat = torch.Tensor(\n",
        "        [np.cov(batch.cpu().T, ddof=0) for batch in y_return]\n",
        "    )  # (batch, 50, 50)\n",
        "    covmat = covmat.to(\"cuda\")\n",
        "    sigma = torch.sqrt(\n",
        "        torch.matmul(weights, torch.matmul(covmat, torch.transpose(weights, 2, 1)))\n",
        "    )\n",
        "    mrc = (1 / sigma) * (covmat @ torch.transpose(weights, 2, 1))\n",
        "    rc = weights.view(B, F) * mrc.view(B, F)\n",
        "    target = (torch.ones((B, F)) * (1 / F)).to(\"cuda\")\n",
        "    risk_diffs = rc - target\n",
        "    sum_risk_diffs_squared = torch.mean(torch.square(risk_diffs))\n",
        "    return sum_risk_diffs_squared"
      ]
    },
    {
      "cell_type": "markdown",
      "metadata": {
        "id": "INrI0ZSX8xOH"
      },
      "source": [
        "# **Train Model**"
      ]
    },
    {
      "cell_type": "markdown",
      "source": [
        "## **Ultis for Training**"
      ],
      "metadata": {
        "id": "zL1oSDaCm4Eu"
      }
    },
    {
      "cell_type": "code",
      "source": [
        "def fix_seed(seed):\n",
        "    np.random.seed(seed)\n",
        "    torch.manual_seed(seed)\n",
        "    if torch.cuda.is_available():\n",
        "        torch.cuda.manual_seed(seed)\n",
        "        torch.cuda.manual_seed_all(seed)\n",
        "\n",
        "import time\n",
        "class Timer:\n",
        "  \"\"\"Record multiple running times.\"\"\"\n",
        "  def __init__(self):\n",
        "    \"\"\"Defined in :numref:`sec_minibatch_sgd`\"\"\"\n",
        "    self.times = []\n",
        "    self.start()\n",
        "\n",
        "  def start(self):\n",
        "    \"\"\"Start the timer.\"\"\"\n",
        "    self.tik = time.time()\n",
        "\n",
        "  def stop(self):\n",
        "    \"\"\"Stop the timer and record the time in a list.\"\"\"\n",
        "    self.times.append(time.time() - self.tik)\n",
        "    return self.times[-1]\n",
        "\n",
        "  def avg(self):\n",
        "    \"\"\"Return the average time.\"\"\"\n",
        "    return sum(self.times) / len(self.times)\n",
        "\n",
        "  def sum(self):\n",
        "    \"\"\"Return the sum of time.\"\"\"\n",
        "    return sum(self.times)\n",
        "\n",
        "  def cumsum(self):\n",
        "    \"\"\"Return the accumulated time.\"\"\"\n",
        "    return np.array(self.times).cumsum().tolist()\n",
        "\n",
        "def get_cosine_lr_scheduler(init_lr, final_lr):\n",
        "    def lr_scheduler(n_epoch, epoch_idx):\n",
        "        lr = final_lr + 0.5 * (init_lr - final_lr) * (1 + np.cos(np.pi * epoch_idx / n_epoch))\n",
        "        return lr\n",
        "\n",
        "    return lr_scheduler\n",
        "\n",
        "def get_multiplicative_lr_scheduler(init_lr, drop_at, multiplicative_factor):\n",
        "    def lr_scheduler(n_epoch, epoch_idx):\n",
        "        lr = init_lr\n",
        "        for epoch in drop_at:\n",
        "            if epoch_idx + 1 >= epoch:\n",
        "                lr *= multiplicative_factor\n",
        "        return lr\n",
        "\n",
        "    return lr_scheduler"
      ],
      "metadata": {
        "id": "p0N3EHZJm7Bf"
      },
      "execution_count": 25,
      "outputs": []
    },
    {
      "cell_type": "markdown",
      "metadata": {
        "id": "sSuxSJu6Bzoh"
      },
      "source": [
        "## **Setting up Configs and Model Init**"
      ]
    },
    {
      "cell_type": "code",
      "execution_count": 26,
      "metadata": {
        "id": "CaA-MZDb8rGY"
      },
      "outputs": [],
      "source": [
        "device = torch.device(\"cpu\") if not torch.cuda.is_available() else torch.device(\"cuda\")\n",
        "config = {\n",
        "  \"MODEL\": \"GRU\",\n",
        "  \"BATCH\": 32,\n",
        "  \"SEED\": 42,\n",
        "  \"EPOCHS\": 100,\n",
        "  \"EARLY_STOP\": 20,\n",
        "  \"LR\": 0.005,\n",
        "  \"MOMENTUM\": 0.9,\n",
        "  \"N_LAYER\": 1,\n",
        "  \"HIDDEN_DIM\": 128,\n",
        "  \"SEQ_LEN\": 63,\n",
        "  \"DEVICE\": device,\n",
        "  \"N_FEAT\": 10,\n",
        "  \"DROPOUT\": 0.2,\n",
        "  \"LEN_PRED\": 21,\n",
        "  \"LEN_TRAIN\": 63,\n",
        "  \"BIDIRECTIONAL\": False,\n",
        "  \"USE_ATTENTION\": True,\n",
        "  \"LB\": 0,\n",
        "  \"UB\": 0.2,\n",
        "  \"TCN\": {\n",
        "    \"N_FEAT\": 10,\n",
        "    \"N_OUT\": 10,\n",
        "    \"KERNEL_SIZE\": 4,\n",
        "    \"DROPOUT\": 0.1,\n",
        "    \"SEQ_LEN\": 63\n",
        "  },\n",
        "  \"TRANSFORMER\": {\n",
        "    \"N_FEAT\": 10,\n",
        "    \"SEQ_LEN\": 63,\n",
        "    \"N_LAYER\": 6,\n",
        "    \"N_HEAD\": 5,\n",
        "    \"DROPOUT\": 0.1,\n",
        "    \"N_OUT\": 10\n",
        "  }\n",
        "}\n",
        "\n",
        "config_gru = config.copy()\n",
        "config_gru[\"USE_ATTENTION\"] = False\n",
        "model_gru = GRU(config_gru[\"N_LAYER\"],\n",
        "            config_gru[\"HIDDEN_DIM\"],\n",
        "            config_gru[\"SEQ_LEN\"],\n",
        "            config_gru[\"N_FEAT\"],\n",
        "            config_gru[\"DROPOUT\"],\n",
        "            config_gru[\"BIDIRECTIONAL\"],\n",
        "            config_gru[\"USE_ATTENTION\"],\n",
        "            config_gru['LB'], config_gru['UB']\n",
        "        ).to(device)\n",
        "\n",
        "model_gru_aa = GRU(config[\"N_LAYER\"],\n",
        "            config[\"HIDDEN_DIM\"],\n",
        "            config[\"SEQ_LEN\"],\n",
        "            config[\"N_FEAT\"],\n",
        "            config[\"DROPOUT\"],\n",
        "            config[\"BIDIRECTIONAL\"],\n",
        "            config[\"USE_ATTENTION\"],\n",
        "            config['LB'], config['UB']\n",
        "        ).to(device)\n",
        "\n",
        "hidden_size = 5\n",
        "level = 3\n",
        "num_channels = [hidden_size] * (level - 1) + [config['TCN']['SEQ_LEN']]\n",
        "\n",
        "model_tcn = TCN(config['TCN']['N_FEAT'],\n",
        "                config['TCN']['N_OUT'],\n",
        "                num_channels,\n",
        "                config['TCN'][\"KERNEL_SIZE\"],\n",
        "                config['TCN'][\"DROPOUT\"],\n",
        "                config['TCN'][\"SEQ_LEN\"],\n",
        "                config['LB'], config['UB'],\n",
        "            ).to(device)\n",
        "\n",
        "model_transformer = Transformer(\n",
        "            config['TRANSFORMER']['N_FEAT'],\n",
        "            config['TRANSFORMER']['SEQ_LEN'],\n",
        "            config['TRANSFORMER'][\"N_LAYER\"],\n",
        "            config['TRANSFORMER'][\"N_HEAD\"],\n",
        "            config['TRANSFORMER'][\"DROPOUT\"],\n",
        "            config['TRANSFORMER'][\"N_OUT\"],\n",
        "            config['LB'], config['UB']\n",
        "        ).to(device)\n",
        "\n",
        "model_names = ['gru', 'gru_aa', 'tcn', 'transformer']\n",
        "model_list = [model_gru, model_gru_aa, model_tcn, model_transformer]\n",
        "model_dict =  {name: model for name, model in zip(model_names, model_list)}"
      ]
    },
    {
      "cell_type": "code",
      "execution_count": 27,
      "metadata": {
        "id": "C-ZWS40-82AL"
      },
      "outputs": [],
      "source": [
        "torch.backends.cudnn.deterministic = True\n",
        "torch.backends.cudnn.benchmark = False\n",
        "# Function for setting the seed\n",
        "\n",
        "fix_seed(config['SEED'])"
      ]
    },
    {
      "cell_type": "code",
      "execution_count": 28,
      "metadata": {
        "id": "ogjHrFg3FZ4g"
      },
      "outputs": [],
      "source": [
        "stock_list = ['CII','DIG','HPG',\"HT1\",'HSG',\"GAS\",\"GVR\",'TPB','TCB','MSN']\n",
        "end_date = '2023-11-1'\n",
        "# start_date = (datetime.strptime(end_date, '%Y-%m-%d') - timedelta(days = 6 * 365 - 1)).strftime('%Y-%m-%d')\n",
        "data = Dataset(end_date, stock_list, 0.8, 63, 21, 32)\n",
        "train_loader = data.get(train_mode = True)\n",
        "test_loader = data.get(train_mode = False)"
      ]
    },
    {
      "cell_type": "markdown",
      "source": [
        "## **Save Load Model**"
      ],
      "metadata": {
        "id": "PbT0bocHo2dM"
      }
    },
    {
      "cell_type": "code",
      "source": [
        "import os\n",
        "\n",
        "def _retrieve_model_ct(model_path, model_name):\n",
        "    \"\"\"Get the model file that stores network parameters\"\"\"\n",
        "    return os.path.join(model_path, f\"best_model_weight_{model_name}.pt\")\n",
        "\n",
        "def _retrieve_model_config(model_path, model_name):\n",
        "    \"\"\"Get the model file that stores configurations/hyperparameters\"\"\"\n",
        "    return os.path.join(model_path, f\"best_model_config_{model_name}.json\")\n",
        "\n",
        "def save_model(model, model_path, model_name = 'gru'):\n",
        "    os.makedirs(model_path, exist_ok=True)\n",
        "    model_file = _retrieve_model_ct(model_path, model_name)\n",
        "    if os.path.isfile(model_file):\n",
        "      print(\"Model checkpoint is already existed. Will be overwritten\")\n",
        "    checkpoint = {}\n",
        "    if isinstance(model, nn.DataParallel):\n",
        "        checkpoint[\"model_state_dict\"] = model.module.state_dict()\n",
        "    else:\n",
        "        checkpoint[\"model_state_dict\"] = model.state_dict()\n",
        "    torch.save(checkpoint, model_path + f\"/best_model_weight_{model_name}.pt\")\n",
        "\n",
        "def remove_prefix(state_dict, prefix):\n",
        "    f = lambda x: x.split(prefix, 1)[-1] if x.startswith(prefix) else x\n",
        "    return {f(key): value for key, value in state_dict.items()}\n",
        "\n",
        "def load_model(\n",
        "    model,\n",
        "    model_path,\n",
        "    model_name,\n",
        "    device = None,\n",
        "    eval=True):\n",
        "    if device is None:\n",
        "      device = torch.device(\"cpu\") if not torch.cuda.is_available() else torch.device(\"cuda\")\n",
        "    model_file =  _retrieve_model_ct(model_path, model_name)\n",
        "    net = model.to(device)\n",
        "    checkpoint = torch.load(model_file, map_location=device)\n",
        "    if isinstance(net, nn.DataParallel):\n",
        "        net.module.load_state_dict(checkpoint[\"model_state_dict\"], strict=False)\n",
        "    else:\n",
        "        new_dict = remove_prefix(checkpoint[\"model_state_dict\"], \"module.\")\n",
        "        net.load_state_dict(new_dict, strict=False)\n",
        "    if eval:\n",
        "        net.eval()\n",
        "    return net"
      ],
      "metadata": {
        "id": "3in0_DOoo4kq"
      },
      "execution_count": 29,
      "outputs": []
    },
    {
      "cell_type": "markdown",
      "source": [
        "## **Training**"
      ],
      "metadata": {
        "id": "ssSx5hbCoSnB"
      }
    },
    {
      "cell_type": "code",
      "execution_count": 30,
      "metadata": {
        "id": "EeTtEvByEtxs"
      },
      "outputs": [],
      "source": [
        "checkpoint_path = '/content/drive/MyDrive/Checkpoint/DeepPortfolio'\n",
        "\n",
        "def train_model(model_name, constraint_allocation = True):\n",
        "  timer = Timer()\n",
        "  model = model_dict[model_name]\n",
        "  base_optimizer = torch.optim.SGD\n",
        "  optimizer = SAM(\n",
        "  model.parameters(), base_optimizer, lr=config[\"LR\"]\n",
        "  , momentum=config['MOMENTUM']\n",
        "  )\n",
        "\n",
        "  valid_loss = []\n",
        "  train_loss = []\n",
        "\n",
        "  early_stop_count = 0\n",
        "  early_stop_th = config[\"EARLY_STOP\"]\n",
        "\n",
        "  criterion = max_sharpe\n",
        "  lr_scheduler = get_cosine_lr_scheduler(4e-3, 1e-6)\n",
        "\n",
        "  for epoch in tqdm(range(config[\"EPOCHS\"])):\n",
        "      timer.start()\n",
        "      # Update learning rate\n",
        "      lr = lr_scheduler(config[\"EPOCHS\"], epoch)\n",
        "      for param_group in optimizer.param_groups:\n",
        "          param_group['lr'] = lr\n",
        "\n",
        "      for phase in [\"train\", \"valid\"]:\n",
        "          if phase == \"train\":\n",
        "              model.train()\n",
        "              dataloader = train_loader\n",
        "          else:\n",
        "              model.eval()\n",
        "              dataloader = test_loader\n",
        "\n",
        "          batch_loss = 0.0\n",
        "\n",
        "          for idx, data in enumerate(dataloader):\n",
        "              x, y = data\n",
        "              x = x.to(device)\n",
        "              y = y.to(device)\n",
        "              optimizer.zero_grad()\n",
        "              with torch.set_grad_enabled(phase == \"train\"):\n",
        "                  out = model(x)\n",
        "                  if constraint_allocation:\n",
        "                    loss = criterion(y, out)\n",
        "                  else:\n",
        "                    loss = criterion(y, out, regularization=False)\n",
        "                  if phase == \"train\":\n",
        "                      loss.backward()\n",
        "                      optimizer.first_step(zero_grad=True)\n",
        "                      if constraint_allocation:\n",
        "                        criterion(y, model(x)).backward()\n",
        "                      else:\n",
        "                        criterion(y, out, regularization=False)\n",
        "                      optimizer.second_step(zero_grad=True)\n",
        "\n",
        "              batch_loss += loss.item() / len(dataloader)\n",
        "          if phase == \"train\":\n",
        "            train_loss.append(batch_loss)\n",
        "          else:\n",
        "            valid_loss.append(batch_loss)\n",
        "            if batch_loss <= min(valid_loss):\n",
        "                save_model(model, model_path = checkpoint_path, model_name = model_name)\n",
        "                print(f\"Epoch {epoch + 1} : loss enhanced with {batch_loss}\")\n",
        "                early_stop_count = 0\n",
        "            else:\n",
        "                early_stop_count += 1\n",
        "\n",
        "\n",
        "      if early_stop_count == early_stop_th:\n",
        "        break\n",
        "      # Stop the timer at the end of the epoch\n",
        "      timer.stop()\n",
        "      if (epoch % 10 == 0):\n",
        "        print(f'Epoch: [{epoch+1}/{config[\"EPOCHS\"]}]'\n",
        "              + f' | Training loss: {train_loss[-1]:.3f}'\n",
        "              + f' | Validiation loss: {valid_loss[-1]:.3f}'\n",
        "              + f' | Time per epoch: {timer.times[-1]:.2f} seconds')\n",
        "\n",
        "  total_training_time = timer.sum()\n",
        "  print(f'Total training times: {total_training_time/60:.2f} minutes')\n",
        "  return model, train_loss, valid_loss, total_training_time"
      ]
    },
    {
      "cell_type": "code",
      "source": [
        "runtime_all = {}\n",
        "visualize = True\n",
        "rows = math.ceil(len(model_names)/2.0)\n",
        "fig, axes = plt.subplots(rows, 2, figsize = (10, 5))\n",
        "\n",
        "for idx, name in enumerate(model_names):\n",
        "  print(f'Starting training model: {name}')\n",
        "  print(\"-\"*50)\n",
        "  model, train_loss, valid_loss, runtime = train_model(name, constraint_allocation=True)\n",
        "  runtime_all[name] = runtime\n",
        "\n",
        "  if visualize:\n",
        "    ax = axes.flatten()[idx]\n",
        "    ax.plot(range(1, len(train_loss)+1), train_loss, label='Train Loss')\n",
        "    ax.plot(range(1, len(valid_loss)+1), valid_loss, label='Valid Loss')\n",
        "    ax.set_xlabel('Epochs')\n",
        "    ax.set_ylabel('Loss')\n",
        "    ax.set_title(name)\n",
        "    ax.legend()\n",
        "    if idx == len(model_names):\n",
        "      fig.suptitle('Train and valid loss for each model')\n",
        "    plt.show()"
      ],
      "metadata": {
        "colab": {
          "base_uri": "https://localhost:8080/",
          "height": 1000
        },
        "id": "wVaPfwxkGU0Q",
        "outputId": "4d110a8d-506b-4dda-b592-88a9bf0b7601"
      },
      "execution_count": 31,
      "outputs": [
        {
          "output_type": "stream",
          "name": "stdout",
          "text": [
            "Starting training model: gru\n",
            "--------------------------------------------------\n"
          ]
        },
        {
          "output_type": "stream",
          "name": "stderr",
          "text": [
            "\r  0%|          | 0/100 [00:00<?, ?it/s]"
          ]
        },
        {
          "output_type": "stream",
          "name": "stdout",
          "text": [
            "Model checkpoint is already existed. Will be overwritten\n"
          ]
        },
        {
          "output_type": "stream",
          "name": "stderr",
          "text": [
            "  2%|▏         | 2/100 [00:07<05:58,  3.65s/it]"
          ]
        },
        {
          "output_type": "stream",
          "name": "stdout",
          "text": [
            "Epoch 1 : loss enhanced with -0.12377958968281745\n",
            "Epoch: [1/100] | Training loss: 0.181 | Validiation loss: -0.124 | Time per epoch: 4.58 seconds\n",
            "Model checkpoint is already existed. Will be overwritten\n",
            "Epoch 2 : loss enhanced with -0.13781152144074438\n"
          ]
        },
        {
          "output_type": "stream",
          "name": "stderr",
          "text": [
            "\r  3%|▎         | 3/100 [00:10<05:09,  3.19s/it]"
          ]
        },
        {
          "output_type": "stream",
          "name": "stdout",
          "text": [
            "Model checkpoint is already existed. Will be overwritten\n",
            "Epoch 3 : loss enhanced with -0.15044462233781813\n"
          ]
        },
        {
          "output_type": "stream",
          "name": "stderr",
          "text": [
            "\r  4%|▍         | 4/100 [00:12<04:29,  2.81s/it]"
          ]
        },
        {
          "output_type": "stream",
          "name": "stdout",
          "text": [
            "Model checkpoint is already existed. Will be overwritten\n",
            "Epoch 4 : loss enhanced with -0.16488146260380745\n"
          ]
        },
        {
          "output_type": "stream",
          "name": "stderr",
          "text": [
            "\r  5%|▌         | 5/100 [00:14<04:08,  2.61s/it]"
          ]
        },
        {
          "output_type": "stream",
          "name": "stdout",
          "text": [
            "Model checkpoint is already existed. Will be overwritten\n",
            "Epoch 5 : loss enhanced with -0.1794730931520462\n"
          ]
        },
        {
          "output_type": "stream",
          "name": "stderr",
          "text": [
            "\r  6%|▌         | 6/100 [00:16<03:53,  2.48s/it]"
          ]
        },
        {
          "output_type": "stream",
          "name": "stdout",
          "text": [
            "Model checkpoint is already existed. Will be overwritten\n",
            "Epoch 6 : loss enhanced with -0.19311092942953112\n"
          ]
        },
        {
          "output_type": "stream",
          "name": "stderr",
          "text": [
            "\r  7%|▋         | 7/100 [00:19<03:42,  2.39s/it]"
          ]
        },
        {
          "output_type": "stream",
          "name": "stdout",
          "text": [
            "Model checkpoint is already existed. Will be overwritten\n",
            "Epoch 7 : loss enhanced with -0.20793659389019012\n"
          ]
        },
        {
          "output_type": "stream",
          "name": "stderr",
          "text": [
            "\r  8%|▊         | 8/100 [00:22<03:58,  2.60s/it]"
          ]
        },
        {
          "output_type": "stream",
          "name": "stdout",
          "text": [
            "Model checkpoint is already existed. Will be overwritten\n",
            "Epoch 8 : loss enhanced with -0.2227906569838524\n"
          ]
        },
        {
          "output_type": "stream",
          "name": "stderr",
          "text": [
            "\r  9%|▉         | 9/100 [00:25<04:04,  2.69s/it]"
          ]
        },
        {
          "output_type": "stream",
          "name": "stdout",
          "text": [
            "Model checkpoint is already existed. Will be overwritten\n",
            "Epoch 9 : loss enhanced with -0.23701573312282562\n"
          ]
        },
        {
          "output_type": "stream",
          "name": "stderr",
          "text": [
            "\r 10%|█         | 10/100 [00:27<03:51,  2.57s/it]"
          ]
        },
        {
          "output_type": "stream",
          "name": "stdout",
          "text": [
            "Model checkpoint is already existed. Will be overwritten\n",
            "Epoch 10 : loss enhanced with -0.24240892529487612\n"
          ]
        },
        {
          "output_type": "stream",
          "name": "stderr",
          "text": [
            "\r 11%|█         | 11/100 [00:29<03:49,  2.57s/it]"
          ]
        },
        {
          "output_type": "stream",
          "name": "stdout",
          "text": [
            "Model checkpoint is already existed. Will be overwritten\n",
            "Epoch 11 : loss enhanced with -0.24541752338409423\n",
            "Epoch: [11/100] | Training loss: 0.092 | Validiation loss: -0.245 | Time per epoch: 2.59 seconds\n"
          ]
        },
        {
          "output_type": "stream",
          "name": "stderr",
          "text": [
            "\r 12%|█▏        | 12/100 [00:32<03:41,  2.51s/it]"
          ]
        },
        {
          "output_type": "stream",
          "name": "stdout",
          "text": [
            "Model checkpoint is already existed. Will be overwritten\n",
            "Epoch 12 : loss enhanced with -0.24737437665462494\n"
          ]
        },
        {
          "output_type": "stream",
          "name": "stderr",
          "text": [
            "\r 13%|█▎        | 13/100 [00:34<03:38,  2.52s/it]"
          ]
        },
        {
          "output_type": "stream",
          "name": "stdout",
          "text": [
            "Model checkpoint is already existed. Will be overwritten\n",
            "Epoch 13 : loss enhanced with -0.2526026666164398\n"
          ]
        },
        {
          "output_type": "stream",
          "name": "stderr",
          "text": [
            "\r 14%|█▍        | 14/100 [00:38<04:01,  2.81s/it]"
          ]
        },
        {
          "output_type": "stream",
          "name": "stdout",
          "text": [
            "Model checkpoint is already existed. Will be overwritten\n",
            "Epoch 14 : loss enhanced with -0.25296361446380616\n"
          ]
        },
        {
          "output_type": "stream",
          "name": "stderr",
          "text": [
            " 16%|█▌        | 16/100 [00:43<03:54,  2.79s/it]"
          ]
        },
        {
          "output_type": "stream",
          "name": "stdout",
          "text": [
            "Model checkpoint is already existed. Will be overwritten\n",
            "Epoch 16 : loss enhanced with -0.2537793815135956\n"
          ]
        },
        {
          "output_type": "stream",
          "name": "stderr",
          "text": [
            "\r 17%|█▋        | 17/100 [00:46<03:47,  2.74s/it]"
          ]
        },
        {
          "output_type": "stream",
          "name": "stdout",
          "text": [
            "Model checkpoint is already existed. Will be overwritten\n",
            "Epoch 17 : loss enhanced with -0.25431121289730074\n"
          ]
        },
        {
          "output_type": "stream",
          "name": "stderr",
          "text": [
            "\r 18%|█▊        | 18/100 [00:49<03:41,  2.70s/it]"
          ]
        },
        {
          "output_type": "stream",
          "name": "stdout",
          "text": [
            "Model checkpoint is already existed. Will be overwritten\n",
            "Epoch 18 : loss enhanced with -0.2544719666242599\n"
          ]
        },
        {
          "output_type": "stream",
          "name": "stderr",
          "text": [
            "\r 19%|█▉        | 19/100 [00:52<03:49,  2.83s/it]"
          ]
        },
        {
          "output_type": "stream",
          "name": "stdout",
          "text": [
            "Model checkpoint is already existed. Will be overwritten\n",
            "Epoch 19 : loss enhanced with -0.254883936047554\n"
          ]
        },
        {
          "output_type": "stream",
          "name": "stderr",
          "text": [
            "\r 20%|██        | 20/100 [00:55<04:03,  3.04s/it]"
          ]
        },
        {
          "output_type": "stream",
          "name": "stdout",
          "text": [
            "Model checkpoint is already existed. Will be overwritten\n",
            "Epoch 20 : loss enhanced with -0.25498242378234864\n"
          ]
        },
        {
          "output_type": "stream",
          "name": "stderr",
          "text": [
            "\r 21%|██        | 21/100 [00:58<03:48,  2.90s/it]"
          ]
        },
        {
          "output_type": "stream",
          "name": "stdout",
          "text": [
            "Epoch: [21/100] | Training loss: 0.083 | Validiation loss: -0.255 | Time per epoch: 2.54 seconds\n"
          ]
        },
        {
          "output_type": "stream",
          "name": "stderr",
          "text": [
            "\r 22%|██▏       | 22/100 [01:00<03:36,  2.78s/it]"
          ]
        },
        {
          "output_type": "stream",
          "name": "stdout",
          "text": [
            "Model checkpoint is already existed. Will be overwritten\n",
            "Epoch 22 : loss enhanced with -0.2556012749671936\n"
          ]
        },
        {
          "output_type": "stream",
          "name": "stderr",
          "text": [
            "\r 23%|██▎       | 23/100 [01:03<03:29,  2.72s/it]"
          ]
        },
        {
          "output_type": "stream",
          "name": "stdout",
          "text": [
            "Model checkpoint is already existed. Will be overwritten\n",
            "Epoch 23 : loss enhanced with -0.2562023878097534\n"
          ]
        },
        {
          "output_type": "stream",
          "name": "stderr",
          "text": [
            " 25%|██▌       | 25/100 [01:09<03:42,  2.96s/it]"
          ]
        },
        {
          "output_type": "stream",
          "name": "stdout",
          "text": [
            "Model checkpoint is already existed. Will be overwritten\n",
            "Epoch 25 : loss enhanced with -0.2569008290767669\n"
          ]
        },
        {
          "output_type": "stream",
          "name": "stderr",
          "text": [
            " 27%|██▋       | 27/100 [01:15<03:29,  2.87s/it]"
          ]
        },
        {
          "output_type": "stream",
          "name": "stdout",
          "text": [
            "Model checkpoint is already existed. Will be overwritten\n",
            "Epoch 27 : loss enhanced with -0.2569712340831756\n"
          ]
        },
        {
          "output_type": "stream",
          "name": "stderr",
          "text": [
            "\r 28%|██▊       | 28/100 [01:17<03:19,  2.78s/it]"
          ]
        },
        {
          "output_type": "stream",
          "name": "stdout",
          "text": [
            "Model checkpoint is already existed. Will be overwritten\n",
            "Epoch 28 : loss enhanced with -0.2575423061847687\n"
          ]
        },
        {
          "output_type": "stream",
          "name": "stderr",
          "text": [
            " 30%|███       | 30/100 [01:23<03:14,  2.78s/it]"
          ]
        },
        {
          "output_type": "stream",
          "name": "stdout",
          "text": [
            "Model checkpoint is already existed. Will be overwritten\n",
            "Epoch 30 : loss enhanced with -0.25829631984233853\n"
          ]
        },
        {
          "output_type": "stream",
          "name": "stderr",
          "text": [
            "\r 31%|███       | 31/100 [01:26<03:26,  3.00s/it]"
          ]
        },
        {
          "output_type": "stream",
          "name": "stdout",
          "text": [
            "Model checkpoint is already existed. Will be overwritten\n",
            "Epoch 31 : loss enhanced with -0.25852583944797514\n",
            "Epoch: [31/100] | Training loss: 0.083 | Validiation loss: -0.259 | Time per epoch: 3.51 seconds\n"
          ]
        },
        {
          "output_type": "stream",
          "name": "stderr",
          "text": [
            "\r 32%|███▏      | 32/100 [01:29<03:19,  2.93s/it]"
          ]
        },
        {
          "output_type": "stream",
          "name": "stdout",
          "text": [
            "Model checkpoint is already existed. Will be overwritten\n",
            "Epoch 32 : loss enhanced with -0.25855852365493776\n"
          ]
        },
        {
          "output_type": "stream",
          "name": "stderr",
          "text": [
            "\r 33%|███▎      | 33/100 [01:32<03:09,  2.83s/it]"
          ]
        },
        {
          "output_type": "stream",
          "name": "stdout",
          "text": [
            "Model checkpoint is already existed. Will be overwritten\n",
            "Epoch 33 : loss enhanced with -0.25892483294010166\n"
          ]
        },
        {
          "output_type": "stream",
          "name": "stderr",
          "text": [
            " 35%|███▌      | 35/100 [01:37<02:55,  2.70s/it]"
          ]
        },
        {
          "output_type": "stream",
          "name": "stdout",
          "text": [
            "Model checkpoint is already existed. Will be overwritten\n",
            "Epoch 35 : loss enhanced with -0.25967879593372345\n"
          ]
        },
        {
          "output_type": "stream",
          "name": "stderr",
          "text": [
            " 38%|███▊      | 38/100 [01:47<03:02,  2.94s/it]"
          ]
        },
        {
          "output_type": "stream",
          "name": "stdout",
          "text": [
            "Model checkpoint is already existed. Will be overwritten\n",
            "Epoch 38 : loss enhanced with -0.2601284086704254\n"
          ]
        },
        {
          "output_type": "stream",
          "name": "stderr",
          "text": [
            "\r 39%|███▉      | 39/100 [01:49<02:53,  2.84s/it]"
          ]
        },
        {
          "output_type": "stream",
          "name": "stdout",
          "text": [
            "Model checkpoint is already existed. Will be overwritten\n",
            "Epoch 39 : loss enhanced with -0.26059911251068113\n"
          ]
        },
        {
          "output_type": "stream",
          "name": "stderr",
          "text": [
            " 41%|████      | 41/100 [01:55<02:46,  2.83s/it]"
          ]
        },
        {
          "output_type": "stream",
          "name": "stdout",
          "text": [
            "Epoch: [41/100] | Training loss: 0.078 | Validiation loss: -0.260 | Time per epoch: 2.98 seconds\n"
          ]
        },
        {
          "output_type": "stream",
          "name": "stderr",
          "text": [
            "\r 42%|████▏     | 42/100 [01:58<02:55,  3.03s/it]"
          ]
        },
        {
          "output_type": "stream",
          "name": "stdout",
          "text": [
            "Model checkpoint is already existed. Will be overwritten\n",
            "Epoch 42 : loss enhanced with -0.2608869463205338\n"
          ]
        },
        {
          "output_type": "stream",
          "name": "stderr",
          "text": [
            "\r 43%|████▎     | 43/100 [02:01<02:47,  2.94s/it]"
          ]
        },
        {
          "output_type": "stream",
          "name": "stdout",
          "text": [
            "Model checkpoint is already existed. Will be overwritten\n",
            "Epoch 43 : loss enhanced with -0.26123081743717197\n"
          ]
        },
        {
          "output_type": "stream",
          "name": "stderr",
          "text": [
            " 45%|████▌     | 45/100 [02:06<02:32,  2.76s/it]"
          ]
        },
        {
          "output_type": "stream",
          "name": "stdout",
          "text": [
            "Model checkpoint is already existed. Will be overwritten\n",
            "Epoch 45 : loss enhanced with -0.2613787233829498\n"
          ]
        },
        {
          "output_type": "stream",
          "name": "stderr",
          "text": [
            " 47%|████▋     | 47/100 [02:12<02:35,  2.94s/it]"
          ]
        },
        {
          "output_type": "stream",
          "name": "stdout",
          "text": [
            "Model checkpoint is already existed. Will be overwritten\n",
            "Epoch 47 : loss enhanced with -0.2614002346992493\n"
          ]
        },
        {
          "output_type": "stream",
          "name": "stderr",
          "text": [
            "\r 48%|████▊     | 48/100 [02:16<02:39,  3.07s/it]"
          ]
        },
        {
          "output_type": "stream",
          "name": "stdout",
          "text": [
            "Model checkpoint is already existed. Will be overwritten\n",
            "Epoch 48 : loss enhanced with -0.26173729598522183\n"
          ]
        },
        {
          "output_type": "stream",
          "name": "stderr",
          "text": [
            "\r 49%|████▉     | 49/100 [02:18<02:31,  2.98s/it]"
          ]
        },
        {
          "output_type": "stream",
          "name": "stdout",
          "text": [
            "Model checkpoint is already existed. Will be overwritten\n",
            "Epoch 49 : loss enhanced with -0.26203411519527436\n"
          ]
        },
        {
          "output_type": "stream",
          "name": "stderr",
          "text": [
            " 51%|█████     | 51/100 [02:23<02:15,  2.77s/it]"
          ]
        },
        {
          "output_type": "stream",
          "name": "stdout",
          "text": [
            "Model checkpoint is already existed. Will be overwritten\n",
            "Epoch 51 : loss enhanced with -0.2621742010116577\n",
            "Epoch: [51/100] | Training loss: 0.075 | Validiation loss: -0.262 | Time per epoch: 2.56 seconds\n"
          ]
        },
        {
          "output_type": "stream",
          "name": "stderr",
          "text": [
            "\r 52%|█████▏    | 52/100 [02:27<02:20,  2.92s/it]"
          ]
        },
        {
          "output_type": "stream",
          "name": "stdout",
          "text": [
            "Model checkpoint is already existed. Will be overwritten\n",
            "Epoch 52 : loss enhanced with -0.2623881816864014\n"
          ]
        },
        {
          "output_type": "stream",
          "name": "stderr",
          "text": [
            "\r 53%|█████▎    | 53/100 [02:30<02:23,  3.06s/it]"
          ]
        },
        {
          "output_type": "stream",
          "name": "stdout",
          "text": [
            "Model checkpoint is already existed. Will be overwritten\n",
            "Epoch 53 : loss enhanced with -0.2626785159111023\n"
          ]
        },
        {
          "output_type": "stream",
          "name": "stderr",
          "text": [
            " 56%|█████▌    | 56/100 [02:38<01:59,  2.71s/it]"
          ]
        },
        {
          "output_type": "stream",
          "name": "stdout",
          "text": [
            "Model checkpoint is already existed. Will be overwritten\n",
            "Epoch 56 : loss enhanced with -0.2628549993038178\n"
          ]
        },
        {
          "output_type": "stream",
          "name": "stderr",
          "text": [
            "\r 57%|█████▋    | 57/100 [02:40<01:57,  2.73s/it]"
          ]
        },
        {
          "output_type": "stream",
          "name": "stdout",
          "text": [
            "Model checkpoint is already existed. Will be overwritten\n",
            "Epoch 57 : loss enhanced with -0.2629048407077789\n"
          ]
        },
        {
          "output_type": "stream",
          "name": "stderr",
          "text": [
            "\r 58%|█████▊    | 58/100 [02:44<02:05,  2.98s/it]"
          ]
        },
        {
          "output_type": "stream",
          "name": "stdout",
          "text": [
            "Model checkpoint is already existed. Will be overwritten\n",
            "Epoch 58 : loss enhanced with -0.26313660144805906\n"
          ]
        },
        {
          "output_type": "stream",
          "name": "stderr",
          "text": [
            "\r 59%|█████▉    | 59/100 [02:47<02:02,  2.99s/it]"
          ]
        },
        {
          "output_type": "stream",
          "name": "stdout",
          "text": [
            "Model checkpoint is already existed. Will be overwritten\n",
            "Epoch 59 : loss enhanced with -0.2631884038448334\n"
          ]
        },
        {
          "output_type": "stream",
          "name": "stderr",
          "text": [
            " 61%|██████    | 61/100 [02:52<01:46,  2.74s/it]"
          ]
        },
        {
          "output_type": "stream",
          "name": "stdout",
          "text": [
            "Model checkpoint is already existed. Will be overwritten\n",
            "Epoch 61 : loss enhanced with -0.2632021903991699\n",
            "Epoch: [61/100] | Training loss: 0.079 | Validiation loss: -0.263 | Time per epoch: 2.51 seconds\n"
          ]
        },
        {
          "output_type": "stream",
          "name": "stderr",
          "text": [
            " 65%|██████▌   | 65/100 [03:04<01:42,  2.92s/it]"
          ]
        },
        {
          "output_type": "stream",
          "name": "stdout",
          "text": [
            "Model checkpoint is already existed. Will be overwritten\n",
            "Epoch 65 : loss enhanced with -0.26342675685882566\n"
          ]
        },
        {
          "output_type": "stream",
          "name": "stderr",
          "text": [
            "\r 66%|██████▌   | 66/100 [03:07<01:36,  2.84s/it]"
          ]
        },
        {
          "output_type": "stream",
          "name": "stdout",
          "text": [
            "Model checkpoint is already existed. Will be overwritten\n",
            "Epoch 66 : loss enhanced with -0.2636307209730148\n"
          ]
        },
        {
          "output_type": "stream",
          "name": "stderr",
          "text": [
            " 68%|██████▊   | 68/100 [03:12<01:27,  2.73s/it]"
          ]
        },
        {
          "output_type": "stream",
          "name": "stdout",
          "text": [
            "Model checkpoint is already existed. Will be overwritten\n",
            "Epoch 68 : loss enhanced with -0.26363475918769835\n"
          ]
        },
        {
          "output_type": "stream",
          "name": "stderr",
          "text": [
            " 70%|███████   | 70/100 [03:18<01:30,  3.00s/it]"
          ]
        },
        {
          "output_type": "stream",
          "name": "stdout",
          "text": [
            "Model checkpoint is already existed. Will be overwritten\n",
            "Epoch 70 : loss enhanced with -0.26378137469291685\n"
          ]
        },
        {
          "output_type": "stream",
          "name": "stderr",
          "text": [
            "\r 71%|███████   | 71/100 [03:21<01:24,  2.90s/it]"
          ]
        },
        {
          "output_type": "stream",
          "name": "stdout",
          "text": [
            "Model checkpoint is already existed. Will be overwritten\n",
            "Epoch 71 : loss enhanced with -0.26390508711338045\n",
            "Epoch: [71/100] | Training loss: 0.082 | Validiation loss: -0.264 | Time per epoch: 2.67 seconds\n"
          ]
        },
        {
          "output_type": "stream",
          "name": "stderr",
          "text": [
            " 76%|███████▌  | 76/100 [03:35<01:09,  2.90s/it]"
          ]
        },
        {
          "output_type": "stream",
          "name": "stdout",
          "text": [
            "Model checkpoint is already existed. Will be overwritten\n",
            "Epoch 76 : loss enhanced with -0.26405509710311886\n"
          ]
        },
        {
          "output_type": "stream",
          "name": "stderr",
          "text": [
            "\r 77%|███████▋  | 77/100 [03:38<01:04,  2.82s/it]"
          ]
        },
        {
          "output_type": "stream",
          "name": "stdout",
          "text": [
            "Model checkpoint is already existed. Will be overwritten\n",
            "Epoch 77 : loss enhanced with -0.26411148011684416\n"
          ]
        },
        {
          "output_type": "stream",
          "name": "stderr",
          "text": [
            "\r 78%|███████▊  | 78/100 [03:41<01:00,  2.77s/it]"
          ]
        },
        {
          "output_type": "stream",
          "name": "stdout",
          "text": [
            "Model checkpoint is already existed. Will be overwritten\n",
            "Epoch 78 : loss enhanced with -0.26424792110919954\n"
          ]
        },
        {
          "output_type": "stream",
          "name": "stderr",
          "text": [
            " 80%|████████  | 80/100 [03:47<01:00,  3.02s/it]"
          ]
        },
        {
          "output_type": "stream",
          "name": "stdout",
          "text": [
            "Model checkpoint is already existed. Will be overwritten\n",
            "Epoch 80 : loss enhanced with -0.26426842212677004\n"
          ]
        },
        {
          "output_type": "stream",
          "name": "stderr",
          "text": [
            "\r 81%|████████  | 81/100 [03:50<00:57,  3.00s/it]"
          ]
        },
        {
          "output_type": "stream",
          "name": "stdout",
          "text": [
            "Epoch: [81/100] | Training loss: 0.081 | Validiation loss: -0.264 | Time per epoch: 2.98 seconds\n"
          ]
        },
        {
          "output_type": "stream",
          "name": "stderr",
          "text": [
            " 84%|████████▍ | 84/100 [03:58<00:44,  2.76s/it]"
          ]
        },
        {
          "output_type": "stream",
          "name": "stdout",
          "text": [
            "Model checkpoint is already existed. Will be overwritten\n",
            "Epoch 84 : loss enhanced with -0.2642922103404999\n"
          ]
        },
        {
          "output_type": "stream",
          "name": "stderr",
          "text": [
            "\r 85%|████████▌ | 85/100 [04:01<00:44,  2.96s/it]"
          ]
        },
        {
          "output_type": "stream",
          "name": "stdout",
          "text": [
            "Model checkpoint is already existed. Will be overwritten\n",
            "Epoch 85 : loss enhanced with -0.26429852843284607\n"
          ]
        },
        {
          "output_type": "stream",
          "name": "stderr",
          "text": [
            " 91%|█████████ | 91/100 [04:19<00:27,  3.04s/it]"
          ]
        },
        {
          "output_type": "stream",
          "name": "stdout",
          "text": [
            "Epoch: [91/100] | Training loss: 0.081 | Validiation loss: -0.264 | Time per epoch: 3.52 seconds\n"
          ]
        },
        {
          "output_type": "stream",
          "name": "stderr",
          "text": [
            "100%|██████████| 100/100 [04:44<00:00,  2.85s/it]\n"
          ]
        },
        {
          "output_type": "stream",
          "name": "stdout",
          "text": [
            "Total training times: 4.74 minutes\n"
          ]
        },
        {
          "output_type": "display_data",
          "data": {
            "text/plain": [
              "<Figure size 1500x750 with 4 Axes>"
            ],
            "image/png": "[encoded data removed]"
          },
          "metadata": {}
        },
        {
          "output_type": "stream",
          "name": "stdout",
          "text": [
            "Starting training model: gru_aa\n",
            "--------------------------------------------------\n"
          ]
        },
        {
          "output_type": "stream",
          "name": "stderr",
          "text": [
            "\r  0%|          | 0/100 [00:00<?, ?it/s]"
          ]
        },
        {
          "output_type": "stream",
          "name": "stdout",
          "text": [
            "Model checkpoint is already existed. Will be overwritten\n"
          ]
        },
        {
          "output_type": "stream",
          "name": "stderr",
          "text": [
            "\r  1%|          | 1/100 [00:03<05:58,  3.62s/it]"
          ]
        },
        {
          "output_type": "stream",
          "name": "stdout",
          "text": [
            "Epoch 1 : loss enhanced with -0.1287198528647423\n",
            "Epoch: [1/100] | Training loss: 0.183 | Validiation loss: -0.129 | Time per epoch: 3.62 seconds\n"
          ]
        },
        {
          "output_type": "stream",
          "name": "stderr",
          "text": [
            "\r  2%|▏         | 2/100 [00:06<05:24,  3.31s/it]"
          ]
        },
        {
          "output_type": "stream",
          "name": "stdout",
          "text": [
            "Model checkpoint is already existed. Will be overwritten\n",
            "Epoch 2 : loss enhanced with -0.14258637949824335\n"
          ]
        },
        {
          "output_type": "stream",
          "name": "stderr",
          "text": [
            "\r  3%|▎         | 3/100 [00:09<04:42,  2.92s/it]"
          ]
        },
        {
          "output_type": "stream",
          "name": "stdout",
          "text": [
            "Model checkpoint is already existed. Will be overwritten\n",
            "Epoch 3 : loss enhanced with -0.15674065202474596\n"
          ]
        },
        {
          "output_type": "stream",
          "name": "stderr",
          "text": [
            "\r  4%|▍         | 4/100 [00:11<04:20,  2.72s/it]"
          ]
        },
        {
          "output_type": "stream",
          "name": "stdout",
          "text": [
            "Model checkpoint is already existed. Will be overwritten\n",
            "Epoch 4 : loss enhanced with -0.17140592560172083\n"
          ]
        },
        {
          "output_type": "stream",
          "name": "stderr",
          "text": [
            "\r  5%|▌         | 5/100 [00:13<04:06,  2.59s/it]"
          ]
        },
        {
          "output_type": "stream",
          "name": "stdout",
          "text": [
            "Model checkpoint is already existed. Will be overwritten\n",
            "Epoch 5 : loss enhanced with -0.1867908790707588\n"
          ]
        },
        {
          "output_type": "stream",
          "name": "stderr",
          "text": [
            "\r  6%|▌         | 6/100 [00:16<03:59,  2.54s/it]"
          ]
        },
        {
          "output_type": "stream",
          "name": "stdout",
          "text": [
            "Model checkpoint is already existed. Will be overwritten\n",
            "Epoch 6 : loss enhanced with -0.20386719554662705\n"
          ]
        },
        {
          "output_type": "stream",
          "name": "stderr",
          "text": [
            "\r  7%|▋         | 7/100 [00:19<04:16,  2.76s/it]"
          ]
        },
        {
          "output_type": "stream",
          "name": "stdout",
          "text": [
            "Model checkpoint is already existed. Will be overwritten\n",
            "Epoch 7 : loss enhanced with -0.2224932387471199\n"
          ]
        },
        {
          "output_type": "stream",
          "name": "stderr",
          "text": [
            "\r  8%|▊         | 8/100 [00:22<04:24,  2.88s/it]"
          ]
        },
        {
          "output_type": "stream",
          "name": "stdout",
          "text": [
            "Model checkpoint is already existed. Will be overwritten\n",
            "Epoch 8 : loss enhanced with -0.238923542201519\n"
          ]
        },
        {
          "output_type": "stream",
          "name": "stderr",
          "text": [
            "\r  9%|▉         | 9/100 [00:25<04:11,  2.76s/it]"
          ]
        },
        {
          "output_type": "stream",
          "name": "stdout",
          "text": [
            "Model checkpoint is already existed. Will be overwritten\n",
            "Epoch 9 : loss enhanced with -0.24729094654321673\n"
          ]
        },
        {
          "output_type": "stream",
          "name": "stderr",
          "text": [
            "\r 10%|█         | 10/100 [00:27<04:02,  2.69s/it]"
          ]
        },
        {
          "output_type": "stream",
          "name": "stdout",
          "text": [
            "Model checkpoint is already existed. Will be overwritten\n",
            "Epoch 10 : loss enhanced with -0.2510408997535706\n"
          ]
        },
        {
          "output_type": "stream",
          "name": "stderr",
          "text": [
            "\r 11%|█         | 11/100 [00:30<04:01,  2.72s/it]"
          ]
        },
        {
          "output_type": "stream",
          "name": "stdout",
          "text": [
            "Model checkpoint is already existed. Will be overwritten\n",
            "Epoch 11 : loss enhanced with -0.25178628861904145\n",
            "Epoch: [11/100] | Training loss: 0.083 | Validiation loss: -0.252 | Time per epoch: 2.77 seconds\n"
          ]
        },
        {
          "output_type": "stream",
          "name": "stderr",
          "text": [
            " 13%|█▎        | 13/100 [00:37<04:33,  3.15s/it]"
          ]
        },
        {
          "output_type": "stream",
          "name": "stdout",
          "text": [
            "Model checkpoint is already existed. Will be overwritten\n",
            "Epoch 13 : loss enhanced with -0.2533261954784393\n"
          ]
        },
        {
          "output_type": "stream",
          "name": "stderr",
          "text": [
            "\r 14%|█▍        | 14/100 [00:40<04:25,  3.08s/it]"
          ]
        },
        {
          "output_type": "stream",
          "name": "stdout",
          "text": [
            "Model checkpoint is already existed. Will be overwritten\n",
            "Epoch 14 : loss enhanced with -0.25359333753585817\n"
          ]
        },
        {
          "output_type": "stream",
          "name": "stderr",
          "text": [
            "\r 15%|█▌        | 15/100 [00:43<04:15,  3.01s/it]"
          ]
        },
        {
          "output_type": "stream",
          "name": "stdout",
          "text": [
            "Model checkpoint is already existed. Will be overwritten\n",
            "Epoch 15 : loss enhanced with -0.25430128872394564\n"
          ]
        },
        {
          "output_type": "stream",
          "name": "stderr",
          "text": [
            "\r 16%|█▌        | 16/100 [00:46<04:07,  2.94s/it]"
          ]
        },
        {
          "output_type": "stream",
          "name": "stdout",
          "text": [
            "Model checkpoint is already existed. Will be overwritten\n",
            "Epoch 16 : loss enhanced with -0.2546109825372696\n"
          ]
        },
        {
          "output_type": "stream",
          "name": "stderr",
          "text": [
            "\r 17%|█▋        | 17/100 [00:49<04:13,  3.06s/it]"
          ]
        },
        {
          "output_type": "stream",
          "name": "stdout",
          "text": [
            "Model checkpoint is already existed. Will be overwritten\n",
            "Epoch 17 : loss enhanced with -0.25491726994514463\n"
          ]
        },
        {
          "output_type": "stream",
          "name": "stderr",
          "text": [
            "\r 18%|█▊        | 18/100 [00:53<04:26,  3.25s/it]"
          ]
        },
        {
          "output_type": "stream",
          "name": "stdout",
          "text": [
            "Model checkpoint is already existed. Will be overwritten\n",
            "Epoch 18 : loss enhanced with -0.2552737474441528\n"
          ]
        },
        {
          "output_type": "stream",
          "name": "stderr",
          "text": [
            " 20%|██        | 20/100 [00:58<04:02,  3.03s/it]"
          ]
        },
        {
          "output_type": "stream",
          "name": "stdout",
          "text": [
            "Model checkpoint is already existed. Will be overwritten\n",
            "Epoch 20 : loss enhanced with -0.25596951842308047\n"
          ]
        },
        {
          "output_type": "stream",
          "name": "stderr",
          "text": [
            "\r 21%|██        | 21/100 [01:01<03:52,  2.94s/it]"
          ]
        },
        {
          "output_type": "stream",
          "name": "stdout",
          "text": [
            "Model checkpoint is already existed. Will be overwritten\n",
            "Epoch 21 : loss enhanced with -0.25685529708862304\n",
            "Epoch: [21/100] | Training loss: 0.079 | Validiation loss: -0.257 | Time per epoch: 2.74 seconds\n"
          ]
        },
        {
          "output_type": "stream",
          "name": "stderr",
          "text": [
            " 23%|██▎       | 23/100 [01:08<04:10,  3.26s/it]"
          ]
        },
        {
          "output_type": "stream",
          "name": "stdout",
          "text": [
            "Model checkpoint is already existed. Will be overwritten\n",
            "Epoch 23 : loss enhanced with -0.25706957280635834\n"
          ]
        },
        {
          "output_type": "stream",
          "name": "stderr",
          "text": [
            " 25%|██▌       | 25/100 [01:14<03:48,  3.05s/it]"
          ]
        },
        {
          "output_type": "stream",
          "name": "stdout",
          "text": [
            "Model checkpoint is already existed. Will be overwritten\n",
            "Epoch 25 : loss enhanced with -0.2574163854122162\n"
          ]
        },
        {
          "output_type": "stream",
          "name": "stderr",
          "text": [
            "\r 26%|██▌       | 26/100 [01:16<03:37,  2.94s/it]"
          ]
        },
        {
          "output_type": "stream",
          "name": "stdout",
          "text": [
            "Model checkpoint is already existed. Will be overwritten\n",
            "Epoch 26 : loss enhanced with -0.25818963944911955\n"
          ]
        },
        {
          "output_type": "stream",
          "name": "stderr",
          "text": [
            "\r 27%|██▋       | 27/100 [01:19<03:32,  2.91s/it]"
          ]
        },
        {
          "output_type": "stream",
          "name": "stdout",
          "text": [
            "Model checkpoint is already existed. Will be overwritten\n",
            "Epoch 27 : loss enhanced with -0.25851532220840456\n"
          ]
        },
        {
          "output_type": "stream",
          "name": "stderr",
          "text": [
            "\r 28%|██▊       | 28/100 [01:23<03:51,  3.21s/it]"
          ]
        },
        {
          "output_type": "stream",
          "name": "stdout",
          "text": [
            "Model checkpoint is already existed. Will be overwritten\n",
            "Epoch 28 : loss enhanced with -0.25866114199161533\n"
          ]
        },
        {
          "output_type": "stream",
          "name": "stderr",
          "text": [
            "\r 29%|██▉       | 29/100 [01:27<03:51,  3.26s/it]"
          ]
        },
        {
          "output_type": "stream",
          "name": "stdout",
          "text": [
            "Model checkpoint is already existed. Will be overwritten\n",
            "Epoch 29 : loss enhanced with -0.2593829691410065\n"
          ]
        },
        {
          "output_type": "stream",
          "name": "stderr",
          "text": [
            "\r 30%|███       | 30/100 [01:29<03:35,  3.08s/it]"
          ]
        },
        {
          "output_type": "stream",
          "name": "stdout",
          "text": [
            "Model checkpoint is already existed. Will be overwritten\n",
            "Epoch 30 : loss enhanced with -0.2595207244157791\n"
          ]
        },
        {
          "output_type": "stream",
          "name": "stderr",
          "text": [
            "\r 31%|███       | 31/100 [01:32<03:24,  2.96s/it]"
          ]
        },
        {
          "output_type": "stream",
          "name": "stdout",
          "text": [
            "Epoch: [31/100] | Training loss: 0.078 | Validiation loss: -0.259 | Time per epoch: 2.68 seconds\n"
          ]
        },
        {
          "output_type": "stream",
          "name": "stderr",
          "text": [
            "\r 32%|███▏      | 32/100 [01:35<03:15,  2.88s/it]"
          ]
        },
        {
          "output_type": "stream",
          "name": "stdout",
          "text": [
            "Model checkpoint is already existed. Will be overwritten\n",
            "Epoch 32 : loss enhanced with -0.2601854711771011\n"
          ]
        },
        {
          "output_type": "stream",
          "name": "stderr",
          "text": [
            " 34%|███▍      | 34/100 [01:42<03:31,  3.20s/it]"
          ]
        },
        {
          "output_type": "stream",
          "name": "stdout",
          "text": [
            "Model checkpoint is already existed. Will be overwritten\n",
            "Epoch 34 : loss enhanced with -0.26042726039886477\n"
          ]
        },
        {
          "output_type": "stream",
          "name": "stderr",
          "text": [
            " 36%|███▌      | 36/100 [01:47<03:10,  2.97s/it]"
          ]
        },
        {
          "output_type": "stream",
          "name": "stdout",
          "text": [
            "Model checkpoint is already existed. Will be overwritten\n",
            "Epoch 36 : loss enhanced with -0.261027655005455\n"
          ]
        },
        {
          "output_type": "stream",
          "name": "stderr",
          "text": [
            "\r 37%|███▋      | 37/100 [01:50<03:01,  2.89s/it]"
          ]
        },
        {
          "output_type": "stream",
          "name": "stdout",
          "text": [
            "Model checkpoint is already existed. Will be overwritten\n",
            "Epoch 37 : loss enhanced with -0.26135388016700745\n"
          ]
        },
        {
          "output_type": "stream",
          "name": "stderr",
          "text": [
            " 40%|████      | 40/100 [01:59<03:03,  3.05s/it]"
          ]
        },
        {
          "output_type": "stream",
          "name": "stdout",
          "text": [
            "Model checkpoint is already existed. Will be overwritten\n",
            "Epoch 40 : loss enhanced with -0.2616270512342453\n"
          ]
        },
        {
          "output_type": "stream",
          "name": "stderr",
          "text": [
            "\r 41%|████      | 41/100 [02:02<02:56,  2.98s/it]"
          ]
        },
        {
          "output_type": "stream",
          "name": "stdout",
          "text": [
            "Model checkpoint is already existed. Will be overwritten\n",
            "Epoch 41 : loss enhanced with -0.26204213201999665\n",
            "Epoch: [41/100] | Training loss: 0.074 | Validiation loss: -0.262 | Time per epoch: 2.82 seconds\n"
          ]
        },
        {
          "output_type": "stream",
          "name": "stderr",
          "text": [
            " 44%|████▍     | 44/100 [02:12<02:56,  3.16s/it]"
          ]
        },
        {
          "output_type": "stream",
          "name": "stdout",
          "text": [
            "Model checkpoint is already existed. Will be overwritten\n",
            "Epoch 44 : loss enhanced with -0.2627476453781128\n"
          ]
        },
        {
          "output_type": "stream",
          "name": "stderr",
          "text": [
            " 46%|████▌     | 46/100 [02:17<02:39,  2.95s/it]"
          ]
        },
        {
          "output_type": "stream",
          "name": "stdout",
          "text": [
            "Model checkpoint is already existed. Will be overwritten\n",
            "Epoch 46 : loss enhanced with -0.26277907490730285\n"
          ]
        },
        {
          "output_type": "stream",
          "name": "stderr",
          "text": [
            " 48%|████▊     | 48/100 [02:23<02:33,  2.96s/it]"
          ]
        },
        {
          "output_type": "stream",
          "name": "stdout",
          "text": [
            "Model checkpoint is already existed. Will be overwritten\n",
            "Epoch 48 : loss enhanced with -0.263192617893219\n"
          ]
        },
        {
          "output_type": "stream",
          "name": "stderr",
          "text": [
            "\r 49%|████▉     | 49/100 [02:27<02:42,  3.19s/it]"
          ]
        },
        {
          "output_type": "stream",
          "name": "stdout",
          "text": [
            "Model checkpoint is already existed. Will be overwritten\n",
            "Epoch 49 : loss enhanced with -0.2636310964822769\n"
          ]
        },
        {
          "output_type": "stream",
          "name": "stderr",
          "text": [
            " 51%|█████     | 51/100 [02:33<02:27,  3.02s/it]"
          ]
        },
        {
          "output_type": "stream",
          "name": "stdout",
          "text": [
            "Model checkpoint is already existed. Will be overwritten\n",
            "Epoch 51 : loss enhanced with -0.26393755674362185\n",
            "Epoch: [51/100] | Training loss: 0.083 | Validiation loss: -0.264 | Time per epoch: 2.73 seconds\n"
          ]
        },
        {
          "output_type": "stream",
          "name": "stderr",
          "text": [
            " 53%|█████▎    | 53/100 [02:38<02:15,  2.88s/it]"
          ]
        },
        {
          "output_type": "stream",
          "name": "stdout",
          "text": [
            "Model checkpoint is already existed. Will be overwritten\n",
            "Epoch 53 : loss enhanced with -0.26414512693881986\n"
          ]
        },
        {
          "output_type": "stream",
          "name": "stderr",
          "text": [
            " 58%|█████▊    | 58/100 [02:53<01:57,  2.80s/it]"
          ]
        },
        {
          "output_type": "stream",
          "name": "stdout",
          "text": [
            "Model checkpoint is already existed. Will be overwritten\n",
            "Epoch 58 : loss enhanced with -0.26420474648475645\n"
          ]
        },
        {
          "output_type": "stream",
          "name": "stderr",
          "text": [
            "\r 59%|█████▉    | 59/100 [02:56<02:03,  3.00s/it]"
          ]
        },
        {
          "output_type": "stream",
          "name": "stdout",
          "text": [
            "Model checkpoint is already existed. Will be overwritten\n",
            "Epoch 59 : loss enhanced with -0.2646006137132645\n"
          ]
        },
        {
          "output_type": "stream",
          "name": "stderr",
          "text": [
            " 61%|██████    | 61/100 [03:03<01:58,  3.04s/it]"
          ]
        },
        {
          "output_type": "stream",
          "name": "stdout",
          "text": [
            "Epoch: [61/100] | Training loss: 0.081 | Validiation loss: -0.264 | Time per epoch: 2.69 seconds\n"
          ]
        },
        {
          "output_type": "stream",
          "name": "stderr",
          "text": [
            "\r 62%|██████▏   | 62/100 [03:05<01:51,  2.93s/it]"
          ]
        },
        {
          "output_type": "stream",
          "name": "stdout",
          "text": [
            "Model checkpoint is already existed. Will be overwritten\n",
            "Epoch 62 : loss enhanced with -0.2648778259754181\n"
          ]
        },
        {
          "output_type": "stream",
          "name": "stderr",
          "text": [
            " 65%|██████▌   | 65/100 [03:15<01:51,  3.18s/it]"
          ]
        },
        {
          "output_type": "stream",
          "name": "stdout",
          "text": [
            "Model checkpoint is already existed. Will be overwritten\n",
            "Epoch 65 : loss enhanced with -0.26493993401527405\n"
          ]
        },
        {
          "output_type": "stream",
          "name": "stderr",
          "text": [
            "\r 66%|██████▌   | 66/100 [03:18<01:45,  3.10s/it]"
          ]
        },
        {
          "output_type": "stream",
          "name": "stdout",
          "text": [
            "Model checkpoint is already existed. Will be overwritten\n",
            "Epoch 66 : loss enhanced with -0.2651835411787033\n"
          ]
        },
        {
          "output_type": "stream",
          "name": "stderr",
          "text": [
            "\r 67%|██████▋   | 67/100 [03:21<01:38,  2.99s/it]"
          ]
        },
        {
          "output_type": "stream",
          "name": "stdout",
          "text": [
            "Model checkpoint is already existed. Will be overwritten\n",
            "Epoch 67 : loss enhanced with -0.26523407399654386\n"
          ]
        },
        {
          "output_type": "stream",
          "name": "stderr",
          "text": [
            " 71%|███████   | 71/100 [03:33<01:30,  3.14s/it]"
          ]
        },
        {
          "output_type": "stream",
          "name": "stdout",
          "text": [
            "Model checkpoint is already existed. Will be overwritten\n",
            "Epoch 71 : loss enhanced with -0.2653369277715683\n",
            "Epoch: [71/100] | Training loss: 0.080 | Validiation loss: -0.265 | Time per epoch: 3.14 seconds\n"
          ]
        },
        {
          "output_type": "stream",
          "name": "stderr",
          "text": [
            "\r 72%|███████▏  | 72/100 [03:36<01:24,  3.02s/it]"
          ]
        },
        {
          "output_type": "stream",
          "name": "stdout",
          "text": [
            "Model checkpoint is already existed. Will be overwritten\n",
            "Epoch 72 : loss enhanced with -0.26542033851146696\n"
          ]
        },
        {
          "output_type": "stream",
          "name": "stderr",
          "text": [
            " 74%|███████▍  | 74/100 [03:41<01:14,  2.88s/it]"
          ]
        },
        {
          "output_type": "stream",
          "name": "stdout",
          "text": [
            "Model checkpoint is already existed. Will be overwritten\n",
            "Epoch 74 : loss enhanced with -0.2655882775783539\n"
          ]
        },
        {
          "output_type": "stream",
          "name": "stderr",
          "text": [
            " 78%|███████▊  | 78/100 [03:54<01:05,  2.97s/it]"
          ]
        },
        {
          "output_type": "stream",
          "name": "stdout",
          "text": [
            "Model checkpoint is already existed. Will be overwritten\n",
            "Epoch 78 : loss enhanced with -0.26564799845218656\n"
          ]
        },
        {
          "output_type": "stream",
          "name": "stderr",
          "text": [
            " 81%|████████  | 81/100 [04:03<01:00,  3.18s/it]"
          ]
        },
        {
          "output_type": "stream",
          "name": "stdout",
          "text": [
            "Epoch: [81/100] | Training loss: 0.082 | Validiation loss: -0.266 | Time per epoch: 3.43 seconds\n"
          ]
        },
        {
          "output_type": "stream",
          "name": "stderr",
          "text": [
            "\r 82%|████████▏ | 82/100 [04:06<00:54,  3.04s/it]"
          ]
        },
        {
          "output_type": "stream",
          "name": "stdout",
          "text": [
            "Model checkpoint is already existed. Will be overwritten\n",
            "Epoch 82 : loss enhanced with -0.2656697750091553\n"
          ]
        },
        {
          "output_type": "stream",
          "name": "stderr",
          "text": [
            "\r 83%|████████▎ | 83/100 [04:09<00:50,  2.94s/it]"
          ]
        },
        {
          "output_type": "stream",
          "name": "stdout",
          "text": [
            "Model checkpoint is already existed. Will be overwritten\n",
            "Epoch 83 : loss enhanced with -0.26572280526161196\n"
          ]
        },
        {
          "output_type": "stream",
          "name": "stderr",
          "text": [
            " 87%|████████▋ | 87/100 [04:21<00:40,  3.08s/it]"
          ]
        },
        {
          "output_type": "stream",
          "name": "stdout",
          "text": [
            "Model checkpoint is already existed. Will be overwritten\n",
            "Epoch 87 : loss enhanced with -0.26575489044189454\n"
          ]
        },
        {
          "output_type": "stream",
          "name": "stderr",
          "text": [
            "\r 88%|████████▊ | 88/100 [04:24<00:35,  2.96s/it]"
          ]
        },
        {
          "output_type": "stream",
          "name": "stdout",
          "text": [
            "Model checkpoint is already existed. Will be overwritten\n",
            "Epoch 88 : loss enhanced with -0.2658033937215805\n"
          ]
        },
        {
          "output_type": "stream",
          "name": "stderr",
          "text": [
            " 91%|█████████ | 91/100 [04:34<00:29,  3.26s/it]"
          ]
        },
        {
          "output_type": "stream",
          "name": "stdout",
          "text": [
            "Epoch: [91/100] | Training loss: 0.081 | Validiation loss: -0.266 | Time per epoch: 3.83 seconds\n"
          ]
        },
        {
          "output_type": "stream",
          "name": "stderr",
          "text": [
            "100%|██████████| 100/100 [05:00<00:00,  3.00s/it]\n"
          ]
        },
        {
          "output_type": "stream",
          "name": "stdout",
          "text": [
            "Total training times: 5.00 minutes\n",
            "Starting training model: tcn\n",
            "--------------------------------------------------\n"
          ]
        },
        {
          "output_type": "stream",
          "name": "stderr",
          "text": [
            "\r  0%|          | 0/100 [00:00<?, ?it/s]"
          ]
        },
        {
          "output_type": "stream",
          "name": "stdout",
          "text": [
            "Model checkpoint is already existed. Will be overwritten\n"
          ]
        },
        {
          "output_type": "stream",
          "name": "stderr",
          "text": [
            "\r  1%|          | 1/100 [00:13<22:03, 13.37s/it]"
          ]
        },
        {
          "output_type": "stream",
          "name": "stdout",
          "text": [
            "Epoch 1 : loss enhanced with -0.1258205369114876\n",
            "Epoch: [1/100] | Training loss: 0.188 | Validiation loss: -0.126 | Time per epoch: 13.37 seconds\n"
          ]
        },
        {
          "output_type": "stream",
          "name": "stderr",
          "text": [
            "\r  2%|▏         | 2/100 [00:23<18:15, 11.18s/it]"
          ]
        },
        {
          "output_type": "stream",
          "name": "stdout",
          "text": [
            "Model checkpoint is already existed. Will be overwritten\n",
            "Epoch 2 : loss enhanced with -0.15494908429682255\n"
          ]
        },
        {
          "output_type": "stream",
          "name": "stderr",
          "text": [
            "\r  3%|▎         | 3/100 [00:32<16:33, 10.24s/it]"
          ]
        },
        {
          "output_type": "stream",
          "name": "stdout",
          "text": [
            "Model checkpoint is already existed. Will be overwritten\n",
            "Epoch 3 : loss enhanced with -0.1856536112725735\n"
          ]
        },
        {
          "output_type": "stream",
          "name": "stderr",
          "text": [
            "\r  4%|▍         | 4/100 [00:41<15:39,  9.79s/it]"
          ]
        },
        {
          "output_type": "stream",
          "name": "stdout",
          "text": [
            "Model checkpoint is already existed. Will be overwritten\n",
            "Epoch 4 : loss enhanced with -0.20623763501644135\n"
          ]
        },
        {
          "output_type": "stream",
          "name": "stderr",
          "text": [
            "\r  5%|▌         | 5/100 [00:50<15:20,  9.69s/it]"
          ]
        },
        {
          "output_type": "stream",
          "name": "stdout",
          "text": [
            "Model checkpoint is already existed. Will be overwritten\n",
            "Epoch 5 : loss enhanced with -0.21718282997608185\n"
          ]
        },
        {
          "output_type": "stream",
          "name": "stderr",
          "text": [
            "\r  6%|▌         | 6/100 [00:59<14:32,  9.28s/it]"
          ]
        },
        {
          "output_type": "stream",
          "name": "stdout",
          "text": [
            "Model checkpoint is already existed. Will be overwritten\n",
            "Epoch 6 : loss enhanced with -0.23080733269453052\n"
          ]
        },
        {
          "output_type": "stream",
          "name": "stderr",
          "text": [
            "\r  7%|▋         | 7/100 [01:09<14:39,  9.46s/it]"
          ]
        },
        {
          "output_type": "stream",
          "name": "stdout",
          "text": [
            "Model checkpoint is already existed. Will be overwritten\n",
            "Epoch 7 : loss enhanced with -0.24006357789039612\n"
          ]
        },
        {
          "output_type": "stream",
          "name": "stderr",
          "text": [
            "\r  8%|▊         | 8/100 [01:18<14:15,  9.30s/it]"
          ]
        },
        {
          "output_type": "stream",
          "name": "stdout",
          "text": [
            "Model checkpoint is already existed. Will be overwritten\n",
            "Epoch 8 : loss enhanced with -0.2430243596434593\n"
          ]
        },
        {
          "output_type": "stream",
          "name": "stderr",
          "text": [
            "\r  9%|▉         | 9/100 [01:27<14:24,  9.50s/it]"
          ]
        },
        {
          "output_type": "stream",
          "name": "stdout",
          "text": [
            "Model checkpoint is already existed. Will be overwritten\n",
            "Epoch 9 : loss enhanced with -0.24503813087940216\n"
          ]
        },
        {
          "output_type": "stream",
          "name": "stderr",
          "text": [
            "\r 10%|█         | 10/100 [01:37<14:25,  9.61s/it]"
          ]
        },
        {
          "output_type": "stream",
          "name": "stdout",
          "text": [
            "Model checkpoint is already existed. Will be overwritten\n",
            "Epoch 10 : loss enhanced with -0.24549503922462465\n"
          ]
        },
        {
          "output_type": "stream",
          "name": "stderr",
          "text": [
            "\r 11%|█         | 11/100 [01:46<13:54,  9.37s/it]"
          ]
        },
        {
          "output_type": "stream",
          "name": "stdout",
          "text": [
            "Model checkpoint is already existed. Will be overwritten\n",
            "Epoch 11 : loss enhanced with -0.24814684689044952\n",
            "Epoch: [11/100] | Training loss: 0.078 | Validiation loss: -0.248 | Time per epoch: 8.82 seconds\n"
          ]
        },
        {
          "output_type": "stream",
          "name": "stderr",
          "text": [
            " 13%|█▎        | 13/100 [02:05<13:37,  9.40s/it]"
          ]
        },
        {
          "output_type": "stream",
          "name": "stdout",
          "text": [
            "Model checkpoint is already existed. Will be overwritten\n",
            "Epoch 13 : loss enhanced with -0.25045102536678315\n"
          ]
        },
        {
          "output_type": "stream",
          "name": "stderr",
          "text": [
            " 15%|█▌        | 15/100 [02:25<13:37,  9.61s/it]"
          ]
        },
        {
          "output_type": "stream",
          "name": "stdout",
          "text": [
            "Model checkpoint is already existed. Will be overwritten\n",
            "Epoch 15 : loss enhanced with -0.25074889659881594\n"
          ]
        },
        {
          "output_type": "stream",
          "name": "stderr",
          "text": [
            "\r 16%|█▌        | 16/100 [02:33<13:02,  9.31s/it]"
          ]
        },
        {
          "output_type": "stream",
          "name": "stdout",
          "text": [
            "Model checkpoint is already existed. Will be overwritten\n",
            "Epoch 16 : loss enhanced with -0.25148239731788635\n"
          ]
        },
        {
          "output_type": "stream",
          "name": "stderr",
          "text": [
            "\r 17%|█▋        | 17/100 [02:43<13:12,  9.54s/it]"
          ]
        },
        {
          "output_type": "stream",
          "name": "stdout",
          "text": [
            "Model checkpoint is already existed. Will be overwritten\n",
            "Epoch 17 : loss enhanced with -0.2524851679801941\n"
          ]
        },
        {
          "output_type": "stream",
          "name": "stderr",
          "text": [
            " 19%|█▉        | 19/100 [03:02<12:42,  9.41s/it]"
          ]
        },
        {
          "output_type": "stream",
          "name": "stdout",
          "text": [
            "Model checkpoint is already existed. Will be overwritten\n",
            "Epoch 19 : loss enhanced with -0.2532018393278122\n"
          ]
        },
        {
          "output_type": "stream",
          "name": "stderr",
          "text": [
            "\r 20%|██        | 20/100 [03:12<12:46,  9.59s/it]"
          ]
        },
        {
          "output_type": "stream",
          "name": "stdout",
          "text": [
            "Model checkpoint is already existed. Will be overwritten\n",
            "Epoch 20 : loss enhanced with -0.25446186661720277\n"
          ]
        },
        {
          "output_type": "stream",
          "name": "stderr",
          "text": [
            "\r 21%|██        | 21/100 [03:21<12:16,  9.32s/it]"
          ]
        },
        {
          "output_type": "stream",
          "name": "stdout",
          "text": [
            "Model checkpoint is already existed. Will be overwritten\n",
            "Epoch 21 : loss enhanced with -0.25542605519294737\n",
            "Epoch: [21/100] | Training loss: 0.077 | Validiation loss: -0.255 | Time per epoch: 8.70 seconds\n"
          ]
        },
        {
          "output_type": "stream",
          "name": "stderr",
          "text": [
            "\r 22%|██▏       | 22/100 [03:30<12:20,  9.49s/it]"
          ]
        },
        {
          "output_type": "stream",
          "name": "stdout",
          "text": [
            "Model checkpoint is already existed. Will be overwritten\n",
            "Epoch 22 : loss enhanced with -0.25607850253582\n"
          ]
        },
        {
          "output_type": "stream",
          "name": "stderr",
          "text": [
            "\r 23%|██▎       | 23/100 [03:40<12:07,  9.45s/it]"
          ]
        },
        {
          "output_type": "stream",
          "name": "stdout",
          "text": [
            "Model checkpoint is already existed. Will be overwritten\n",
            "Epoch 23 : loss enhanced with -0.2561323672533035\n"
          ]
        },
        {
          "output_type": "stream",
          "name": "stderr",
          "text": [
            "\r 24%|██▍       | 24/100 [03:49<11:53,  9.39s/it]"
          ]
        },
        {
          "output_type": "stream",
          "name": "stdout",
          "text": [
            "Model checkpoint is already existed. Will be overwritten\n",
            "Epoch 24 : loss enhanced with -0.2561501324176788\n"
          ]
        },
        {
          "output_type": "stream",
          "name": "stderr",
          "text": [
            "\r 25%|██▌       | 25/100 [03:59<11:55,  9.54s/it]"
          ]
        },
        {
          "output_type": "stream",
          "name": "stdout",
          "text": [
            "Model checkpoint is already existed. Will be overwritten\n",
            "Epoch 25 : loss enhanced with -0.2567616432905197\n"
          ]
        },
        {
          "output_type": "stream",
          "name": "stderr",
          "text": [
            "\r 26%|██▌       | 26/100 [04:08<11:28,  9.31s/it]"
          ]
        },
        {
          "output_type": "stream",
          "name": "stdout",
          "text": [
            "Model checkpoint is already existed. Will be overwritten\n",
            "Epoch 26 : loss enhanced with -0.2581640034914017\n"
          ]
        },
        {
          "output_type": "stream",
          "name": "stderr",
          "text": [
            " 28%|██▊       | 28/100 [04:27<11:23,  9.50s/it]"
          ]
        },
        {
          "output_type": "stream",
          "name": "stdout",
          "text": [
            "Model checkpoint is already existed. Will be overwritten\n",
            "Epoch 28 : loss enhanced with -0.2586174964904785\n"
          ]
        },
        {
          "output_type": "stream",
          "name": "stderr",
          "text": [
            "\r 29%|██▉       | 29/100 [04:36<11:08,  9.41s/it]"
          ]
        },
        {
          "output_type": "stream",
          "name": "stdout",
          "text": [
            "Model checkpoint is already existed. Will be overwritten\n",
            "Epoch 29 : loss enhanced with -0.2588075876235962\n"
          ]
        },
        {
          "output_type": "stream",
          "name": "stderr",
          "text": [
            "\r 30%|███       | 30/100 [04:46<11:11,  9.59s/it]"
          ]
        },
        {
          "output_type": "stream",
          "name": "stdout",
          "text": [
            "Model checkpoint is already existed. Will be overwritten\n",
            "Epoch 30 : loss enhanced with -0.26031923294067383\n"
          ]
        },
        {
          "output_type": "stream",
          "name": "stderr",
          "text": [
            "\r 31%|███       | 31/100 [04:55<10:49,  9.41s/it]"
          ]
        },
        {
          "output_type": "stream",
          "name": "stdout",
          "text": [
            "Epoch: [31/100] | Training loss: 0.074 | Validiation loss: -0.259 | Time per epoch: 8.98 seconds\n"
          ]
        },
        {
          "output_type": "stream",
          "name": "stderr",
          "text": [
            "\r 32%|███▏      | 32/100 [05:05<10:46,  9.51s/it]"
          ]
        },
        {
          "output_type": "stream",
          "name": "stdout",
          "text": [
            "Model checkpoint is already existed. Will be overwritten\n",
            "Epoch 32 : loss enhanced with -0.2603736281394958\n"
          ]
        },
        {
          "output_type": "stream",
          "name": "stderr",
          "text": [
            " 34%|███▍      | 34/100 [05:24<10:15,  9.33s/it]"
          ]
        },
        {
          "output_type": "stream",
          "name": "stdout",
          "text": [
            "Model checkpoint is already existed. Will be overwritten\n",
            "Epoch 34 : loss enhanced with -0.26125192046165463\n"
          ]
        },
        {
          "output_type": "stream",
          "name": "stderr",
          "text": [
            "\r 35%|███▌      | 35/100 [05:33<10:15,  9.47s/it]"
          ]
        },
        {
          "output_type": "stream",
          "name": "stdout",
          "text": [
            "Model checkpoint is already existed. Will be overwritten\n",
            "Epoch 35 : loss enhanced with -0.2613347709178924\n"
          ]
        },
        {
          "output_type": "stream",
          "name": "stderr",
          "text": [
            " 38%|███▊      | 38/100 [06:02<09:53,  9.57s/it]"
          ]
        },
        {
          "output_type": "stream",
          "name": "stdout",
          "text": [
            "Model checkpoint is already existed. Will be overwritten\n",
            "Epoch 38 : loss enhanced with -0.2620589375495911\n"
          ]
        },
        {
          "output_type": "stream",
          "name": "stderr",
          "text": [
            "\r 39%|███▉      | 39/100 [06:11<09:29,  9.33s/it]"
          ]
        },
        {
          "output_type": "stream",
          "name": "stdout",
          "text": [
            "Model checkpoint is already existed. Will be overwritten\n",
            "Epoch 39 : loss enhanced with -0.2625910252332687\n"
          ]
        },
        {
          "output_type": "stream",
          "name": "stderr",
          "text": [
            "\r 40%|████      | 40/100 [06:21<09:29,  9.50s/it]"
          ]
        },
        {
          "output_type": "stream",
          "name": "stdout",
          "text": [
            "Model checkpoint is already existed. Will be overwritten\n",
            "Epoch 40 : loss enhanced with -0.2628207325935364\n"
          ]
        },
        {
          "output_type": "stream",
          "name": "stderr",
          "text": [
            "\r 41%|████      | 41/100 [06:30<09:18,  9.46s/it]"
          ]
        },
        {
          "output_type": "stream",
          "name": "stdout",
          "text": [
            "Epoch: [41/100] | Training loss: 0.080 | Validiation loss: -0.263 | Time per epoch: 9.38 seconds\n"
          ]
        },
        {
          "output_type": "stream",
          "name": "stderr",
          "text": [
            " 43%|████▎     | 43/100 [06:49<09:09,  9.64s/it]"
          ]
        },
        {
          "output_type": "stream",
          "name": "stdout",
          "text": [
            "Model checkpoint is already existed. Will be overwritten\n",
            "Epoch 43 : loss enhanced with -0.2639898508787155\n"
          ]
        },
        {
          "output_type": "stream",
          "name": "stderr",
          "text": [
            " 45%|████▌     | 45/100 [07:08<08:44,  9.53s/it]"
          ]
        },
        {
          "output_type": "stream",
          "name": "stdout",
          "text": [
            "Model checkpoint is already existed. Will be overwritten\n",
            "Epoch 45 : loss enhanced with -0.26414271295070646\n"
          ]
        },
        {
          "output_type": "stream",
          "name": "stderr",
          "text": [
            " 47%|████▋     | 47/100 [07:27<08:19,  9.43s/it]"
          ]
        },
        {
          "output_type": "stream",
          "name": "stdout",
          "text": [
            "Model checkpoint is already existed. Will be overwritten\n",
            "Epoch 47 : loss enhanced with -0.2644509196281433\n"
          ]
        },
        {
          "output_type": "stream",
          "name": "stderr",
          "text": [
            " 50%|█████     | 50/100 [07:55<07:55,  9.51s/it]"
          ]
        },
        {
          "output_type": "stream",
          "name": "stdout",
          "text": [
            "Model checkpoint is already existed. Will be overwritten\n",
            "Epoch 50 : loss enhanced with -0.26508360505104067\n"
          ]
        },
        {
          "output_type": "stream",
          "name": "stderr",
          "text": [
            "\r 51%|█████     | 51/100 [08:05<07:45,  9.51s/it]"
          ]
        },
        {
          "output_type": "stream",
          "name": "stdout",
          "text": [
            "Epoch: [51/100] | Training loss: 0.076 | Validiation loss: -0.265 | Time per epoch: 9.51 seconds\n"
          ]
        },
        {
          "output_type": "stream",
          "name": "stderr",
          "text": [
            " 53%|█████▎    | 53/100 [08:24<07:34,  9.66s/it]"
          ]
        },
        {
          "output_type": "stream",
          "name": "stdout",
          "text": [
            "Model checkpoint is already existed. Will be overwritten\n",
            "Epoch 53 : loss enhanced with -0.2654525190591812\n"
          ]
        },
        {
          "output_type": "stream",
          "name": "stderr",
          "text": [
            " 56%|█████▌    | 56/100 [08:53<07:03,  9.61s/it]"
          ]
        },
        {
          "output_type": "stream",
          "name": "stdout",
          "text": [
            "Model checkpoint is already existed. Will be overwritten\n",
            "Epoch 56 : loss enhanced with -0.26562192142009733\n"
          ]
        },
        {
          "output_type": "stream",
          "name": "stderr",
          "text": [
            "\r 57%|█████▋    | 57/100 [09:02<06:44,  9.40s/it]"
          ]
        },
        {
          "output_type": "stream",
          "name": "stdout",
          "text": [
            "Model checkpoint is already existed. Will be overwritten\n",
            "Epoch 57 : loss enhanced with -0.265846973657608\n"
          ]
        },
        {
          "output_type": "stream",
          "name": "stderr",
          "text": [
            " 59%|█████▉    | 59/100 [09:21<06:25,  9.40s/it]"
          ]
        },
        {
          "output_type": "stream",
          "name": "stdout",
          "text": [
            "Model checkpoint is already existed. Will be overwritten\n",
            "Epoch 59 : loss enhanced with -0.26619834005832677\n"
          ]
        },
        {
          "output_type": "stream",
          "name": "stderr",
          "text": [
            " 61%|██████    | 61/100 [09:40<06:14,  9.59s/it]"
          ]
        },
        {
          "output_type": "stream",
          "name": "stdout",
          "text": [
            "Epoch: [61/100] | Training loss: 0.079 | Validiation loss: -0.266 | Time per epoch: 9.73 seconds\n"
          ]
        },
        {
          "output_type": "stream",
          "name": "stderr",
          "text": [
            "\r 62%|██████▏   | 62/100 [09:49<05:56,  9.38s/it]"
          ]
        },
        {
          "output_type": "stream",
          "name": "stdout",
          "text": [
            "Model checkpoint is already existed. Will be overwritten\n",
            "Epoch 62 : loss enhanced with -0.2662586122751236\n"
          ]
        },
        {
          "output_type": "stream",
          "name": "stderr",
          "text": [
            "\r 63%|██████▎   | 63/100 [09:59<05:52,  9.54s/it]"
          ]
        },
        {
          "output_type": "stream",
          "name": "stdout",
          "text": [
            "Model checkpoint is already existed. Will be overwritten\n",
            "Epoch 63 : loss enhanced with -0.26636399924755094\n"
          ]
        },
        {
          "output_type": "stream",
          "name": "stderr",
          "text": [
            " 65%|██████▌   | 65/100 [10:18<05:31,  9.46s/it]"
          ]
        },
        {
          "output_type": "stream",
          "name": "stdout",
          "text": [
            "Model checkpoint is already existed. Will be overwritten\n",
            "Epoch 65 : loss enhanced with -0.26652459502220155\n"
          ]
        },
        {
          "output_type": "stream",
          "name": "stderr",
          "text": [
            "\r 66%|██████▌   | 66/100 [10:28<05:28,  9.67s/it]"
          ]
        },
        {
          "output_type": "stream",
          "name": "stdout",
          "text": [
            "Model checkpoint is already existed. Will be overwritten\n",
            "Epoch 66 : loss enhanced with -0.26656129360198977\n"
          ]
        },
        {
          "output_type": "stream",
          "name": "stderr",
          "text": [
            "\r 67%|██████▋   | 67/100 [10:37<05:10,  9.40s/it]"
          ]
        },
        {
          "output_type": "stream",
          "name": "stdout",
          "text": [
            "Model checkpoint is already existed. Will be overwritten\n",
            "Epoch 67 : loss enhanced with -0.26679540872573854\n"
          ]
        },
        {
          "output_type": "stream",
          "name": "stderr",
          "text": [
            " 70%|███████   | 70/100 [11:05<04:43,  9.43s/it]"
          ]
        },
        {
          "output_type": "stream",
          "name": "stdout",
          "text": [
            "Model checkpoint is already existed. Will be overwritten\n",
            "Epoch 70 : loss enhanced with -0.26682141423225403\n"
          ]
        },
        {
          "output_type": "stream",
          "name": "stderr",
          "text": [
            "\r 71%|███████   | 71/100 [11:15<04:37,  9.58s/it]"
          ]
        },
        {
          "output_type": "stream",
          "name": "stdout",
          "text": [
            "Model checkpoint is already existed. Will be overwritten\n",
            "Epoch 71 : loss enhanced with -0.2668993055820465\n",
            "Epoch: [71/100] | Training loss: 0.075 | Validiation loss: -0.267 | Time per epoch: 9.92 seconds\n"
          ]
        },
        {
          "output_type": "stream",
          "name": "stderr",
          "text": [
            "\r 72%|███████▏  | 72/100 [11:24<04:20,  9.31s/it]"
          ]
        },
        {
          "output_type": "stream",
          "name": "stdout",
          "text": [
            "Model checkpoint is already existed. Will be overwritten\n",
            "Epoch 72 : loss enhanced with -0.26701675057411195\n"
          ]
        },
        {
          "output_type": "stream",
          "name": "stderr",
          "text": [
            " 75%|███████▌  | 75/100 [11:53<03:55,  9.41s/it]"
          ]
        },
        {
          "output_type": "stream",
          "name": "stdout",
          "text": [
            "Model checkpoint is already existed. Will be overwritten\n",
            "Epoch 75 : loss enhanced with -0.2670494496822357\n"
          ]
        },
        {
          "output_type": "stream",
          "name": "stderr",
          "text": [
            " 77%|███████▋  | 77/100 [12:12<03:35,  9.38s/it]"
          ]
        },
        {
          "output_type": "stream",
          "name": "stdout",
          "text": [
            "Model checkpoint is already existed. Will be overwritten\n",
            "Epoch 77 : loss enhanced with -0.2672993361949921\n"
          ]
        },
        {
          "output_type": "stream",
          "name": "stderr",
          "text": [
            "\r 78%|███████▊  | 78/100 [12:22<03:31,  9.61s/it]"
          ]
        },
        {
          "output_type": "stream",
          "name": "stdout",
          "text": [
            "Model checkpoint is already existed. Will be overwritten\n",
            "Epoch 78 : loss enhanced with -0.26733043789863586\n"
          ]
        },
        {
          "output_type": "stream",
          "name": "stderr",
          "text": [
            " 81%|████████  | 81/100 [12:50<03:01,  9.56s/it]"
          ]
        },
        {
          "output_type": "stream",
          "name": "stdout",
          "text": [
            "Epoch: [81/100] | Training loss: 0.080 | Validiation loss: -0.267 | Time per epoch: 9.87 seconds\n"
          ]
        },
        {
          "output_type": "stream",
          "name": "stderr",
          "text": [
            " 84%|████████▍ | 84/100 [13:19<02:33,  9.57s/it]"
          ]
        },
        {
          "output_type": "stream",
          "name": "stdout",
          "text": [
            "Model checkpoint is already existed. Will be overwritten\n",
            "Epoch 84 : loss enhanced with -0.2674125522375107\n"
          ]
        },
        {
          "output_type": "stream",
          "name": "stderr",
          "text": [
            " 91%|█████████ | 91/100 [14:25<01:25,  9.51s/it]"
          ]
        },
        {
          "output_type": "stream",
          "name": "stdout",
          "text": [
            "Epoch: [91/100] | Training loss: 0.076 | Validiation loss: -0.267 | Time per epoch: 9.94 seconds\n"
          ]
        },
        {
          "output_type": "stream",
          "name": "stderr",
          "text": [
            "100%|██████████| 100/100 [15:49<00:00,  9.50s/it]\n"
          ]
        },
        {
          "output_type": "stream",
          "name": "stdout",
          "text": [
            "Total training times: 15.83 minutes\n",
            "Starting training model: transformer\n",
            "--------------------------------------------------\n"
          ]
        },
        {
          "output_type": "stream",
          "name": "stderr",
          "text": [
            "\r  0%|          | 0/100 [00:00<?, ?it/s]"
          ]
        },
        {
          "output_type": "stream",
          "name": "stdout",
          "text": [
            "Model checkpoint is already existed. Will be overwritten\n"
          ]
        },
        {
          "output_type": "stream",
          "name": "stderr",
          "text": [
            "\r  1%|          | 1/100 [00:05<08:56,  5.42s/it]"
          ]
        },
        {
          "output_type": "stream",
          "name": "stdout",
          "text": [
            "Epoch 1 : loss enhanced with -0.2384001225233078\n",
            "Epoch: [1/100] | Training loss: 0.185 | Validiation loss: -0.238 | Time per epoch: 5.42 seconds\n"
          ]
        },
        {
          "output_type": "stream",
          "name": "stderr",
          "text": [
            "\r  2%|▏         | 2/100 [00:09<07:14,  4.43s/it]"
          ]
        },
        {
          "output_type": "stream",
          "name": "stdout",
          "text": [
            "Model checkpoint is already existed. Will be overwritten\n",
            "Epoch 2 : loss enhanced with -0.2501268297433853\n"
          ]
        },
        {
          "output_type": "stream",
          "name": "stderr",
          "text": [
            "\r  3%|▎         | 3/100 [00:12<06:38,  4.11s/it]"
          ]
        },
        {
          "output_type": "stream",
          "name": "stdout",
          "text": [
            "Model checkpoint is already existed. Will be overwritten\n",
            "Epoch 3 : loss enhanced with -0.2649095728993416\n"
          ]
        },
        {
          "output_type": "stream",
          "name": "stderr",
          "text": [
            "\r  4%|▍         | 4/100 [00:16<06:33,  4.10s/it]"
          ]
        },
        {
          "output_type": "stream",
          "name": "stdout",
          "text": [
            "Model checkpoint is already existed. Will be overwritten\n",
            "Epoch 4 : loss enhanced with -0.2738626569509506\n"
          ]
        },
        {
          "output_type": "stream",
          "name": "stderr",
          "text": [
            "\r  5%|▌         | 5/100 [00:22<07:05,  4.48s/it]"
          ]
        },
        {
          "output_type": "stream",
          "name": "stdout",
          "text": [
            "Model checkpoint is already existed. Will be overwritten\n",
            "Epoch 5 : loss enhanced with -0.2761763274669647\n"
          ]
        },
        {
          "output_type": "stream",
          "name": "stderr",
          "text": [
            "\r  6%|▌         | 6/100 [00:25<06:38,  4.24s/it]"
          ]
        },
        {
          "output_type": "stream",
          "name": "stdout",
          "text": [
            "Model checkpoint is already existed. Will be overwritten\n",
            "Epoch 6 : loss enhanced with -0.27686057090759275\n"
          ]
        },
        {
          "output_type": "stream",
          "name": "stderr",
          "text": [
            "\r  7%|▋         | 7/100 [00:29<06:21,  4.10s/it]"
          ]
        },
        {
          "output_type": "stream",
          "name": "stdout",
          "text": [
            "Model checkpoint is already existed. Will be overwritten\n",
            "Epoch 7 : loss enhanced with -0.27869676649570463\n"
          ]
        },
        {
          "output_type": "stream",
          "name": "stderr",
          "text": [
            "\r  8%|▊         | 8/100 [00:34<06:37,  4.32s/it]"
          ]
        },
        {
          "output_type": "stream",
          "name": "stdout",
          "text": [
            "Model checkpoint is already existed. Will be overwritten\n",
            "Epoch 8 : loss enhanced with -0.2792722105979919\n"
          ]
        },
        {
          "output_type": "stream",
          "name": "stderr",
          "text": [
            "\r  9%|▉         | 9/100 [00:39<06:42,  4.42s/it]"
          ]
        },
        {
          "output_type": "stream",
          "name": "stdout",
          "text": [
            "Model checkpoint is already existed. Will be overwritten\n",
            "Epoch 9 : loss enhanced with -0.2800853908061981\n"
          ]
        },
        {
          "output_type": "stream",
          "name": "stderr",
          "text": [
            "\r 10%|█         | 10/100 [00:42<06:21,  4.24s/it]"
          ]
        },
        {
          "output_type": "stream",
          "name": "stdout",
          "text": [
            "Model checkpoint is already existed. Will be overwritten\n",
            "Epoch 10 : loss enhanced with -0.2809572011232376\n"
          ]
        },
        {
          "output_type": "stream",
          "name": "stderr",
          "text": [
            "\r 11%|█         | 11/100 [00:46<06:04,  4.10s/it]"
          ]
        },
        {
          "output_type": "stream",
          "name": "stdout",
          "text": [
            "Model checkpoint is already existed. Will be overwritten\n",
            "Epoch 11 : loss enhanced with -0.2821673691272736\n",
            "Epoch: [11/100] | Training loss: 0.082 | Validiation loss: -0.282 | Time per epoch: 3.77 seconds\n"
          ]
        },
        {
          "output_type": "stream",
          "name": "stderr",
          "text": [
            "\r 12%|█▏        | 12/100 [00:52<06:32,  4.46s/it]"
          ]
        },
        {
          "output_type": "stream",
          "name": "stdout",
          "text": [
            "Model checkpoint is already existed. Will be overwritten\n",
            "Epoch 12 : loss enhanced with -0.28262598514556886\n"
          ]
        },
        {
          "output_type": "stream",
          "name": "stderr",
          "text": [
            "\r 13%|█▎        | 13/100 [00:56<06:19,  4.36s/it]"
          ]
        },
        {
          "output_type": "stream",
          "name": "stdout",
          "text": [
            "Model checkpoint is already existed. Will be overwritten\n",
            "Epoch 13 : loss enhanced with -0.2835700303316116\n"
          ]
        },
        {
          "output_type": "stream",
          "name": "stderr",
          "text": [
            "\r 14%|█▍        | 14/100 [01:00<06:04,  4.23s/it]"
          ]
        },
        {
          "output_type": "stream",
          "name": "stdout",
          "text": [
            "Model checkpoint is already existed. Will be overwritten\n",
            "Epoch 14 : loss enhanced with -0.28376999497413635\n"
          ]
        },
        {
          "output_type": "stream",
          "name": "stderr",
          "text": [
            "\r 15%|█▌        | 15/100 [01:04<06:01,  4.26s/it]"
          ]
        },
        {
          "output_type": "stream",
          "name": "stdout",
          "text": [
            "Model checkpoint is already existed. Will be overwritten\n",
            "Epoch 15 : loss enhanced with -0.28460927009582515\n"
          ]
        },
        {
          "output_type": "stream",
          "name": "stderr",
          "text": [
            "\r 16%|█▌        | 16/100 [01:09<06:15,  4.47s/it]"
          ]
        },
        {
          "output_type": "stream",
          "name": "stdout",
          "text": [
            "Model checkpoint is already existed. Will be overwritten\n",
            "Epoch 16 : loss enhanced with -0.2852289915084839\n"
          ]
        },
        {
          "output_type": "stream",
          "name": "stderr",
          "text": [
            "\r 17%|█▋        | 17/100 [01:13<05:56,  4.30s/it]"
          ]
        },
        {
          "output_type": "stream",
          "name": "stdout",
          "text": [
            "Model checkpoint is already existed. Will be overwritten\n",
            "Epoch 17 : loss enhanced with -0.28594246506690985\n"
          ]
        },
        {
          "output_type": "stream",
          "name": "stderr",
          "text": [
            "\r 18%|█▊        | 18/100 [01:17<05:38,  4.13s/it]"
          ]
        },
        {
          "output_type": "stream",
          "name": "stdout",
          "text": [
            "Model checkpoint is already existed. Will be overwritten\n",
            "Epoch 18 : loss enhanced with -0.28673509061336516\n"
          ]
        },
        {
          "output_type": "stream",
          "name": "stderr",
          "text": [
            "\r 19%|█▉        | 19/100 [01:21<05:49,  4.31s/it]"
          ]
        },
        {
          "output_type": "stream",
          "name": "stdout",
          "text": [
            "Model checkpoint is already existed. Will be overwritten\n",
            "Epoch 19 : loss enhanced with -0.28686089217662813\n"
          ]
        },
        {
          "output_type": "stream",
          "name": "stderr",
          "text": [
            "\r 20%|██        | 20/100 [01:26<05:52,  4.40s/it]"
          ]
        },
        {
          "output_type": "stream",
          "name": "stdout",
          "text": [
            "Model checkpoint is already existed. Will be overwritten\n",
            "Epoch 20 : loss enhanced with -0.28735207617282865\n"
          ]
        },
        {
          "output_type": "stream",
          "name": "stderr",
          "text": [
            "\r 21%|██        | 21/100 [01:30<05:37,  4.27s/it]"
          ]
        },
        {
          "output_type": "stream",
          "name": "stdout",
          "text": [
            "Model checkpoint is already existed. Will be overwritten\n",
            "Epoch 21 : loss enhanced with -0.287582728266716\n",
            "Epoch: [21/100] | Training loss: 0.081 | Validiation loss: -0.288 | Time per epoch: 3.97 seconds\n"
          ]
        },
        {
          "output_type": "stream",
          "name": "stderr",
          "text": [
            " 23%|██▎       | 23/100 [01:39<05:50,  4.55s/it]"
          ]
        },
        {
          "output_type": "stream",
          "name": "stdout",
          "text": [
            "Model checkpoint is already existed. Will be overwritten\n",
            "Epoch 23 : loss enhanced with -0.28791476786136627\n"
          ]
        },
        {
          "output_type": "stream",
          "name": "stderr",
          "text": [
            "\r 24%|██▍       | 24/100 [01:43<05:33,  4.38s/it]"
          ]
        },
        {
          "output_type": "stream",
          "name": "stdout",
          "text": [
            "Model checkpoint is already existed. Will be overwritten\n",
            "Epoch 24 : loss enhanced with -0.28841414451599123\n"
          ]
        },
        {
          "output_type": "stream",
          "name": "stderr",
          "text": [
            "\r 25%|██▌       | 25/100 [01:47<05:17,  4.24s/it]"
          ]
        },
        {
          "output_type": "stream",
          "name": "stdout",
          "text": [
            "Model checkpoint is already existed. Will be overwritten\n",
            "Epoch 25 : loss enhanced with -0.2884468287229538\n"
          ]
        },
        {
          "output_type": "stream",
          "name": "stderr",
          "text": [
            "\r 26%|██▌       | 26/100 [01:52<05:20,  4.33s/it]"
          ]
        },
        {
          "output_type": "stream",
          "name": "stdout",
          "text": [
            "Model checkpoint is already existed. Will be overwritten\n",
            "Epoch 26 : loss enhanced with -0.2886987119913101\n"
          ]
        },
        {
          "output_type": "stream",
          "name": "stderr",
          "text": [
            "\r 27%|██▋       | 27/100 [01:56<05:26,  4.48s/it]"
          ]
        },
        {
          "output_type": "stream",
          "name": "stdout",
          "text": [
            "Model checkpoint is already existed. Will be overwritten\n",
            "Epoch 27 : loss enhanced with -0.28902291357517246\n"
          ]
        },
        {
          "output_type": "stream",
          "name": "stderr",
          "text": [
            " 29%|██▉       | 29/100 [02:04<04:58,  4.20s/it]"
          ]
        },
        {
          "output_type": "stream",
          "name": "stdout",
          "text": [
            "Model checkpoint is already existed. Will be overwritten\n",
            "Epoch 29 : loss enhanced with -0.2893469870090485\n"
          ]
        },
        {
          "output_type": "stream",
          "name": "stderr",
          "text": [
            "\r 30%|███       | 30/100 [02:10<05:16,  4.52s/it]"
          ]
        },
        {
          "output_type": "stream",
          "name": "stdout",
          "text": [
            "Model checkpoint is already existed. Will be overwritten\n",
            "Epoch 30 : loss enhanced with -0.28954517245292666\n"
          ]
        },
        {
          "output_type": "stream",
          "name": "stderr",
          "text": [
            "\r 31%|███       | 31/100 [02:14<05:09,  4.49s/it]"
          ]
        },
        {
          "output_type": "stream",
          "name": "stdout",
          "text": [
            "Model checkpoint is already existed. Will be overwritten\n",
            "Epoch 31 : loss enhanced with -0.2898890018463135\n",
            "Epoch: [31/100] | Training loss: 0.078 | Validiation loss: -0.290 | Time per epoch: 4.42 seconds\n"
          ]
        },
        {
          "output_type": "stream",
          "name": "stderr",
          "text": [
            " 33%|███▎      | 33/100 [02:22<04:46,  4.28s/it]"
          ]
        },
        {
          "output_type": "stream",
          "name": "stdout",
          "text": [
            "Model checkpoint is already existed. Will be overwritten\n",
            "Epoch 33 : loss enhanced with -0.29035045206546783\n"
          ]
        },
        {
          "output_type": "stream",
          "name": "stderr",
          "text": [
            " 35%|███▌      | 35/100 [02:31<04:45,  4.40s/it]"
          ]
        },
        {
          "output_type": "stream",
          "name": "stdout",
          "text": [
            "Model checkpoint is already existed. Will be overwritten\n",
            "Epoch 35 : loss enhanced with -0.29046864807605743\n"
          ]
        },
        {
          "output_type": "stream",
          "name": "stderr",
          "text": [
            " 37%|███▋      | 37/100 [02:40<04:38,  4.43s/it]"
          ]
        },
        {
          "output_type": "stream",
          "name": "stdout",
          "text": [
            "Model checkpoint is already existed. Will be overwritten\n",
            "Epoch 37 : loss enhanced with -0.29054713249206543\n"
          ]
        },
        {
          "output_type": "stream",
          "name": "stderr",
          "text": [
            "\r 38%|███▊      | 38/100 [02:45<04:35,  4.45s/it]"
          ]
        },
        {
          "output_type": "stream",
          "name": "stdout",
          "text": [
            "Model checkpoint is already existed. Will be overwritten\n",
            "Epoch 38 : loss enhanced with -0.29084090888500214\n"
          ]
        },
        {
          "output_type": "stream",
          "name": "stderr",
          "text": [
            " 40%|████      | 40/100 [02:52<04:08,  4.15s/it]"
          ]
        },
        {
          "output_type": "stream",
          "name": "stdout",
          "text": [
            "Model checkpoint is already existed. Will be overwritten\n",
            "Epoch 40 : loss enhanced with -0.29099826514720917\n"
          ]
        },
        {
          "output_type": "stream",
          "name": "stderr",
          "text": [
            "\r 41%|████      | 41/100 [02:58<04:24,  4.48s/it]"
          ]
        },
        {
          "output_type": "stream",
          "name": "stdout",
          "text": [
            "Model checkpoint is already existed. Will be overwritten\n",
            "Epoch 41 : loss enhanced with -0.29133751988410944\n",
            "Epoch: [41/100] | Training loss: 0.077 | Validiation loss: -0.291 | Time per epoch: 5.25 seconds\n"
          ]
        },
        {
          "output_type": "stream",
          "name": "stderr",
          "text": [
            "\r 42%|████▏     | 42/100 [03:02<04:10,  4.32s/it]"
          ]
        },
        {
          "output_type": "stream",
          "name": "stdout",
          "text": [
            "Model checkpoint is already existed. Will be overwritten\n",
            "Epoch 42 : loss enhanced with -0.29142391085624697\n"
          ]
        },
        {
          "output_type": "stream",
          "name": "stderr",
          "text": [
            "\r 43%|████▎     | 43/100 [03:05<03:58,  4.18s/it]"
          ]
        },
        {
          "output_type": "stream",
          "name": "stdout",
          "text": [
            "Model checkpoint is already existed. Will be overwritten\n",
            "Epoch 43 : loss enhanced with -0.2914314389228821\n"
          ]
        },
        {
          "output_type": "stream",
          "name": "stderr",
          "text": [
            "\r 44%|████▍     | 44/100 [03:10<04:00,  4.29s/it]"
          ]
        },
        {
          "output_type": "stream",
          "name": "stdout",
          "text": [
            "Model checkpoint is already existed. Will be overwritten\n",
            "Epoch 44 : loss enhanced with -0.2917341232299805\n"
          ]
        },
        {
          "output_type": "stream",
          "name": "stderr",
          "text": [
            "\r 45%|████▌     | 45/100 [03:15<04:04,  4.45s/it]"
          ]
        },
        {
          "output_type": "stream",
          "name": "stdout",
          "text": [
            "Model checkpoint is already existed. Will be overwritten\n",
            "Epoch 45 : loss enhanced with -0.2917816460132599\n"
          ]
        },
        {
          "output_type": "stream",
          "name": "stderr",
          "text": [
            " 47%|████▋     | 47/100 [03:22<03:38,  4.13s/it]"
          ]
        },
        {
          "output_type": "stream",
          "name": "stdout",
          "text": [
            "Model checkpoint is already existed. Will be overwritten\n",
            "Epoch 47 : loss enhanced with -0.29195610880851747\n"
          ]
        },
        {
          "output_type": "stream",
          "name": "stderr",
          "text": [
            " 49%|████▉     | 49/100 [03:32<03:42,  4.36s/it]"
          ]
        },
        {
          "output_type": "stream",
          "name": "stdout",
          "text": [
            "Model checkpoint is already existed. Will be overwritten\n",
            "Epoch 49 : loss enhanced with -0.29208514988422396\n"
          ]
        },
        {
          "output_type": "stream",
          "name": "stderr",
          "text": [
            "\r 50%|█████     | 50/100 [03:36<03:32,  4.24s/it]"
          ]
        },
        {
          "output_type": "stream",
          "name": "stdout",
          "text": [
            "Model checkpoint is already existed. Will be overwritten\n",
            "Epoch 50 : loss enhanced with -0.2922499299049377\n"
          ]
        },
        {
          "output_type": "stream",
          "name": "stderr",
          "text": [
            "\r 51%|█████     | 51/100 [03:40<03:26,  4.21s/it]"
          ]
        },
        {
          "output_type": "stream",
          "name": "stdout",
          "text": [
            "Epoch: [51/100] | Training loss: 0.075 | Validiation loss: -0.292 | Time per epoch: 4.12 seconds\n"
          ]
        },
        {
          "output_type": "stream",
          "name": "stderr",
          "text": [
            "\r 52%|█████▏    | 52/100 [03:45<03:36,  4.51s/it]"
          ]
        },
        {
          "output_type": "stream",
          "name": "stdout",
          "text": [
            "Model checkpoint is already existed. Will be overwritten\n",
            "Epoch 52 : loss enhanced with -0.29226604104042053\n"
          ]
        },
        {
          "output_type": "stream",
          "name": "stderr",
          "text": [
            " 54%|█████▍    | 54/100 [03:53<03:12,  4.18s/it]"
          ]
        },
        {
          "output_type": "stream",
          "name": "stdout",
          "text": [
            "Model checkpoint is already existed. Will be overwritten\n",
            "Epoch 54 : loss enhanced with -0.2922907829284668\n"
          ]
        },
        {
          "output_type": "stream",
          "name": "stderr",
          "text": [
            "\r 55%|█████▌    | 55/100 [03:57<03:13,  4.30s/it]"
          ]
        },
        {
          "output_type": "stream",
          "name": "stdout",
          "text": [
            "Model checkpoint is already existed. Will be overwritten\n",
            "Epoch 55 : loss enhanced with -0.29237247705459596\n"
          ]
        },
        {
          "output_type": "stream",
          "name": "stderr",
          "text": [
            "\r 56%|█████▌    | 56/100 [04:02<03:17,  4.49s/it]"
          ]
        },
        {
          "output_type": "stream",
          "name": "stdout",
          "text": [
            "Model checkpoint is already existed. Will be overwritten\n",
            "Epoch 56 : loss enhanced with -0.2924102544784546\n"
          ]
        },
        {
          "output_type": "stream",
          "name": "stderr",
          "text": [
            "\r 57%|█████▋    | 57/100 [04:06<03:06,  4.34s/it]"
          ]
        },
        {
          "output_type": "stream",
          "name": "stdout",
          "text": [
            "Model checkpoint is already existed. Will be overwritten\n",
            "Epoch 57 : loss enhanced with -0.2924518406391144\n"
          ]
        },
        {
          "output_type": "stream",
          "name": "stderr",
          "text": [
            "\r 58%|█████▊    | 58/100 [04:10<02:56,  4.20s/it]"
          ]
        },
        {
          "output_type": "stream",
          "name": "stdout",
          "text": [
            "Model checkpoint is already existed. Will be overwritten\n",
            "Epoch 58 : loss enhanced with -0.29260050952434535\n"
          ]
        },
        {
          "output_type": "stream",
          "name": "stderr",
          "text": [
            " 61%|██████    | 61/100 [04:24<02:46,  4.28s/it]"
          ]
        },
        {
          "output_type": "stream",
          "name": "stdout",
          "text": [
            "Epoch: [61/100] | Training loss: 0.074 | Validiation loss: -0.293 | Time per epoch: 3.91 seconds\n"
          ]
        },
        {
          "output_type": "stream",
          "name": "stderr",
          "text": [
            "\r 62%|██████▏   | 62/100 [04:28<02:43,  4.30s/it]"
          ]
        },
        {
          "output_type": "stream",
          "name": "stdout",
          "text": [
            "Model checkpoint is already existed. Will be overwritten\n",
            "Epoch 62 : loss enhanced with -0.2926093250513077\n"
          ]
        },
        {
          "output_type": "stream",
          "name": "stderr",
          "text": [
            "\r 63%|██████▎   | 63/100 [04:33<02:47,  4.53s/it]"
          ]
        },
        {
          "output_type": "stream",
          "name": "stdout",
          "text": [
            "Model checkpoint is already existed. Will be overwritten\n",
            "Epoch 63 : loss enhanced with -0.2926904082298279\n"
          ]
        },
        {
          "output_type": "stream",
          "name": "stderr",
          "text": [
            "\r 64%|██████▍   | 64/100 [04:37<02:36,  4.35s/it]"
          ]
        },
        {
          "output_type": "stream",
          "name": "stdout",
          "text": [
            "Model checkpoint is already existed. Will be overwritten\n",
            "Epoch 64 : loss enhanced with -0.2927553832530976\n"
          ]
        },
        {
          "output_type": "stream",
          "name": "stderr",
          "text": [
            "\r 65%|██████▌   | 65/100 [04:41<02:28,  4.25s/it]"
          ]
        },
        {
          "output_type": "stream",
          "name": "stdout",
          "text": [
            "Model checkpoint is already existed. Will be overwritten\n",
            "Epoch 65 : loss enhanced with -0.2927952885627747\n"
          ]
        },
        {
          "output_type": "stream",
          "name": "stderr",
          "text": [
            " 67%|██████▋   | 67/100 [04:50<02:25,  4.41s/it]"
          ]
        },
        {
          "output_type": "stream",
          "name": "stdout",
          "text": [
            "Model checkpoint is already existed. Will be overwritten\n",
            "Epoch 67 : loss enhanced with -0.2928607821464539\n"
          ]
        },
        {
          "output_type": "stream",
          "name": "stderr",
          "text": [
            "\r 68%|██████▊   | 68/100 [04:54<02:16,  4.26s/it]"
          ]
        },
        {
          "output_type": "stream",
          "name": "stdout",
          "text": [
            "Model checkpoint is already existed. Will be overwritten\n",
            "Epoch 68 : loss enhanced with -0.29286459684371946\n"
          ]
        },
        {
          "output_type": "stream",
          "name": "stderr",
          "text": [
            "\r 69%|██████▉   | 69/100 [04:58<02:11,  4.26s/it]"
          ]
        },
        {
          "output_type": "stream",
          "name": "stdout",
          "text": [
            "Model checkpoint is already existed. Will be overwritten\n",
            "Epoch 69 : loss enhanced with -0.29292435944080353\n"
          ]
        },
        {
          "output_type": "stream",
          "name": "stderr",
          "text": [
            " 71%|███████   | 71/100 [05:07<02:05,  4.32s/it]"
          ]
        },
        {
          "output_type": "stream",
          "name": "stdout",
          "text": [
            "Model checkpoint is already existed. Will be overwritten\n",
            "Epoch 71 : loss enhanced with -0.29296556711196897\n",
            "Epoch: [71/100] | Training loss: 0.078 | Validiation loss: -0.293 | Time per epoch: 3.84 seconds\n"
          ]
        },
        {
          "output_type": "stream",
          "name": "stderr",
          "text": [
            "\r 72%|███████▏  | 72/100 [05:11<01:58,  4.24s/it]"
          ]
        },
        {
          "output_type": "stream",
          "name": "stdout",
          "text": [
            "Model checkpoint is already existed. Will be overwritten\n",
            "Epoch 72 : loss enhanced with -0.29301467537879944\n"
          ]
        },
        {
          "output_type": "stream",
          "name": "stderr",
          "text": [
            " 74%|███████▍  | 74/100 [05:21<01:56,  4.47s/it]"
          ]
        },
        {
          "output_type": "stream",
          "name": "stdout",
          "text": [
            "Model checkpoint is already existed. Will be overwritten\n",
            "Epoch 74 : loss enhanced with -0.2930641174316406\n"
          ]
        },
        {
          "output_type": "stream",
          "name": "stderr",
          "text": [
            " 76%|███████▌  | 76/100 [05:29<01:40,  4.20s/it]"
          ]
        },
        {
          "output_type": "stream",
          "name": "stdout",
          "text": [
            "Model checkpoint is already existed. Will be overwritten\n",
            "Epoch 76 : loss enhanced with -0.29306990206241607\n"
          ]
        },
        {
          "output_type": "stream",
          "name": "stderr",
          "text": [
            " 78%|███████▊  | 78/100 [05:38<01:37,  4.43s/it]"
          ]
        },
        {
          "output_type": "stream",
          "name": "stdout",
          "text": [
            "Model checkpoint is already existed. Will be overwritten\n",
            "Epoch 78 : loss enhanced with -0.293104875087738\n"
          ]
        },
        {
          "output_type": "stream",
          "name": "stderr",
          "text": [
            "\r 79%|███████▉  | 79/100 [05:42<01:29,  4.28s/it]"
          ]
        },
        {
          "output_type": "stream",
          "name": "stdout",
          "text": [
            "Model checkpoint is already existed. Will be overwritten\n",
            "Epoch 79 : loss enhanced with -0.29312803149223327\n"
          ]
        },
        {
          "output_type": "stream",
          "name": "stderr",
          "text": [
            "\r 80%|████████  | 80/100 [05:47<01:26,  4.32s/it]"
          ]
        },
        {
          "output_type": "stream",
          "name": "stdout",
          "text": [
            "Model checkpoint is already existed. Will be overwritten\n",
            "Epoch 80 : loss enhanced with -0.2931606948375702\n"
          ]
        },
        {
          "output_type": "stream",
          "name": "stderr",
          "text": [
            "\r 81%|████████  | 81/100 [05:52<01:26,  4.54s/it]"
          ]
        },
        {
          "output_type": "stream",
          "name": "stdout",
          "text": [
            "Model checkpoint is already existed. Will be overwritten\n",
            "Epoch 81 : loss enhanced with -0.2931721270084381\n",
            "Epoch: [81/100] | Training loss: 0.072 | Validiation loss: -0.293 | Time per epoch: 5.05 seconds\n"
          ]
        },
        {
          "output_type": "stream",
          "name": "stderr",
          "text": [
            " 83%|████████▎ | 83/100 [05:59<01:11,  4.20s/it]"
          ]
        },
        {
          "output_type": "stream",
          "name": "stdout",
          "text": [
            "Model checkpoint is already existed. Will be overwritten\n",
            "Epoch 83 : loss enhanced with -0.29318391978740693\n"
          ]
        },
        {
          "output_type": "stream",
          "name": "stderr",
          "text": [
            "\r 84%|████████▍ | 84/100 [06:04<01:11,  4.47s/it]"
          ]
        },
        {
          "output_type": "stream",
          "name": "stdout",
          "text": [
            "Model checkpoint is already existed. Will be overwritten\n",
            "Epoch 84 : loss enhanced with -0.29318618178367617\n"
          ]
        },
        {
          "output_type": "stream",
          "name": "stderr",
          "text": [
            "\r 85%|████████▌ | 85/100 [06:09<01:06,  4.44s/it]"
          ]
        },
        {
          "output_type": "stream",
          "name": "stdout",
          "text": [
            "Model checkpoint is already existed. Will be overwritten\n",
            "Epoch 85 : loss enhanced with -0.29319950342178347\n"
          ]
        },
        {
          "output_type": "stream",
          "name": "stderr",
          "text": [
            " 87%|████████▋ | 87/100 [06:17<00:56,  4.32s/it]"
          ]
        },
        {
          "output_type": "stream",
          "name": "stdout",
          "text": [
            "Model checkpoint is already existed. Will be overwritten\n",
            "Epoch 87 : loss enhanced with -0.2932015359401703\n"
          ]
        },
        {
          "output_type": "stream",
          "name": "stderr",
          "text": [
            " 89%|████████▉ | 89/100 [06:26<00:47,  4.35s/it]"
          ]
        },
        {
          "output_type": "stream",
          "name": "stdout",
          "text": [
            "Model checkpoint is already existed. Will be overwritten\n",
            "Epoch 89 : loss enhanced with -0.29322010576725005\n"
          ]
        },
        {
          "output_type": "stream",
          "name": "stderr",
          "text": [
            " 91%|█████████ | 91/100 [06:35<00:40,  4.47s/it]"
          ]
        },
        {
          "output_type": "stream",
          "name": "stdout",
          "text": [
            "Epoch: [91/100] | Training loss: 0.075 | Validiation loss: -0.293 | Time per epoch: 4.97 seconds\n"
          ]
        },
        {
          "output_type": "stream",
          "name": "stderr",
          "text": [
            "\r 92%|█████████▏| 92/100 [06:40<00:35,  4.46s/it]"
          ]
        },
        {
          "output_type": "stream",
          "name": "stdout",
          "text": [
            "Model checkpoint is already existed. Will be overwritten\n",
            "Epoch 92 : loss enhanced with -0.2932238698005676\n"
          ]
        },
        {
          "output_type": "stream",
          "name": "stderr",
          "text": [
            " 94%|█████████▍| 94/100 [06:48<00:25,  4.21s/it]"
          ]
        },
        {
          "output_type": "stream",
          "name": "stdout",
          "text": [
            "Model checkpoint is already existed. Will be overwritten\n",
            "Epoch 94 : loss enhanced with -0.2932284325361252\n"
          ]
        },
        {
          "output_type": "stream",
          "name": "stderr",
          "text": [
            "\r 95%|█████████▌| 95/100 [06:53<00:22,  4.56s/it]"
          ]
        },
        {
          "output_type": "stream",
          "name": "stdout",
          "text": [
            "Model checkpoint is already existed. Will be overwritten\n",
            "Epoch 95 : loss enhanced with -0.29323022067546844\n"
          ]
        },
        {
          "output_type": "stream",
          "name": "stderr",
          "text": [
            "100%|██████████| 100/100 [07:14<00:00,  4.34s/it]"
          ]
        },
        {
          "output_type": "stream",
          "name": "stdout",
          "text": [
            "Total training times: 7.23 minutes\n"
          ]
        },
        {
          "output_type": "stream",
          "name": "stderr",
          "text": [
            "\n"
          ]
        }
      ]
    },
    {
      "cell_type": "markdown",
      "source": [
        "### **Running Time Plot**"
      ],
      "metadata": {
        "id": "okYfdECEeeWu"
      }
    },
    {
      "cell_type": "code",
      "source": [
        "pd.DataFrame(list(runtime_all.items()), columns = ['Models', 'Time'])"
      ],
      "metadata": {
        "colab": {
          "base_uri": "https://localhost:8080/",
          "height": 174
        },
        "id": "WUMBmaTjgXPj",
        "outputId": "e4b317de-8471-407a-8d5f-db88f943eedf"
      },
      "execution_count": 53,
      "outputs": [
        {
          "output_type": "execute_result",
          "data": {
            "text/plain": [
              "        Models        Time\n",
              "0          gru  284.346405\n",
              "1       gru_aa  300.045705\n",
              "2          tcn  949.602899\n",
              "3  transformer  434.086365"
            ],
            "text/html": [
              "\n",
              "  <div id=\"df-ac01ca33-6588-40d9-a2a3-783a3e4a5e23\" class=\"colab-df-container\">\n",
              "    <div>\n",
              "<style scoped>\n",
              "    .dataframe tbody tr th:only-of-type {\n",
              "        vertical-align: middle;\n",
              "    }\n",
              "\n",
              "    .dataframe tbody tr th {\n",
              "        vertical-align: top;\n",
              "    }\n",
              "\n",
              "    .dataframe thead th {\n",
              "        text-align: right;\n",
              "    }\n",
              "</style>\n",
              "<table border=\"1\" class=\"dataframe\">\n",
              "  <thead>\n",
              "    <tr style=\"text-align: right;\">\n",
              "      <th></th>\n",
              "      <th>Models</th>\n",
              "      <th>Time</th>\n",
              "    </tr>\n",
              "  </thead>\n",
              "  <tbody>\n",
              "    <tr>\n",
              "      <th>0</th>\n",
              "      <td>gru</td>\n",
              "      <td>284.346405</td>\n",
              "    </tr>\n",
              "    <tr>\n",
              "      <th>1</th>\n",
              "      <td>gru_aa</td>\n",
              "      <td>300.045705</td>\n",
              "    </tr>\n",
              "    <tr>\n",
              "      <th>2</th>\n",
              "      <td>tcn</td>\n",
              "      <td>949.602899</td>\n",
              "    </tr>\n",
              "    <tr>\n",
              "      <th>3</th>\n",
              "      <td>transformer</td>\n",
              "      <td>434.086365</td>\n",
              "    </tr>\n",
              "  </tbody>\n",
              "</table>\n",
              "</div>\n",
              "    <div class=\"colab-df-buttons\">\n",
              "\n",
              "  <div class=\"colab-df-container\">\n",
              "    <button class=\"colab-df-convert\" onclick=\"convertToInteractive('df-ac01ca33-6588-40d9-a2a3-783a3e4a5e23')\"\n",
              "            title=\"Convert this dataframe to an interactive table.\"\n",
              "            style=\"display:none;\">\n",
              "\n",
              "  <svg xmlns=\"http://www.w3.org/2000/svg\" height=\"24px\" viewBox=\"0 -960 960 960\">\n",
              "    <path d=\"M120-120v-720h720v720H120Zm60-500h600v-160H180v160Zm220 220h160v-160H400v160Zm0 220h160v-160H400v160ZM180-400h160v-160H180v160Zm440 0h160v-160H620v160ZM180-180h160v-160H180v160Zm440 0h160v-160H620v160Z\"/>\n",
              "  </svg>\n",
              "    </button>\n",
              "\n",
              "  <style>\n",
              "    .colab-df-container {\n",
              "      display:flex;\n",
              "      gap: 12px;\n",
              "    }\n",
              "\n",
              "    .colab-df-convert {\n",
              "      background-color: #E8F0FE;\n",
              "      border: none;\n",
              "      border-radius: 50%;\n",
              "      cursor: pointer;\n",
              "      display: none;\n",
              "      fill: #1967D2;\n",
              "      height: 32px;\n",
              "      padding: 0 0 0 0;\n",
              "      width: 32px;\n",
              "    }\n",
              "\n",
              "    .colab-df-convert:hover {\n",
              "      background-color: #E2EBFA;\n",
              "      box-shadow: 0px 1px 2px rgba(60, 64, 67, 0.3), 0px 1px 3px 1px rgba(60, 64, 67, 0.15);\n",
              "      fill: #174EA6;\n",
              "    }\n",
              "\n",
              "    .colab-df-buttons div {\n",
              "      margin-bottom: 4px;\n",
              "    }\n",
              "\n",
              "    [theme=dark] .colab-df-convert {\n",
              "      background-color: #3B4455;\n",
              "      fill: #D2E3FC;\n",
              "    }\n",
              "\n",
              "    [theme=dark] .colab-df-convert:hover {\n",
              "      background-color: #434B5C;\n",
              "      box-shadow: 0px 1px 3px 1px rgba(0, 0, 0, 0.15);\n",
              "      filter: drop-shadow(0px 1px 2px rgba(0, 0, 0, 0.3));\n",
              "      fill: #FFFFFF;\n",
              "    }\n",
              "  </style>\n",
              "\n",
              "    <script>\n",
              "      const buttonEl =\n",
              "        document.querySelector('#df-ac01ca33-6588-40d9-a2a3-783a3e4a5e23 button.colab-df-convert');\n",
              "      buttonEl.style.display =\n",
              "        google.colab.kernel.accessAllowed ? 'block' : 'none';\n",
              "\n",
              "      async function convertToInteractive(key) {\n",
              "        const element = document.querySelector('#df-ac01ca33-6588-40d9-a2a3-783a3e4a5e23');\n",
              "        const dataTable =\n",
              "          await google.colab.kernel.invokeFunction('convertToInteractive',\n",
              "                                                    [key], {});\n",
              "        if (!dataTable) return;\n",
              "\n",
              "        const docLinkHtml = 'Like what you see? Visit the ' +\n",
              "          '<a target=\"_blank\" href=https://colab.research.google.com/notebooks/data_table.ipynb>data table notebook</a>'\n",
              "          + ' to learn more about interactive tables.';\n",
              "        element.innerHTML = '';\n",
              "        dataTable['output_type'] = 'display_data';\n",
              "        await google.colab.output.renderOutput(dataTable, element);\n",
              "        const docLink = document.createElement('div');\n",
              "        docLink.innerHTML = docLinkHtml;\n",
              "        element.appendChild(docLink);\n",
              "      }\n",
              "    </script>\n",
              "  </div>\n",
              "\n",
              "\n",
              "<div id=\"df-861fe0f8-2d00-4d9a-b23f-ad390e95996c\">\n",
              "  <button class=\"colab-df-quickchart\" onclick=\"quickchart('df-861fe0f8-2d00-4d9a-b23f-ad390e95996c')\"\n",
              "            title=\"Suggest charts\"\n",
              "            style=\"display:none;\">\n",
              "\n",
              "<svg xmlns=\"http://www.w3.org/2000/svg\" height=\"24px\"viewBox=\"0 0 24 24\"\n",
              "     width=\"24px\">\n",
              "    <g>\n",
              "        <path d=\"M19 3H5c-1.1 0-2 .9-2 2v14c0 1.1.9 2 2 2h14c1.1 0 2-.9 2-2V5c0-1.1-.9-2-2-2zM9 17H7v-7h2v7zm4 0h-2V7h2v10zm4 0h-2v-4h2v4z\"/>\n",
              "    </g>\n",
              "</svg>\n",
              "  </button>\n",
              "\n",
              "<style>\n",
              "  .colab-df-quickchart {\n",
              "      --bg-color: #E8F0FE;\n",
              "      --fill-color: #1967D2;\n",
              "      --hover-bg-color: #E2EBFA;\n",
              "      --hover-fill-color: #174EA6;\n",
              "      --disabled-fill-color: #AAA;\n",
              "      --disabled-bg-color: #DDD;\n",
              "  }\n",
              "\n",
              "  [theme=dark] .colab-df-quickchart {\n",
              "      --bg-color: #3B4455;\n",
              "      --fill-color: #D2E3FC;\n",
              "      --hover-bg-color: #434B5C;\n",
              "      --hover-fill-color: #FFFFFF;\n",
              "      --disabled-bg-color: #3B4455;\n",
              "      --disabled-fill-color: #666;\n",
              "  }\n",
              "\n",
              "  .colab-df-quickchart {\n",
              "    background-color: var(--bg-color);\n",
              "    border: none;\n",
              "    border-radius: 50%;\n",
              "    cursor: pointer;\n",
              "    display: none;\n",
              "    fill: var(--fill-color);\n",
              "    height: 32px;\n",
              "    padding: 0;\n",
              "    width: 32px;\n",
              "  }\n",
              "\n",
              "  .colab-df-quickchart:hover {\n",
              "    background-color: var(--hover-bg-color);\n",
              "    box-shadow: 0 1px 2px rgba(60, 64, 67, 0.3), 0 1px 3px 1px rgba(60, 64, 67, 0.15);\n",
              "    fill: var(--button-hover-fill-color);\n",
              "  }\n",
              "\n",
              "  .colab-df-quickchart-complete:disabled,\n",
              "  .colab-df-quickchart-complete:disabled:hover {\n",
              "    background-color: var(--disabled-bg-color);\n",
              "    fill: var(--disabled-fill-color);\n",
              "    box-shadow: none;\n",
              "  }\n",
              "\n",
              "  .colab-df-spinner {\n",
              "    border: 2px solid var(--fill-color);\n",
              "    border-color: transparent;\n",
              "    border-bottom-color: var(--fill-color);\n",
              "    animation:\n",
              "      spin 1s steps(1) infinite;\n",
              "  }\n",
              "\n",
              "  @keyframes spin {\n",
              "    0% {\n",
              "      border-color: transparent;\n",
              "      border-bottom-color: var(--fill-color);\n",
              "      border-left-color: var(--fill-color);\n",
              "    }\n",
              "    20% {\n",
              "      border-color: transparent;\n",
              "      border-left-color: var(--fill-color);\n",
              "      border-top-color: var(--fill-color);\n",
              "    }\n",
              "    30% {\n",
              "      border-color: transparent;\n",
              "      border-left-color: var(--fill-color);\n",
              "      border-top-color: var(--fill-color);\n",
              "      border-right-color: var(--fill-color);\n",
              "    }\n",
              "    40% {\n",
              "      border-color: transparent;\n",
              "      border-right-color: var(--fill-color);\n",
              "      border-top-color: var(--fill-color);\n",
              "    }\n",
              "    60% {\n",
              "      border-color: transparent;\n",
              "      border-right-color: var(--fill-color);\n",
              "    }\n",
              "    80% {\n",
              "      border-color: transparent;\n",
              "      border-right-color: var(--fill-color);\n",
              "      border-bottom-color: var(--fill-color);\n",
              "    }\n",
              "    90% {\n",
              "      border-color: transparent;\n",
              "      border-bottom-color: var(--fill-color);\n",
              "    }\n",
              "  }\n",
              "</style>\n",
              "\n",
              "  <script>\n",
              "    async function quickchart(key) {\n",
              "      const quickchartButtonEl =\n",
              "        document.querySelector('#' + key + ' button');\n",
              "      quickchartButtonEl.disabled = true;  // To prevent multiple clicks.\n",
              "      quickchartButtonEl.classList.add('colab-df-spinner');\n",
              "      try {\n",
              "        const charts = await google.colab.kernel.invokeFunction(\n",
              "            'suggestCharts', [key], {});\n",
              "      } catch (error) {\n",
              "        console.error('Error during call to suggestCharts:', error);\n",
              "      }\n",
              "      quickchartButtonEl.classList.remove('colab-df-spinner');\n",
              "      quickchartButtonEl.classList.add('colab-df-quickchart-complete');\n",
              "    }\n",
              "    (() => {\n",
              "      let quickchartButtonEl =\n",
              "        document.querySelector('#df-861fe0f8-2d00-4d9a-b23f-ad390e95996c button');\n",
              "      quickchartButtonEl.style.display =\n",
              "        google.colab.kernel.accessAllowed ? 'block' : 'none';\n",
              "    })();\n",
              "  </script>\n",
              "</div>\n",
              "    </div>\n",
              "  </div>\n"
            ]
          },
          "metadata": {},
          "execution_count": 53
        }
      ]
    },
    {
      "cell_type": "code",
      "source": [
        "# Convert the dictionary to a DataFrame\n",
        "df_runtime = pd.DataFrame(list(runtime_all.items()), columns=['Models', 'Time'])\n",
        "\n",
        "# Create the barplot\n",
        "plt.figure(figsize=(10,5))\n",
        "sns.barplot(x='Models', y='Time', data=df_runtime, color='tab:orange')\n",
        "\n",
        "# Set labels and title\n",
        "plt.xlabel('Models')\n",
        "plt.ylabel('Time (seconds)')\n",
        "plt.title('Model Running Times')\n",
        "plt.show()"
      ],
      "metadata": {
        "colab": {
          "base_uri": "https://localhost:8080/",
          "height": 506
        },
        "id": "mQeffRLQgzQC",
        "outputId": "5ca47914-7050-48a1-91ac-20a5a5208b77"
      },
      "execution_count": 55,
      "outputs": [
        {
          "output_type": "display_data",
          "data": {
            "text/plain": [
              "<Figure size 1500x750 with 1 Axes>"
            ],
            "image/png": "[encoded data removed]"
          },
          "metadata": {}
        }
      ]
    },
    {
      "cell_type": "markdown",
      "source": [
        "## **Backtesting**"
      ],
      "metadata": {
        "id": "ztqZ7gI_oUy8"
      }
    },
    {
      "cell_type": "code",
      "source": [
        "def compute_mdd(portfolio_values):\n",
        "    # Calculate the running maximum\n",
        "    running_max = np.maximum.accumulate(portfolio_values)\n",
        "    # Ensure the value never drops below 1\n",
        "    running_max[running_max < 10000] = 10000\n",
        "    # Calculate the drawdown\n",
        "    drawdown = (portfolio_values / running_max) - 1\n",
        "    # Return the minimum (i.e., the maximum drawdown)\n",
        "    return drawdown.min()\n",
        "\n",
        "def backtest_models(models, names, checkpoint_path, test_data, test_target, times_te, config, device):\n",
        "    # Initialize dictionaries to store the weights and portfolios for each model\n",
        "    model_weights = {}\n",
        "    model_portfolios = {}\n",
        "\n",
        "    # Initialize a list to store the equal weight portfolio\n",
        "    equal_portfolio = [10000]\n",
        "    equal_weights = np.ones(config['N_FEAT']) / config['N_FEAT']\n",
        "\n",
        "    for model, model_name in zip(models, names):\n",
        "        # Load the model\n",
        "        model = load_model(model, checkpoint_path, model_name)\n",
        "\n",
        "        # Initialize a list to store the weights for model\n",
        "        weights = []\n",
        "        # Initialize a list to store the portfolio for model\n",
        "        portfolio = [10000]\n",
        "\n",
        "        for i in range(0, x_te_np.shape[0], config[\"LEN_PRED\"]):\n",
        "            x = x_te_np[i][np.newaxis, :, :]\n",
        "            out = model(x.float().to(device))[0]\n",
        "            weights.append(out.detach().cpu().numpy())\n",
        "            m_rtn = np.sum(y_te[i], axis=0)\n",
        "            portfolio.append(\n",
        "                portfolio[-1] * np.exp(np.dot(out.detach().cpu().numpy(), m_rtn))\n",
        "            )\n",
        "            if model_name == names[0]:  # Only calculate the equal weight portfolio for the first model\n",
        "                equal_portfolio.append(\n",
        "                    equal_portfolio[-1] * np.exp(np.dot(equal_weights, m_rtn))\n",
        "                )\n",
        "\n",
        "\n",
        "        # Store the weights and portfolio for this model\n",
        "        model_weights[model_name] = weights\n",
        "        model_portfolios[model_name] = portfolio\n",
        "\n",
        "    # Get the time indices\n",
        "    idx = np.arange(0, len(times_te), 11)\n",
        "    model_portfolios['date'] = pd.to_datetime(times_te, unit = 'ns')[idx]\n",
        "    model_portfolios['EWP'] = equal_portfolio\n",
        "\n",
        "    return model_weights, model_portfolios"
      ],
      "metadata": {
        "id": "1_tNWcx2sJDv"
      },
      "execution_count": 33,
      "outputs": []
    },
    {
      "cell_type": "code",
      "source": [
        "deep_weights, deep_portfolios = backtest_models(model_list, model_names, checkpoint_path,\n",
        "                                 x_te_np, y_te, times_te_np, config, device)"
      ],
      "metadata": {
        "id": "TwHWHu8UtCu2"
      },
      "execution_count": 34,
      "outputs": []
    },
    {
      "cell_type": "code",
      "source": [
        "def compute_metrics(performance):\n",
        "    # Initialize a dictionary to store the results\n",
        "    results = {}\n",
        "\n",
        "    # Loop over each column in the performance DataFrame\n",
        "    for column in performance.columns:\n",
        "        # Copy the performance DataFrame\n",
        "        result = performance.copy()\n",
        "\n",
        "        # Calculate the return for this column\n",
        "        result[column + \"_Return\"] = np.log(result[column]) - np.log(result[column].shift(1))\n",
        "        result = result.dropna()\n",
        "\n",
        "        # Calculate the expected return\n",
        "        expected_return = result[column + \"_Return\"].mean() * 12\n",
        "\n",
        "        # Calculate the volatility\n",
        "        volatility = result[column + \"_Return\"].std() * np.sqrt(12)\n",
        "\n",
        "        # Calculate the Sharpe ratio\n",
        "        sharpe_ratio = expected_return / volatility\n",
        "\n",
        "        # Calculate the maximum drawdown\n",
        "        mdd = compute_mdd(result[column])\n",
        "\n",
        "        # Store the results\n",
        "        results[column] = {\n",
        "            'Annualized Return': expected_return,\n",
        "            'Annualized Volatility': volatility,\n",
        "            'Annualized Sharpe Ratio': sharpe_ratio,\n",
        "            'MDD': mdd\n",
        "        }\n",
        "\n",
        "    # Convert the results dictionary to a DataFrame\n",
        "    results_df = pd.DataFrame(results).T\n",
        "\n",
        "    return results_df"
      ],
      "metadata": {
        "id": "BxfU61PYxISz"
      },
      "execution_count": 35,
      "outputs": []
    },
    {
      "cell_type": "code",
      "source": [
        "performance = pd.DataFrame(deep_portfolios).set_index('date')\n",
        "result = compute_metrics(performance).sort_values(by=['Annualized Sharpe Ratio', 'Annualized Return'], ascending = False)"
      ],
      "metadata": {
        "id": "SsF8nnOAxRIb"
      },
      "execution_count": 36,
      "outputs": []
    },
    {
      "cell_type": "code",
      "source": [
        "result"
      ],
      "metadata": {
        "colab": {
          "base_uri": "https://localhost:8080/",
          "height": 206
        },
        "id": "rVLF2u58zjpu",
        "outputId": "35d757a4-bdf5-4af5-87a3-3fc0e1fac94c"
      },
      "execution_count": 37,
      "outputs": [
        {
          "output_type": "execute_result",
          "data": {
            "text/plain": [
              "             Annualized Return  Annualized Volatility  \\\n",
              "transformer           0.244653               0.151027   \n",
              "gru                   0.236020               0.146930   \n",
              "gru_aa                0.236281               0.147458   \n",
              "tcn                   0.235084               0.147923   \n",
              "EWP                   0.173883               0.132535   \n",
              "\n",
              "             Annualized Sharpe Ratio       MDD  \n",
              "transformer                 1.619927 -0.091208  \n",
              "gru                         1.606348 -0.088450  \n",
              "gru_aa                      1.602359 -0.088901  \n",
              "tcn                         1.589231 -0.090269  \n",
              "EWP                         1.311977 -0.093141  "
            ],
            "text/html": [
              "\n",
              "  <div id=\"df-406e833b-cb27-4822-9e0b-1ec9ada3b1d7\" class=\"colab-df-container\">\n",
              "    <div>\n",
              "<style scoped>\n",
              "    .dataframe tbody tr th:only-of-type {\n",
              "        vertical-align: middle;\n",
              "    }\n",
              "\n",
              "    .dataframe tbody tr th {\n",
              "        vertical-align: top;\n",
              "    }\n",
              "\n",
              "    .dataframe thead th {\n",
              "        text-align: right;\n",
              "    }\n",
              "</style>\n",
              "<table border=\"1\" class=\"dataframe\">\n",
              "  <thead>\n",
              "    <tr style=\"text-align: right;\">\n",
              "      <th></th>\n",
              "      <th>Annualized Return</th>\n",
              "      <th>Annualized Volatility</th>\n",
              "      <th>Annualized Sharpe Ratio</th>\n",
              "      <th>MDD</th>\n",
              "    </tr>\n",
              "  </thead>\n",
              "  <tbody>\n",
              "    <tr>\n",
              "      <th>transformer</th>\n",
              "      <td>0.244653</td>\n",
              "      <td>0.151027</td>\n",
              "      <td>1.619927</td>\n",
              "      <td>-0.091208</td>\n",
              "    </tr>\n",
              "    <tr>\n",
              "      <th>gru</th>\n",
              "      <td>0.236020</td>\n",
              "      <td>0.146930</td>\n",
              "      <td>1.606348</td>\n",
              "      <td>-0.088450</td>\n",
              "    </tr>\n",
              "    <tr>\n",
              "      <th>gru_aa</th>\n",
              "      <td>0.236281</td>\n",
              "      <td>0.147458</td>\n",
              "      <td>1.602359</td>\n",
              "      <td>-0.088901</td>\n",
              "    </tr>\n",
              "    <tr>\n",
              "      <th>tcn</th>\n",
              "      <td>0.235084</td>\n",
              "      <td>0.147923</td>\n",
              "      <td>1.589231</td>\n",
              "      <td>-0.090269</td>\n",
              "    </tr>\n",
              "    <tr>\n",
              "      <th>EWP</th>\n",
              "      <td>0.173883</td>\n",
              "      <td>0.132535</td>\n",
              "      <td>1.311977</td>\n",
              "      <td>-0.093141</td>\n",
              "    </tr>\n",
              "  </tbody>\n",
              "</table>\n",
              "</div>\n",
              "    <div class=\"colab-df-buttons\">\n",
              "\n",
              "  <div class=\"colab-df-container\">\n",
              "    <button class=\"colab-df-convert\" onclick=\"convertToInteractive('df-406e833b-cb27-4822-9e0b-1ec9ada3b1d7')\"\n",
              "            title=\"Convert this dataframe to an interactive table.\"\n",
              "            style=\"display:none;\">\n",
              "\n",
              "  <svg xmlns=\"http://www.w3.org/2000/svg\" height=\"24px\" viewBox=\"0 -960 960 960\">\n",
              "    <path d=\"M120-120v-720h720v720H120Zm60-500h600v-160H180v160Zm220 220h160v-160H400v160Zm0 220h160v-160H400v160ZM180-400h160v-160H180v160Zm440 0h160v-160H620v160ZM180-180h160v-160H180v160Zm440 0h160v-160H620v160Z\"/>\n",
              "  </svg>\n",
              "    </button>\n",
              "\n",
              "  <style>\n",
              "    .colab-df-container {\n",
              "      display:flex;\n",
              "      gap: 12px;\n",
              "    }\n",
              "\n",
              "    .colab-df-convert {\n",
              "      background-color: #E8F0FE;\n",
              "      border: none;\n",
              "      border-radius: 50%;\n",
              "      cursor: pointer;\n",
              "      display: none;\n",
              "      fill: #1967D2;\n",
              "      height: 32px;\n",
              "      padding: 0 0 0 0;\n",
              "      width: 32px;\n",
              "    }\n",
              "\n",
              "    .colab-df-convert:hover {\n",
              "      background-color: #E2EBFA;\n",
              "      box-shadow: 0px 1px 2px rgba(60, 64, 67, 0.3), 0px 1px 3px 1px rgba(60, 64, 67, 0.15);\n",
              "      fill: #174EA6;\n",
              "    }\n",
              "\n",
              "    .colab-df-buttons div {\n",
              "      margin-bottom: 4px;\n",
              "    }\n",
              "\n",
              "    [theme=dark] .colab-df-convert {\n",
              "      background-color: #3B4455;\n",
              "      fill: #D2E3FC;\n",
              "    }\n",
              "\n",
              "    [theme=dark] .colab-df-convert:hover {\n",
              "      background-color: #434B5C;\n",
              "      box-shadow: 0px 1px 3px 1px rgba(0, 0, 0, 0.15);\n",
              "      filter: drop-shadow(0px 1px 2px rgba(0, 0, 0, 0.3));\n",
              "      fill: #FFFFFF;\n",
              "    }\n",
              "  </style>\n",
              "\n",
              "    <script>\n",
              "      const buttonEl =\n",
              "        document.querySelector('#df-406e833b-cb27-4822-9e0b-1ec9ada3b1d7 button.colab-df-convert');\n",
              "      buttonEl.style.display =\n",
              "        google.colab.kernel.accessAllowed ? 'block' : 'none';\n",
              "\n",
              "      async function convertToInteractive(key) {\n",
              "        const element = document.querySelector('#df-406e833b-cb27-4822-9e0b-1ec9ada3b1d7');\n",
              "        const dataTable =\n",
              "          await google.colab.kernel.invokeFunction('convertToInteractive',\n",
              "                                                    [key], {});\n",
              "        if (!dataTable) return;\n",
              "\n",
              "        const docLinkHtml = 'Like what you see? Visit the ' +\n",
              "          '<a target=\"_blank\" href=https://colab.research.google.com/notebooks/data_table.ipynb>data table notebook</a>'\n",
              "          + ' to learn more about interactive tables.';\n",
              "        element.innerHTML = '';\n",
              "        dataTable['output_type'] = 'display_data';\n",
              "        await google.colab.output.renderOutput(dataTable, element);\n",
              "        const docLink = document.createElement('div');\n",
              "        docLink.innerHTML = docLinkHtml;\n",
              "        element.appendChild(docLink);\n",
              "      }\n",
              "    </script>\n",
              "  </div>\n",
              "\n",
              "\n",
              "<div id=\"df-4933614f-c3e3-4aba-96a4-6145e9d04f6b\">\n",
              "  <button class=\"colab-df-quickchart\" onclick=\"quickchart('df-4933614f-c3e3-4aba-96a4-6145e9d04f6b')\"\n",
              "            title=\"Suggest charts\"\n",
              "            style=\"display:none;\">\n",
              "\n",
              "<svg xmlns=\"http://www.w3.org/2000/svg\" height=\"24px\"viewBox=\"0 0 24 24\"\n",
              "     width=\"24px\">\n",
              "    <g>\n",
              "        <path d=\"M19 3H5c-1.1 0-2 .9-2 2v14c0 1.1.9 2 2 2h14c1.1 0 2-.9 2-2V5c0-1.1-.9-2-2-2zM9 17H7v-7h2v7zm4 0h-2V7h2v10zm4 0h-2v-4h2v4z\"/>\n",
              "    </g>\n",
              "</svg>\n",
              "  </button>\n",
              "\n",
              "<style>\n",
              "  .colab-df-quickchart {\n",
              "      --bg-color: #E8F0FE;\n",
              "      --fill-color: #1967D2;\n",
              "      --hover-bg-color: #E2EBFA;\n",
              "      --hover-fill-color: #174EA6;\n",
              "      --disabled-fill-color: #AAA;\n",
              "      --disabled-bg-color: #DDD;\n",
              "  }\n",
              "\n",
              "  [theme=dark] .colab-df-quickchart {\n",
              "      --bg-color: #3B4455;\n",
              "      --fill-color: #D2E3FC;\n",
              "      --hover-bg-color: #434B5C;\n",
              "      --hover-fill-color: #FFFFFF;\n",
              "      --disabled-bg-color: #3B4455;\n",
              "      --disabled-fill-color: #666;\n",
              "  }\n",
              "\n",
              "  .colab-df-quickchart {\n",
              "    background-color: var(--bg-color);\n",
              "    border: none;\n",
              "    border-radius: 50%;\n",
              "    cursor: pointer;\n",
              "    display: none;\n",
              "    fill: var(--fill-color);\n",
              "    height: 32px;\n",
              "    padding: 0;\n",
              "    width: 32px;\n",
              "  }\n",
              "\n",
              "  .colab-df-quickchart:hover {\n",
              "    background-color: var(--hover-bg-color);\n",
              "    box-shadow: 0 1px 2px rgba(60, 64, 67, 0.3), 0 1px 3px 1px rgba(60, 64, 67, 0.15);\n",
              "    fill: var(--button-hover-fill-color);\n",
              "  }\n",
              "\n",
              "  .colab-df-quickchart-complete:disabled,\n",
              "  .colab-df-quickchart-complete:disabled:hover {\n",
              "    background-color: var(--disabled-bg-color);\n",
              "    fill: var(--disabled-fill-color);\n",
              "    box-shadow: none;\n",
              "  }\n",
              "\n",
              "  .colab-df-spinner {\n",
              "    border: 2px solid var(--fill-color);\n",
              "    border-color: transparent;\n",
              "    border-bottom-color: var(--fill-color);\n",
              "    animation:\n",
              "      spin 1s steps(1) infinite;\n",
              "  }\n",
              "\n",
              "  @keyframes spin {\n",
              "    0% {\n",
              "      border-color: transparent;\n",
              "      border-bottom-color: var(--fill-color);\n",
              "      border-left-color: var(--fill-color);\n",
              "    }\n",
              "    20% {\n",
              "      border-color: transparent;\n",
              "      border-left-color: var(--fill-color);\n",
              "      border-top-color: var(--fill-color);\n",
              "    }\n",
              "    30% {\n",
              "      border-color: transparent;\n",
              "      border-left-color: var(--fill-color);\n",
              "      border-top-color: var(--fill-color);\n",
              "      border-right-color: var(--fill-color);\n",
              "    }\n",
              "    40% {\n",
              "      border-color: transparent;\n",
              "      border-right-color: var(--fill-color);\n",
              "      border-top-color: var(--fill-color);\n",
              "    }\n",
              "    60% {\n",
              "      border-color: transparent;\n",
              "      border-right-color: var(--fill-color);\n",
              "    }\n",
              "    80% {\n",
              "      border-color: transparent;\n",
              "      border-right-color: var(--fill-color);\n",
              "      border-bottom-color: var(--fill-color);\n",
              "    }\n",
              "    90% {\n",
              "      border-color: transparent;\n",
              "      border-bottom-color: var(--fill-color);\n",
              "    }\n",
              "  }\n",
              "</style>\n",
              "\n",
              "  <script>\n",
              "    async function quickchart(key) {\n",
              "      const quickchartButtonEl =\n",
              "        document.querySelector('#' + key + ' button');\n",
              "      quickchartButtonEl.disabled = true;  // To prevent multiple clicks.\n",
              "      quickchartButtonEl.classList.add('colab-df-spinner');\n",
              "      try {\n",
              "        const charts = await google.colab.kernel.invokeFunction(\n",
              "            'suggestCharts', [key], {});\n",
              "      } catch (error) {\n",
              "        console.error('Error during call to suggestCharts:', error);\n",
              "      }\n",
              "      quickchartButtonEl.classList.remove('colab-df-spinner');\n",
              "      quickchartButtonEl.classList.add('colab-df-quickchart-complete');\n",
              "    }\n",
              "    (() => {\n",
              "      let quickchartButtonEl =\n",
              "        document.querySelector('#df-4933614f-c3e3-4aba-96a4-6145e9d04f6b button');\n",
              "      quickchartButtonEl.style.display =\n",
              "        google.colab.kernel.accessAllowed ? 'block' : 'none';\n",
              "    })();\n",
              "  </script>\n",
              "</div>\n",
              "    </div>\n",
              "  </div>\n"
            ]
          },
          "metadata": {},
          "execution_count": 37
        }
      ]
    },
    {
      "cell_type": "code",
      "source": [
        "import seaborn as sns\n",
        "# Melt the DataFrame to make it suitable for sns.lineplot\n",
        "performance_melted = performance.reset_index().melt('date', var_name='portfolio', value_name='wealth')\n",
        "\n",
        "# Create the lineplot\n",
        "plt.figure(figsize=(10,5))\n",
        "sns.lineplot(data=performance_melted, x='date', y='wealth', hue='portfolio')\n",
        "\n",
        "# Add title and legend\n",
        "plt.title('Wealth of each portfolio over backtest period')\n",
        "plt.legend(title='Portfolio')\n",
        "plt.show()"
      ],
      "metadata": {
        "colab": {
          "base_uri": "https://localhost:8080/",
          "height": 506
        },
        "id": "cZbcCOZqfYQx",
        "outputId": "37592fc0-3fa0-4187-f061-3a106964d93d"
      },
      "execution_count": 47,
      "outputs": [
        {
          "output_type": "display_data",
          "data": {
            "text/plain": [
              "<Figure size 1500x750 with 1 Axes>"
            ],
            "image/png": "[encoded data removed]"
          },
          "metadata": {}
        }
      ]
    }
  ],
  "metadata": {
    "colab": {
      "provenance": [],
      "toc_visible": true,
      "gpuType": "T4",
      "collapsed_sections": [
        "pguOnhJQEMDE",
        "MD_wIxVWEOaW"
      ],
      "authorship_tag": "ABX9TyMt+FNXUEbe/oDYZLNZIxTY",
      "include_colab_link": true
    },
    "kernelspec": {
      "display_name": "Python 3",
      "name": "python3"
    },
    "language_info": {
      "name": "python"
    },
    "accelerator": "GPU"
  },
  "nbformat": 4,
  "nbformat_minor": 0
}