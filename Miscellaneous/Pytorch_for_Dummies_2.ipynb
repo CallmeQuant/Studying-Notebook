{
  "nbformat": 4,
  "nbformat_minor": 0,
  "metadata": {
    "colab": {
      "provenance": [],
      "gpuType": "T4",
      "toc_visible": true,
      "authorship_tag": "ABX9TyOKn1hA3Ml+/iN5jp1iTfhM",
      "include_colab_link": true
    },
    "kernelspec": {
      "name": "python3",
      "display_name": "Python 3"
    },
    "language_info": {
      "name": "python"
    },
    "accelerator": "GPU"
  },
  "cells": [
    {
      "cell_type": "markdown",
      "metadata": {
        "id": "view-in-github",
        "colab_type": "text"
      },
      "source": [
        "<a href=\"https://colab.research.google.com/github/CallmeQuant/Studying-Notebook/blob/main/Miscellaneous/Pytorch_for_Dummies_2.ipynb\" target=\"_parent\"><img src=\"https://colab.research.google.com/assets/colab-badge.svg\" alt=\"Open In Colab\"/></a>"
      ]
    },
    {
      "cell_type": "markdown",
      "source": [
        "# **CNN**"
      ],
      "metadata": {
        "id": "bHKo8E86VoFq"
      }
    },
    {
      "cell_type": "code",
      "source": [
        "import numpy as np\n",
        "import matplotlib.pyplot as plt\n",
        "import pandas as pd\n",
        "import torch\n",
        "\n",
        "import torch.nn as nn\n",
        "import torch.nn.functional as F\n",
        "import torch.optim as optim\n",
        "import torchvision\n",
        "import torchvision.transforms as transforms\n",
        "from torch.utils.data import Subset, DataLoader\n",
        "from sklearn.model_selection import train_test_split\n",
        "\n",
        "from sklearn.preprocessing import PolynomialFeatures\n",
        "from sklearn.linear_model import LinearRegression\n",
        "from sklearn.metrics import mean_squared_error, mean_absolute_error, mean_absolute_percentage_error\n",
        "from sklearn.metrics import  classification_report, ConfusionMatrixDisplay, precision_score, recall_score, accuracy_score, f1_score"
      ],
      "metadata": {
        "id": "aJhxbXcyVnin"
      },
      "execution_count": 1,
      "outputs": []
    },
    {
      "cell_type": "markdown",
      "source": [
        "## **Problem 1.**\n",
        "Create a dataset from 10 data points generated from the function $y = x^2 + \\text{noise}$. Use sklearn to fit a polynomial function of degree 9 with the data. Then add 100 more data points and see how the polynomial function of degree 9 behaves. Report the MSE and plot the graph in both cases (10 data points initially and 100 data points later). What phenomenon is happening?"
      ],
      "metadata": {
        "id": "C6R4Fv4Ff7t-"
      }
    },
    {
      "cell_type": "code",
      "source": [
        "def polynomial_regression(x, y, order):\n",
        "  poly = PolynomialFeatures(degree=order)\n",
        "  poly_features = poly.fit_transform(x.reshape(-1, 1))\n",
        "\n",
        "  poly_reg_model = LinearRegression()\n",
        "  poly_reg_model.fit(poly_features, y)\n",
        "  y_predicted = poly_reg_model.predict(poly_features)\n",
        "\n",
        "  mse = mean_squared_error(y, y_predicted)\n",
        "\n",
        "  plt.figure(figsize=(10, 6))\n",
        "  plt.title(\"Degree: {}\".format(order), size=16)\n",
        "  plt.scatter(x, y, color = \"blue\")\n",
        "  plt.scatter(x, y_predicted, color=\"red\")\n",
        "  plt.show()\n",
        "\n",
        "  return mse"
      ],
      "metadata": {
        "id": "pISakEYvgiUe"
      },
      "execution_count": null,
      "outputs": []
    },
    {
      "cell_type": "code",
      "source": [
        "x = np.random.uniform(-8, 8, 10)\n",
        "y = [ele**2 + np.random.normal(0, 0.2) for ele in x] # Injecting Gaussian noise\n",
        "\n",
        "plt.scatter(x, y)"
      ],
      "metadata": {
        "colab": {
          "base_uri": "https://localhost:8080/",
          "height": 447
        },
        "id": "JkCAYdxTV6-X",
        "outputId": "267ea8fe-0e07-4b36-f39d-d9a4ece4e099"
      },
      "execution_count": null,
      "outputs": [
        {
          "output_type": "execute_result",
          "data": {
            "text/plain": [
              "<matplotlib.collections.PathCollection at 0x7f64cdfe1570>"
            ]
          },
          "metadata": {},
          "execution_count": 19
        },
        {
          "output_type": "display_data",
          "data": {
            "text/plain": [
              "<Figure size 640x480 with 1 Axes>"
            ],
            "image/png": "[encoded data removed]"
          },
          "metadata": {}
        }
      ]
    },
    {
      "cell_type": "code",
      "source": [
        "print(\"MSE: \", polynomial_regression(x, y, 9))"
      ],
      "metadata": {
        "colab": {
          "base_uri": "https://localhost:8080/",
          "height": 440
        },
        "id": "jjao1p1Qg4jR",
        "outputId": "76dfbb26-7d42-441c-9607-00025f7a8880"
      },
      "execution_count": null,
      "outputs": [
        {
          "output_type": "display_data",
          "data": {
            "text/plain": [
              "<Figure size 1000x600 with 1 Axes>"
            ],
            "image/png": "[encoded data removed]"
          },
          "metadata": {}
        },
        {
          "output_type": "stream",
          "name": "stdout",
          "text": [
            "MSE:  5.996763693302693e-14\n"
          ]
        }
      ]
    },
    {
      "cell_type": "code",
      "source": [
        "x = np.random.uniform(-8, 8, 100)\n",
        "y = [ele**2 + np.random.normal(0, 0.2) for ele in x] # Injecting Gaussian noise\n",
        "\n",
        "plt.scatter(x, y)"
      ],
      "metadata": {
        "colab": {
          "base_uri": "https://localhost:8080/",
          "height": 447
        },
        "id": "oHct3oMZnglj",
        "outputId": "c40c1a6e-7270-462b-c6f2-937cd33c1fbc"
      },
      "execution_count": null,
      "outputs": [
        {
          "output_type": "execute_result",
          "data": {
            "text/plain": [
              "<matplotlib.collections.PathCollection at 0x7f64cda0b0d0>"
            ]
          },
          "metadata": {},
          "execution_count": 21
        },
        {
          "output_type": "display_data",
          "data": {
            "text/plain": [
              "<Figure size 640x480 with 1 Axes>"
            ],
            "image/png": "[encoded data removed]"
          },
          "metadata": {}
        }
      ]
    },
    {
      "cell_type": "code",
      "source": [
        "print(\"MSE: \", polynomial_regression(x, y, 9))"
      ],
      "metadata": {
        "colab": {
          "base_uri": "https://localhost:8080/",
          "height": 440
        },
        "id": "OjcTLegdnpvM",
        "outputId": "5c3134a8-e584-4cfc-83d0-32638e2d9de3"
      },
      "execution_count": null,
      "outputs": [
        {
          "output_type": "display_data",
          "data": {
            "text/plain": [
              "<Figure size 1000x600 with 1 Axes>"
            ],
            "image/png": "[encoded data removed]"
          },
          "metadata": {}
        },
        {
          "output_type": "stream",
          "name": "stdout",
          "text": [
            "MSE:  0.033289423060484005\n"
          ]
        }
      ]
    },
    {
      "cell_type": "markdown",
      "source": [
        "## **Problem 2.**\n",
        "\n",
        "Code from scratch Implement a function to calculate convolution Input: X, W, stride, padding Output: Y Check again with the convolution function implemented in the Pytorch library"
      ],
      "metadata": {
        "id": "sLZAEGsYa0Ld"
      }
    },
    {
      "cell_type": "code",
      "source": [
        "import torch\n",
        "import torch.nn.functional as F\n",
        "\n",
        "def convolution2D(X, W, stride = 1, padding = 0):\n",
        "  if not isinstance(X, torch.Tensor):\n",
        "    X = torch.from_numpy(X)\n",
        "  batch_size, in_channels, in_height, in_width = X.shape # Assume that X is 4-D tensor\n",
        "  out_channels, _, filter_height, filter_width = W.shape\n",
        "\n",
        "  # Pad the input\n",
        "  X_padded = F.pad(X, (padding, padding, padding, padding), mode='constant', value=0)\n",
        "\n",
        "  # Dimensions of the padded input\n",
        "  _, _, p_height, p_width = X_padded.shape\n",
        "\n",
        "  # Output dimension\n",
        "  out_height = (p_height - filter_height) // stride + 1\n",
        "  out_width = (p_width - filter_width) // stride + 1\n",
        "\n",
        "  # Placeholder for output\n",
        "  Y = torch.zeros((batch_size, out_channels, out_height, out_width))\n",
        "\n",
        "  # Perform the convolution operation\n",
        "  for b in range(batch_size):\n",
        "    for c in range(out_channels):\n",
        "      for i in range(0, p_height - filter_height + 1, stride):\n",
        "        for j in range(0, p_width - filter_width + 1, stride):\n",
        "          Y[b, c, i//stride, j//stride] = torch.sum(X_padded[b, :, i: i+filter_height,\n",
        "                                                                      j: j+filter_width] * W[c])\n",
        "\n",
        "  return Y\n"
      ],
      "metadata": {
        "id": "Unui7-1UnyTJ"
      },
      "execution_count": null,
      "outputs": []
    },
    {
      "cell_type": "code",
      "source": [
        "X = torch.randn(1, 1, 9, 9)  # Batch size 1, 1 channel, 9x9 input\n",
        "W = torch.randn(1, 1, 5, 5)  # 1 filter, 1 channel, 5x5 kernel\n",
        "stride = 1\n",
        "padding = 0\n",
        "\n",
        "print(\"X:\", X)\n",
        "print(\"W:\", W)\n",
        "\n",
        "custom_result = convolution2D(X, W, stride, padding)\n",
        "torch_result = F.conv2d(X, W, stride=stride, padding=padding)\n",
        "\n",
        "# Checking results are close or not\n",
        "print(\"Custom Convolution Result:\")\n",
        "print(custom_result)\n",
        "\n",
        "print(\"\\nPyTorch Convolution Result:\")\n",
        "print(torch_result)\n",
        "\n",
        "# Kiểm tra sự tương đồng giữa hai kết quả\n",
        "print(\"\\nCheck similarity:\")\n",
        "print(torch.allclose(custom_result, torch_result))"
      ],
      "metadata": {
        "colab": {
          "base_uri": "https://localhost:8080/"
        },
        "id": "4RLvi6qM0peo",
        "outputId": "062d0106-8d82-4b34-dd0d-e985d0e19242"
      },
      "execution_count": null,
      "outputs": [
        {
          "output_type": "stream",
          "name": "stdout",
          "text": [
            "X: tensor([[[[-6.2619e-01, -1.1672e+00, -1.0655e-01,  5.6602e-01,  4.1645e-01,\n",
            "            3.1618e-01,  1.1350e+00,  1.6789e+00, -5.2651e-01],\n",
            "          [-2.5820e-01,  9.6159e-01, -5.9308e-01,  4.3781e-01, -3.7793e-02,\n",
            "           -1.6261e+00, -6.1002e-01,  6.5846e-01,  1.1590e+00],\n",
            "          [ 4.3915e-01, -6.6444e-02, -5.1293e-01,  1.9807e+00,  1.4168e+00,\n",
            "           -5.2612e-02, -1.5055e+00,  1.0545e+00,  1.5125e+00],\n",
            "          [-6.5675e-02,  2.9763e-01, -1.2476e+00,  6.1361e-01,  6.9608e-01,\n",
            "            2.5248e+00, -6.4494e-01,  1.8769e+00,  1.1639e+00],\n",
            "          [-1.2616e+00,  8.7421e-01, -1.3773e+00,  1.9979e-01,  2.2467e-01,\n",
            "           -8.1947e-01, -4.6147e-01, -8.6011e-01,  1.6447e+00],\n",
            "          [ 5.2869e-01,  1.6168e+00,  3.5770e-01, -2.7379e-01,  9.4526e-01,\n",
            "           -4.3377e-01, -5.2309e-01,  1.8018e-01,  1.6179e+00],\n",
            "          [-1.6358e+00,  8.0902e-01,  6.7664e-01, -6.8073e-01, -1.5199e+00,\n",
            "            6.7466e-04,  1.1435e+00,  3.8242e-01,  5.3812e-01],\n",
            "          [-4.8542e-01,  3.5092e-01,  2.1362e+00, -1.8024e+00,  5.7417e-01,\n",
            "           -2.7110e-01, -3.7729e-01,  6.9368e-01,  1.0154e+00],\n",
            "          [-1.1910e-01, -8.8502e-01,  1.1663e+00,  1.0261e+00, -7.1322e-01,\n",
            "           -3.2423e-01, -2.6105e-01, -2.8865e-01,  1.1158e+00]]]])\n",
            "W: tensor([[[[ 0.8533, -0.6679,  0.2360, -0.1082,  1.0158],\n",
            "          [ 0.9868, -1.3898,  1.3865,  0.0558,  0.3859],\n",
            "          [-1.3942,  0.3784,  0.7711, -0.7869,  1.4455],\n",
            "          [ 1.5771, -1.7297, -0.0358,  0.3624,  0.2211],\n",
            "          [ 0.2519, -0.0888,  1.0962, -1.3504, -1.1191]]]])\n",
            "Custom Convolution Result:\n",
            "tensor([[[[-4.9893,  6.0617, -1.1789,  1.3274, -3.6077],\n",
            "          [-4.4877,  8.7508, -4.1429,  5.0354,  1.2248],\n",
            "          [ 1.8247,  5.1276, -4.0146, -0.1219,  3.6584],\n",
            "          [-3.0546, -0.1990,  0.5920,  3.0843, -3.1459],\n",
            "          [-2.4470,  0.4560,  5.8969, -6.2817,  7.8846]]]])\n",
            "\n",
            "PyTorch Convolution Result:\n",
            "tensor([[[[-4.9893,  6.0617, -1.1789,  1.3274, -3.6077],\n",
            "          [-4.4877,  8.7508, -4.1429,  5.0354,  1.2248],\n",
            "          [ 1.8247,  5.1276, -4.0146, -0.1219,  3.6584],\n",
            "          [-3.0546, -0.1990,  0.5920,  3.0843, -3.1459],\n",
            "          [-2.4470,  0.4560,  5.8969, -6.2817,  7.8846]]]])\n",
            "\n",
            "Check similarity:\n",
            "True\n"
          ]
        }
      ]
    },
    {
      "cell_type": "markdown",
      "source": [
        "## **Problem 3.**\n",
        "For the CIFAR-10 dataset, implement a model similar to VGG16 (can be shallower) using Pytorch. Adjust the learning rate and plot the corresponding loss graph. Split the train/test set at a ratio of 80/20, calculate the accuracy, recall, and f1-score on the test set."
      ],
      "metadata": {
        "id": "3EZn2ne-1-qh"
      }
    },
    {
      "cell_type": "markdown",
      "source": [
        "### **Dataset Loader**"
      ],
      "metadata": {
        "id": "Hor1NH1qa_tJ"
      }
    },
    {
      "cell_type": "code",
      "source": [
        "def data_loader(batch_size, seed = 42, valid_size = 0.2, test = False, shuffle = True):\n",
        "  # define transforms\n",
        "  transform = transforms.Compose([transforms.RandomHorizontalFlip(),\n",
        "                                transforms.RandomCrop(32, padding=4),\n",
        "                                transforms.ToTensor(),\n",
        "                                transforms.Normalize((0.5, 0.5, 0.5), (0.5, 0.5, 0.5))])\n",
        "\n",
        "  if test:\n",
        "    dataset = torchvision.datasets.CIFAR10(\n",
        "          root='./data', train=False,\n",
        "          download=True, transform=transform,\n",
        "        )\n",
        "\n",
        "    test_loader = DataLoader(\n",
        "        dataset, batch_size=batch_size, shuffle=shuffle\n",
        "        )\n",
        "    print('Creating test loader successfully')\n",
        "    return test_loader\n",
        "\n",
        "  train_dataset = torchvision.datasets.CIFAR10(root='./data', train=True, download=True, transform=transform)\n",
        "  num_train = len(train_dataset)\n",
        "  indices = list(range(num_train))\n",
        "  if shuffle:\n",
        "    torch.manual_seed(seed)\n",
        "    indices = torch.randperm(len(train_dataset))\n",
        "  else:\n",
        "    indices = torch.arange(len(train_dataset))\n",
        "\n",
        "  train_indices, val_indices = train_test_split(indices.numpy(), test_size=valid_size, random_state=seed)\n",
        "  train_sampler = torch.utils.data.SubsetRandomSampler(train_indices)\n",
        "  val_sampler = torch.utils.data.SubsetRandomSampler(val_indices)\n",
        "\n",
        "  train_loader = DataLoader(train_dataset, batch_size=batch_size, sampler=train_sampler)\n",
        "  val_loader = DataLoader(train_dataset, batch_size=batch_size, sampler=val_sampler)\n",
        "  print('Creating train and validation loader successfully')\n",
        "\n",
        "  return (train_loader, val_loader)"
      ],
      "metadata": {
        "id": "qVzONCg7AUDB"
      },
      "execution_count": 2,
      "outputs": []
    },
    {
      "cell_type": "code",
      "source": [
        "# Set up the configuration\n",
        "batch_size = 64\n",
        "train_loader, val_loader = data_loader(batch_size=batch_size)\n",
        "test_loader = data_loader(batch_size=batch_size,  test=True)"
      ],
      "metadata": {
        "colab": {
          "base_uri": "https://localhost:8080/"
        },
        "id": "yqX38JjzEjQ3",
        "outputId": "f40d5f3c-c591-4487-f6a0-2f9c7c244f04"
      },
      "execution_count": 3,
      "outputs": [
        {
          "output_type": "stream",
          "name": "stdout",
          "text": [
            "Files already downloaded and verified\n",
            "Creating train and validation loader successfully\n",
            "Files already downloaded and verified\n",
            "Creating test loader successfully\n"
          ]
        }
      ]
    },
    {
      "cell_type": "code",
      "source": [
        "for i, (data, label) in enumerate(train_loader):\n",
        "  print(data.shape)\n",
        "  print(label.shape)\n",
        "  break"
      ],
      "metadata": {
        "colab": {
          "base_uri": "https://localhost:8080/"
        },
        "id": "TdGwzlfB9GY6",
        "outputId": "db72ffb3-f324-4ea2-fced-292cc590f5ab"
      },
      "execution_count": 9,
      "outputs": [
        {
          "output_type": "stream",
          "name": "stdout",
          "text": [
            "torch.Size([64, 3, 32, 32])\n",
            "torch.Size([64])\n"
          ]
        }
      ]
    },
    {
      "cell_type": "markdown",
      "source": [
        "### **Model Architecture**"
      ],
      "metadata": {
        "id": "zTQMobdHbB5O"
      }
    },
    {
      "cell_type": "code",
      "source": [
        "class VGG(nn.Module):\n",
        "  def __init__(self, conv_layers, num_classes = 10, simple = True, init_weights = True):\n",
        "    super(VGG, self).__init__()\n",
        "    # Fully connnected layers\n",
        "    self.conv_layers = conv_layers\n",
        "    if simple:\n",
        "      self.classifier = nn.Sequential(\n",
        "          nn.ReLU(True),\n",
        "          nn.Linear(64 * 8 * 8, 128),\n",
        "          nn.ReLU(True),\n",
        "          nn.Linear(128, num_classes),\n",
        "        )\n",
        "    else:\n",
        "      self.classifier = nn.Sequential(\n",
        "            nn.Linear(128 * 7 * 7, 4096),\n",
        "            nn.ReLU(True),\n",
        "            nn.Dropout(),\n",
        "            nn.Linear(4096, 4096),\n",
        "            nn.ReLU(True),\n",
        "            nn.Dropout(),\n",
        "            nn.Linear(4096, num_classes),\n",
        "        )\n",
        "\n",
        "    if init_weights:\n",
        "      self._initialize_weights()\n",
        "\n",
        "  def forward(self, x):\n",
        "    x = self.conv_layers(x)\n",
        "    x = x.view(-1, 64 * 8 * 8)\n",
        "    out = self.classifier(x)\n",
        "    return out\n",
        "\n",
        "  def _initialize_weights(self):\n",
        "    for m in self.modules():\n",
        "      if isinstance(m, nn.Conv2d):\n",
        "        nn.init.kaiming_normal_(m.weight,\n",
        "                                mode='fan_out',\n",
        "                                nonlinearity='relu')\n",
        "        if m.bias is not None:\n",
        "          nn.init.constant_(m.bias, 0)\n",
        "      elif isinstance(m, nn.BatchNorm2d):\n",
        "        nn.init.constant_(m.weight, 1)\n",
        "        nn.init.constant_(m.bias, 0)\n",
        "      elif isinstance(m, nn.Linear):\n",
        "        nn.init.normal_(m.weight, 0, 0.01)\n",
        "        nn.init.constant_(m.bias, 0)\n",
        "\n",
        "\n",
        "def stacked_layers(config, batch_norm = True, verbose = False):\n",
        "  layers = []\n",
        "  in_channels = 3\n",
        "  for i, conf in enumerate(config):\n",
        "    if conf == 'M':\n",
        "      layers += [nn.MaxPool2d(kernel_size = 2, stride = 2)]\n",
        "      if verbose:\n",
        "        print(f'Pass at layer {i+1} with MaxPooling2d')\n",
        "    else:\n",
        "      conv2d = nn.Conv2d(in_channels, conf, kernel_size=3, padding=1)\n",
        "      if verbose:\n",
        "        print(f'Pass at layer {i+1} with in_channels and out_channels: {(in_channels, conf)}')\n",
        "      if batch_norm:\n",
        "        layers += [conv2d, nn.BatchNorm2d(conf), nn.ReLU(inplace = True)]\n",
        "      else:\n",
        "        layers += [conv2d, nn.ReLU(inplace=True)]\n",
        "      # Update in_channels\n",
        "      in_channels = conf\n",
        "  return nn.Sequential(*layers)\n",
        "\n",
        "config = {'vgg16': [64, 64, 'M', 128, 128, 'M', 256, 256, 256, 'M', 512, 512, 512,'M', 512, 512, 512, 'M'],\n",
        "          'vgg11': [64, 'M', 128, 'M', 256, 256, 'M', 512, 512, 'M', 512, 512, 'M'],\n",
        "          'simplevgg': [32, 'M', 64, 'M']}\n",
        "def VGG16(simple_architecture = True, **kwargs):\n",
        "  if simple_architecture:\n",
        "    kwargs['simple'] = True\n",
        "\n",
        "  model = VGG(stacked_layers(config['simplevgg'], batch_norm=True), **kwargs)\n",
        "  return model"
      ],
      "metadata": {
        "id": "MkjspFzGJDf2"
      },
      "execution_count": 24,
      "outputs": []
    },
    {
      "cell_type": "markdown",
      "source": [
        "### **Ultis Function for Training**"
      ],
      "metadata": {
        "id": "6QwUHugFbFSt"
      }
    },
    {
      "cell_type": "code",
      "source": [
        "import time\n",
        "def adjust_learning_rate(optimizer, epoch, lr):\n",
        "  \"\"\"Sets the learning rate to the initial LR decayed by 0.1 every 10 epochs\"\"\"\n",
        "  lr  = lr * (0.01 ** (epoch // 10))\n",
        "  for param_group in optimizer.param_groups:\n",
        "    param_group['lr'] = lr\n",
        "\n",
        "def fix_seed(seed):\n",
        "  # Set seed\n",
        "  np.random.seed(seed)\n",
        "  torch.manual_seed(seed)\n",
        "  torch.cuda.manual_seed(seed)\n",
        "\n",
        "class Timer:\n",
        "  \"\"\"Record multiple running times.\"\"\"\n",
        "  def __init__(self):\n",
        "    \"\"\"Defined in :numref:`sec_minibatch_sgd`\"\"\"\n",
        "    self.times = []\n",
        "    self.start()\n",
        "\n",
        "  def start(self):\n",
        "    \"\"\"Start the timer.\"\"\"\n",
        "    self.tik = time.time()\n",
        "\n",
        "  def stop(self):\n",
        "    \"\"\"Stop the timer and record the time in a list.\"\"\"\n",
        "    self.times.append(time.time() - self.tik)\n",
        "    return self.times[-1]\n",
        "\n",
        "  def avg(self):\n",
        "    \"\"\"Return the average time.\"\"\"\n",
        "    return sum(self.times) / len(self.times)\n",
        "\n",
        "  def sum(self):\n",
        "    \"\"\"Return the sum of time.\"\"\"\n",
        "    return sum(self.times)\n",
        "\n",
        "  def cumsum(self):\n",
        "    \"\"\"Return the accumulated time.\"\"\"\n",
        "    return np.array(self.times).cumsum().tolist()"
      ],
      "metadata": {
        "id": "AnvA_clUbIww"
      },
      "execution_count": 12,
      "outputs": []
    },
    {
      "cell_type": "markdown",
      "source": [
        "### **Hyperparameters and Initialize Model**"
      ],
      "metadata": {
        "id": "6wXEHUtlbIBz"
      }
    },
    {
      "cell_type": "code",
      "source": [
        "# Set up hyperparameters\n",
        "learning_rate = 0.01\n",
        "momentum = 0.9\n",
        "weight_decay = 1e-4\n",
        "num_epochs = 20\n",
        "seed = 42\n",
        "\n",
        "# Check if cuda is available\n",
        "use_cuda = torch.cuda.is_available()\n",
        "device = torch.device('cuda' if use_cuda else 'cpu')\n",
        "\n",
        "# Define model\n",
        "model = VGG16()\n",
        "\n",
        "# define loss function (criterion) and optimizer\n",
        "criterion = nn.CrossEntropyLoss()\n",
        "\n",
        "if use_cuda:\n",
        "  model = model.cuda()\n",
        "  criterion = criterion.cuda()\n",
        "\n",
        "optimizer = torch.optim.SGD(model.parameters(), learning_rate,\n",
        "                            momentum=momentum,\n",
        "                            weight_decay=weight_decay)"
      ],
      "metadata": {
        "id": "xzQCh3AvPyI6"
      },
      "execution_count": 25,
      "outputs": []
    },
    {
      "cell_type": "code",
      "source": [
        "print(model)"
      ],
      "metadata": {
        "colab": {
          "base_uri": "https://localhost:8080/"
        },
        "id": "BwJTIJyT-1E4",
        "outputId": "1de42ec7-c0fb-41a1-bf65-ac06487e1aa2"
      },
      "execution_count": 26,
      "outputs": [
        {
          "output_type": "stream",
          "name": "stdout",
          "text": [
            "VGG(\n",
            "  (conv_layers): Sequential(\n",
            "    (0): Conv2d(3, 32, kernel_size=(3, 3), stride=(1, 1), padding=(1, 1))\n",
            "    (1): BatchNorm2d(32, eps=1e-05, momentum=0.1, affine=True, track_running_stats=True)\n",
            "    (2): ReLU(inplace=True)\n",
            "    (3): MaxPool2d(kernel_size=2, stride=2, padding=0, dilation=1, ceil_mode=False)\n",
            "    (4): Conv2d(32, 64, kernel_size=(3, 3), stride=(1, 1), padding=(1, 1))\n",
            "    (5): BatchNorm2d(64, eps=1e-05, momentum=0.1, affine=True, track_running_stats=True)\n",
            "    (6): ReLU(inplace=True)\n",
            "    (7): MaxPool2d(kernel_size=2, stride=2, padding=0, dilation=1, ceil_mode=False)\n",
            "  )\n",
            "  (classifier): Sequential(\n",
            "    (0): ReLU(inplace=True)\n",
            "    (1): Linear(in_features=4096, out_features=128, bias=True)\n",
            "    (2): ReLU(inplace=True)\n",
            "    (3): Linear(in_features=128, out_features=10, bias=True)\n",
            "  )\n",
            ")\n"
          ]
        }
      ]
    },
    {
      "cell_type": "code",
      "source": [
        "torch.cuda.empty_cache()"
      ],
      "metadata": {
        "id": "Oqb24N5As3S1"
      },
      "execution_count": 27,
      "outputs": []
    },
    {
      "cell_type": "markdown",
      "source": [
        "### **Training**"
      ],
      "metadata": {
        "id": "SyPlVyonbe6R"
      }
    },
    {
      "cell_type": "code",
      "source": [
        "from tqdm import tqdm\n",
        "import torch.optim.lr_scheduler\n",
        "# Placeholder for train and validation loss/accuracy\n",
        "train_losses = []\n",
        "val_losses = []\n",
        "\n",
        "train_acc = []\n",
        "val_acc = []\n",
        "\n",
        "fix_seed(seed)\n",
        "# Set timer to record the computational time\n",
        "timer = Timer()\n",
        "\n",
        "# Create a learning rate scheduler\n",
        "scheduler = torch.optim.lr_scheduler.ReduceLROnPlateau(optimizer, mode='max',\n",
        "                                                       factor=0.1, patience=5)\n",
        "for epoch in tqdm(range(1, num_epochs + 1)):\n",
        "  # Start the timer\n",
        "  timer.start()\n",
        "\n",
        "  model.train()\n",
        "  total_train_samples = 0.0\n",
        "  # Initialize loss/acc per sample\n",
        "  sample_loss = 0.\n",
        "  sample_acc = 0.\n",
        "\n",
        "  # adjust_learning_rate(optimizer, epoch, learning_rate)\n",
        "  for i, (train_data, train_label) in enumerate(train_loader):\n",
        "    # Extracting constants for loss computation\n",
        "    batch_size = train_label.size(0)\n",
        "    total_train_samples += batch_size\n",
        "    # Move tensors to the configured device\n",
        "    train_data = train_data.to(device)\n",
        "    train_label = train_label.to(device)\n",
        "\n",
        "    # Forward pass\n",
        "    output = model(train_data)\n",
        "    # Compute loss\n",
        "    loss = criterion(output, train_label)\n",
        "    # clear gradient\n",
        "    optimizer.zero_grad()\n",
        "    # Backward pass: compute gradient of the loss with\n",
        "    # respect to all the learnable parameters\n",
        "    loss.backward()\n",
        "    optimizer.step()\n",
        "    # Compute acc\n",
        "    acc = (output.argmax(dim=1) == train_label).sum().item()\n",
        "    sample_acc += acc\n",
        "\n",
        "    sample_loss += loss.item()\n",
        "  loss_at_epoch = sample_loss / len(train_loader)\n",
        "  acc_at_epoch = sample_acc / total_train_samples\n",
        "\n",
        "  train_losses.append(loss_at_epoch)\n",
        "  train_acc.append(acc_at_epoch)\n",
        "\n",
        "  # Evaluation stage\n",
        "  model.eval()\n",
        "  val_sample_loss = 0.0\n",
        "  val_sample_acc = 0.0\n",
        "  total_val_samples = 0.0\n",
        "  with torch.no_grad():\n",
        "    for val_data, val_label in val_loader:\n",
        "      batch_size = val_label.size(0)\n",
        "      total_val_samples += batch_size\n",
        "      val_label = val_label.to(device)\n",
        "      val_data = val_data.to(device)\n",
        "\n",
        "      output = model(val_data)\n",
        "      # Compute loss\n",
        "      loss = criterion(output, val_label)\n",
        "      # Compute acc\n",
        "      acc = (output.argmax(dim=1) == val_label).sum().item()\n",
        "      val_sample_acc += acc\n",
        "      val_sample_loss += loss.item()\n",
        "\n",
        "    loss_val_at_epoch = val_sample_loss / len(val_loader)\n",
        "    val_losses.append(loss_val_at_epoch)\n",
        "    acc_val_at_epoch = val_sample_acc / total_val_samples\n",
        "    val_acc.append(acc_val_at_epoch)\n",
        "  # Stop the timer at the end of the epoch\n",
        "  timer.stop()\n",
        "  # Update the learning rate based on validation accuracy\n",
        "  scheduler.step(acc_val_at_epoch)\n",
        "  if (int(epoch) % 2) == 0:\n",
        "      print(\n",
        "      f'Epoch: [{epoch}/{num_epochs}]'\n",
        "      + f' | Train loss: {loss_at_epoch:.3f}'\n",
        "      + f' | Train acc: {acc_at_epoch:.3f}'\n",
        "      + f' | Val loss: {loss_val_at_epoch:.3f}'\n",
        "      + f' | Val acc: {acc_val_at_epoch:.3f}'\n",
        "      + f' | Time per epoch: {timer.times[-1]:.2f} seconds')\n",
        "\n",
        "total_time_all_epoch = timer.sum()\n",
        "print(f\"Total training time: {total_time_all_epoch/60:.2f} minutes\")"
      ],
      "metadata": {
        "colab": {
          "base_uri": "https://localhost:8080/"
        },
        "id": "lRY0JdRMXdKC",
        "outputId": "a6d39525-315c-4d30-b8f3-5e1a92b1bb54"
      },
      "execution_count": 28,
      "outputs": [
        {
          "output_type": "stream",
          "name": "stderr",
          "text": [
            " 10%|█         | 2/20 [00:46<07:02, 23.48s/it]"
          ]
        },
        {
          "output_type": "stream",
          "name": "stdout",
          "text": [
            "Epoch: [2/20] | Train loss: 1.309 | Train acc: 0.525 | Val loss: 1.235 | Val acc: 0.558 | Time per epoch: 23.63 seconds\n"
          ]
        },
        {
          "output_type": "stream",
          "name": "stderr",
          "text": [
            " 20%|██        | 4/20 [01:32<06:06, 22.93s/it]"
          ]
        },
        {
          "output_type": "stream",
          "name": "stdout",
          "text": [
            "Epoch: [4/20] | Train loss: 1.045 | Train acc: 0.626 | Val loss: 1.009 | Val acc: 0.635 | Time per epoch: 22.65 seconds\n"
          ]
        },
        {
          "output_type": "stream",
          "name": "stderr",
          "text": [
            " 30%|███       | 6/20 [02:18<05:22, 23.07s/it]"
          ]
        },
        {
          "output_type": "stream",
          "name": "stdout",
          "text": [
            "Epoch: [6/20] | Train loss: 0.917 | Train acc: 0.676 | Val loss: 0.948 | Val acc: 0.668 | Time per epoch: 22.80 seconds\n"
          ]
        },
        {
          "output_type": "stream",
          "name": "stderr",
          "text": [
            " 40%|████      | 8/20 [03:03<04:32, 22.73s/it]"
          ]
        },
        {
          "output_type": "stream",
          "name": "stdout",
          "text": [
            "Epoch: [8/20] | Train loss: 0.846 | Train acc: 0.702 | Val loss: 0.889 | Val acc: 0.688 | Time per epoch: 22.03 seconds\n"
          ]
        },
        {
          "output_type": "stream",
          "name": "stderr",
          "text": [
            " 50%|█████     | 10/20 [03:49<03:47, 22.73s/it]"
          ]
        },
        {
          "output_type": "stream",
          "name": "stdout",
          "text": [
            "Epoch: [10/20] | Train loss: 0.788 | Train acc: 0.722 | Val loss: 0.903 | Val acc: 0.686 | Time per epoch: 22.52 seconds\n"
          ]
        },
        {
          "output_type": "stream",
          "name": "stderr",
          "text": [
            " 60%|██████    | 12/20 [04:34<03:01, 22.70s/it]"
          ]
        },
        {
          "output_type": "stream",
          "name": "stdout",
          "text": [
            "Epoch: [12/20] | Train loss: 0.746 | Train acc: 0.739 | Val loss: 0.781 | Val acc: 0.727 | Time per epoch: 22.45 seconds\n"
          ]
        },
        {
          "output_type": "stream",
          "name": "stderr",
          "text": [
            " 70%|███████   | 14/20 [05:19<02:15, 22.61s/it]"
          ]
        },
        {
          "output_type": "stream",
          "name": "stdout",
          "text": [
            "Epoch: [14/20] | Train loss: 0.716 | Train acc: 0.749 | Val loss: 0.758 | Val acc: 0.737 | Time per epoch: 22.68 seconds\n"
          ]
        },
        {
          "output_type": "stream",
          "name": "stderr",
          "text": [
            " 80%|████████  | 16/20 [06:04<01:29, 22.42s/it]"
          ]
        },
        {
          "output_type": "stream",
          "name": "stdout",
          "text": [
            "Epoch: [16/20] | Train loss: 0.684 | Train acc: 0.760 | Val loss: 0.760 | Val acc: 0.737 | Time per epoch: 22.28 seconds\n"
          ]
        },
        {
          "output_type": "stream",
          "name": "stderr",
          "text": [
            " 90%|█████████ | 18/20 [06:49<00:45, 22.51s/it]"
          ]
        },
        {
          "output_type": "stream",
          "name": "stdout",
          "text": [
            "Epoch: [18/20] | Train loss: 0.660 | Train acc: 0.768 | Val loss: 0.728 | Val acc: 0.748 | Time per epoch: 22.57 seconds\n"
          ]
        },
        {
          "output_type": "stream",
          "name": "stderr",
          "text": [
            "100%|██████████| 20/20 [07:34<00:00, 22.74s/it]"
          ]
        },
        {
          "output_type": "stream",
          "name": "stdout",
          "text": [
            "Epoch: [20/20] | Train loss: 0.643 | Train acc: 0.776 | Val loss: 0.708 | Val acc: 0.756 | Time per epoch: 22.90 seconds\n",
            "Total training time: 7.58 minutes\n"
          ]
        },
        {
          "output_type": "stream",
          "name": "stderr",
          "text": [
            "\n"
          ]
        }
      ]
    },
    {
      "cell_type": "markdown",
      "source": [
        "### **Loss and Accuracy Training Plot**"
      ],
      "metadata": {
        "id": "8JkRWcy0BcQE"
      }
    },
    {
      "cell_type": "code",
      "source": [
        "# Plotting\n",
        "fig, (ax1, ax2) = plt.subplots(1, 2, figsize = (10, 5))\n",
        "ax1.plot(range(1, num_epochs + 1), train_losses, label='Training Loss', marker='o')\n",
        "ax1.plot(range(1, num_epochs + 1), val_losses, label='Validation Loss', marker='o')\n",
        "ax1.set_xlabel('Epochs')\n",
        "ax1.set_ylabel('Loss')\n",
        "ax1.set_title('Training and Validation Loss, with learning rate = {}'.format(learning_rate))\n",
        "ax1.legend()\n",
        "\n",
        "ax2.plot(range(1, num_epochs + 1), train_acc, label='Training Accuracy', marker='o')\n",
        "ax2.plot(range(1, num_epochs + 1), val_acc, label='Validation Accuracy', marker='o')\n",
        "ax2.set_xlabel('Epochs')\n",
        "ax2.set_ylabel('Accuracy')\n",
        "ax2.set_title('Training and Validation Accuracy, with learning rate = {}'.format(learning_rate))\n",
        "ax2.legend()\n",
        "plt.tight_layout()\n",
        "plt.show()"
      ],
      "metadata": {
        "colab": {
          "base_uri": "https://localhost:8080/",
          "height": 420
        },
        "id": "1J6Qj65Ux7NQ",
        "outputId": "70cebb40-2ea1-4f20-9c1a-41b8f72a658b"
      },
      "execution_count": 29,
      "outputs": [
        {
          "output_type": "display_data",
          "data": {
            "text/plain": [
              "<Figure size 1000x500 with 2 Axes>"
            ],
            "image/png": "[encoded data removed]"
          },
          "metadata": {}
        }
      ]
    },
    {
      "cell_type": "code",
      "source": [
        "# Test set\n",
        "model.eval()\n",
        "test_loss = 0.0\n",
        "test_acc = 0.0\n",
        "predictions = []\n",
        "targets = []\n",
        "\n",
        "for test_data, test_label in tqdm(test_loader):\n",
        "  test_data = test_data.to(device)\n",
        "  test_label = test_label.to(device)\n",
        "  output = model(test_data)\n",
        "  loss = criterion(output, test_label)\n",
        "  test_loss += loss.item()\n",
        "  acc = (output.argmax(dim=1) == test_label).sum().item()\n",
        "  test_acc += acc\n",
        "  _, predicted = torch.max(output, 1)\n",
        "  predictions.extend(predicted.detach().cpu().numpy())\n",
        "  targets.extend(test_label.detach().cpu().numpy())\n",
        "\n",
        "accuracy = accuracy_score(targets, predictions)\n",
        "recall = recall_score(targets, predictions, average='macro')\n",
        "f1 = f1_score(targets, predictions, average='macro')\n",
        "\n",
        "print(f'Test Accuracy: {accuracy:.4f}')\n",
        "print(f'Test Recall: {recall:.4f}')\n",
        "print(f'Test F1 Score: {f1:.4f}')"
      ],
      "metadata": {
        "colab": {
          "base_uri": "https://localhost:8080/"
        },
        "id": "9brnrzFtA-zh",
        "outputId": "e219e4a1-51c8-47ba-f128-fff91e7f782d"
      },
      "execution_count": 31,
      "outputs": [
        {
          "output_type": "stream",
          "name": "stderr",
          "text": [
            "100%|██████████| 157/157 [00:05<00:00, 27.22it/s]"
          ]
        },
        {
          "output_type": "stream",
          "name": "stdout",
          "text": [
            "Test Accuracy: 0.7619\n",
            "Test Recall: 0.7619\n",
            "Test F1 Score: 0.7593\n"
          ]
        },
        {
          "output_type": "stream",
          "name": "stderr",
          "text": [
            "\n"
          ]
        }
      ]
    }
  ]
}